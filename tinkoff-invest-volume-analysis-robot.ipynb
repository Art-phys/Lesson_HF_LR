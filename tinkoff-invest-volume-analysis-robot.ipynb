{
  "nbformat": 4,
  "nbformat_minor": 0,
  "metadata": {
    "colab": {
      "provenance": [],
      "authorship_tag": "ABX9TyPiB4iD7cRiA+dZW1XMNGCs",
      "include_colab_link": true
    },
    "kernelspec": {
      "name": "python3",
      "display_name": "Python 3"
    },
    "language_info": {
      "name": "python"
    }
  },
  "cells": [
    {
      "cell_type": "markdown",
      "metadata": {
        "id": "view-in-github",
        "colab_type": "text"
      },
      "source": [
        "<a href=\"https://colab.research.google.com/github/Art-phys/Lesson_HF_LR/blob/main/tinkoff-invest-volume-analysis-robot.ipynb\" target=\"_parent\"><img src=\"https://colab.research.google.com/assets/colab-badge.svg\" alt=\"Open In Colab\"/></a>"
      ]
    },
    {
      "cell_type": "code",
      "execution_count": null,
      "metadata": {
        "id": "SJxjGS567k0c"
      },
      "outputs": [],
      "source": [
        "# tromario/tinkoff-invest-volume-analysis-robot\n",
        "\n",
        "import pandas\n",
        "import pandas as pd\n",
        "import matplotlib.pyplot as plt\n",
        "import matplotlib.dates as mpl_dates\n",
        "\n",
        "pd.set_option('display.max_columns', None)\n",
        "pd.set_option(\"max_rows\", 40)\n",
        "\n",
        "df = pandas.read_csv('./../data/USD000UTSTOM-20220512.csv', sep=',')\n",
        "# df"
      ]
    }
  ]
}