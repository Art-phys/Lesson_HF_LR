{
  "nbformat": 4,
  "nbformat_minor": 0,
  "metadata": {
    "colab": {
      "provenance": [],
      "authorship_tag": "ABX9TyNmZP1ZLpi/71ebocH6/RWl",
      "include_colab_link": true
    },
    "kernelspec": {
      "name": "python3",
      "display_name": "Python 3"
    },
    "language_info": {
      "name": "python"
    }
  },
  "cells": [
    {
      "cell_type": "markdown",
      "metadata": {
        "id": "view-in-github",
        "colab_type": "text"
      },
      "source": [
        "<a href=\"https://colab.research.google.com/github/Art-phys/Lesson_HF_LR/blob/main/Lesson_HF_RL_Unit4.ipynb\" target=\"_parent\"><img src=\"https://colab.research.google.com/assets/colab-badge.svg\" alt=\"Open In Colab\"/></a>"
      ]
    },
    {
      "cell_type": "markdown",
      "source": [
        "# Блок 4: Создайте свой первый алгоритм обучения с глубоким подкреплением с помощью PyTorch: Reinforce. И проверьте его надежность 💪\n",
        "\n",
        "<img src=\"https://huggingface.co/datasets/huggingface-deep-rl-course/course-images/resolve/main/en/unit6/thumbnail.png\" alt=\"thumbnail\" width=\"50%\"/>\n",
        "\n",
        "В этом блокноте вы с нуля создадите свой первый алгоритм обучения с глубоким подкреплением: Reinforcement (также называемый градиентом политики Монте-Карло).\n",
        "\n",
        "Усиление (Reinforce) - это *метод, основанный на политике*: алгоритм глубокого обучения с подкреплением, который пытается **оптимизировать политику напрямую, не используя функцию значения действия**.\n",
        "\n",
        "Точнее, Усиление (Reinforce) - это *Метод градиента политики*, подкласс *методов, основанных на политике*, который направлен **на оптимизацию политики непосредственно путем оценки весов оптимальной политики с использованием градиентного подъема**.\n",
        "\n",
        "Чтобы проверить его надежность, мы собираемся обучить его в двух разных простых средах:\n",
        "- Cartpole-v1 (Столб тележки-v1)\n",
        "- PixelcopterEnv (Пиксельный вертолет)\n",
        "\n",
        "⬇️ Вот пример того, чего **вы достигнете в конце этом блокноте.** ⬇️"
      ],
      "metadata": {
        "id": "uDL2CAkWTjx0"
      }
    },
    {
      "cell_type": "markdown",
      "source": [
        "  <img src=\"https://huggingface.co/datasets/huggingface-deep-rl-course/course-images/resolve/main/en/unit6/envs.gif\" alt=\"Environments\" width=\"50%\"/>\n"
      ],
      "metadata": {
        "id": "wqFm3-_dVhrF"
      }
    },
    {
      "cell_type": "markdown",
      "source": [
        "### 🎮 Окружающая среда: \n",
        "\n",
        "- [CartPole-v1](https://www.gymlibrary.dev/environments/classic_control/cart_pole/)\n",
        "- [PixelCopter](https://pygame-learning-environment.readthedocs.io/en/latest/user/games/pixelcopter.html)\n",
        "\n",
        "### 📚 RL-Библиотека: \n",
        "\n",
        "- Python\n",
        "- PyTorch\n",
        "\n",
        "\n",
        " [GitHub Repo](https://github.com/huggingface/deep-rl-class/issues)."
      ],
      "metadata": {
        "id": "GptTjtpKban6"
      }
    },
    {
      "cell_type": "markdown",
      "source": [
        "## Цели этого блокнота 🏆\n",
        "В конце вы будете:\n",
        "- Уметь **с нуля закодировать алгоритм усиления с использованием PyTorch.**\n",
        "- Иметь возможность **протестировать надежность вашего агента, используя простые среды.**\n",
        "- Иметь возможность **отправить своего обученного агента в центр** с хорошим видеоповтором и оценочным баллом 🔥 ."
      ],
      "metadata": {
        "id": "8XBD7_HTb3NK"
      }
    },
    {
      "cell_type": "markdown",
      "source": [
        "## Эта тетрадь взята из курса обучения с глубоким подкреплением\n",
        "<img src=\"https://huggingface.co/datasets/huggingface-deep-rl-course/course-images/resolve/main/en/notebooks/deep-rl-course-illustration.jpg\" alt=\"Deep RL Course illustration\" width=\"50%\"/>"
      ],
      "metadata": {
        "id": "VU5d8p5qcQbC"
      }
    },
    {
      "cell_type": "markdown",
      "source": [
        "На этом бесплатном курсе вы:\n",
        "\n",
        "- 📖 Изучите глубокое обучение с подкреплением в **теории и на практике**.\n",
        "- 🧑 💻 Научитесь **использовать известные библиотеки Deep RL**, такие как Stable Baselines3, RL Baselines3 Zoo, CleanRL и Sample Factory 2.0.\n",
        "- 🤖 Обучите **агентов в уникальных условиях**"
      ],
      "metadata": {
        "id": "g-sXRdpDcjxC"
      }
    },
    {
      "cell_type": "markdown",
      "source": [
        "## Предпосылки 🏗️\n",
        "Прежде чем погрузиться в блокнот, вам нужно:\n",
        "\n",
        "🔲 📚 [Изучите градиенты политики, прочитав Unit 4](https://huggingface.co/deep-rl-course/unit4/introduction)"
      ],
      "metadata": {
        "id": "5oQ2cJ_mc58a"
      }
    },
    {
      "cell_type": "markdown",
      "source": [
        "# Давайте запрограммируем алгоритм усиления с нуля 🔥\n",
        "\n",
        "\n",
        "Чтобы пройти этот практический подход для сертификации, вам необходимо отправить свои обученные модели в Центр.\n",
        "\n",
        "- Получите результат >= 350 для `Cart pole-v1`.\n",
        "- Получите результат >= 5 для `Pixel Copter`.\n",
        "\n",
        "Чтобы узнать свой результат, перейдите в таблицу лидеров и найдите свою модель, **the result = mean_reward - std_reward**. **Если вы не видите свою модель в таблице лидеров, перейдите в нижнюю часть страницы таблицы лидеров и нажмите на кнопку обновить**.\n",
        "\n",
        "Для получения дополнительной информации о процессе сертификации ознакомьтесь с этим разделом 👉 https://huggingface.co/deep-rl-course/en/unit0/introduction#certification-process"
      ],
      "metadata": {
        "id": "PKdxmqgNdSpx"
      }
    },
    {
      "cell_type": "markdown",
      "source": [
        "# Совет 💡\n",
        "Лучше запустить этот colab в копии на вашем Google Диске, чтобы **в случае истечения времени ожидания** у вас все еще была сохраненная записная книжка на вашем Google Диске, и вам не нужно было заполнять все с нуля.\n",
        "\n",
        "Для этого вы можете либо нажать `Ctrl + S` либо `File > Save a copy in Google Drive.`"
      ],
      "metadata": {
        "id": "Xp28ZSL7d9oL"
      }
    },
    {
      "cell_type": "markdown",
      "source": [
        "## Запустить на GPU 💪\n",
        "- Чтобы **ускорить обучение агента, мы будем использовать графический процессор GPU. Перейдите в `Runtime > Change Runtime type`\n",
        "\n",
        "<img src=\"https://huggingface.co/datasets/huggingface-deep-rl-course/course-images/resolve/main/en/notebooks/gpu-step1.jpg\" alt=\"GPU Step 1\" width=\"50%\">"
      ],
      "metadata": {
        "id": "5OhJSHRyekr5"
      }
    },
    {
      "cell_type": "markdown",
      "source": [
        "- `Hardware Accelerator > GPU`\n",
        "\n",
        "<img src=\"https://huggingface.co/datasets/huggingface-deep-rl-course/course-images/resolve/main/en/notebooks/gpu-step2.jpg\" alt=\"GPU Step 2\" width=\"50%\">"
      ],
      "metadata": {
        "id": "YGiMsyMvfIxL"
      }
    },
    {
      "cell_type": "markdown",
      "source": [
        "## Создание виртуального дисплея #\n",
        "\n",
        "Во время записи нам нужно будет сгенерировать видео-повтор. Для этого с помощью colab **нам нужен виртуальный экран, чтобы иметь возможность отображать среду** (и, таким образом, записывать кадры).\n",
        "\n",
        "Следовательно, в следующей ячейке будут установлены библиотеки, а также создан и запущен виртуальный экран 🖥"
      ],
      "metadata": {
        "id": "2OAnJpxhfPNR"
      }
    },
    {
      "cell_type": "code",
      "source": [
        "%%capture\n",
        "!apt install python-opengl\n",
        "!apt install ffmpeg\n",
        "!apt install xvfb\n",
        "!pip install pyvirtualdisplay\n",
        "!pip install pyglet==1.5.1"
      ],
      "metadata": {
        "id": "Wl3RWobQfcnc"
      },
      "execution_count": null,
      "outputs": []
    }
  ]
}