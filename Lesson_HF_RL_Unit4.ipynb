{
  "nbformat": 4,
  "nbformat_minor": 0,
  "metadata": {
    "colab": {
      "provenance": [],
      "authorship_tag": "ABX9TyOARhkzijlkBrw2TCh7Tp6T",
      "include_colab_link": true
    },
    "kernelspec": {
      "name": "python3",
      "display_name": "Python 3"
    },
    "language_info": {
      "name": "python"
    }
  },
  "cells": [
    {
      "cell_type": "markdown",
      "metadata": {
        "id": "view-in-github",
        "colab_type": "text"
      },
      "source": [
        "<a href=\"https://colab.research.google.com/github/Art-phys/Lesson_HF_LR/blob/main/Lesson_HF_RL_Unit4.ipynb\" target=\"_parent\"><img src=\"https://colab.research.google.com/assets/colab-badge.svg\" alt=\"Open In Colab\"/></a>"
      ]
    },
    {
      "cell_type": "markdown",
      "source": [
        "# Блок 4: Создайте свой первый алгоритм обучения с глубоким подкреплением с помощью PyTorch: Reinforce. И проверьте его надежность 💪\n",
        "\n",
        "<img src=\"https://huggingface.co/datasets/huggingface-deep-rl-course/course-images/resolve/main/en/unit6/thumbnail.png\" alt=\"thumbnail\" width=\"50%\"/>\n",
        "\n",
        "В этом блокноте вы с нуля создадите свой первый алгоритм обучения с глубоким подкреплением: Reinforcement (также называемый градиентом политики Монте-Карло).\n",
        "\n",
        "Усиление (Reinforce) - это *метод, основанный на политике*: алгоритм глубокого обучения с подкреплением, который пытается **оптимизировать политику напрямую, не используя функцию значения действия**.\n",
        "\n",
        "Точнее, Усиление (Reinforce) - это *Метод градиента политики*, подкласс *методов, основанных на политике*, который направлен **на оптимизацию политики непосредственно путем оценки весов оптимальной политики с использованием градиентного подъема**.\n",
        "\n",
        "Чтобы проверить его надежность, мы собираемся обучить его в двух разных простых средах:\n",
        "- Cartpole-v1 (Столб тележки-v1)\n",
        "- PixelcopterEnv (Пиксельный вертолет)\n",
        "\n",
        "⬇️ Вот пример того, чего **вы достигнете в конце этом блокноте.** ⬇️"
      ],
      "metadata": {
        "id": "uDL2CAkWTjx0"
      }
    },
    {
      "cell_type": "markdown",
      "source": [
        "  <img src=\"https://huggingface.co/datasets/huggingface-deep-rl-course/course-images/resolve/main/en/unit6/envs.gif\" alt=\"Environments\" width=\"50%\"/>\n"
      ],
      "metadata": {
        "id": "wqFm3-_dVhrF"
      }
    },
    {
      "cell_type": "markdown",
      "source": [
        "### 🎮 Окружающая среда: \n",
        "\n",
        "- [CartPole-v1](https://www.gymlibrary.dev/environments/classic_control/cart_pole/)\n",
        "- [PixelCopter](https://pygame-learning-environment.readthedocs.io/en/latest/user/games/pixelcopter.html)\n",
        "\n",
        "### 📚 RL-Библиотека: \n",
        "\n",
        "- Python\n",
        "- PyTorch\n",
        "\n",
        "\n",
        " [GitHub Repo](https://github.com/huggingface/deep-rl-class/issues)."
      ],
      "metadata": {
        "id": "GptTjtpKban6"
      }
    },
    {
      "cell_type": "markdown",
      "source": [
        "## Цели этого блокнота 🏆\n",
        "В конце вы будете:\n",
        "- Уметь **с нуля закодировать алгоритм усиления с использованием PyTorch.**\n",
        "- Иметь возможность **протестировать надежность вашего агента, используя простые среды.**\n",
        "- Иметь возможность **отправить своего обученного агента в центр** с хорошим видеоповтором и оценочным баллом 🔥 ."
      ],
      "metadata": {
        "id": "8XBD7_HTb3NK"
      }
    },
    {
      "cell_type": "markdown",
      "source": [
        "## Эта тетрадь взята из курса обучения с глубоким подкреплением\n",
        "<img src=\"https://huggingface.co/datasets/huggingface-deep-rl-course/course-images/resolve/main/en/notebooks/deep-rl-course-illustration.jpg\" alt=\"Deep RL Course illustration\" width=\"50%\"/>"
      ],
      "metadata": {
        "id": "VU5d8p5qcQbC"
      }
    },
    {
      "cell_type": "markdown",
      "source": [
        "На этом бесплатном курсе вы:\n",
        "\n",
        "- 📖 Изучите глубокое обучение с подкреплением в **теории и на практике**.\n",
        "- 🧑 💻 Научитесь **использовать известные библиотеки Deep RL**, такие как Stable Baselines3, RL Baselines3 Zoo, CleanRL и Sample Factory 2.0.\n",
        "- 🤖 Обучите **агентов в уникальных условиях**"
      ],
      "metadata": {
        "id": "g-sXRdpDcjxC"
      }
    },
    {
      "cell_type": "markdown",
      "source": [
        "## Предпосылки 🏗️\n",
        "Прежде чем погрузиться в блокнот, вам нужно:\n",
        "\n",
        "🔲 📚 [Изучите градиенты политики, прочитав Unit 4](https://huggingface.co/deep-rl-course/unit4/introduction)"
      ],
      "metadata": {
        "id": "5oQ2cJ_mc58a"
      }
    },
    {
      "cell_type": "markdown",
      "source": [
        "# Давайте запрограммируем алгоритм усиления с нуля 🔥\n",
        "\n",
        "\n",
        "Чтобы пройти этот практический подход для сертификации, вам необходимо отправить свои обученные модели в Центр.\n",
        "\n",
        "- Получите результат >= 350 для `Cart pole-v1`.\n",
        "- Получите результат >= 5 для `Pixel Copter`.\n",
        "\n",
        "Чтобы узнать свой результат, перейдите в таблицу лидеров и найдите свою модель, **the result = mean_reward - std_reward**. **Если вы не видите свою модель в таблице лидеров, перейдите в нижнюю часть страницы таблицы лидеров и нажмите на кнопку обновить**.\n",
        "\n",
        "Для получения дополнительной информации о процессе сертификации ознакомьтесь с этим разделом 👉 https://huggingface.co/deep-rl-course/en/unit0/introduction#certification-process"
      ],
      "metadata": {
        "id": "PKdxmqgNdSpx"
      }
    },
    {
      "cell_type": "markdown",
      "source": [
        "# Совет 💡\n",
        "Лучше запустить этот colab в копии на вашем Google Диске, чтобы **в случае истечения времени ожидания** у вас все еще была сохраненная записная книжка на вашем Google Диске, и вам не нужно было заполнять все с нуля.\n",
        "\n",
        "Для этого вы можете либо нажать `Ctrl + S` либо `File > Save a copy in Google Drive.`"
      ],
      "metadata": {
        "id": "Xp28ZSL7d9oL"
      }
    },
    {
      "cell_type": "markdown",
      "source": [
        "## Запустить на GPU 💪\n",
        "- Чтобы **ускорить обучение агента, мы будем использовать графический процессор GPU. Перейдите в `Runtime > Change Runtime type`\n",
        "\n",
        "<img src=\"https://huggingface.co/datasets/huggingface-deep-rl-course/course-images/resolve/main/en/notebooks/gpu-step1.jpg\" alt=\"GPU Step 1\" width=\"50%\">"
      ],
      "metadata": {
        "id": "5OhJSHRyekr5"
      }
    },
    {
      "cell_type": "markdown",
      "source": [
        "- `Hardware Accelerator > GPU`\n",
        "\n",
        "<img src=\"https://huggingface.co/datasets/huggingface-deep-rl-course/course-images/resolve/main/en/notebooks/gpu-step2.jpg\" alt=\"GPU Step 2\" width=\"50%\">"
      ],
      "metadata": {
        "id": "YGiMsyMvfIxL"
      }
    },
    {
      "cell_type": "markdown",
      "source": [
        "## Создание виртуального дисплея #\n",
        "\n",
        "Во время записи нам нужно будет сгенерировать видео-повтор. Для этого с помощью colab **нам нужен виртуальный экран, чтобы иметь возможность отображать среду** (и, таким образом, записывать кадры).\n",
        "\n",
        "Следовательно, в следующей ячейке будут установлены библиотеки, а также создан и запущен виртуальный экран 🖥"
      ],
      "metadata": {
        "id": "2OAnJpxhfPNR"
      }
    },
    {
      "cell_type": "code",
      "source": [
        "%%capture\n",
        "!apt install python-opengl\n",
        "!apt install ffmpeg\n",
        "!apt install xvfb\n",
        "!pip install pyvirtualdisplay\n",
        "!pip install pyglet==1.5.1"
      ],
      "metadata": {
        "id": "Wl3RWobQfcnc"
      },
      "execution_count": null,
      "outputs": []
    },
    {
      "cell_type": "code",
      "source": [
        "# Virtual display\n",
        "from pyvirtualdisplay import Display\n",
        "\n",
        "virtual_display = Display(visible=0, size=(1400, 900))\n",
        "virtual_display.start()"
      ],
      "metadata": {
        "id": "iJ7nQ-9yfjo6"
      },
      "execution_count": null,
      "outputs": []
    },
    {
      "cell_type": "markdown",
      "source": [
        "## Установка зависимостей #\n",
        "Первым шагом является установка зависимостей:\n",
        "\n",
        "- `gym`\n",
        "- `gym-games`: Дополнительные условия в тренажерном зале, созданные с помощью Pygame.\n",
        "- `huggingface_hub`: 🤗 работает как центральное место, где любой желающий может делиться моделями и наборами данных и изучать их. В нем есть управление версиями, метрики, визуализации и другие функции, которые позволят вам легко сотрудничать с другими.\n",
        "\n",
        "Вы можете увидеть здесь все доступные модели усилителей 👉 https://huggingface.co/models?other=reinforce\n",
        "\n",
        "И вы можете найти все модели обучения с глубоким подкреплением здесь 👉 https://huggingface.co/models?pipeline_tag=reinforcement-learning"
      ],
      "metadata": {
        "id": "nRLE91M5fnLU"
      }
    },
    {
      "cell_type": "code",
      "source": [
        "!pip install -r https://raw.githubusercontent.com/huggingface/deep-rl-class/main/notebooks/unit4/requirements-unit4.txt"
      ],
      "metadata": {
        "id": "IBOUe16XgJAr"
      },
      "execution_count": null,
      "outputs": []
    },
    {
      "cell_type": "markdown",
      "source": [
        "## Импортируйте пакеты 📦\n",
        "В дополнение к импорту установленных библиотек, мы также импортируем:\n",
        "\n",
        "- `imageio`: Библиотека, которая поможет нам сгенерировать повтор видео\n"
      ],
      "metadata": {
        "id": "ZICM5v8TgNBc"
      }
    },
    {
      "cell_type": "code",
      "source": [
        "import numpy as np\n",
        "\n",
        "from collections import deque\n",
        "\n",
        "import matplotlib.pyplot as plt\n",
        "%matplotlib inline\n",
        "\n",
        "# PyTorch\n",
        "import torch\n",
        "import torch.nn as nn\n",
        "import torch.nn.functional as F\n",
        "import torch.optim as optim\n",
        "from torch.distributions import Categorical\n",
        "\n",
        "# Gym\n",
        "import gym\n",
        "import gym_pygame\n",
        "\n",
        "# Hugging Face Hub\n",
        "from huggingface_hub import notebook_login # Войти в учетную запись Hugging Face, чтобы иметь возможность загружать модели в Хаб.\n",
        "import imageio"
      ],
      "metadata": {
        "id": "qlDWDBeGgb95"
      },
      "execution_count": null,
      "outputs": []
    },
    {
      "cell_type": "markdown",
      "source": [
        "## Проверьте, есть ли у нас графический процессор\n",
        "\n",
        "Если у вас есть GPU, вы должны увидеть `device:cuda0`"
      ],
      "metadata": {
        "id": "7EaZQAhLgmNx"
      }
    },
    {
      "cell_type": "code",
      "source": [
        "device = torch.device(\"cuda:0\" if torch.cuda.is_available() else \"cpu\")"
      ],
      "metadata": {
        "id": "xwedGiHvg5Gk"
      },
      "execution_count": null,
      "outputs": []
    },
    {
      "cell_type": "code",
      "source": [
        "print(device)"
      ],
      "metadata": {
        "id": "QkBD67EWg5lB"
      },
      "execution_count": null,
      "outputs": []
    },
    {
      "cell_type": "markdown",
      "source": [
        "Теперь мы готовы реализовать наш алгоритм усиления 🔥"
      ],
      "metadata": {
        "id": "mKyhynXCg_hx"
      }
    },
    {
      "cell_type": "markdown",
      "source": [
        "# Первый агент: Играем в Картпол-v1 🤖"
      ],
      "metadata": {
        "id": "I46nFp5FhHgY"
      }
    },
    {
      "cell_type": "markdown",
      "source": [
        "## Создайте среду CartPole и поймите, как это работает\n",
        "### [Окружающая среда 🎮 ](https://www.gymlibrary.dev/environments/classic_control/cart_pole/)\n"
      ],
      "metadata": {
        "id": "sf04gwcDhMRA"
      }
    },
    {
      "cell_type": "markdown",
      "source": [
        "### Почему мы используем такую простую среду, как CartPole-v1?\n",
        "Как описано в [Советах и рекомендациях по обучению с подкреплением](https://stable-baselines3.readthedocs.io/en/master/guide/rl_tips.html),когда вы внедряете свой агент с нуля, вам нужно **убедиться, что он работает правильно, и найти ошибки в простых средах, прежде чем углубляться**. Поскольку находить ошибки будет намного проще в простых средах.\n",
        "\n",
        "\n",
        "> Попробуйте подать какой-нибудь “признак жизни” в отношении проблем с игрушками\n",
        "\n",
        "\n",
        "> Проверьте реализацию, заставив ее запускаться во все более сложных средах (вы можете сравнить результаты с RL zoo). Обычно для этого шага необходимо выполнить оптимизацию по гиперпараметру.\n",
        "___\n",
        "### Среда CartPole-v1\n",
        "\n",
        "> Шест прикреплен с помощью шарнира без привода к тележке, которая движется по рельсам без трения. Маятник устанавливается вертикально на тележку, и цель состоит в том, чтобы уравновесить шест, прикладывая силы в левом и правом направлениях к тележке.\n",
        "\n",
        "\n",
        "\n",
        "Итак, мы начнем с CartPole-v1. Цель состоит в том, чтобы толкать тележку влево или вправо **так, чтобы шест оставался в равновесии.**\n",
        "\n",
        "Эпизод заканчивается, если:\n",
        "- Угол наклона шеста больше, чем ±12°\n",
        "- Положение тележки больше, чем ±2.4\n",
        "- Продолжительность эпизода больше, чем 500\n",
        "\n",
        "Мы получаем вознаграждение 💰 в размере +1 каждый раз, когда полюс остается в равновесии."
      ],
      "metadata": {
        "id": "JOtcggzZhXIR"
      }
    },
    {
      "cell_type": "code",
      "source": [
        "env_id = \"CartPole-v1\"\n",
        "# Создание env\n",
        "env = gym.make(env_id)\n",
        "\n",
        "# Создание среды оценки\n",
        "eval_env = gym.make(env_id)\n",
        "\n",
        "# Получение пространства состояний и пространства действий\n",
        "s_size = env.observation_space.shape[0]\n",
        "a_size = env.action_space.n"
      ],
      "metadata": {
        "id": "G98aO9udhIDh"
      },
      "execution_count": null,
      "outputs": []
    },
    {
      "cell_type": "code",
      "source": [
        "print(\"_____OBSERVATION SPACE_____ \\n\")\n",
        "print(\"The State Space is: \", s_size)\n",
        "print(\"Sample observation\", env.observation_space.sample()) # Получение случайного наблюдения"
      ],
      "metadata": {
        "id": "9GiN3hIxjT9a"
      },
      "execution_count": null,
      "outputs": []
    },
    {
      "cell_type": "code",
      "source": [
        "print(\"\\n _____ACTION SPACE_____ \\n\")\n",
        "print(\"The Action Space is: \", a_size)\n",
        "print(\"Action Space Sample\", env.action_space.sample()) # Получение случайного действия"
      ],
      "metadata": {
        "id": "MJ8L7Ga8jbqJ"
      },
      "execution_count": null,
      "outputs": []
    },
    {
      "cell_type": "markdown",
      "source": [
        "## Давайте создадим Reinforce архитектуру\n",
        "Эта реализация основана на двух реализациях:\n",
        "- [Официальный пример обучения с подкреплением PyTorch](https://github.com/pytorch/examples/blob/main/reinforcement_learning/reinforce.py)\n",
        "- [Udacity Reinforce](https://github.com/udacity/deep-reinforcement-learning/blob/master/reinforce/REINFORCE.ipynb)\n",
        "- [Улучшение интеграции с помощью Chris1nexus](https://github.com/huggingface/deep-rl-class/pull/95)\n",
        "\n",
        "<img src=\"https://huggingface.co/datasets/huggingface-deep-rl-course/course-images/resolve/main/en/unit6/reinforce.png\" alt=\"Reinforce\" width=\"50%\"/>"
      ],
      "metadata": {
        "id": "8y1Ti_Azjlkr"
      }
    },
    {
      "cell_type": "markdown",
      "source": [
        "Итак, мы хотим:\n",
        "- Два полностью соединенных слоя (fc1 и fc2).\n",
        "- Использование ReLU в качестве функции активации fc1\n",
        "- Использование Softmax для вывода распределения вероятностей по действиям"
      ],
      "metadata": {
        "id": "BPA3g6KhkKjp"
      }
    },
    {
      "cell_type": "code",
      "source": [
        "class Policy(nn.Module):\n",
        "    def __init__(self, s_size, a_size, h_size):\n",
        "        super(Policy, self).__init__()\n",
        "        # Создайте два полностью соединенных (fc-fully connected ) слоя\n",
        "\n",
        "    def forward(self, x):\n",
        "        # Определите прямой проход\n",
        "        # состояние переходит в fc1, затем мы применяем функцию активации ReLU\n",
        "        # выходы fc1 передаются в fc2\n",
        "        # Мы выводим softmax\n",
        "    \n",
        "    def act(self, state):\n",
        "        \"\"\"\n",
        "        Учитывая состояние, определите действие\n",
        "        \"\"\"\n",
        "        state = torch.from_numpy(state).float().unsqueeze(0).to(device)\n",
        "        probs = self.forward(state).cpu()\n",
        "        m = Categorical(probs)\n",
        "        action = np.argmax(m)\n",
        "        return action.item(), m.log_prob(action)"
      ],
      "metadata": {
        "id": "D7UkIAZFkRwv"
      },
      "execution_count": null,
      "outputs": []
    },
    {
      "cell_type": "markdown",
      "source": [
        "### Solution"
      ],
      "metadata": {
        "id": "QDtFZIxNk6ag"
      }
    },
    {
      "cell_type": "code",
      "source": [
        "class Policy(nn.Module):\n",
        "    def __init__(self, s_size, a_size, h_size):\n",
        "        super(Policy, self).__init__()\n",
        "        self.fc1 = nn.Linear(s_size, h_size)\n",
        "        self.fc2 = nn.Linear(h_size, a_size)\n",
        "\n",
        "    def forward(self, x):\n",
        "        x = F.relu(self.fc1(x))\n",
        "        x = self.fc2(x)\n",
        "        return F.softmax(x, dim=1)\n",
        "    \n",
        "    def act(self, state):\n",
        "        state = torch.from_numpy(state).float().unsqueeze(0).to(device)\n",
        "        probs = self.forward(state).cpu()\n",
        "        m = Categorical(probs)\n",
        "        action = np.argmax(m)\n",
        "        return action.item(), m.log_prob(action)"
      ],
      "metadata": {
        "id": "huxRsnJQk7SJ"
      },
      "execution_count": null,
      "outputs": []
    },
    {
      "cell_type": "markdown",
      "source": [
        "Я совершаю ошибку, можете ли вы догадаться, где?\n",
        "\n",
        "- Чтобы выяснить это, давайте сделаем пас вперед:"
      ],
      "metadata": {
        "id": "rpoxOD-xlbrQ"
      }
    },
    {
      "cell_type": "code",
      "source": [
        "debug_policy = Policy(s_size, a_size, 64).to(device)\n",
        "debug_policy.act(env.reset())"
      ],
      "metadata": {
        "id": "LWrVZaQjlfmg"
      },
      "execution_count": null,
      "outputs": []
    },
    {
      "cell_type": "markdown",
      "source": [
        "- Здесь мы видим, что ошибка гласит `ValueError: аргумент value для log_prob должен быть тензором`\n",
        "\n",
        "- Это означает, что `action` в `m.log_prob(action)` должно быть, тензором **, но это не так.**\n",
        "\n",
        "- Ты знаешь почему? Проверьте функцию act и попытайтесь понять, почему она не работает.\n",
        "\n",
        "Совет 💡 : Что-то не так в этой реализации. Помните, что **мы хотим выбрать действие из распределения вероятностей по действиям**.\n"
      ],
      "metadata": {
        "id": "dR5MLshFlks4"
      }
    },
    {
      "cell_type": "markdown",
      "source": [
        "### Правильное решение"
      ],
      "metadata": {
        "id": "PMKZsE4TmWao"
      }
    },
    {
      "cell_type": "code",
      "source": [
        "class Policy(nn.Module):\n",
        "    def __init__(self, s_size, a_size, h_size):\n",
        "        super(Policy, self).__init__()\n",
        "        self.fc1 = nn.Linear(s_size, h_size)\n",
        "        self.fc2 = nn.Linear(h_size, a_size)\n",
        "\n",
        "    def forward(self, x):\n",
        "        x = F.relu(self.fc1(x))\n",
        "        x = self.fc2(x)\n",
        "        return F.softmax(x, dim=1)\n",
        "    \n",
        "    def act(self, state):\n",
        "        state = torch.from_numpy(state).float().unsqueeze(0).to(device)\n",
        "        probs = self.forward(state).cpu()\n",
        "        m = Categorical(probs)\n",
        "        action = m.sample()\n",
        "        return action.item(), m.log_prob(action)"
      ],
      "metadata": {
        "id": "_pQQIG4Ymaeh"
      },
      "execution_count": null,
      "outputs": []
    },
    {
      "cell_type": "markdown",
      "source": [
        "Используя CartPole, отлаживать было проще, поскольку **мы знаем, что ошибка возникает из-за нашей интеграции, а не из-за нашей простой среды**."
      ],
      "metadata": {
        "id": "gRtv19mVmrtw"
      }
    },
    {
      "cell_type": "markdown",
      "source": [
        "- Поскольку **мы хотим выбрать действие из распределения вероятностей по действиям**, мы не можем использовать `action = np.argmax(m)`, поскольку оно всегда будет выводить действие с наибольшей вероятностью.\n",
        "\n",
        "- Нам нужно заменить на `action = m.sample()`, который будет отбирать действие из распределения вероятностей P(.|s)"
      ],
      "metadata": {
        "id": "oCatyd8FPzbo"
      }
    },
    {
      "cell_type": "markdown",
      "source": [
        "### Давайте построим алгоритм усиленного обучения\n",
        "Это псевдокод алгоритма усиления:\n",
        "\n",
        "<img src=\"https://huggingface.co/datasets/huggingface-deep-rl-course/course-images/resolve/main/en/unit6/pg_pseudocode.png\" alt=\"Policy gradient pseudocode\"  width=\"70%\"/>"
      ],
      "metadata": {
        "id": "o_xrdklvQV1_"
      }
    },
    {
      "cell_type": "markdown",
      "source": [
        "- Когда мы вычисляем доходность Gt (строка 6), мы видим, что мы вычисляем сумму дисконтированных вознаграждений, **начиная с временного интервала t**.\n",
        "\n",
        "- почему? Поскольку наша политика должна только **подкреплять действия на основе последствий**: таким образом, награды, полученные до совершения действия, бесполезны (поскольку они были получены не из-за действия), **важны только те, которые приходят после действия**.\n",
        "\n",
        "- Прежде чем кодировать это, вы должны прочитать этот раздел [ \"не позволяйте прошлому отвлекать вас\"](https://spinningup.openai.com/en/latest/spinningup/rl_intro3.html#don-t-let-the-past-distract-you) это объясняет, почему мы используем градиент политики \"вознаграждение за переход\".\n",
        "\n",
        "Мы используем интересную технику, закодированную [Chris1nexus](https://github.com/Chris1nexus) чтобы **эффективно вычислять доходность на каждом временном шаге**. В комментариях объяснялась процедура. Не стесняйтесь также [проверить объяснение PR](https://github.com/huggingface/deep-rl-class/pull/95)\n",
        "Но в целом идея состоит в том, чтобы **эффективно вычислять доходность на каждом временном шаге**."
      ],
      "metadata": {
        "id": "h0FOX2jQRBpA"
      }
    },
    {
      "cell_type": "markdown",
      "source": [
        "Второй вопрос, который вы можете задать, звучит так: ** почему мы минимизируем потери **? Вы говорили о градиентном подъеме, а не о градиентном спуске?\n",
        "\n",
        "- Мы хотим максимизировать нашу функцию полезности $J(\\theta)$ но в PyTorch, как и в Tensorflow, лучше **минимизировать целевую функцию.**\n",
        "    - Итак, допустим, мы хотим усилить действие 3 на определенном временном шаге. Перед тренировкой этого действия P равно 0.25.\n",
        "    - Итак, мы хотим изменить $\\theta$ таким образом, чтобы $\\pi_\\theta(a_3|s; \\theta) > 0.25$\n",
        "    - Поскольку все P должны суммироваться до 1, то функция max $\\pi_\\theta(a_3|s; \\theta)$ **сведет к минимуму вероятность других действий.**\n",
        "    - Таким образом мы должны в PyTorch **, использовать функцию min $(1 - \\pi_\\theta(a_3|s; \\theta)$).**\n",
        "    - Эта функция потерь приближается к 0 по мере того, как $\\pi_\\theta(a_3|s; \\theta)$  приближается к 1.\n",
        "    - Таким образом градиент стремится max $\\pi_\\theta(a_3|s; \\theta)$\n"
      ],
      "metadata": {
        "id": "zq47SR3gTelW"
      }
    },
    {
      "cell_type": "code",
      "source": [
        "def reinforce(policy, optimizer, n_training_episodes, max_t, gamma, print_every):\n",
        "    # Помогите нам подсчитать балл во время тренировки\n",
        "    scores_deque = deque(maxlen=100)\n",
        "    scores = []\n",
        "    # Строка 3 псевдокода\n",
        "    for i_episode in range(1, n_training_episodes+1):\n",
        "        saved_log_probs = []\n",
        "        rewards = []\n",
        "        state = # ЗАДАЧА: перезагрузите среду\n",
        "        # Строка 4 псевдокода\n",
        "        for t in range(max_t):\n",
        "            action, log_prob = # ЗАДАЧА: получить действие\n",
        "            saved_log_probs.append(log_prob)\n",
        "            state, reward, done, _ = # ЗАДАЧА: сделайте шаг в среде env\n",
        "            rewards.append(reward)\n",
        "            if done:\n",
        "                break \n",
        "        scores_deque.append(sum(rewards))\n",
        "        scores.append(sum(rewards))\n",
        "        \n",
        "        # Строка 6 псевдокода: вычисление возвращаемой награды\n",
        "        returns = deque(maxlen=max_t) \n",
        "        n_steps = len(rewards) \n",
        "        # Вычислите дисконтированную доходность на каждом временном шаге\n",
        "        # как сумму доходности с гамма-дисконтированной доходностью в момент t(G_t) + вознаграждение в момент t\n",
        "\n",
        "        # За O(N) время, где N - количество временных шагов\n",
        "        # (это определение дисконтированного дохода G_t следует определению этого количества\n",
        "        # показано на странице 44 2-го черновика Sutton&Barto 2017)\n",
        "        # G_t = r_(t+1) + r_(t+2) + ...\n",
        "\n",
        "        # Учитывая эту формулировку, возвраты на каждом временном шаге t могут быть вычислены\n",
        "        # путем повторного использования вычисленных будущих возвратов G_(t + 1) для вычисления текущего возврата G_t\n",
        "        # G_t = r_(t+1) + гамма*G_(t+1)\n",
        "        # G_(t-1) = r_t + гамма * G_t\n",
        "        # (это соответствует подходу динамического программирования, с помощью которого мы запоминаем решения, чтобы\n",
        "        # избежать их многократного вычисления)\n",
        "\n",
        "        # Это правильно, поскольку приведенное выше эквивалентно (см. также стр. 46 2-го черновика Sutton&Barto 2017)\n",
        "        # G_(t-1) = r_t + гамма*r_(t+1) + гамма*гамма*r_(t+2) + ...\n",
        "\n",
        "\n",
        "        ## Учитывая вышесказанное, мы вычисляем доходность на временном шаге t как:\n",
        "        # гамма[t] * возврат[t] + награда[t]\n",
        "        #\n",
        "        ## Мы вычисляем это, начиная с последнего временного шага и заканчивая первым, по порядку\n",
        "        ## использовать представленную выше формулу и избежать избыточных вычислений, которые потребовались\n",
        "        ## бы если бы мы делали это от начала до конца.\n",
        "\n",
        "        ## Следовательно, очередь \"returns\" будет содержать возвраты в хронологическом порядке, от t=0 до t=n_steps\n",
        "        ## благодаря функции appendleft(), которая позволяет добавлять к позиции 0 за постоянное время O(1)\n",
        "        ## обычный список python вместо этого потребовал бы O (N) для этого.\n",
        "        for t in range(n_steps)[::-1]:\n",
        "            disc_return_t = (returns[0] if len(returns)>0 else 0)\n",
        "            returns.appendleft(    ) # ЗАДАЧА: завершите здесь       \n",
        "       \n",
        "        ## стандартизация результатов используется для того, чтобы сделать обучение более стабильным\n",
        "        eps = np.finfo(np.float32).eps.item()\n",
        "        \n",
        "        ## eps - это наименьшее представимое значение с плавающей точкой, которое\n",
        "        # добавляется к стандартному отклонению доходности, чтобы избежать числовой нестабильности\n",
        "        returns = torch.tensor(returns)\n",
        "        returns = (returns - returns.mean()) / (returns.std() + eps)\n",
        "        \n",
        "        # Строка 7:\n",
        "        policy_loss = []\n",
        "        for log_prob, disc_return in zip(saved_log_probs, returns):\n",
        "            policy_loss.append(-log_prob * disc_return)\n",
        "        policy_loss = torch.cat(policy_loss).sum()\n",
        "        \n",
        "        # Строка 8: PyTorch предпочитает градиентный спуск \n",
        "        optimizer.zero_grad()\n",
        "        policy_loss.backward()\n",
        "        optimizer.step()\n",
        "        \n",
        "        if i_episode % print_every == 0:\n",
        "            print('Episode {}\\tAverage Score: {:.2f}'.format(i_episode, np.mean(scores_deque)))\n",
        "        \n",
        "    return scores"
      ],
      "metadata": {
        "id": "HHg5zDPkXSqg"
      },
      "execution_count": null,
      "outputs": []
    },
    {
      "cell_type": "markdown",
      "source": [
        "#### Решение"
      ],
      "metadata": {
        "id": "HlhATfY5fijm"
      }
    },
    {
      "cell_type": "code",
      "source": [
        "def reinforce(policy, optimizer, n_training_episodes, max_t, gamma, print_every):\n",
        "    # Help us to calculate the score during the training\n",
        "    scores_deque = deque(maxlen=100)\n",
        "    scores = []\n",
        "    # Line 3 of pseudocode\n",
        "    for i_episode in range(1, n_training_episodes+1):\n",
        "        saved_log_probs = []\n",
        "        rewards = []\n",
        "        state = env.reset()\n",
        "        # Line 4 of pseudocode\n",
        "        for t in range(max_t):\n",
        "            action, log_prob = policy.act(state)\n",
        "            saved_log_probs.append(log_prob)\n",
        "            state, reward, done, _ = env.step(action)\n",
        "            rewards.append(reward)\n",
        "            if done:\n",
        "                break \n",
        "        scores_deque.append(sum(rewards))\n",
        "        scores.append(sum(rewards))\n",
        "        \n",
        "        # Line 6 of pseudocode: calculate the return\n",
        "        returns = deque(maxlen=max_t) \n",
        "        n_steps = len(rewards) \n",
        "        # Compute the discounted returns at each timestep,\n",
        "        # as \n",
        "        #      the sum of the gamma-discounted return at time t (G_t) + the reward at time t\n",
        "        #\n",
        "        # In O(N) time, where N is the number of time steps\n",
        "        # (this definition of the discounted return G_t follows the definition of this quantity \n",
        "        # shown at page 44 of Sutton&Barto 2017 2nd draft)\n",
        "        # G_t = r_(t+1) + r_(t+2) + ...\n",
        "        \n",
        "        # Given this formulation, the returns at each timestep t can be computed \n",
        "        # by re-using the computed future returns G_(t+1) to compute the current return G_t\n",
        "        # G_t = r_(t+1) + gamma*G_(t+1)\n",
        "        # G_(t-1) = r_t + gamma* G_t\n",
        "        # (this follows a dynamic programming approach, with which we memorize solutions in order \n",
        "        # to avoid computing them multiple times)\n",
        "        \n",
        "        # This is correct since the above is equivalent to (see also page 46 of Sutton&Barto 2017 2nd draft)\n",
        "        # G_(t-1) = r_t + gamma*r_(t+1) + gamma*gamma*r_(t+2) + ...\n",
        "        \n",
        "        \n",
        "        ## Given the above, we calculate the returns at timestep t as: \n",
        "        #               gamma[t] * return[t] + reward[t]\n",
        "        #\n",
        "        ## We compute this starting from the last timestep to the first, in order\n",
        "        ## to employ the formula presented above and avoid redundant computations that would be needed \n",
        "        ## if we were to do it from first to last.\n",
        "        \n",
        "        ## Hence, the queue \"returns\" will hold the returns in chronological order, from t=0 to t=n_steps\n",
        "        ## thanks to the appendleft() function which allows to append to the position 0 in constant time O(1)\n",
        "        ## a normal python list would instead require O(N) to do this.\n",
        "        for t in range(n_steps)[::-1]:\n",
        "            disc_return_t = (returns[0] if len(returns)>0 else 0)\n",
        "            returns.appendleft( gamma*disc_return_t + rewards[t]   )    \n",
        "            \n",
        "        ## standardization of the returns is employed to make training more stable\n",
        "        eps = np.finfo(np.float32).eps.item()\n",
        "        ## eps is the smallest representable float, which is \n",
        "        # added to the standard deviation of the returns to avoid numerical instabilities        \n",
        "        returns = torch.tensor(returns)\n",
        "        returns = (returns - returns.mean()) / (returns.std() + eps)\n",
        "        \n",
        "        # Line 7:\n",
        "        policy_loss = []\n",
        "        for log_prob, disc_return in zip(saved_log_probs, returns):\n",
        "            policy_loss.append(-log_prob * disc_return)\n",
        "        policy_loss = torch.cat(policy_loss).sum()\n",
        "        \n",
        "        # Line 8: PyTorch prefers gradient descent \n",
        "        optimizer.zero_grad()\n",
        "        policy_loss.backward()\n",
        "        optimizer.step()\n",
        "        \n",
        "        if i_episode % print_every == 0:\n",
        "            print('Episode {}\\tAverage Score: {:.2f}'.format(i_episode, np.mean(scores_deque)))\n",
        "        \n",
        "    return scores"
      ],
      "metadata": {
        "id": "-3mvDHT2fjOW"
      },
      "execution_count": null,
      "outputs": []
    },
    {
      "cell_type": "markdown",
      "source": [
        "## Тренируй это\n",
        "- Теперь мы готовы обучать нашего агента.\n",
        "- Но сначала мы определяем переменную, содержащую все обучающие гиперпараметры.\n",
        "- Вы можете изменить параметры тренировки (и должны 😉)"
      ],
      "metadata": {
        "id": "l0jeKqQ7fsol"
      }
    },
    {
      "cell_type": "code",
      "source": [
        "cartpole_hyperparameters = {\n",
        "    \"h_size\": 16,\n",
        "    \"n_training_episodes\": 1000,\n",
        "    \"n_evaluation_episodes\": 10,\n",
        "    \"max_t\": 1000,\n",
        "    \"gamma\": 1.0,\n",
        "    \"lr\": 1e-2,\n",
        "    \"env_id\": env_id,\n",
        "    \"state_space\": s_size,\n",
        "    \"action_space\": a_size,\n",
        "}"
      ],
      "metadata": {
        "id": "4jG-hT9PfyGm"
      },
      "execution_count": null,
      "outputs": []
    },
    {
      "cell_type": "code",
      "source": [
        "# Создайте политику и разместите ее на устройстве\n",
        "cartpole_policy = Policy(cartpole_hyperparameters[\"state_space\"], cartpole_hyperparameters[\"action_space\"], cartpole_hyperparameters[\"h_size\"]).to(device)\n",
        "cartpole_optimizer = optim.Adam(cartpole_policy.parameters(), lr=cartpole_hyperparameters[\"lr\"])"
      ],
      "metadata": {
        "id": "UxGlqPtFgA62"
      },
      "execution_count": null,
      "outputs": []
    },
    {
      "cell_type": "code",
      "source": [
        "scores = reinforce(cartpole_policy,\n",
        "                   cartpole_optimizer,\n",
        "                   cartpole_hyperparameters[\"n_training_episodes\"], \n",
        "                   cartpole_hyperparameters[\"max_t\"],\n",
        "                   cartpole_hyperparameters[\"gamma\"], \n",
        "                   100)"
      ],
      "metadata": {
        "id": "KMczmitrgOiG"
      },
      "execution_count": null,
      "outputs": []
    },
    {
      "cell_type": "markdown",
      "source": [
        "## Определите метод оценки 📝\n",
        "- Здесь мы определяем метод оценки, который мы собираемся использовать для тестирования нашего Reinforce агента."
      ],
      "metadata": {
        "id": "RV8ZvxWygXmF"
      }
    },
    {
      "cell_type": "code",
      "source": [
        "def evaluate_agent(env, max_steps, n_eval_episodes, policy):\n",
        "  \"\"\"\n",
        "  Оцените агента на количестве эпизодов `n_eval_episodes` и верните среднее вознаграждение и std вознаграждение.\n",
        "  :param env: Среда оценки\n",
        "  :param n_eval_episodes: Количество эпизодов для оценки агента\n",
        "  :param policy: Reinforce агент\n",
        "  \"\"\"\n",
        "  episode_rewards = []\n",
        "  for episode in range(n_eval_episodes):\n",
        "    state = env.reset()\n",
        "    step = 0\n",
        "    done = False\n",
        "    total_rewards_ep = 0\n",
        "    \n",
        "    for step in range(max_steps):\n",
        "      action, _ = policy.act(state)\n",
        "      new_state, reward, done, info = env.step(action)\n",
        "      total_rewards_ep += reward\n",
        "        \n",
        "      if done:\n",
        "        break\n",
        "      state = new_state\n",
        "    episode_rewards.append(total_rewards_ep)\n",
        "  mean_reward = np.mean(episode_rewards)\n",
        "  std_reward = np.std(episode_rewards)\n",
        "\n",
        "  return mean_reward, std_reward"
      ],
      "metadata": {
        "id": "Hl9tnGOtgiTI"
      },
      "execution_count": null,
      "outputs": []
    },
    {
      "cell_type": "markdown",
      "source": [
        "## Оцените нашего агента 📈"
      ],
      "metadata": {
        "id": "5JIe6qyChQ6H"
      }
    },
    {
      "cell_type": "code",
      "source": [
        "evaluate_agent(eval_env, \n",
        "               cartpole_hyperparameters[\"max_t\"], \n",
        "               cartpole_hyperparameters[\"n_evaluation_episodes\"],\n",
        "               cartpole_policy)"
      ],
      "metadata": {
        "id": "of4KzBUhhRuP"
      },
      "execution_count": null,
      "outputs": []
    },
    {
      "cell_type": "markdown",
      "source": [
        "### Опубликуйте нашу обученную модель на хабе 🔥\n",
        "Теперь, когда мы увидели, что получили хорошие результаты после обучения, мы можем опубликовать нашу обученную модель на хабе 🤗 с помощью одной строки кода.\n",
        "\n",
        "Вот пример карточки модели:\n",
        "\n",
        "<img src=\"https://huggingface.co/datasets/huggingface-deep-rl-course/course-images/resolve/main/en/unit6/modelcard.png\"/>"
      ],
      "metadata": {
        "id": "c9T3JaPXhW3N"
      }
    }
  ]
}