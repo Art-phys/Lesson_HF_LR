{
  "nbformat": 4,
  "nbformat_minor": 0,
  "metadata": {
    "colab": {
      "provenance": [],
      "authorship_tag": "ABX9TyO6hiNfr49xCHGIRw+5+mVo",
      "include_colab_link": true
    },
    "kernelspec": {
      "name": "python3",
      "display_name": "Python 3"
    },
    "language_info": {
      "name": "python"
    }
  },
  "cells": [
    {
      "cell_type": "markdown",
      "metadata": {
        "id": "view-in-github",
        "colab_type": "text"
      },
      "source": [
        "<a href=\"https://colab.research.google.com/github/Art-phys/Lesson_HF_LR/blob/main/Lesson_HF_RL_Unit4.ipynb\" target=\"_parent\"><img src=\"https://colab.research.google.com/assets/colab-badge.svg\" alt=\"Open In Colab\"/></a>"
      ]
    },
    {
      "cell_type": "markdown",
      "source": [
        "# Блок 4: Создайте свой первый алгоритм обучения с глубоким подкреплением с помощью PyTorch: Reinforce. И проверьте его надежность 💪\n",
        "\n",
        "<img src=\"https://huggingface.co/datasets/huggingface-deep-rl-course/course-images/resolve/main/en/unit6/thumbnail.png\" alt=\"thumbnail\" width=\"50%\"/>\n",
        "\n",
        "В этом блокноте вы с нуля создадите свой первый алгоритм обучения с глубоким подкреплением: Reinforcement (также называемый градиентом политики Монте-Карло).\n",
        "\n",
        "Усиление (Reinforce) - это *метод, основанный на политике*: алгоритм глубокого обучения с подкреплением, который пытается **оптимизировать политику напрямую, не используя функцию значения действия**.\n",
        "\n",
        "Точнее, Усиление (Reinforce) - это *Метод градиента политики*, подкласс *методов, основанных на политике*, который направлен **на оптимизацию политики непосредственно путем оценки весов оптимальной политики с использованием градиентного подъема**.\n",
        "\n",
        "Чтобы проверить его надежность, мы собираемся обучить его в двух разных простых средах:\n",
        "- Cartpole-v1 (Столб тележки-v1)\n",
        "- PixelcopterEnv (Пиксельный вертолет)\n",
        "\n",
        "⬇️ Вот пример того, чего **вы достигнете в конце этом блокноте.** ⬇️"
      ],
      "metadata": {
        "id": "uDL2CAkWTjx0"
      }
    },
    {
      "cell_type": "markdown",
      "source": [
        "  <img src=\"https://huggingface.co/datasets/huggingface-deep-rl-course/course-images/resolve/main/en/unit6/envs.gif\" alt=\"Environments\" width=\"50%\"/>\n"
      ],
      "metadata": {
        "id": "wqFm3-_dVhrF"
      }
    },
    {
      "cell_type": "markdown",
      "source": [
        "### 🎮 Окружающая среда: \n",
        "\n",
        "- [CartPole-v1](https://www.gymlibrary.dev/environments/classic_control/cart_pole/)\n",
        "- [PixelCopter](https://pygame-learning-environment.readthedocs.io/en/latest/user/games/pixelcopter.html)\n",
        "\n",
        "### 📚 RL-Библиотека: \n",
        "\n",
        "- Python\n",
        "- PyTorch\n",
        "\n",
        "\n",
        " [GitHub Repo](https://github.com/huggingface/deep-rl-class/issues)."
      ],
      "metadata": {
        "id": "GptTjtpKban6"
      }
    },
    {
      "cell_type": "markdown",
      "source": [
        "## Цели этого блокнота 🏆\n",
        "В конце вы будете:\n",
        "- Уметь **с нуля закодировать алгоритм усиления с использованием PyTorch.**\n",
        "- Иметь возможность **протестировать надежность вашего агента, используя простые среды.**\n",
        "- Иметь возможность **отправить своего обученного агента в центр** с хорошим видеоповтором и оценочным баллом 🔥 ."
      ],
      "metadata": {
        "id": "8XBD7_HTb3NK"
      }
    },
    {
      "cell_type": "markdown",
      "source": [
        "## Эта тетрадь взята из курса обучения с глубоким подкреплением\n",
        "<img src=\"https://huggingface.co/datasets/huggingface-deep-rl-course/course-images/resolve/main/en/notebooks/deep-rl-course-illustration.jpg\" alt=\"Deep RL Course illustration\" width=\"50%\"/>"
      ],
      "metadata": {
        "id": "VU5d8p5qcQbC"
      }
    },
    {
      "cell_type": "markdown",
      "source": [
        "На этом бесплатном курсе вы:\n",
        "\n",
        "- 📖 Изучите глубокое обучение с подкреплением в **теории и на практике**.\n",
        "- 🧑 💻 Научитесь **использовать известные библиотеки Deep RL**, такие как Stable Baselines3, RL Baselines3 Zoo, CleanRL и Sample Factory 2.0.\n",
        "- 🤖 Обучите **агентов в уникальных условиях**"
      ],
      "metadata": {
        "id": "g-sXRdpDcjxC"
      }
    },
    {
      "cell_type": "markdown",
      "source": [
        "## Предпосылки 🏗️\n",
        "Прежде чем погрузиться в блокнот, вам нужно:\n",
        "\n",
        "🔲 📚 [Изучите градиенты политики, прочитав Unit 4](https://huggingface.co/deep-rl-course/unit4/introduction)"
      ],
      "metadata": {
        "id": "5oQ2cJ_mc58a"
      }
    },
    {
      "cell_type": "markdown",
      "source": [
        "# Давайте запрограммируем алгоритм усиления с нуля 🔥\n",
        "\n",
        "\n",
        "Чтобы пройти этот практический подход для сертификации, вам необходимо отправить свои обученные модели в Центр.\n",
        "\n",
        "- Получите результат >= 350 для `Cart pole-v1`.\n",
        "- Получите результат >= 5 для `Pixel Copter`.\n",
        "\n",
        "Чтобы узнать свой результат, перейдите в таблицу лидеров и найдите свою модель, **the result = mean_reward - std_reward**. **Если вы не видите свою модель в таблице лидеров, перейдите в нижнюю часть страницы таблицы лидеров и нажмите на кнопку обновить**.\n",
        "\n",
        "Для получения дополнительной информации о процессе сертификации ознакомьтесь с этим разделом 👉 https://huggingface.co/deep-rl-course/en/unit0/introduction#certification-process"
      ],
      "metadata": {
        "id": "PKdxmqgNdSpx"
      }
    },
    {
      "cell_type": "markdown",
      "source": [
        "# Совет 💡\n",
        "Лучше запустить этот colab в копии на вашем Google Диске, чтобы **в случае истечения времени ожидания** у вас все еще была сохраненная записная книжка на вашем Google Диске, и вам не нужно было заполнять все с нуля.\n",
        "\n",
        "Для этого вы можете либо нажать `Ctrl + S` либо `File > Save a copy in Google Drive.`"
      ],
      "metadata": {
        "id": "Xp28ZSL7d9oL"
      }
    },
    {
      "cell_type": "markdown",
      "source": [
        "## Запустить на GPU 💪\n",
        "- Чтобы **ускорить обучение агента, мы будем использовать графический процессор GPU. Перейдите в `Runtime > Change Runtime type`\n",
        "\n",
        "<img src=\"https://huggingface.co/datasets/huggingface-deep-rl-course/course-images/resolve/main/en/notebooks/gpu-step1.jpg\" alt=\"GPU Step 1\" width=\"50%\">"
      ],
      "metadata": {
        "id": "5OhJSHRyekr5"
      }
    },
    {
      "cell_type": "markdown",
      "source": [
        "- `Hardware Accelerator > GPU`\n",
        "\n",
        "<img src=\"https://huggingface.co/datasets/huggingface-deep-rl-course/course-images/resolve/main/en/notebooks/gpu-step2.jpg\" alt=\"GPU Step 2\" width=\"50%\">"
      ],
      "metadata": {
        "id": "YGiMsyMvfIxL"
      }
    },
    {
      "cell_type": "markdown",
      "source": [
        "## Создание виртуального дисплея #\n",
        "\n",
        "Во время записи нам нужно будет сгенерировать видео-повтор. Для этого с помощью colab **нам нужен виртуальный экран, чтобы иметь возможность отображать среду** (и, таким образом, записывать кадры).\n",
        "\n",
        "Следовательно, в следующей ячейке будут установлены библиотеки, а также создан и запущен виртуальный экран 🖥"
      ],
      "metadata": {
        "id": "2OAnJpxhfPNR"
      }
    },
    {
      "cell_type": "code",
      "source": [
        "%%capture\n",
        "!apt install python-opengl\n",
        "!apt install ffmpeg\n",
        "!apt install xvfb\n",
        "!pip install pyvirtualdisplay\n",
        "!pip install pyglet==1.5.1"
      ],
      "metadata": {
        "id": "Wl3RWobQfcnc"
      },
      "execution_count": null,
      "outputs": []
    },
    {
      "cell_type": "code",
      "source": [
        "# Virtual display\n",
        "from pyvirtualdisplay import Display\n",
        "\n",
        "virtual_display = Display(visible=0, size=(1400, 900))\n",
        "virtual_display.start()"
      ],
      "metadata": {
        "id": "iJ7nQ-9yfjo6"
      },
      "execution_count": null,
      "outputs": []
    },
    {
      "cell_type": "markdown",
      "source": [
        "## Установка зависимостей #\n",
        "Первым шагом является установка зависимостей:\n",
        "\n",
        "- `gym`\n",
        "- `gym-games`: Дополнительные условия в тренажерном зале, созданные с помощью Pygame.\n",
        "- `huggingface_hub`: 🤗 работает как центральное место, где любой желающий может делиться моделями и наборами данных и изучать их. В нем есть управление версиями, метрики, визуализации и другие функции, которые позволят вам легко сотрудничать с другими.\n",
        "\n",
        "Вы можете увидеть здесь все доступные модели усилителей 👉 https://huggingface.co/models?other=reinforce\n",
        "\n",
        "И вы можете найти все модели обучения с глубоким подкреплением здесь 👉 https://huggingface.co/models?pipeline_tag=reinforcement-learning"
      ],
      "metadata": {
        "id": "nRLE91M5fnLU"
      }
    },
    {
      "cell_type": "code",
      "source": [
        "!pip install -r https://raw.githubusercontent.com/huggingface/deep-rl-class/main/notebooks/unit4/requirements-unit4.txt"
      ],
      "metadata": {
        "id": "IBOUe16XgJAr"
      },
      "execution_count": null,
      "outputs": []
    },
    {
      "cell_type": "markdown",
      "source": [
        "## Импортируйте пакеты 📦\n",
        "В дополнение к импорту установленных библиотек, мы также импортируем:\n",
        "\n",
        "- `imageio`: Библиотека, которая поможет нам сгенерировать повтор видео\n"
      ],
      "metadata": {
        "id": "ZICM5v8TgNBc"
      }
    },
    {
      "cell_type": "code",
      "source": [
        "import numpy as np\n",
        "\n",
        "from collections import deque\n",
        "\n",
        "import matplotlib.pyplot as plt\n",
        "%matplotlib inline\n",
        "\n",
        "# PyTorch\n",
        "import torch\n",
        "import torch.nn as nn\n",
        "import torch.nn.functional as F\n",
        "import torch.optim as optim\n",
        "from torch.distributions import Categorical\n",
        "\n",
        "# Gym\n",
        "import gym\n",
        "import gym_pygame\n",
        "\n",
        "# Hugging Face Hub\n",
        "from huggingface_hub import notebook_login # Войти в учетную запись Hugging Face, чтобы иметь возможность загружать модели в Хаб.\n",
        "import imageio"
      ],
      "metadata": {
        "id": "qlDWDBeGgb95"
      },
      "execution_count": null,
      "outputs": []
    },
    {
      "cell_type": "markdown",
      "source": [
        "## Проверьте, есть ли у нас графический процессор\n",
        "\n",
        "Если у вас есть GPU, вы должны увидеть `device:cuda0`"
      ],
      "metadata": {
        "id": "7EaZQAhLgmNx"
      }
    },
    {
      "cell_type": "code",
      "source": [
        "device = torch.device(\"cuda:0\" if torch.cuda.is_available() else \"cpu\")"
      ],
      "metadata": {
        "id": "xwedGiHvg5Gk"
      },
      "execution_count": null,
      "outputs": []
    },
    {
      "cell_type": "code",
      "source": [
        "print(device)"
      ],
      "metadata": {
        "id": "QkBD67EWg5lB"
      },
      "execution_count": null,
      "outputs": []
    },
    {
      "cell_type": "markdown",
      "source": [
        "Теперь мы готовы реализовать наш алгоритм усиления 🔥"
      ],
      "metadata": {
        "id": "mKyhynXCg_hx"
      }
    },
    {
      "cell_type": "markdown",
      "source": [
        "# Первый агент: Играем в Картпол-v1 🤖"
      ],
      "metadata": {
        "id": "I46nFp5FhHgY"
      }
    },
    {
      "cell_type": "markdown",
      "source": [
        "## Создайте среду CartPole и поймите, как это работает\n",
        "### [Окружающая среда 🎮 ](https://www.gymlibrary.dev/environments/classic_control/cart_pole/)\n"
      ],
      "metadata": {
        "id": "sf04gwcDhMRA"
      }
    },
    {
      "cell_type": "markdown",
      "source": [
        "### Почему мы используем такую простую среду, как CartPole-v1?\n",
        "Как описано в [Советах и рекомендациях по обучению с подкреплением](https://stable-baselines3.readthedocs.io/en/master/guide/rl_tips.html),когда вы внедряете свой агент с нуля, вам нужно **убедиться, что он работает правильно, и найти ошибки в простых средах, прежде чем углубляться**. Поскольку находить ошибки будет намного проще в простых средах.\n",
        "\n",
        "\n",
        "> Попробуйте подать какой-нибудь “признак жизни” в отношении проблем с игрушками\n",
        "\n",
        "\n",
        "> Проверьте реализацию, заставив ее запускаться во все более сложных средах (вы можете сравнить результаты с RL zoo). Обычно для этого шага необходимо выполнить оптимизацию по гиперпараметру.\n",
        "___\n",
        "### Среда CartPole-v1\n",
        "\n",
        "> Шест прикреплен с помощью шарнира без привода к тележке, которая движется по рельсам без трения. Маятник устанавливается вертикально на тележку, и цель состоит в том, чтобы уравновесить шест, прикладывая силы в левом и правом направлениях к тележке.\n",
        "\n",
        "\n",
        "\n",
        "Итак, мы начнем с CartPole-v1. Цель состоит в том, чтобы толкать тележку влево или вправо **так, чтобы шест оставался в равновесии.**\n",
        "\n",
        "Эпизод заканчивается, если:\n",
        "- Угол наклона шеста больше, чем ±12°\n",
        "- Положение тележки больше, чем ±2.4\n",
        "- Продолжительность эпизода больше, чем 500\n",
        "\n",
        "Мы получаем вознаграждение 💰 в размере +1 каждый раз, когда полюс остается в равновесии."
      ],
      "metadata": {
        "id": "JOtcggzZhXIR"
      }
    },
    {
      "cell_type": "code",
      "source": [
        "env_id = \"CartPole-v1\"\n",
        "# Создание env\n",
        "env = gym.make(env_id)\n",
        "\n",
        "# Создание среды оценки\n",
        "eval_env = gym.make(env_id)\n",
        "\n",
        "# Получение пространства состояний и пространства действий\n",
        "s_size = env.observation_space.shape[0]\n",
        "a_size = env.action_space.n"
      ],
      "metadata": {
        "id": "G98aO9udhIDh"
      },
      "execution_count": null,
      "outputs": []
    },
    {
      "cell_type": "code",
      "source": [
        "print(\"_____OBSERVATION SPACE_____ \\n\")\n",
        "print(\"The State Space is: \", s_size)\n",
        "print(\"Sample observation\", env.observation_space.sample()) # Получение случайного наблюдения"
      ],
      "metadata": {
        "id": "9GiN3hIxjT9a"
      },
      "execution_count": null,
      "outputs": []
    },
    {
      "cell_type": "code",
      "source": [
        "print(\"\\n _____ACTION SPACE_____ \\n\")\n",
        "print(\"The Action Space is: \", a_size)\n",
        "print(\"Action Space Sample\", env.action_space.sample()) # Получение случайного действия"
      ],
      "metadata": {
        "id": "MJ8L7Ga8jbqJ"
      },
      "execution_count": null,
      "outputs": []
    },
    {
      "cell_type": "markdown",
      "source": [
        "## Давайте создадим Reinforce архитектуру\n",
        "Эта реализация основана на двух реализациях:\n",
        "- [Официальный пример обучения с подкреплением PyTorch](https://github.com/pytorch/examples/blob/main/reinforcement_learning/reinforce.py)\n",
        "- [Udacity Reinforce](https://github.com/udacity/deep-reinforcement-learning/blob/master/reinforce/REINFORCE.ipynb)\n",
        "- [Улучшение интеграции с помощью Chris1nexus](https://github.com/huggingface/deep-rl-class/pull/95)\n",
        "\n",
        "<img src=\"https://huggingface.co/datasets/huggingface-deep-rl-course/course-images/resolve/main/en/unit6/reinforce.png\" alt=\"Reinforce\" width=\"50%\"/>"
      ],
      "metadata": {
        "id": "8y1Ti_Azjlkr"
      }
    },
    {
      "cell_type": "markdown",
      "source": [
        "Итак, мы хотим:\n",
        "- Два полностью соединенных слоя (fc1 и fc2).\n",
        "- Использование ReLU в качестве функции активации fc1\n",
        "- Использование Softmax для вывода распределения вероятностей по действиям"
      ],
      "metadata": {
        "id": "BPA3g6KhkKjp"
      }
    },
    {
      "cell_type": "code",
      "source": [
        "class Policy(nn.Module):\n",
        "    def __init__(self, s_size, a_size, h_size):\n",
        "        super(Policy, self).__init__()\n",
        "        # Создайте два полностью соединенных (fc-fully connected ) слоя\n",
        "\n",
        "    def forward(self, x):\n",
        "        # Определите прямой проход\n",
        "        # состояние переходит в fc1, затем мы применяем функцию активации ReLU\n",
        "        # выходы fc1 передаются в fc2\n",
        "        # Мы выводим softmax\n",
        "    \n",
        "    def act(self, state):\n",
        "        \"\"\"\n",
        "        Учитывая состояние, определите действие\n",
        "        \"\"\"\n",
        "        state = torch.from_numpy(state).float().unsqueeze(0).to(device)\n",
        "        probs = self.forward(state).cpu()\n",
        "        m = Categorical(probs)\n",
        "        action = np.argmax(m)\n",
        "        return action.item(), m.log_prob(action)"
      ],
      "metadata": {
        "id": "D7UkIAZFkRwv"
      },
      "execution_count": null,
      "outputs": []
    },
    {
      "cell_type": "markdown",
      "source": [
        "### Solution"
      ],
      "metadata": {
        "id": "QDtFZIxNk6ag"
      }
    },
    {
      "cell_type": "code",
      "source": [
        "class Policy(nn.Module):\n",
        "    def __init__(self, s_size, a_size, h_size):\n",
        "        super(Policy, self).__init__()\n",
        "        self.fc1 = nn.Linear(s_size, h_size)\n",
        "        self.fc2 = nn.Linear(h_size, a_size)\n",
        "\n",
        "    def forward(self, x):\n",
        "        x = F.relu(self.fc1(x))\n",
        "        x = self.fc2(x)\n",
        "        return F.softmax(x, dim=1)\n",
        "    \n",
        "    def act(self, state):\n",
        "        state = torch.from_numpy(state).float().unsqueeze(0).to(device)\n",
        "        probs = self.forward(state).cpu()\n",
        "        m = Categorical(probs)\n",
        "        action = np.argmax(m)\n",
        "        return action.item(), m.log_prob(action)"
      ],
      "metadata": {
        "id": "huxRsnJQk7SJ"
      },
      "execution_count": null,
      "outputs": []
    },
    {
      "cell_type": "markdown",
      "source": [
        "Я совершаю ошибку, можете ли вы догадаться, где?\n",
        "\n",
        "- Чтобы выяснить это, давайте сделаем пас вперед:"
      ],
      "metadata": {
        "id": "rpoxOD-xlbrQ"
      }
    },
    {
      "cell_type": "code",
      "source": [
        "debug_policy = Policy(s_size, a_size, 64).to(device)\n",
        "debug_policy.act(env.reset())"
      ],
      "metadata": {
        "id": "LWrVZaQjlfmg"
      },
      "execution_count": null,
      "outputs": []
    },
    {
      "cell_type": "markdown",
      "source": [
        "- Здесь мы видим, что ошибка гласит `ValueError: аргумент value для log_prob должен быть тензором`\n",
        "\n",
        "- Это означает, что `action` в `m.log_prob(action)` должно быть, тензором **, но это не так.**\n",
        "\n",
        "- Ты знаешь почему? Проверьте функцию act и попытайтесь понять, почему она не работает.\n",
        "\n",
        "Совет 💡 : Что-то не так в этой реализации. Помните, что **мы хотим выбрать действие из распределения вероятностей по действиям**.\n"
      ],
      "metadata": {
        "id": "dR5MLshFlks4"
      }
    },
    {
      "cell_type": "markdown",
      "source": [
        "### Правильное решение"
      ],
      "metadata": {
        "id": "PMKZsE4TmWao"
      }
    },
    {
      "cell_type": "code",
      "source": [
        "class Policy(nn.Module):\n",
        "    def __init__(self, s_size, a_size, h_size):\n",
        "        super(Policy, self).__init__()\n",
        "        self.fc1 = nn.Linear(s_size, h_size)\n",
        "        self.fc2 = nn.Linear(h_size, a_size)\n",
        "\n",
        "    def forward(self, x):\n",
        "        x = F.relu(self.fc1(x))\n",
        "        x = self.fc2(x)\n",
        "        return F.softmax(x, dim=1)\n",
        "    \n",
        "    def act(self, state):\n",
        "        state = torch.from_numpy(state).float().unsqueeze(0).to(device)\n",
        "        probs = self.forward(state).cpu()\n",
        "        m = Categorical(probs)\n",
        "        action = m.sample()\n",
        "        return action.item(), m.log_prob(action)"
      ],
      "metadata": {
        "id": "_pQQIG4Ymaeh"
      },
      "execution_count": null,
      "outputs": []
    },
    {
      "cell_type": "markdown",
      "source": [
        "Используя CartPole, отлаживать было проще, поскольку **мы знаем, что ошибка возникает из-за нашей интеграции, а не из-за нашей простой среды**."
      ],
      "metadata": {
        "id": "gRtv19mVmrtw"
      }
    }
  ]
}