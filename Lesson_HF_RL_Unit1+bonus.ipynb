{
  "nbformat": 4,
  "nbformat_minor": 0,
  "metadata": {
    "colab": {
      "provenance": [],
      "authorship_tag": "ABX9TyMERtEkTO9GuhXfZW3iz++T",
      "include_colab_link": true
    },
    "kernelspec": {
      "name": "python3",
      "display_name": "Python 3"
    },
    "language_info": {
      "name": "python"
    }
  },
  "cells": [
    {
      "cell_type": "markdown",
      "metadata": {
        "id": "view-in-github",
        "colab_type": "text"
      },
      "source": [
        "<a href=\"https://colab.research.google.com/github/Art-phys/Lesson_HF_LR_Unit1/blob/main/Lesson_HF_RL_Unit1%2Bbonus.ipynb\" target=\"_parent\"><img src=\"https://colab.research.google.com/assets/colab-badge.svg\" alt=\"Open In Colab\"/></a>"
      ]
    },
    {
      "cell_type": "markdown",
      "source": [
        "ССЫЛКА НА ОРИГИНАЛ:\n",
        "\n",
        "https://colab.research.google.com/github/huggingface/deep-rl-class/blob/master/notebooks/bonus-unit1/bonus-unit1.ipynb"
      ],
      "metadata": {
        "id": "SGL_1R5LSr-u"
      }
    },
    {
      "cell_type": "markdown",
      "source": [
        "# Бонусный блок 1: Давайте научим собаку Хагги 🐶 приносить палку"
      ],
      "metadata": {
        "id": "XnZg0hzGS56t"
      }
    },
    {
      "cell_type": "markdown",
      "source": [
        "<img src=\"https://huggingface.co/datasets/huggingface-deep-rl-course/course-images/resolve/main/en/unit2/thumbnail.png\" alt=\"Bonus Unit 1Thumbnail\">\n",
        "\n",
        "В этой тетради мы закрепим то, что узнали в первом разделе, **научив собаку Хагги приносить палку, а затем играть с ней прямо в вашем браузере**\n",
        "\n",
        "⬇️ Вот пример того, чего **вы достигнете в конце блока.** ⬇️ (запустите ▶ , чтобы увидеть)"
      ],
      "metadata": {
        "id": "M76ymwB8TFU1"
      }
    },
    {
      "cell_type": "code",
      "execution_count": null,
      "metadata": {
        "id": "ErCVfQsczkAU"
      },
      "outputs": [],
      "source": [
        "%%html\n",
        "<video controls autoplay><source src=\"https://huggingface.co/datasets/huggingface-deep-rl-course/course-images/resolve/main/en/notebooks/unit-bonus1/huggy.mp4\" type=\"video/mp4\"></video>"
      ]
    },
    {
      "cell_type": "markdown",
      "source": [
        "### Окружающая среда 🎮\n",
        "\n",
        "- Собака Хагги, окружающая среда, созданная [Thomas Simonini](https://twitter.com/ThomasSimonini) основанная на [Puppo The Corgi](https://blog.unity.com/technology/puppo-the-corgi-cuteness-overload-with-the-unity-ml-agents-toolkit)\n",
        "\n",
        "### Используемая библиотека 📚\n",
        "\n",
        "- [MLAgents (Hugging Face version)](https://github.com/huggingface/ml-agents)"
      ],
      "metadata": {
        "id": "n5JQCzK4VK5M"
      }
    },
    {
      "cell_type": "markdown",
      "source": [
        "## Цели этого блокнота 🏆\n",
        "\n",
        "В конце блокнота вы:\n",
        "\n",
        "- Разберетесь с понятиями **пространство состояний, пространство действий и функция вознаграждения**, используемые для обучения Хагги.\n",
        "- Научите **своего собственного Хагги** приносить палку.\n",
        "- Получите возможность играть **со своим обученным Huggy прямо в вашем браузере**.\n",
        "\n"
      ],
      "metadata": {
        "id": "KK8GlyE0V1fz"
      }
    },
    {
      "cell_type": "markdown",
      "source": [
        "## Этот блокнот взят из курса обучения с глубоким подкреплением\n",
        "<img src=\"https://huggingface.co/datasets/huggingface-deep-rl-course/course-images/resolve/main/en/notebooks/deep-rl-course-illustration.jpg\" alt=\"Deep RL Course illustration\"/>"
      ],
      "metadata": {
        "id": "Cl4kUMIKbYCt"
      }
    },
    {
      "cell_type": "markdown",
      "source": [
        "В этом бесплатном курсе вы будете:\n",
        "\n",
        "- 📖 Изучите глубокое обучение с подкреплением в **теории и практике**.\n",
        "- 🧑‍💻 Научитесь **использовать известные библиотеки Deep RL**, такие как Stable Baselines3, RL Baselines3 Zoo, CleanRL and Sample Factory 2.0.\n",
        "- 🤖 Обучайте **агентов в уникальных условиях** \n",
        "\n",
        "И еще проверьте учебную 📚 программу 👉 https://simoninithomas.github.io/deep-rl-course\n",
        "\n",
        "The best way to keep in touch is to join our discord server to exchange with the community and with us 👉🏻 https://discord.gg/ydHrjt3WP5"
      ],
      "metadata": {
        "id": "IaDAF3f5brCk"
      }
    },
    {
      "cell_type": "markdown",
      "source": [
        "## Предпосылки 🏗️\n",
        "\n",
        "Прежде чем погрузиться в блокнот, вам нужно:\n",
        "\n",
        "🔲 📚 **Развить понимание основ обучения с подкреплением** (MC, TD, Rewards hypothesis...) выполняя блок 1\n",
        "\n",
        "🔲 📚 **Прочитать введение к Huggy**, выполнив бонусный блок 1"
      ],
      "metadata": {
        "id": "te9C8mmQdkdL"
      }
    },
    {
      "cell_type": "markdown",
      "source": [
        "## Установите графический процессор 💪\n",
        "- Чтобы **ускорить обучение агента, мы будем использовать графический процессор**. Чтобы сделать это, перейдите к `Runtime > Change Runtime type`\n",
        "\n",
        "<img src=\"https://huggingface.co/datasets/huggingface-deep-rl-course/course-images/resolve/main/en/notebooks/gpu-step1.jpg\" alt=\"GPU Step 1\" width=\"40%\">"
      ],
      "metadata": {
        "id": "wHKRyzjbeLqL"
      }
    },
    {
      "cell_type": "markdown",
      "source": [
        "- `Hardware Accelerator > GPU`\n",
        "\n",
        "<img src=\"https://huggingface.co/datasets/huggingface-deep-rl-course/course-images/resolve/main/en/notebooks/gpu-step2.jpg\" alt=\"GPU Step 2\" width=\"30%\">"
      ],
      "metadata": {
        "id": "yX1IfhZEfM8S"
      }
    },
    {
      "cell_type": "markdown",
      "source": [
        "## Клонируйте репозиторий и установите зависимости 🔽\n",
        "\n",
        "- Нам нужно клонировать репозиторий, который **содержит экспериментальную версию библиотеки, которая позволяет вам отправлять вашего обученного агента в концентратор (Hub).**"
      ],
      "metadata": {
        "id": "hgbUZsd0fVjR"
      }
    },
    {
      "cell_type": "code",
      "source": [
        "%%capture\n",
        "# Клонирование этого конкретного репозитория (может занять 3 минуты)\n",
        "!git clone https://github.com/huggingface/ml-agents/"
      ],
      "metadata": {
        "id": "IEy0gW78flcQ"
      },
      "execution_count": null,
      "outputs": []
    },
    {
      "cell_type": "code",
      "source": [
        "%%capture\n",
        "# Зайдите в репозиторий и установите пакет (может занять 3 минуты)\n",
        "%cd ml-agents\n",
        "!pip3 install -e ./ml-agents-envs\n",
        "!pip3 install -e ./ml-agents"
      ],
      "metadata": {
        "id": "mNmHmWXpjjRG"
      },
      "execution_count": null,
      "outputs": []
    },
    {
      "cell_type": "markdown",
      "source": [
        "## Загрузите и переместите zip-файл среды в `./trained-envs-executables/linux/`\n",
        "\n",
        "- Исполняемый файл нашей среды находится в zip-файле.\n",
        "- Нам нужно загрузить его и разместить на `./trained-envs-executables/linux/`"
      ],
      "metadata": {
        "id": "DkHZmkckj6h7"
      }
    },
    {
      "cell_type": "code",
      "source": [
        "!mkdir ./trained-envs-executables\n",
        "!mkdir ./trained-envs-executables/linux"
      ],
      "metadata": {
        "id": "C6r85ZRBkXzb"
      },
      "execution_count": null,
      "outputs": []
    },
    {
      "cell_type": "code",
      "source": [
        "!wget --load-cookies /tmp/cookies.txt \"https://docs.google.com/uc?export=download&confirm=$(wget --quiet --save-cookies /tmp/cookies.txt --keep-session-cookies --no-check-certificate 'https://docs.google.com/uc?export=download&id=1zv3M95ZJTWHUVOWT6ckq_cm98nft8gdF' -O- | sed -rn 's/.*confirm=([0-9A-Za-z_]+).*/\\1\\n/p')&id=1zv3M95ZJTWHUVOWT6ckq_cm98nft8gdF\" -O ./trained-envs-executables/linux/Huggy.zip && rm -rf /tmp/cookies.txt"
      ],
      "metadata": {
        "id": "mz6lYW_7kdks"
      },
      "execution_count": null,
      "outputs": []
    },
    {
      "cell_type": "markdown",
      "source": [
        "Загрузите файл Huggy.zip с https://drive.google.com/uc?export=download&id=1zv3M95ZJTWHUVOWT6ckq_cm98nft8gdF с помощью `wget`. Ознакомьтесь с полным решением для загрузки больших файлов из GDrive [здесь](https://bcrf.biochem.wisc.edu/2021/02/05/download-google-drive-files-using-wget/)"
      ],
      "metadata": {
        "id": "CCvPM-xvks7E"
      }
    },
    {
      "cell_type": "code",
      "source": [
        "%%capture\n",
        "!unzip -d ./trained-envs-executables/linux/ ./trained-envs-executables/linux/Huggy.zip"
      ],
      "metadata": {
        "id": "rMalXiAclVCU"
      },
      "execution_count": null,
      "outputs": []
    },
    {
      "cell_type": "markdown",
      "source": [
        "Убедитесь, что ваш файл доступен"
      ],
      "metadata": {
        "id": "HKX9LwBeldMj"
      }
    },
    {
      "cell_type": "code",
      "source": [
        "!chmod -R 755 ./trained-envs-executables/linux/Huggy"
      ],
      "metadata": {
        "id": "IuxfllHclhLD"
      },
      "execution_count": null,
      "outputs": []
    },
    {
      "cell_type": "markdown",
      "source": [
        "## Давайте кратко рассмотрим, как работает эта среда\n",
        "\n",
        "### Пространство состояний: что \"воспринимает\" Хагги.\n",
        "\n",
        "Хагги не \"видит\" свое окружение. Вместо этого мы предоставляем ему информацию об окружающей среде:\n",
        "\n",
        "- Положение мишени (палки)\n",
        "- Относительное положение Huggy и цели\n",
        "- Ориентация его ног.\n",
        "\n",
        "Учитывая всю эту информацию, Хагги **может решить, какие действия предпринять дальше, чтобы достичь своей цели**.\n",
        "\n",
        "<img src=\"https://huggingface.co/datasets/huggingface-deep-rl-course/course-images/resolve/main/en/notebooks/unit-bonus1/huggy.jpg\" alt=\"Huggy\" width=\"70%\">\n",
        "\n",
        "\n",
        "### Пространство действия: какие движения может делать Хагги\n",
        "<img src=\"https://huggingface.co/datasets/huggingface-deep-rl-course/course-images/resolve/main/en/notebooks/unit-bonus1/huggy-action.jpg\" alt=\"Huggy action\" width=\"70%\">\n",
        "\n",
        "**Суставные двигатели приводят в движение ноги Хагги**. Это означает, что для достижения цели он должен **научиться правильно вращать суставные двигатели каждой из своих ног, чтобы двигаться**.\n",
        "\n",
        "### Функция вознаграждения\n",
        "\n",
        "Функция вознаграждения разработана таким образом, чтобы **Хагги выполнил свою цель**: принес палку.\n",
        "\n",
        "Помните, что одной из основ обучения с подкреплением является *гипотеза вознаграждения*: цель может быть описана как **максимизация ожидаемого совокупного вознаграждения**.\n",
        "\n",
        "Наша цель состоит в том, чтобы Хагги **шел к палке, но не слишком сильно вращался**. Следовательно, наша функция вознаграждения должна транслировать эту цель.\n",
        "\n",
        "Наша функция вознаграждения:\n",
        "\n",
        "<img src=\"https://huggingface.co/datasets/huggingface-deep-rl-course/course-images/resolve/main/en/notebooks/unit-bonus1/reward.jpg\" alt=\"Huggy reward function\" width=\"70%\">\n",
        "\n",
        "- *Бонус за ориентацию*: мы **вознаграждаем агента за то, что он приблизился к цели**.\n",
        "- *Штраф по времени*: штраф по фиксированному времени, назначаемый за каждое действие, чтобы **заставить его добраться до цели как можно быстрее**.\n",
        "- *Штраф за вращение*: мы наказываем Хагги, если **он слишком много вращается и поворачивается слишком быстро**.\n",
        "- *Награда за достижение цели*: мы вознаграждаем Хагги за **достижение цели**."
      ],
      "metadata": {
        "id": "qPbu8hNmlmTj"
      }
    }
  ]
}