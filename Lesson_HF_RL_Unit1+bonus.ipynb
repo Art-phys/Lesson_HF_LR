{
  "nbformat": 4,
  "nbformat_minor": 0,
  "metadata": {
    "colab": {
      "provenance": [],
      "authorship_tag": "ABX9TyNxqmh7c0BJ/WbKsYDPQ3pz",
      "include_colab_link": true
    },
    "kernelspec": {
      "name": "python3",
      "display_name": "Python 3"
    },
    "language_info": {
      "name": "python"
    }
  },
  "cells": [
    {
      "cell_type": "markdown",
      "metadata": {
        "id": "view-in-github",
        "colab_type": "text"
      },
      "source": [
        "<a href=\"https://colab.research.google.com/github/Art-phys/Lesson_HF_LR_Unit1/blob/main/Lesson_HF_RL_Unit1%2Bbonus.ipynb\" target=\"_parent\"><img src=\"https://colab.research.google.com/assets/colab-badge.svg\" alt=\"Open In Colab\"/></a>"
      ]
    },
    {
      "cell_type": "markdown",
      "source": [
        "ССЫЛКА НА ОРИГИНАЛ:\n",
        "\n",
        "https://colab.research.google.com/github/huggingface/deep-rl-class/blob/master/notebooks/bonus-unit1/bonus-unit1.ipynb"
      ],
      "metadata": {
        "id": "SGL_1R5LSr-u"
      }
    },
    {
      "cell_type": "markdown",
      "source": [
        "# Бонусный блок 1: Давайте научим собаку Хагги 🐶 приносить палку"
      ],
      "metadata": {
        "id": "XnZg0hzGS56t"
      }
    },
    {
      "cell_type": "markdown",
      "source": [
        "<img src=\"https://huggingface.co/datasets/huggingface-deep-rl-course/course-images/resolve/main/en/unit2/thumbnail.png\" alt=\"Bonus Unit 1Thumbnail\" width=\"50%\">\n",
        "\n",
        "В этой тетради мы закрепим то, что узнали в первом разделе, **научив собаку Хагги приносить палку, а затем играть с ней прямо в вашем браузере**\n",
        "\n",
        "⬇️ Вот пример того, чего **вы достигнете в конце блока.** ⬇️ (запустите ▶ , чтобы увидеть)"
      ],
      "metadata": {
        "id": "M76ymwB8TFU1"
      }
    },
    {
      "cell_type": "code",
      "execution_count": null,
      "metadata": {
        "id": "ErCVfQsczkAU"
      },
      "outputs": [],
      "source": [
        "%%html\n",
        "<video controls autoplay><source src=\"https://huggingface.co/datasets/huggingface-deep-rl-course/course-images/resolve/main/en/notebooks/unit-bonus1/huggy.mp4\" type=\"video/mp4\"></video>"
      ]
    },
    {
      "cell_type": "markdown",
      "source": [
        "### Окружающая среда 🎮\n",
        "\n",
        "- Собака Хагги, окружающая среда, созданная [Thomas Simonini](https://twitter.com/ThomasSimonini) основанная на [Puppo The Corgi](https://blog.unity.com/technology/puppo-the-corgi-cuteness-overload-with-the-unity-ml-agents-toolkit)\n",
        "\n",
        "### Используемая библиотека 📚\n",
        "\n",
        "- [MLAgents (Hugging Face version)](https://github.com/huggingface/ml-agents)"
      ],
      "metadata": {
        "id": "n5JQCzK4VK5M"
      }
    },
    {
      "cell_type": "markdown",
      "source": [
        "## Цели этого блокнота 🏆\n",
        "\n",
        "В конце блокнота вы:\n",
        "\n",
        "- Разберетесь с понятиями **пространство состояний, пространство действий и функция вознаграждения**, используемые для обучения Хагги.\n",
        "- Научите **своего собственного Хагги** приносить палку.\n",
        "- Получите возможность играть **со своим обученным Huggy прямо в вашем браузере**.\n",
        "\n"
      ],
      "metadata": {
        "id": "KK8GlyE0V1fz"
      }
    },
    {
      "cell_type": "markdown",
      "source": [
        "## Этот блокнот взят из курса обучения с глубоким подкреплением\n",
        "<img src=\"https://huggingface.co/datasets/huggingface-deep-rl-course/course-images/resolve/main/en/notebooks/deep-rl-course-illustration.jpg\" alt=\"Deep RL Course illustration\" width=\"50%\"/>"
      ],
      "metadata": {
        "id": "Cl4kUMIKbYCt"
      }
    },
    {
      "cell_type": "markdown",
      "source": [
        "В этом бесплатном курсе вы будете:\n",
        "\n",
        "- 📖 Изучите глубокое обучение с подкреплением в **теории и практике**.\n",
        "- 🧑‍💻 Научитесь **использовать известные библиотеки Deep RL**, такие как Stable Baselines3, RL Baselines3 Zoo, CleanRL and Sample Factory 2.0.\n",
        "- 🤖 Обучайте **агентов в уникальных условиях** \n",
        "\n",
        "И еще проверьте учебную 📚 программу 👉 https://simoninithomas.github.io/deep-rl-course\n",
        "\n",
        "The best way to keep in touch is to join our discord server to exchange with the community and with us 👉🏻 https://discord.gg/ydHrjt3WP5"
      ],
      "metadata": {
        "id": "IaDAF3f5brCk"
      }
    },
    {
      "cell_type": "markdown",
      "source": [
        "## Предпосылки 🏗️\n",
        "\n",
        "Прежде чем погрузиться в блокнот, вам нужно:\n",
        "\n",
        "🔲 📚 **Развить понимание основ обучения с подкреплением** (MC, TD, Rewards hypothesis...) выполняя блок 1\n",
        "\n",
        "🔲 📚 **Прочитать введение к Huggy**, выполнив бонусный блок 1"
      ],
      "metadata": {
        "id": "te9C8mmQdkdL"
      }
    },
    {
      "cell_type": "markdown",
      "source": [
        "## Установите графический процессор 💪\n",
        "- Чтобы **ускорить обучение агента, мы будем использовать графический процессор**. Чтобы сделать это, перейдите к `Runtime > Change Runtime type`\n",
        "\n",
        "<img src=\"https://huggingface.co/datasets/huggingface-deep-rl-course/course-images/resolve/main/en/notebooks/gpu-step1.jpg\" alt=\"GPU Step 1\" width=\"40%\">"
      ],
      "metadata": {
        "id": "wHKRyzjbeLqL"
      }
    },
    {
      "cell_type": "markdown",
      "source": [
        "- `Hardware Accelerator > GPU`\n",
        "\n",
        "<img src=\"https://huggingface.co/datasets/huggingface-deep-rl-course/course-images/resolve/main/en/notebooks/gpu-step2.jpg\" alt=\"GPU Step 2\" width=\"30%\">"
      ],
      "metadata": {
        "id": "yX1IfhZEfM8S"
      }
    },
    {
      "cell_type": "markdown",
      "source": [
        "## Клонируйте репозиторий и установите зависимости 🔽\n",
        "\n",
        "- Нам нужно клонировать репозиторий, который **содержит экспериментальную версию библиотеки, которая позволяет вам отправлять вашего обученного агента в концентратор (Hub).**"
      ],
      "metadata": {
        "id": "hgbUZsd0fVjR"
      }
    },
    {
      "cell_type": "code",
      "source": [
        "%%capture\n",
        "# Клонирование этого конкретного репозитория (может занять 3 минуты)\n",
        "!git clone https://github.com/huggingface/ml-agents/"
      ],
      "metadata": {
        "id": "IEy0gW78flcQ"
      },
      "execution_count": null,
      "outputs": []
    },
    {
      "cell_type": "code",
      "source": [
        "%%capture\n",
        "# Зайдите в репозиторий и установите пакет (может занять 3 минуты)\n",
        "%cd ml-agents\n",
        "!pip3 install -e ./ml-agents-envs\n",
        "!pip3 install -e ./ml-agents"
      ],
      "metadata": {
        "id": "mNmHmWXpjjRG"
      },
      "execution_count": null,
      "outputs": []
    },
    {
      "cell_type": "markdown",
      "source": [
        "## Загрузите и переместите zip-файл среды в `./trained-envs-executables/linux/`\n",
        "\n",
        "- Исполняемый файл нашей среды находится в zip-файле.\n",
        "- Нам нужно загрузить его и разместить на `./trained-envs-executables/linux/`"
      ],
      "metadata": {
        "id": "DkHZmkckj6h7"
      }
    },
    {
      "cell_type": "code",
      "source": [
        "!mkdir ./trained-envs-executables\n",
        "!mkdir ./trained-envs-executables/linux"
      ],
      "metadata": {
        "id": "C6r85ZRBkXzb"
      },
      "execution_count": null,
      "outputs": []
    },
    {
      "cell_type": "code",
      "source": [
        "!wget --load-cookies /tmp/cookies.txt \"https://docs.google.com/uc?export=download&confirm=$(wget --quiet --save-cookies /tmp/cookies.txt --keep-session-cookies --no-check-certificate 'https://docs.google.com/uc?export=download&id=1zv3M95ZJTWHUVOWT6ckq_cm98nft8gdF' -O- | sed -rn 's/.*confirm=([0-9A-Za-z_]+).*/\\1\\n/p')&id=1zv3M95ZJTWHUVOWT6ckq_cm98nft8gdF\" -O ./trained-envs-executables/linux/Huggy.zip && rm -rf /tmp/cookies.txt"
      ],
      "metadata": {
        "id": "mz6lYW_7kdks"
      },
      "execution_count": null,
      "outputs": []
    },
    {
      "cell_type": "markdown",
      "source": [
        "Загрузите файл Huggy.zip с https://drive.google.com/uc?export=download&id=1zv3M95ZJTWHUVOWT6ckq_cm98nft8gdF с помощью `wget`. Ознакомьтесь с полным решением для загрузки больших файлов из GDrive [здесь](https://bcrf.biochem.wisc.edu/2021/02/05/download-google-drive-files-using-wget/)"
      ],
      "metadata": {
        "id": "CCvPM-xvks7E"
      }
    },
    {
      "cell_type": "code",
      "source": [
        "%%capture\n",
        "!unzip -d ./trained-envs-executables/linux/ ./trained-envs-executables/linux/Huggy.zip"
      ],
      "metadata": {
        "id": "rMalXiAclVCU"
      },
      "execution_count": null,
      "outputs": []
    },
    {
      "cell_type": "markdown",
      "source": [
        "Убедитесь, что ваш файл доступен"
      ],
      "metadata": {
        "id": "HKX9LwBeldMj"
      }
    },
    {
      "cell_type": "code",
      "source": [
        "!chmod -R 755 ./trained-envs-executables/linux/Huggy"
      ],
      "metadata": {
        "id": "IuxfllHclhLD"
      },
      "execution_count": null,
      "outputs": []
    },
    {
      "cell_type": "markdown",
      "source": [
        "## Давайте кратко рассмотрим, как работает эта среда\n",
        "\n",
        "### Пространство состояний: что \"воспринимает\" Хагги.\n",
        "\n",
        "Хагги не \"видит\" свое окружение. Вместо этого мы предоставляем ему информацию об окружающей среде:\n",
        "\n",
        "- Положение мишени (палки)\n",
        "- Относительное положение Huggy и цели\n",
        "- Ориентация его ног.\n",
        "\n",
        "Учитывая всю эту информацию, Хагги **может решить, какие действия предпринять дальше, чтобы достичь своей цели**.\n",
        "\n",
        "<img src=\"https://huggingface.co/datasets/huggingface-deep-rl-course/course-images/resolve/main/en/notebooks/unit-bonus1/huggy.jpg\" alt=\"Huggy\" width=\"70%\">\n",
        "\n",
        "\n",
        "### Пространство действия: какие движения может делать Хагги\n",
        "<img src=\"https://huggingface.co/datasets/huggingface-deep-rl-course/course-images/resolve/main/en/notebooks/unit-bonus1/huggy-action.jpg\" alt=\"Huggy action\" width=\"70%\">\n",
        "\n",
        "**Суставные двигатели приводят в движение ноги Хагги**. Это означает, что для достижения цели он должен **научиться правильно вращать суставные двигатели каждой из своих ног, чтобы двигаться**.\n",
        "\n",
        "### Функция вознаграждения\n",
        "\n",
        "Функция вознаграждения разработана таким образом, чтобы **Хагги выполнил свою цель**: принес палку.\n",
        "\n",
        "Помните, что одной из основ обучения с подкреплением является *гипотеза вознаграждения*: цель может быть описана как **максимизация ожидаемого совокупного вознаграждения**.\n",
        "\n",
        "Наша цель состоит в том, чтобы Хагги **шел к палке, но не слишком сильно вращался**. Следовательно, наша функция вознаграждения должна транслировать эту цель.\n",
        "\n",
        "Наша функция вознаграждения:\n",
        "\n",
        "<img src=\"https://huggingface.co/datasets/huggingface-deep-rl-course/course-images/resolve/main/en/notebooks/unit-bonus1/reward.jpg\" alt=\"Huggy reward function\" width=\"70%\">\n",
        "\n",
        "- *Бонус за ориентацию*: мы **вознаграждаем агента за то, что он приблизился к цели**.\n",
        "- *Штраф по времени*: штраф по фиксированному времени, назначаемый за каждое действие, чтобы **заставить его добраться до цели как можно быстрее**.\n",
        "- *Штраф за вращение*: мы наказываем Хагги, если **он слишком много вращается и поворачивается слишком быстро**.\n",
        "- *Награда за достижение цели*: мы вознаграждаем Хагги за **достижение цели**."
      ],
      "metadata": {
        "id": "qPbu8hNmlmTj"
      }
    },
    {
      "cell_type": "markdown",
      "source": [
        "## Проверьте конфигурационный файл Хагги\n",
        "\n",
        "- В ML-Agents гиперпараметры обучения определяются  **в файле config.yaml.**\n",
        "\n",
        "- В рамках этого блокнота мы не собираемся изменять гиперпараметры, но если вы хотите попробовать в качестве эксперимента, вам следует попробовать изменить некоторые гиперпараметры, Unity предоставляет очень [хорошую документацию, объясняющую каждый из них здесь](https://github.com/Unity-Technologies/ml-agents/blob/main/docs/Training-Configuration-File.md)."
      ],
      "metadata": {
        "id": "59enGsX-wPsw"
      }
    },
    {
      "cell_type": "markdown",
      "source": [
        "- **В случае, если вы хотите изменить гиперпараметры**, в записной книжке Google Colab вы можете открыть config.yaml: `/content/ml-agents/config/ppo/Huggy.yaml`\n",
        "\n",
        "- Например, **если вы хотите сохранить больше моделей во время обучения** (на данный момент мы сохраняем каждые 200 000 временных шагов обучения). Вам нужно изменить:\n",
        "  - `checkpoint_interval`: количество временных шагов обучения, между каждой контрольной точкой.\n",
        "  - `keep_checkpoints`: максимальное количество контрольных точек для сохранения модели.\n",
        "\n",
        "=> Просто имейте в виду, что **уменьшение значения `checkpoint_interval` означает больше моделей для загрузки в концентратор и, следовательно, более длительное время загрузки**\n",
        "\n",
        "Теперь мы готовы обучить нашего агента 🔥 ."
      ],
      "metadata": {
        "id": "mksk7Hc6x2yY"
      }
    },
    {
      "cell_type": "markdown",
      "source": [
        "## Обучите нашего агента\n",
        "\n",
        "Чтобы обучить нашего агента, нам просто нужно **запустить mlagents-learn и выбрать исполняемый файл, содержащий среду.**\n",
        "\n",
        "<img src=\"https://huggingface.co/datasets/huggingface-deep-rl-course/course-images/resolve/main/en/notebooks/unit-bonus1/mllearn.png\" alt=\"ml learn function\" width=\"70%\">\n",
        "\n",
        " С ML Agents, мы запускаем обучающий сценарий. Мы определяем четыре параметра:\n",
        "\n",
        "1. `mlagents-learn <config>`: путь, по которому находится конфигурационный файл гиперпараметров.\n",
        "2. `--env`: где находится исполняемый файл среды.\n",
        "3. `--run_id`: имя, которое вы хотите присвоить своему идентификатору тренировочного прогона.\n",
        "4. `--no-graphics`: чтобы не запускать визуализацию во время тренировки.\n",
        "\n",
        "Обучите модель и используйте флаг `--resume`, чтобы продолжить обучение в случае прерывания.\n",
        "\n",
        "> При первом использовании `--resume` произойдет сбой, попробуйте запустить блок еще раз, чтобы обойти ошибку."
      ],
      "metadata": {
        "id": "7HzhERC-y71n"
      }
    },
    {
      "cell_type": "markdown",
      "source": [
        "Тренировка займет от 30 до 45 минут в зависимости от вашей машины (не забудьте **настроить графический процессор**). ☕️"
      ],
      "metadata": {
        "id": "-RSlgpgf0Pkm"
      }
    },
    {
      "cell_type": "code",
      "source": [
        "!mlagents-learn ./config/ppo/Huggy.yaml --env=./trained-envs-executables/linux/Huggy/Huggy --run-id=\"Huggy\" --no-graphics"
      ],
      "metadata": {
        "id": "FNykFASY0ujD"
      },
      "execution_count": null,
      "outputs": []
    },
    {
      "cell_type": "markdown",
      "source": [
        "## Перенос агента на 🤗 Hub\n",
        "\n",
        "- Теперь, когда мы обучили нашего агента, мы **готовы перенести его на хаб, чтобы иметь возможность играть с Huggy в браузере 🔥.**"
      ],
      "metadata": {
        "id": "fJQ7_U4Y03Yt"
      }
    },
    {
      "cell_type": "markdown",
      "source": [
        "Чтобы иметь возможность поделиться своей моделью с сообществом, необходимо выполнить еще три шага:\n",
        "\n",
        "1️⃣ (Если это еще не сделано) создайте учетную запись для HF ➡ https://huggingface.co/join\n",
        "\n",
        "2️⃣ Войдите в систему, а затем вам нужно сохранить свой токен аутентификации с веб-сайта Hugging Face.\n",
        "- Создайте новый токен (https://huggingface.co/settings/tokens) **с разрешением на запись**\n",
        "\n",
        "<img src=\"https://huggingface.co/datasets/huggingface-deep-rl-course/course-images/resolve/main/en/notebooks/create-token.jpg\" alt=\"Create HF Token\" width=\"50%\">\n",
        "\n",
        "- Скопируйте токен \n",
        "- Запустите ячейку ниже и вставьте токен"
      ],
      "metadata": {
        "id": "xDLzz2Dz3oGa"
      }
    },
    {
      "cell_type": "code",
      "source": [
        "from huggingface_hub import notebook_login\n",
        "notebook_login()"
      ],
      "metadata": {
        "id": "Jx7faX_Y5FIJ"
      },
      "execution_count": null,
      "outputs": []
    },
    {
      "cell_type": "markdown",
      "source": [
        "Если вы не хотите использовать записную книжку Google Colabora Jupyter, вам нужно вместо этого использовать эту команду: `huggingface-cli login`\n",
        "\n",
        "Или:\n",
        "\n",
        "`from huggingface_hub import login`\n",
        "\n",
        "`login(token=token, add_to_git_credential=True)`\n",
        "\n",
        "\n"
      ],
      "metadata": {
        "id": "I9BG4ddH5MNo"
      }
    },
    {
      "cell_type": "markdown",
      "source": [
        "Затем нам просто нужно запустить `mlagents-push-to-hf`.\n",
        "\n",
        "<img src=\"https://huggingface.co/datasets/huggingface-deep-rl-course/course-images/resolve/main/en/notebooks/unit-bonus1/mlpush.png\" alt=\"ml learn function\" width=\"70%\">"
      ],
      "metadata": {
        "id": "QF30Hl2z6TVv"
      }
    },
    {
      "cell_type": "markdown",
      "source": [
        "И мы определяем 4 параметра:\n",
        "\n",
        "1. `--run-id`: имя идентификатора тренировочного прогона.\n",
        "2. `--local-dir`: там, где был сохранен агент, это `results/--run-id`, так что в нашем случае `results/Huggy`.\n",
        "3. `--repo-id`: название репозитория Hugging Face, которое вы хотите создать или обновить. Это your `\"huggingface username\"/\"the repo name\"`. Если репозиторий не существует **, он будет создан автоматически**\n",
        "4. `--commit-message`: поскольку репозитории HF являются репозиторием git, вам необходимо определить сообщение о фиксации."
      ],
      "metadata": {
        "id": "_cNoBOj36hLf"
      }
    },
    {
      "cell_type": "code",
      "source": [
        "!mlagents-push-to-hf --run-id=\"HuggyTraining\" --local-dir=\"./results/Huggy\" --repo-id=\"ThomasSimonini/ppo-Huggy\" --commit-message=\"Huggy\""
      ],
      "metadata": {
        "id": "zJ7VmyIX9SB9"
      },
      "execution_count": null,
      "outputs": []
    },
    {
      "cell_type": "markdown",
      "source": [
        "Если все сработало, вы должны получить это в конце процесса (но с вашим URL-адресом 😆) :\n",
        "\n",
        "\n",
        "\n",
        "```\n",
        "Your model is pushed to the hub. You can view your model here: https://huggingface.co/ThomasSimonini/ppo-Huggy\n",
        "```\n",
        "\n",
        "Это ссылка на ваш репозиторий моделей. Репозиторий содержит карточку модели, которая объясняет, как использовать модель, ваши журналы Tensorboard и ваш конфигурационный файл. **это репозиторий git, что означает, что вы можете иметь разные коммиты, обновлять свой репозиторий новым нажатием, открывать запросы на извлечение и т.д.**\n",
        "\n",
        "<img src=\"https://huggingface.co/datasets/huggingface-deep-rl-course/course-images/resolve/main/en/notebooks/unit-bonus1/modelcard.png\" alt=\"ml learn function\" width=\"100%\">"
      ],
      "metadata": {
        "id": "Clv6hBMN9dRU"
      }
    },
    {
      "cell_type": "markdown",
      "source": [
        "Теперь приступаем к самому интересному:: **возможность играть с Huggy онлайн 👀.**"
      ],
      "metadata": {
        "id": "LqZtztjh-icj"
      }
    },
    {
      "cell_type": "markdown",
      "source": [
        "## Поиграй со своим Huggy 🐕\n",
        "\n",
        "Этот шаг самый простой:\n",
        "\n",
        "- Откройте игру Huggy в своем браузере: https://singularite.itch.io/huggy\n",
        "\n",
        "- Нажмите на \"Play with my Huggy model\n",
        "\n",
        "<img src=\"https://huggingface.co/datasets/huggingface-deep-rl-course/course-images/resolve/main/en/notebooks/unit-bonus1/load-huggy.jpg\" alt=\"load-huggy\" width=\"100%\">"
      ],
      "metadata": {
        "id": "JzrxUvQn_Evz"
      }
    }
  ]
}