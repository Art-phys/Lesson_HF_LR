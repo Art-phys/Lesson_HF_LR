{
  "nbformat": 4,
  "nbformat_minor": 0,
  "metadata": {
    "colab": {
      "provenance": [],
      "authorship_tag": "ABX9TyOarTI7+ePWwymuA2zuF6Ve",
      "include_colab_link": true
    },
    "kernelspec": {
      "name": "python3",
      "display_name": "Python 3"
    },
    "language_info": {
      "name": "python"
    }
  },
  "cells": [
    {
      "cell_type": "markdown",
      "metadata": {
        "id": "view-in-github",
        "colab_type": "text"
      },
      "source": [
        "<a href=\"https://colab.research.google.com/github/Art-phys/Lesson_HF_LR_Unit1/blob/main/Lesson_HF_RL_Unit2.ipynb\" target=\"_parent\"><img src=\"https://colab.research.google.com/assets/colab-badge.svg\" alt=\"Open In Colab\"/></a>"
      ]
    },
    {
      "cell_type": "markdown",
      "source": [
        "ССЫЛКА НА ОРИГИНАЛ:\n",
        "\n",
        "https://colab.research.google.com/github/huggingface/deep-rl-class/blob/master/notebooks/unit2/unit2.ipynb#scrollTo=njb_ProuHiOe\n",
        "\n",
        "@huggingface\n",
        "\n",
        "@simoninithomas"
      ],
      "metadata": {
        "id": "XbSFRQlIZ84s"
      }
    },
    {
      "cell_type": "markdown",
      "source": [
        "# Блок 2: Q-Learning с FrozenLake-v1 ⛄ и Taxi-v3 🚕\n",
        "\n",
        "<img src=\"https://huggingface.co/datasets/huggingface-deep-rl-course/course-images/resolve/main/en/unit3/thumbnail.jpg\" alt=\"Unit 2 Thumbnail\" width=\"70%\">\n",
        "\n",
        "В этом блокноте **вы будете с нуля программировать свой первый обучающий агент с подкреплением** играть в Frozen Lake ❄️ используя Q-Learning, делиться им с сообществом и экспериментировать с различными конфигурациями.\n",
        "\n",
        "\n",
        "⬇️ Вот пример того, чего **вы достигнете всего за пару минут.** ⬇️"
      ],
      "metadata": {
        "id": "WdAw4fP2XfqP"
      }
    },
    {
      "cell_type": "markdown",
      "source": [
        "<img src=\"https://huggingface.co/datasets/huggingface-deep-rl-course/course-images/resolve/main/en/unit3/envs.gif\" alt=\"Environments\" width=\"70%\"/>"
      ],
      "metadata": {
        "id": "Y2H8aqyWXrhw"
      }
    },
    {
      "cell_type": "markdown",
      "source": [
        "###🎮 Окружающие среды: \n",
        "\n",
        "- [FrozenLake-v1](https://www.gymlibrary.dev/environments/toy_text/frozen_lake/)\n",
        "- [Taxi-v3](https://www.gymlibrary.dev/environments/toy_text/taxi/)\n",
        "\n",
        "###📚 RL-Библиотеки: \n",
        "\n",
        "- Python and NumPy\n",
        "- [Gym](https://www.gymlibrary.dev/)"
      ],
      "metadata": {
        "id": "ZKtqtnOrYxuN"
      }
    },
    {
      "cell_type": "markdown",
      "source": [
        "## В этом блокноте Вы 🏆:\n",
        "\n",
        "- Научитесь пользоваться **тренажерным залом (Gym)**, библиотекой окружающей среды.\n",
        "- Научитесь с нуля программировать Q-Learning агента.\n",
        "- Научитесь **отправлять своего обученного агента и код в центр** с хорошим видеоповтором и оценочным баллом 🔥 ."
      ],
      "metadata": {
        "id": "uwcMD11-ZXVE"
      }
    },
    {
      "cell_type": "markdown",
      "source": [
        "## Этот блокнот взят из курса обучения с глубоким подкреплением\n",
        "<img src=\"https://huggingface.co/datasets/huggingface-deep-rl-course/course-images/resolve/main/en/notebooks/deep-rl-course-illustration.jpg\" alt=\"Deep RL Course illustration\" width=\"70%\"/>"
      ],
      "metadata": {
        "id": "CJREpQ_fb9u6"
      }
    },
    {
      "cell_type": "markdown",
      "source": [
        "В этом бесплатном курсе вы будете:\n",
        "\n",
        "- 📖 Изучать глубокое обучение с подкреплением в **теории и на практике**.\n",
        "- 🧑 💻 Научитесь **использовать известные библиотеки Deep RL**, такие как Stable Baselines3, RL Baselines3 Zoo, CleanRL и Sample Factory 2.0.\n",
        "- 🤖 Тренировать **агентов в уникальных условиях**\n",
        "\n",
        "По ссылке Вы можите проверить 📚 учебную программу 👉 https://simoninithomas.github.io/deep-rl-course"
      ],
      "metadata": {
        "id": "hcl0ZlSWcVwg"
      }
    },
    {
      "cell_type": "markdown",
      "source": [
        "## Предварительные условия 🏗️\n",
        "Прежде чем погрузиться в блокнот, вам нужно:\n",
        "\n",
        "🔲 📚 **[Прочитать Блок2 Q-Learning](https://huggingface.co/deep-rl-course/unit2/introduction)** 🤗"
      ],
      "metadata": {
        "id": "wGj2Vm-Sdbba"
      }
    },
    {
      "cell_type": "markdown",
      "source": [
        "## Небольшой обзор Q-Learning"
      ],
      "metadata": {
        "id": "AofjjWMQeKFB"
      }
    },
    {
      "cell_type": "markdown",
      "source": [
        "- *Q-Learning* **- это алгоритм RL (Обучение с подкреплением), который** \n",
        "\n",
        "  - Обучает *Q-функцию*, **функцию действия-значения(action-value)**, которая содержит в качестве внутренней памяти *Q-таблицу*, содержащую все значения пары **состояние-действие(state-action).**\n",
        "    \n",
        " - Учитывая состояние (S)  и действие (A), наша Q-функция **будет искать в своей Q-таблице соответствующее значение.**\n",
        "    \n",
        "<img src=\"https://huggingface.co/datasets/huggingface-deep-rl-course/course-images/resolve/main/en/unit3/Q-function-2.jpg\" alt=\"Q function\"  width=\"70%\"/>\n",
        "\n",
        "- Когда обучение завершено, у нас есть оптимальная **Q-функция**, а значит, и оптимальная **Q-таблица.**\n",
        "\n",
        "- И если у нас есть оптимальная **Q-функция**, у нас\n",
        "есть оптимальная политика, поскольку мы **знаем для каждого состояния, какие действия лучше предпринять.**\n",
        "\n",
        "<img src=\"https://huggingface.co/datasets/huggingface-deep-rl-course/course-images/resolve/main/en/unit3/link-value-policy.jpg\" alt=\"Link value policy\"  width=\"70%\"/>\n",
        "\n",
        "\n",
        "Но вначале наша **Q-таблица бесполезна, поскольку она дает произвольное значение для каждой пары состояние-действие** (на начальном этапе мы инициализируем Q-таблицу значениями 0). Но по мере того, как мы будем изучать окружающую среду и обновлять нашу Q-таблицу, это будет давать нам все лучшие и лучшие результаты\n",
        "\n",
        "<img src=\"https://huggingface.co/datasets/huggingface-deep-rl-course/course-images/resolve/main/en/notebooks/unit2/q-learning.jpeg\" alt=\"q-learning.jpeg\" width=\"70%\"/>\n",
        "\n",
        "Это псевдокод Q-Learning:\n",
        "\n",
        "<img src=\"https://huggingface.co/datasets/huggingface-deep-rl-course/course-images/resolve/main/en/unit3/Q-learning-2.jpg\" alt=\"Q-Learning\" width=\"70%\"/>"
      ],
      "metadata": {
        "id": "YJefH3lpeSNa"
      }
    },
    {
      "cell_type": "markdown",
      "source": [],
      "metadata": {
        "id": "mKDLPd_Nju2N"
      }
    }
  ]
}