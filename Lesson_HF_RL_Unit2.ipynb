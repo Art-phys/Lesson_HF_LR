{
  "nbformat": 4,
  "nbformat_minor": 0,
  "metadata": {
    "colab": {
      "provenance": [],
      "authorship_tag": "ABX9TyNm0ugIbpEDs8T9kEATXjn+",
      "include_colab_link": true
    },
    "kernelspec": {
      "name": "python3",
      "display_name": "Python 3"
    },
    "language_info": {
      "name": "python"
    }
  },
  "cells": [
    {
      "cell_type": "markdown",
      "metadata": {
        "id": "view-in-github",
        "colab_type": "text"
      },
      "source": [
        "<a href=\"https://colab.research.google.com/github/Art-phys/Lesson_HF_LR/blob/main/Lesson_HF_RL_Unit2.ipynb\" target=\"_parent\"><img src=\"https://colab.research.google.com/assets/colab-badge.svg\" alt=\"Open In Colab\"/></a>"
      ]
    },
    {
      "cell_type": "markdown",
      "source": [
        "ССЫЛКА НА ОРИГИНАЛ:\n",
        "\n",
        "https://colab.research.google.com/github/huggingface/deep-rl-class/blob/master/notebooks/unit2/unit2.ipynb#scrollTo=njb_ProuHiOe\n",
        "\n",
        "@huggingface\n",
        "\n",
        "@simoninithomas"
      ],
      "metadata": {
        "id": "XbSFRQlIZ84s"
      }
    },
    {
      "cell_type": "markdown",
      "source": [
        "# Блок 2: Q-Learning с FrozenLake-v1 ⛄ и Taxi-v3 🚕\n",
        "\n",
        "<img src=\"https://huggingface.co/datasets/huggingface-deep-rl-course/course-images/resolve/main/en/unit3/thumbnail.jpg\" alt=\"Unit 2 Thumbnail\" width=\"70%\">\n",
        "\n",
        "В этом блокноте **вы будете с нуля программировать свой первый обучающий агент с подкреплением** играть в Frozen Lake ❄️ используя Q-Learning, делиться им с сообществом и экспериментировать с различными конфигурациями.\n",
        "\n",
        "\n",
        "⬇️ Вот пример того, чего **вы достигнете всего за пару минут.** ⬇️"
      ],
      "metadata": {
        "id": "WdAw4fP2XfqP"
      }
    },
    {
      "cell_type": "markdown",
      "source": [
        "<img src=\"https://huggingface.co/datasets/huggingface-deep-rl-course/course-images/resolve/main/en/unit3/envs.gif\" alt=\"Environments\" width=\"70%\"/>"
      ],
      "metadata": {
        "id": "Y2H8aqyWXrhw"
      }
    },
    {
      "cell_type": "markdown",
      "source": [
        "###🎮 Окружающие среды: \n",
        "\n",
        "- [FrozenLake-v1](https://www.gymlibrary.dev/environments/toy_text/frozen_lake/)\n",
        "- [Taxi-v3](https://www.gymlibrary.dev/environments/toy_text/taxi/)\n",
        "\n",
        "###📚 RL-Библиотеки: \n",
        "\n",
        "- Python and NumPy\n",
        "- [Gym](https://www.gymlibrary.dev/)"
      ],
      "metadata": {
        "id": "ZKtqtnOrYxuN"
      }
    },
    {
      "cell_type": "markdown",
      "source": [
        "## В этом блокноте Вы 🏆:\n",
        "\n",
        "- Научитесь пользоваться **тренажерным залом (Gym)**, библиотекой окружающей среды.\n",
        "- Научитесь с нуля программировать Q-Learning агента.\n",
        "- Научитесь **отправлять своего обученного агента и код в центр** с хорошим видеоповтором и оценочным баллом 🔥 ."
      ],
      "metadata": {
        "id": "uwcMD11-ZXVE"
      }
    },
    {
      "cell_type": "markdown",
      "source": [
        "## Этот блокнот взят из курса обучения с глубоким подкреплением\n",
        "<img src=\"https://huggingface.co/datasets/huggingface-deep-rl-course/course-images/resolve/main/en/notebooks/deep-rl-course-illustration.jpg\" alt=\"Deep RL Course illustration\" width=\"70%\"/>"
      ],
      "metadata": {
        "id": "CJREpQ_fb9u6"
      }
    },
    {
      "cell_type": "markdown",
      "source": [
        "В этом бесплатном курсе вы будете:\n",
        "\n",
        "- 📖 Изучать глубокое обучение с подкреплением в **теории и на практике**.\n",
        "- 🧑 💻 Научитесь **использовать известные библиотеки Deep RL**, такие как Stable Baselines3, RL Baselines3 Zoo, CleanRL и Sample Factory 2.0.\n",
        "- 🤖 Тренировать **агентов в уникальных условиях**\n",
        "\n",
        "По ссылке Вы можите проверить 📚 учебную программу 👉 https://simoninithomas.github.io/deep-rl-course"
      ],
      "metadata": {
        "id": "hcl0ZlSWcVwg"
      }
    },
    {
      "cell_type": "markdown",
      "source": [
        "## Предварительные условия 🏗️\n",
        "Прежде чем погрузиться в блокнот, вам нужно:\n",
        "\n",
        "🔲 📚 **[Прочитать Блок2 Q-Learning](https://huggingface.co/deep-rl-course/unit2/introduction)** 🤗"
      ],
      "metadata": {
        "id": "wGj2Vm-Sdbba"
      }
    },
    {
      "cell_type": "markdown",
      "source": [
        "## Небольшой обзор Q-Learning"
      ],
      "metadata": {
        "id": "AofjjWMQeKFB"
      }
    },
    {
      "cell_type": "markdown",
      "source": [
        "- *Q-Learning* **- это алгоритм RL (Обучение с подкреплением), который** \n",
        "\n",
        "  - Обучает *Q-функцию*, **функцию действия-значения(action-value)**, которая содержит в качестве внутренней памяти *Q-таблицу*, содержащую все значения пары **состояние-действие(state-action).**\n",
        "    \n",
        " - Учитывая состояние (S)  и действие (A), наша Q-функция **будет искать в своей Q-таблице соответствующее значение.**\n",
        "    \n",
        "<img src=\"https://huggingface.co/datasets/huggingface-deep-rl-course/course-images/resolve/main/en/unit3/Q-function-2.jpg\" alt=\"Q function\"  width=\"70%\"/>\n",
        "\n",
        "- Когда обучение завершено, у нас есть оптимальная **Q-функция**, а значит, и оптимальная **Q-таблица.**\n",
        "\n",
        "- И если у нас есть оптимальная **Q-функция**, у нас\n",
        "есть оптимальная политика, поскольку мы **знаем для каждого состояния, какие действия лучше предпринять.**\n",
        "\n",
        "<img src=\"https://huggingface.co/datasets/huggingface-deep-rl-course/course-images/resolve/main/en/unit3/link-value-policy.jpg\" alt=\"Link value policy\"  width=\"70%\"/>\n",
        "\n",
        "\n",
        "Но вначале наша **Q-таблица бесполезна, поскольку она дает произвольное значение для каждой пары состояние-действие** (на начальном этапе мы инициализируем Q-таблицу значениями 0). Но по мере того, как мы будем изучать окружающую среду и обновлять нашу Q-таблицу, это будет давать нам все лучшие и лучшие результаты\n",
        "\n",
        "<img src=\"https://huggingface.co/datasets/huggingface-deep-rl-course/course-images/resolve/main/en/notebooks/unit2/q-learning.jpeg\" alt=\"q-learning.jpeg\" width=\"70%\"/>\n",
        "\n",
        "Это псевдокод Q-Learning:\n",
        "\n",
        "<img src=\"https://huggingface.co/datasets/huggingface-deep-rl-course/course-images/resolve/main/en/unit3/Q-learning-2.jpg\" alt=\"Q-Learning\" width=\"70%\"/>"
      ],
      "metadata": {
        "id": "YJefH3lpeSNa"
      }
    },
    {
      "cell_type": "markdown",
      "source": [],
      "metadata": {
        "id": "mKDLPd_Nju2N"
      }
    },
    {
      "cell_type": "markdown",
      "source": [
        "# Давайте закодируем наш первый алгоритм обучения с подкреплением(RL) 🚀"
      ],
      "metadata": {
        "id": "7JVRbS4Vlan0"
      }
    },
    {
      "cell_type": "markdown",
      "source": [
        "Чтобы подтвердить это практическое руководство для [процесса сертификации](https://huggingface.co/deep-rl-course/en/unit0/introduction#certification-process), вам нужно отправить свою обученную модель такси в центр и **получить результат >= 4,5**.\n",
        "\n",
        "Чтобы узнать свой результат, перейдите в [таблицу лидеров](https://huggingface.co/spaces/huggingface-projects/Deep-Reinforcement-Learning-Leaderboard) и найдите свою модель, **the result = mean_reward - std of reward**\n",
        "\n",
        "Для получения дополнительной информации о процессе сертификации ознакомьтесь с этим разделом 👉 https://huggingface.co/deep-rl-course/en/unit0/introduction#certification-process"
      ],
      "metadata": {
        "id": "x7d_RVS1lmlS"
      }
    },
    {
      "cell_type": "markdown",
      "source": [
        "## Установите зависимости и создайте виртуальный дисплей 🔽\n",
        "\n",
        "В записной блокноте нам нужно будет сгенерировать повтор видео.  Для этого с помощью Colab **создадим виртуальный экран для рендеринга среды** (и записи кадров).\n",
        "\n",
        "Следовательно, следующая ячейка установит библиотеки, создаст и запустит виртуальный экран 🖥\n",
        "\n",
        "Мы установим:\n",
        "\n",
        "- `gym`: Содержит среды FrozenLake-v1 ⛄ и Taxi-v3 🚕 . Мы используем `gym==0.24`, так как он содержит хорошую версию пользовательского интерфейса Taxi-v3.\n",
        "- `pygame`: Используется для пользовательского интерфейса FrozenLake-v1 и Taxi-v3.\n",
        "- `numpy`:Используется для обработки нашей Q-таблицы.\n",
        "\n",
        "Hugging Face Hub 🤗 работает как центр, где любой желающий может делиться моделями и наборами данных и изучать их. В нем есть управление версиями, метрики, визуализации и другие функции, которые позволят вам легко сотрудничать с другими.\n",
        "\n",
        "Вы можете увидеть здесь все доступные модели Deep RL (если они используют Q Learning) 👉 https://huggingface.co/models?other=q-learning"
      ],
      "metadata": {
        "id": "PyhkR-FqmRSK"
      }
    },
    {
      "cell_type": "code",
      "source": [
        "!pip install -r https://raw.githubusercontent.com/huggingface/deep-rl-class/main/notebooks/unit2/requirements-unit2.txt"
      ],
      "metadata": {
        "id": "IQcbB2aPoKv_"
      },
      "execution_count": null,
      "outputs": []
    },
    {
      "cell_type": "code",
      "source": [
        "%%capture\n",
        "!sudo apt-get update\n",
        "!apt install python-opengl ffmpeg xvfb\n",
        "!pip3 install pyvirtualdisplay"
      ],
      "metadata": {
        "id": "xJHEDDD7oNXg"
      },
      "execution_count": null,
      "outputs": []
    },
    {
      "cell_type": "markdown",
      "source": [
        "Чтобы убедиться, что новые установленные библиотеки используются, **иногда требуется перезапустить notebook runtime**. Следующая ячейка приведет к сбою среды выполнения **, поэтому вам нужно будет снова подключиться и запустить код, начиная отсюда**. Благодаря этому трюку, **мы сможем запустить наш виртуальный экран.**"
      ],
      "metadata": {
        "id": "iM3FIcQmoHt5"
      }
    },
    {
      "cell_type": "code",
      "source": [
        "import os\n",
        "os.kill(os.getpid(), 9)"
      ],
      "metadata": {
        "id": "ICh2VwRgovjI"
      },
      "execution_count": null,
      "outputs": []
    },
    {
      "cell_type": "code",
      "source": [
        "# Виртуальный дисплей\n",
        "from pyvirtualdisplay import Display\n",
        "\n",
        "virtual_display = Display(visible=0, size=(1400, 900))\n",
        "virtual_display.start()"
      ],
      "metadata": {
        "id": "yGueln6To0ZP"
      },
      "execution_count": null,
      "outputs": []
    },
    {
      "cell_type": "markdown",
      "source": [
        "## Импорт дополнительных пакетов 📦\n",
        "\n",
        "В дополнение к установленным библиотекам мы также используем:\n",
        "\n",
        "- `random`: для генерации случайных чисел (это будет полезно для политики epsilon-gready).\n",
        "- `imageio`: для создания повторного видео."
      ],
      "metadata": {
        "id": "dM2D-NGPo-k3"
      }
    },
    {
      "cell_type": "code",
      "source": [
        "import numpy as np\n",
        "import gym\n",
        "import random\n",
        "import imageio\n",
        "import os\n",
        "import tqdm\n",
        "\n",
        "import pickle5 as pickle\n",
        "from tqdm.notebook import tqdm"
      ],
      "metadata": {
        "id": "SRlHh5RupNRH"
      },
      "execution_count": null,
      "outputs": []
    },
    {
      "cell_type": "markdown",
      "source": [
        "Теперь мы готовы закодировать наш алгоритм Q-Learning 🔥"
      ],
      "metadata": {
        "id": "dqkVMEpNpVCB"
      }
    },
    {
      "cell_type": "markdown",
      "source": [
        "# Часть 1: Замерзшее озеро ⛄ (не скользкая версия)"
      ],
      "metadata": {
        "id": "hxvqX1jtpYWP"
      }
    },
    {
      "cell_type": "markdown",
      "source": [
        "## Создайте [среду замерзшего озера ⛄ ](https://www.gymlibrary.dev/environments/toy_text/frozen_lake/)\n",
        "---\n",
        "\n",
        "💡 Хорошая привычка: при начале использования среды, изучать ее документацию\n",
        "\n",
        "👉 https://www.gymlibrary.dev/environments/toy_text/frozen_lake/\n",
        "\n",
        "---\n",
        "\n",
        "Мы собираемся обучить нашего агента Q-Learning **переходить из начального состояния (S) в целевое состояние (G), ступая только по замороженным плиткам (F) и избегая ям (H)**.\n",
        "\n",
        "У нас может быть два размера среды:\n",
        "\n",
        "- `map_name=\"4x4\"`: версия с сеткой 4х4\n",
        "- `map_name=\"8x8\"`: версия с сеткой 8х8\n",
        "\n",
        "\n",
        "Окружающая среда имеет два режима:\n",
        "\n",
        "- `is_slippery=False`: Агент всегда движется **в заданном направлении** из-за не скользкой природы замерзшего озера (детерминированный процесс).\n",
        "- `is_slippery=True`: Агент **не всегда может двигаться в намеченном направлении** из-за скольжения на замерзшем озере (случайный процесс)."
      ],
      "metadata": {
        "id": "fORJZzo2phaP"
      }
    },
    {
      "cell_type": "markdown",
      "source": [
        "А пока давайте сделаем все просто с картой 4х4 и не скользкой"
      ],
      "metadata": {
        "id": "wcK7PO2bsZuk"
      }
    },
    {
      "cell_type": "markdown",
      "source": [],
      "metadata": {
        "id": "NdoGHG-Jtl-v"
      }
    },
    {
      "cell_type": "code",
      "source": [
        "# Создаем среду FrozenLake-v1, используя карту 4x4 и версию без скольжения\n",
        "env = gym.make() # Выполните, используя правильные параметры"
      ],
      "metadata": {
        "id": "ui04je9csh19"
      },
      "execution_count": null,
      "outputs": []
    },
    {
      "cell_type": "markdown",
      "source": [
        "### Solution"
      ],
      "metadata": {
        "id": "n5Mc6JS3tBYV"
      }
    },
    {
      "cell_type": "code",
      "source": [
        "env = gym.make(\"FrozenLake-v1\", map_name=\"4x4\", is_slippery=False)"
      ],
      "metadata": {
        "id": "addTFFc3tGe1"
      },
      "execution_count": null,
      "outputs": []
    },
    {
      "cell_type": "markdown",
      "source": [
        "Вы можете создать свою собственную пользовательскую сетку следующим образом:\n",
        "\n",
        "```python\n",
        "desc=[\"SFFF\", \"FHFH\", \"FFFH\", \"HFFG\"]\n",
        "gym.make('FrozenLake-v1', desc=desc, is_slippery=True)\n",
        "```\n",
        "\n",
        "но пока мы будем использовать среду по умолчанию."
      ],
      "metadata": {
        "id": "yE64B0PTtRh0"
      }
    },
    {
      "cell_type": "markdown",
      "source": [],
      "metadata": {
        "id": "sYsCv4swtHtV"
      }
    },
    {
      "cell_type": "markdown",
      "source": [
        "### Давайте посмотрим, как выглядит окружающая среда:"
      ],
      "metadata": {
        "id": "I_zpGW5stlBE"
      }
    },
    {
      "cell_type": "code",
      "source": [
        "# We create our environment with gym.make(\"<name_of_the_environment>\")- `is_slippery=False`: The agent always moves in the intended direction due to the non-slippery nature of the frozen lake (deterministic).\n",
        "print(\"_____OBSERVATION SPACE_____ \\n\")\n",
        "print(\"Observation Space\", env.observation_space)\n",
        "print(\"Sample observation\", env.observation_space.sample()) # Get a random observation"
      ],
      "metadata": {
        "id": "isB96DS8tvZT"
      },
      "execution_count": null,
      "outputs": []
    },
    {
      "cell_type": "markdown",
      "source": [
        "Мы видим с помощью `Observation Space Shape Discrete(16)`, что наблюдение представляет собой целое число, представляющее текущую позицию агента как **current_row * nrows + current_col** (где и строка, и столбец начинаются с 0).\n",
        "\n",
        "Например, положение цели на карте 4x4 может быть рассчитано следующим образом: 3 * 4 + 3 = 15. Количество возможных наблюдений зависит от размера карты. **Например, карта 4x4 содержит 16 возможных наблюдений.**\n",
        "\n",
        "\n",
        "Например, вот как выглядит state = 0:\n",
        "\n",
        "<img src=\"https://huggingface.co/datasets/huggingface-deep-rl-course/course-images/resolve/main/en/notebooks/unit2/frozenlake.png\" alt=\"FrozenLake\">"
      ],
      "metadata": {
        "id": "jCUwJjd2t3KV"
      }
    }
  ]
}