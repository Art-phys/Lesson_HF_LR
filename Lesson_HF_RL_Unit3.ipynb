{
  "cells": [
    {
      "cell_type": "markdown",
      "metadata": {
        "id": "view-in-github",
        "colab_type": "text"
      },
      "source": [
        "<a href=\"https://colab.research.google.com/github/Art-phys/Lesson_HF_LR/blob/main/Lesson_HF_RL_Unit3.ipynb\" target=\"_parent\"><img src=\"https://colab.research.google.com/assets/colab-badge.svg\" alt=\"Open In Colab\"/></a>"
      ]
    },
    {
      "cell_type": "markdown",
      "metadata": {
        "id": "wcNTgp8SLf94"
      },
      "source": [
        "ССЫЛКА НА ОРИГИНАЛ:\n",
        "\n",
        "https://colab.research.google.com/github/huggingface/deep-rl-class/blob/main/notebooks/unit3/unit3.ipynb#scrollTo=ykJiGevCMVc5\n",
        "\n",
        "@huggingface\n",
        "\n",
        "@simoninithomas"
      ]
    },
    {
      "cell_type": "markdown",
      "metadata": {
        "id": "1LGUhnBFLSx7"
      },
      "source": [
        "# # Блок 3: Изучение глубокого Q-обучения с помощью игр Atari 👾 с использованием RL Baselines3 Zoo\n",
        "\n",
        "<img src=\"https://huggingface.co/datasets/huggingface-deep-rl-course/course-images/resolve/main/en/unit4/thumbnail.jpg\" alt=\"Unit 3 Thumbnail\" width=\"50%\">\n",
        "\n",
        "В этом блокноте **вы будете тренировать агента глубокого Q-обучения**, играя в \"Космические захватчики\"\"(Space Invaders), используя [RL Baselines 3 Bio](https://github.com/DLR-RM/rl-baselines3-zoo), система обучения, основанная на[Stable-Baselines3](https://stable-baselines3.readthedocs.io/en/master/) которая предоставляет сценарии для обучения, оценки агентов, настройки гиперпараметров, отображения результатов и записи видео.\n",
        "\n",
        "Мы будим использовать [RL-Baselines-3 Zoo integration, a vanilla version of Deep Q-Learning](https://stable-baselines3.readthedocs.io/en/master/modules/dqn.html) без расширений, таких как Double-DQN, Dueling-DQN, and Prioritized Experience Replay.\n",
        "\n",
        "⬇️Вот пример того, чего **вы достигнете** ⬇️\n",
        "\n"
      ]
    },
    {
      "cell_type": "code",
      "execution_count": null,
      "metadata": {
        "colab": {
          "base_uri": "https://localhost:8080/",
          "height": 231
        },
        "id": "F44b_zCSN6Qo",
        "outputId": "1418f004-c682-4466-e913-2c909f10708c"
      },
      "outputs": [
        {
          "data": {
            "text/html": [
              "<video controls autoplay><source src=\"https://huggingface.co/ThomasSimonini/ppo-SpaceInvadersNoFrameskip-v4/resolve/main/replay.mp4\" type=\"video/mp4\"></video>\n"
            ],
            "text/plain": [
              "<IPython.core.display.HTML object>"
            ]
          },
          "metadata": {},
          "output_type": "display_data"
        }
      ],
      "source": [
        "%%html\n",
        "<video controls autoplay><source src=\"https://huggingface.co/ThomasSimonini/ppo-SpaceInvadersNoFrameskip-v4/resolve/main/replay.mp4\" type=\"video/mp4\"></video>"
      ]
    },
    {
      "cell_type": "markdown",
      "metadata": {
        "id": "6xIKY3dhOH94"
      },
      "source": [
        "### 🎮 Окружающая среда: \n",
        "\n",
        "- SpacesInvadersNoFrameskip-v4 \n",
        "\n",
        "### 📚 RL-библиотека: \n",
        "\n",
        "- [RL-Baselines3-Zoo](https://github.com/DLR-RM/rl-baselines3-zoo)"
      ]
    },
    {
      "cell_type": "markdown",
      "metadata": {
        "id": "5eLNht9cOi_x"
      },
      "source": [
        "## Цели этой записной книжки 🏆\n",
        "В конце вы:\n",
        "- Сможете глубже понять **как работает RL Baselines3 Zoo**.\n",
        "- Будете иметь возможность **отправить своего обученного агента и код в центр** с хорошим видеоповтором и оценочным баллом 🔥 .\n"
      ]
    },
    {
      "cell_type": "markdown",
      "metadata": {
        "id": "2YZg-7YnPgDY"
      },
      "source": [
        "## Этот блокнот взята из курса обучения с глубоким подкреплением\n",
        "<img src=\"https://huggingface.co/datasets/huggingface-deep-rl-course/course-images/resolve/main/en/notebooks/deep-rl-course-illustration.jpg\" alt=\"Deep RL Course illustration\" width=\"50%\" />"
      ]
    },
    {
      "cell_type": "markdown",
      "metadata": {
        "id": "oVHIycxeQaIo"
      },
      "source": [
        "## Предварительные условия 🏗️\n",
        "Прежде чем погрузиться в блокнот, вам нужно:\n",
        "\n",
        "🔲  📚 **[Изучить глубокое Q-обучение, прочитав блок 3](https://huggingface.co/deep-rl-course/unit3/introduction)**  🤗 "
      ]
    },
    {
      "cell_type": "markdown",
      "metadata": {
        "id": "fkFahdE3Qxw4"
      },
      "source": [
        "# Давайте обучим агента глубокого Q-обучения игре Atari \"Space Invaders\" и загрузим ее в Хаб.\n",
        "\n",
        "Чтобы проверить это практическое руководство для процесса сертификации, вам нужно отправить свою обученную модель в центр и **получить результат >= 200**.\n",
        "\n",
        "Чтобы узнать свой результат, перейдите в таблицу лидеров и найдите свою модель, **результат = mean_reward - std of reward**\n",
        "\n",
        "Для получения дополнительной информации о процессе сертификации ознакомьтесь с этим разделом 👉 https://huggingface.co/deep-rl-course/en/unit0/introduction#certification-process"
      ]
    },
    {
      "cell_type": "markdown",
      "metadata": {
        "id": "jGuzFA_yRJ8A"
      },
      "source": [
        "## Совет 💡\n",
        "Лучше запустить этот colab в копии на вашем Google Диске, чтобы **в случае истечения времени ожидания** у вас все еще была сохраненная записная книжка на вашем Google Диске, и вам не нужно было заполнять все с нуля.\n",
        "\n",
        "Для этого вы можете либо нажать `Ctrl + S`, либо `File > Save a copy in Google Drive.`\n",
        "\n",
        "Кроме того, мы собираемся **тренировать его в течение 90 минут с количеством шагов 1 м**. Набрав `!nvidia-smi`, вы узнаете, какой графический процессор вы используете.\n",
        "\n",
        "И если вы хотите тренировать больше 10 миллионов шагов, это займет около 9 часов, что потенциально приведет к отключению Colab. В этом случае я рекомендую запустить это на вашем локальном компьютере (или где-нибудь еще). Просто нажмите на: `Файл> Загрузить`."
      ]
    },
    {
      "cell_type": "code",
      "source": [
        "!nvidia-smi"
      ],
      "metadata": {
        "id": "E3M2yfDFQujx"
      },
      "execution_count": null,
      "outputs": []
    },
    {
      "cell_type": "markdown",
      "metadata": {
        "id": "2mSswU_kST-J"
      },
      "source": [
        "## Установка графического процессора 💪\n",
        "- Чтобы **ускорить обучение агента, мы будем использовать графический процессор**. Чтобы сделать это, перейдите к `Runtime > Change Runtime type`\n",
        "\n",
        "<img src=\"https://huggingface.co/datasets/huggingface-deep-rl-course/course-images/resolve/main/en/notebooks/gpu-step1.jpg\" alt=\"GPU Step 1\" width=\"50%\">"
      ]
    },
    {
      "cell_type": "markdown",
      "metadata": {
        "id": "A_NxCnxbSy2y"
      },
      "source": [
        "- `Hardware Accelerator > GPU`\n",
        "\n",
        "<img src=\"https://huggingface.co/datasets/huggingface-deep-rl-course/course-images/resolve/main/en/notebooks/gpu-step2.jpg\" alt=\"GPU Step 2\" width=\"50%\">"
      ]
    },
    {
      "cell_type": "markdown",
      "metadata": {
        "id": "BhgaR4jsS9wQ"
      },
      "source": [
        "## Создайте виртуальный дисплей 🔽\n",
        "\n",
        "Во время записи нам нужно будет сгенерировать видео-повтор. Для этого с помощью colab **нам нужен виртуальный экран, чтобы иметь возможность отображать среду** (и, таким образом, записывать кадры).\n",
        "\n",
        "Следовательно, следующая ячейка установит библиотеки, создаст и запустит виртуальный экран 🖥"
      ]
    },
    {
      "cell_type": "code",
      "execution_count": 2,
      "metadata": {
        "id": "DPRuXM6dTEt6"
      },
      "outputs": [],
      "source": [
        "%%capture\n",
        "!apt install python-opengl\n",
        "!apt install ffmpeg\n",
        "!apt install xvfb\n",
        "!pip3 install pyvirtualdisplay"
      ]
    },
    {
      "cell_type": "code",
      "execution_count": 3,
      "metadata": {
        "id": "eVYRWKAqTKig"
      },
      "outputs": [],
      "source": [
        "%%capture\n",
        "# Дополнительные зависимости для RL Baselines3 Zoo\n",
        "!apt-get install swig cmake freeglut3-dev "
      ]
    },
    {
      "cell_type": "code",
      "execution_count": null,
      "metadata": {
        "id": "Zzb2bURNTTZw"
      },
      "outputs": [],
      "source": [
        "!pip install pyglet==1.5.1"
      ]
    },
    {
      "cell_type": "code",
      "execution_count": null,
      "metadata": {
        "id": "5Qho31LiTY84"
      },
      "outputs": [],
      "source": [
        "# Виртуальный дисплей\n",
        "from pyvirtualdisplay import Display\n",
        "\n",
        "virtual_display = Display(visible=0, size=(1400, 900))\n",
        "virtual_display.start()"
      ]
    },
    {
      "cell_type": "markdown",
      "metadata": {
        "id": "0p0US8A3TvAY"
      },
      "source": [
        "## Клонирование репозитория RL-Baselines 3 Zoo 📚\n",
        "Теперь можно установить непосредственно из пакета python `pip install rl_zoo3`, но поскольку мы хотим **полную установку с дополнительными средами и зависимостями**, мы собираемся клонировать репозиторий `RL-Baselines3-Zoo` и установить из исходного кода."
      ]
    },
    {
      "cell_type": "code",
      "execution_count": null,
      "metadata": {
        "id": "deoCDldZT79f"
      },
      "outputs": [],
      "source": [
        "!git clone https://github.com/DLR-RM/rl-baselines3-zoo"
      ]
    },
    {
      "cell_type": "markdown",
      "metadata": {
        "id": "EZKOEwiJUDyA"
      },
      "source": [
        "## Установка зависимостей 🔽\n",
        "Теперь мы можем установить зависимости, необходимые RL-Baselines 3 Zoo (это может занять 5 минут ⏲ )"
      ]
    },
    {
      "cell_type": "code",
      "execution_count": null,
      "metadata": {
        "id": "N8qzersUUCxw"
      },
      "outputs": [],
      "source": [
        "%cd /content/rl-baselines3-zoo/"
      ]
    },
    {
      "cell_type": "code",
      "execution_count": null,
      "metadata": {
        "id": "7mrzfqNZUMrX"
      },
      "outputs": [],
      "source": [
        "!pip install -r requirements.txt"
      ]
    },
    {
      "cell_type": "markdown",
      "metadata": {
        "id": "ZePDQldiUT4x"
      },
      "source": [
        "## Обучение агента Deep Q-Learning играть в Space Invaders👾\n",
        "\n",
        "Чтобы обучить агента с помощью RL-Baselines 3-Zoo, нам просто нужно сделать две вещи:\n",
        "\n",
        "1. Определить гиперпараметры в `rl-baselines3-zoo/hyperparams/dqn.yml`\n",
        "\n",
        "<img src=\"https://huggingface.co/datasets/huggingface-deep-rl-course/course-images/resolve/main/en/notebooks/unit3/hyperparameters.png\" alt=\"DQN Hyperparameters\">\n"
      ]
    },
    {
      "cell_type": "markdown",
      "metadata": {
        "id": "0h-FQhQCUJoA"
      },
      "source": [
        "Из чего видно, что:\n",
        "- Мы используем `оболочку Atari`, которая предварительно обрабатывает входные данные (уменьшение кадра, перевод в оттенки серого, создание стека из 4 кадров)\n",
        "- Мы используем `CnnPolicy`, мы используем сверточные слои для обработки кадров\n",
        "- Мы тренируем его в течение 10 миллионов \"n_timesteps\"\n",
        "- Объем памяти (воспроизведение опыта) равен 100000, то есть количеству шагов опыта, которые вы сохранили, чтобы снова обучить своего агента.\n",
        "\n",
        "💡 Мой совет - **сократить время тренировки до 1 м,** что займет около 90 минут на P100. `!nvidia-smi` сообщит вам, какой графический процессор вы используете. Обучение при 10 миллионах шагов займет около 9 часов, что, вероятно, может привести к тайм-ауту Colab. Я рекомендую запустить это на вашем локальном компьютере (или где-нибудь еще). Просто нажмите на: `Файл> Загрузить`."
      ]
    },
    {
      "cell_type": "markdown",
      "metadata": {
        "id": "CndkasL9WD3K"
      },
      "source": [
        "Что касается оптимизации гиперпараметров, мой совет - сосредоточиться на этих 3 гиперпараметрах:\n",
        "- `learning_rate`\n",
        "- `buffer_size (размер оперативной памяти)`\n",
        "- `batch_size (размер пакета)`\n",
        "\n",
        "В качестве хорошей практики вам необходимо **проверить документацию, чтобы понять, что делает каждый гиперпараметр**: https://stable-baselines3.readthedocs.io/en/master/modules/dqn.html#parameters"
      ]
    },
    {
      "cell_type": "markdown",
      "metadata": {
        "id": "r_m63ajMWOef"
      },
      "source": [
        "2. Запустить `train.py` и сохраните модели в папке `logs` 📁"
      ]
    },
    {
      "cell_type": "code",
      "execution_count": null,
      "metadata": {
        "id": "t1nKJFajWsDw"
      },
      "outputs": [],
      "source": [
        "# заполните пробелы\n",
        "!python train.py --algo ________ --env SpaceInvadersNoFrameskip-v4  -f _________"
      ]
    },
    {
      "cell_type": "markdown",
      "metadata": {
        "id": "5Hyi1Qd9W35_"
      },
      "source": [
        "#### Решение"
      ]
    },
    {
      "cell_type": "code",
      "execution_count": null,
      "metadata": {
        "id": "A-OckBEqW8Go"
      },
      "outputs": [],
      "source": [
        "!python train.py --algo dqn  --env SpaceInvadersNoFrameskip-v4 -f logs/"
      ]
    },
    {
      "cell_type": "markdown",
      "metadata": {
        "id": "H1NB4Ir1Ypao"
      },
      "source": [
        "## Давайте оценим нашего агента 👀\n",
        "- RL-Baselines 3-Zoo предоставляет `enjoy.py `, скрипт на python для оценки агента. В большинстве библиотек RL мы вызываем сценарий оценки `enjoy.py `.\n",
        "- Давайте оценим его на 5000 временных шагах 🔥"
      ]
    },
    {
      "cell_type": "code",
      "execution_count": null,
      "metadata": {
        "id": "twsEt62kZOSv"
      },
      "outputs": [],
      "source": [
        "# заполните пробелы\n",
        "!python enjoy.py  --algo dqn  --env SpaceInvadersNoFrameskip-v4  --no-render  --n-timesteps _________  --folder logs/"
      ]
    },
    {
      "cell_type": "markdown",
      "metadata": {
        "id": "MU5SHmNEZUjc"
      },
      "source": [
        "#### Решение"
      ]
    },
    {
      "cell_type": "code",
      "execution_count": null,
      "metadata": {
        "id": "vM35x4cQZjq_"
      },
      "outputs": [],
      "source": [
        "!python enjoy.py  --algo dqn  --env SpaceInvadersNoFrameskip-v4  --no-render  --n-timesteps 5000  --folder logs/"
      ]
    },
    {
      "cell_type": "markdown",
      "metadata": {
        "id": "9KcPCwWXZqr4"
      },
      "source": [
        "## Опубликуйте обученную модель на хабе 🚀\n",
        "Теперь, когда мы увидели, что получили хорошие результаты после обучения, мы можем опубликовать нашу обученную модель на хабе 🤗 с помощью одной строки кода.\n",
        "\n",
        "<img src=\"https://huggingface.co/datasets/huggingface-deep-rl-course/course-images/resolve/main/en/notebooks/unit3/space-invaders-model.gif\" alt=\"Space Invaders model\" width=\"50%\">"
      ]
    },
    {
      "cell_type": "markdown",
      "metadata": {
        "id": "WfcDz2fiZ_D4"
      },
      "source": [
        "С помощью `rl_zoo3.push_to_hub.py ` **вы оцениваете, записываете повтор, генерируете карточку модели вашего агента и отправляете ее в центр**.\n",
        "\n",
        "Таким образом:\n",
        "- Вы можете **продемонстрировать свою работу** 🔥\n",
        "- Вы можете **визуализировать, как ваш агент играет** 👀\n",
        "- Вы можете **поделиться с сообществом агентом, которым могут пользоваться другие** 💾\n",
        "- Вы можете **получить доступ к таблице лидеров 🏆 , чтобы увидеть, насколько хорошо работает ваш агент по сравнению с вашими одноклассниками** 👉  https://huggingface.co/spaces/huggingface-projects/Deep-Reinforcement-Learning-Leaderboard"
      ]
    },
    {
      "cell_type": "markdown",
      "metadata": {
        "id": "tvt25kqCaewW"
      },
      "source": [
        "Чтобы иметь возможность поделиться своей моделью с сообществом, необходимо выполнить еще три шага:\n",
        "\n",
        "1️⃣ (если это еще не сделано) создайте учетную запись для HF ➡ https://huggingface.co/join\n",
        "\n",
        "2️⃣ Войдите в систему, и сохраните свой токен аутентификации с веб-сайта Hugging Face.\n",
        "- Создайте новый токен (https://huggingface.co/settings/tokens ) **с ролью записи**\n",
        "\n",
        "<img src=\"https://huggingface.co/datasets/huggingface-deep-rl-course/course-images/resolve/main/en/notebooks/create-token.jpg\" alt=\"Create HF Token\" width=\"30%\">"
      ]
    },
    {
      "cell_type": "markdown",
      "metadata": {
        "id": "xTfygXx8a7_3"
      },
      "source": [
        "- Скопируйте токен\n",
        "- Запустите ячейку ниже и вставьте токен"
      ]
    },
    {
      "cell_type": "markdown",
      "metadata": {
        "id": "RJZpJszzbPRH"
      },
      "source": [
        "Если вы не хотите использовать записную книжку Google Colabora Jupyter, вам нужно вместо этого использовать эту команду: `huggingface-cli login`"
      ]
    },
    {
      "cell_type": "markdown",
      "metadata": {
        "id": "qGXv-PMgbZW3"
      },
      "source": [
        "3️⃣ Теперь мы готовы направить нашего обученного агента в 🤗 Hub 🔥"
      ]
    },
    {
      "cell_type": "markdown",
      "metadata": {
        "id": "ycp-6yBsbhAn"
      },
      "source": [
        "Давай запустим push_to_hub.py файл для загрузки нашего обученного агента в концентратор.\n",
        "\n",
        "`--repo-name `: название отчета\n",
        "\n",
        "`-orga`: Имя пользователя HF"
      ]
    },
    {
      "cell_type": "code",
      "source": [
        "from huggingface_hub import notebook_login\n",
        "notebook_login()"
      ],
      "metadata": {
        "id": "SmuoMnLclhCo"
      },
      "execution_count": null,
      "outputs": []
    },
    {
      "cell_type": "code",
      "execution_count": null,
      "metadata": {
        "id": "UVryhUDrb1Hf"
      },
      "outputs": [],
      "source": [
        "# заполните пробелы\n",
        "!python -m rl_zoo3.push_to_hub  --algo dqn  --env SpaceInvadersNoFrameskip-v4  --repo-name _____________________ -orga _____________________ -f logs/"
      ]
    },
    {
      "cell_type": "markdown",
      "metadata": {
        "id": "rGsN7D2bb7lT"
      },
      "source": [
        "#### Решение"
      ]
    },
    {
      "cell_type": "code",
      "execution_count": null,
      "metadata": {
        "id": "oyybs4UEb-jA"
      },
      "outputs": [],
      "source": [
        "!python -m rl_zoo3.push_to_hub  --algo dqn  --env SpaceInvadersNoFrameskip-v4  --repo-name dqn-SpaceInvadersNoFrameskip-v4  -orga Art-phys  -f logs/"
      ]
    },
    {
      "cell_type": "markdown",
      "metadata": {
        "id": "AqgPO3YScTAp"
      },
      "source": [
        "#### УРА"
      ]
    },
    {
      "cell_type": "markdown",
      "metadata": {
        "id": "zOZEvZkZcYXP"
      },
      "source": [
        "Поздравляем 🥳 Вы только что обучили и загрузили свего первого агент глубокого Q-обучения с использованием RL-Baselines-3 Zoo. Приведенный выше скрипт должен был отобразить ссылку на репозиторий моделей, например https://huggingface.co/ThomasSimonini/dqn-SpaceInvadersNoFrameskip-v4 . Когда вы переходите по этой ссылке, вы можете:\n",
        "\n",
        "- Смотреть **предварительный просмотр видео вашего агента**.\n",
        "- Нажать \"Файлы и версии\", чтобы просмотреть все файлы в репозитории.\n",
        "- Нажать \"Use in stable-baselines3\", чтобы получить фрагмент кода, который показывает, как загрузить модель.\n",
        "- Посмотреть карточку модели (`README.md ` файл), которая дает описание модели и гиперпараметров, которые вы использовали.\n",
        "\n",
        "Под капотом концентратор использует репозитории на основе git (не волнуйтесь, если вы не знаете, что такое git), что означает, что вы можете обновлять модель новыми версиями по мере экспериментов и улучшения вашего агента.\n",
        "\n",
        "****Сравните результаты ваших агентов со своими одноклассниками** с помощью [leaderboard](https://huggingface.co/spaces/huggingface-projects/Deep-Reinforcement-Learning-Leaderboard) 🏆"
      ]
    },
    {
      "cell_type": "markdown",
      "metadata": {
        "id": "JOodcb_ddLNX"
      },
      "source": [
        "## Загрузите мощную обученную модель 🔥\n",
        "- Команда Stable-Baselines 3 загрузила **более 150 обученных агентов глубокого подкрепления на Хаб**.\n",
        "\n",
        "Вы можете найти их здесь: 👉 https://huggingface.co/sb3\n",
        "\n",
        "Несколько примеров:\n",
        "- Asteroids(Астероиды): https://huggingface.co/sb3/dqn-AsteroidsNoFrameskip-v4\n",
        "- Beam Rider(Луч всадника): https://huggingface.co/sb3/dqn-BeamRiderNoFrameskip-v4\n",
        "- Breakout(Прорыв): https://huggingface.co/sb3/dqn-BreakoutNoFrameskip-v4\n",
        "- Road Runner(Дорожный бегун): https://huggingface.co/sb3/dqn-RoadRunnerNoFrameskip-v4\n",
        "\n",
        "Давайте загрузим агента, играющего в Beam Rider: https://huggingface.co/sb3/dqn-BeamRiderNoFrameskip-v4"
      ]
    },
    {
      "cell_type": "code",
      "execution_count": null,
      "metadata": {
        "id": "Kl34G6sqeQzW"
      },
      "outputs": [],
      "source": [
        "%%html\n",
        "<video controls autoplay><source src=\"https://huggingface.co/sb3/dqn-BeamRiderNoFrameskip-v4/resolve/main/replay.mp4\" type=\"video/mp4\"></video>"
      ]
    },
    {
      "cell_type": "markdown",
      "metadata": {
        "id": "ROmF0EMoeT4Y"
      },
      "source": [
        "1. Мы загружаем модель с помощью `rl_bios 3.load_from_hub` и помещаем ее в новую папку, которую мы можем назвать `rl_trained`"
      ]
    },
    {
      "cell_type": "code",
      "execution_count": null,
      "metadata": {
        "id": "JOEV7yVreeo1"
      },
      "outputs": [],
      "source": [
        "# Загрузите модель и сохраните ее в папке logs/\n",
        "!python -m rl_zoo3.load_from_hub --algo dqn --env BeamRiderNoFrameskip-v4 -orga sb3 -f rl_trained/"
      ]
    },
    {
      "cell_type": "markdown",
      "metadata": {
        "id": "NnX_dU7ie5H_"
      },
      "source": [
        "2. Давайте оценим, на 5000 временных шагах"
      ]
    },
    {
      "cell_type": "code",
      "execution_count": null,
      "metadata": {
        "id": "-dvVHbO2fLu-"
      },
      "outputs": [],
      "source": [
        "!python enjoy.py --algo dqn --env BeamRiderNoFrameskip-v4 -n 5000  -f rl_trained/"
      ]
    },
    {
      "cell_type": "markdown",
      "metadata": {
        "id": "pCx54LvKfPQ2"
      },
      "source": [
        "Почему бы не попробовать обучить своего собственного **Агента глубокого Q-обучения, играть в BeamRiderNoFrameskip-v4? 🏆.**\n",
        "\n",
        "Если вы хотите попробовать, проверьте https://huggingface.co/sb3/dqn-BeamRiderNoFrameskip-v4#hyperparameters **в карточке модели у вас есть гиперпараметры обученного агента.**"
      ]
    },
    {
      "cell_type": "markdown",
      "metadata": {
        "id": "vQZc4Ss5fs_m"
      },
      "source": [
        "Но поиск гиперпараметров может оказаться непростой задачей. К счастью, в следующем разделе мы увидим, как мы можем **использовать `Optuna` для оптимизации гиперпараметров 🔥 .**"
      ]
    },
    {
      "cell_type": "markdown",
      "metadata": {
        "id": "OxaXxzt3gCR-"
      },
      "source": [
        "## Дополнение 🏆\n",
        "Лучший способ научиться **- это попробовать что-то самостоятельно**!\n",
        "\n",
        "В [Leaderboard](https://huggingface.co/spaces/huggingface-projects/Deep-Reinforcement-Learning-Leaderboard) вы найдете своих агентов. Сможете ли вы добраться до вершины?\n",
        "\n",
        "Вот список сред, в которых вы можете попробовать обучить своего агента:\n",
        "- BeamRiderNoFrameskip-v4\n",
        "- BreakoutNoFrameskip-v4 \n",
        "- EnduroNoFrameskip-v4\n",
        "- PongNoFrameskip-v4\n",
        "\n",
        "Кроме того, **если вы хотите научиться самостоятельно внедрять глубокое Q-обучение**, вам определенно следует взглянуть на эту реализацию: https://github.com/vwxyzjn/cleanrl/blob/master/cleanrl/dqn_atari.py\n",
        "\n",
        "<img src=\"https://huggingface.co/datasets/huggingface-deep-rl-course/course-images/resolve/main/en/unit4/atari-envs.gif\" alt=\"Environments\" width=\"50%\"/>"
      ]
    },
    {
      "cell_type": "markdown",
      "metadata": {
        "id": "AVCjzgn6g9L_"
      },
      "source": [
        "Поздравляю с окончанием этой главы!\n",
        "\n",
        "Найдите время, чтобы по-настоящему **усвоить материал, прежде чем продолжить и попробовать дополнительные задачи**. Важно овладеть этими элементами и иметь прочную основу.\n",
        "\n",
        "В следующем разделе **мы собираемся узнать о [Optuna](https://optuna.org/)**. Одной из наиболее важных задач в обучении с глубоким подкреплением является поиск хорошего набора обучающих гиперпараметров. А Optuna - это библиотека, которая поможет вам автоматизировать поиск."
      ]
    },
    {
      "cell_type": "markdown",
      "metadata": {
        "id": "qkR2vKuQhed2"
      },
      "source": [
        "Увидимся на бонусном блоке 2! 🔥"
      ]
    },
    {
      "cell_type": "markdown",
      "metadata": {
        "id": "Wq_2N8Rdhk8e"
      },
      "source": [
        "### Keep Learning, Stay Awesome 🤗"
      ]
    }
  ],
  "metadata": {
    "accelerator": "GPU",
    "colab": {
      "provenance": [],
      "authorship_tag": "ABX9TyP+YgjCyWS34gG87yACNOLi",
      "include_colab_link": true
    },
    "gpuClass": "standard",
    "kernelspec": {
      "display_name": "Python 3",
      "name": "python3"
    },
    "language_info": {
      "name": "python"
    }
  },
  "nbformat": 4,
  "nbformat_minor": 0
}