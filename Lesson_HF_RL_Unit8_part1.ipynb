{
  "nbformat": 4,
  "nbformat_minor": 0,
  "metadata": {
    "colab": {
      "provenance": [],
      "authorship_tag": "ABX9TyN7ce3xjCGQh6iKdjRCxuHW",
      "include_colab_link": true
    },
    "kernelspec": {
      "name": "python3",
      "display_name": "Python 3"
    },
    "language_info": {
      "name": "python"
    }
  },
  "cells": [
    {
      "cell_type": "markdown",
      "metadata": {
        "id": "view-in-github",
        "colab_type": "text"
      },
      "source": [
        "<a href=\"https://colab.research.google.com/github/Art-phys/Lesson_HF_LR/blob/main/Lesson_HF_RL_Unit8_part1.ipynb\" target=\"_parent\"><img src=\"https://colab.research.google.com/assets/colab-badge.svg\" alt=\"Open In Colab\"/></a>"
      ]
    },
    {
      "cell_type": "markdown",
      "source": [
        "# Блок 8: Проксимальный (Ближайший) градиент политики (PPO) с помощью PyTorch 🤖\n",
        "\n",
        "<img src=\"https://huggingface.co/datasets/huggingface-deep-rl-course/course-images/resolve/main/en/unit9/thumbnail.png\" alt=\"Unit 8\" width=\"70%\"/>\n",
        "\n",
        "\n",
        "В этом блокноте вы научитесь **кодировать своего агента PPO с нуля с помощью PyTorch, используя реализацию CleanRL в качестве модели**.\n",
        "\n",
        "Чтобы проверить его надежность, мы собираемся обучить его в среде:\n",
        "\n",
        "- [LunarLander-v2 🚀](https://www.gymlibrary.dev/environments/box2d/lunar_lander/)\n"
      ],
      "metadata": {
        "id": "PHQY2BXNNxpi"
      }
    },
    {
      "cell_type": "markdown",
      "source": [
        "⬇️ Вот пример того, чего вы достигнете. ⬇️"
      ],
      "metadata": {
        "id": "pc4GDEqgPHEi"
      }
    }
  ]
}