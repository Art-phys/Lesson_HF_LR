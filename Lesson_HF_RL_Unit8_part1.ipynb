{
  "nbformat": 4,
  "nbformat_minor": 0,
  "metadata": {
    "colab": {
      "provenance": [],
      "authorship_tag": "ABX9TyM2zFpR2RBS1kfPPB9hsiRR",
      "include_colab_link": true
    },
    "kernelspec": {
      "name": "python3",
      "display_name": "Python 3"
    },
    "language_info": {
      "name": "python"
    }
  },
  "cells": [
    {
      "cell_type": "markdown",
      "metadata": {
        "id": "view-in-github",
        "colab_type": "text"
      },
      "source": [
        "<a href=\"https://colab.research.google.com/github/Art-phys/Lesson_HF_LR/blob/main/Lesson_HF_RL_Unit8_part1.ipynb\" target=\"_parent\"><img src=\"https://colab.research.google.com/assets/colab-badge.svg\" alt=\"Open In Colab\"/></a>"
      ]
    },
    {
      "cell_type": "markdown",
      "source": [
        "# Блок 8: Проксимальный (Ближайший) градиент политики (PPO) с помощью PyTorch 🤖\n",
        "\n",
        "<img src=\"https://huggingface.co/datasets/huggingface-deep-rl-course/course-images/resolve/main/en/unit9/thumbnail.png\" alt=\"Unit 8\" width=\"70%\"/>\n",
        "\n",
        "\n",
        "В этом блокноте вы научитесь **кодировать своего агента PPO с нуля с помощью PyTorch, используя реализацию CleanRL в качестве модели**.\n",
        "\n",
        "Чтобы проверить его надежность, мы собираемся обучить его в среде:\n",
        "\n",
        "- [LunarLander-v2 🚀](https://www.gymlibrary.dev/environments/box2d/lunar_lander/)\n"
      ],
      "metadata": {
        "id": "PHQY2BXNNxpi"
      }
    },
    {
      "cell_type": "markdown",
      "source": [
        "⬇️ Вот пример того, чего вы достигнете. ⬇️"
      ],
      "metadata": {
        "id": "pc4GDEqgPHEi"
      }
    },
    {
      "cell_type": "code",
      "source": [
        "%%html\n",
        "<video controls autoplay><source src=\"https://huggingface.co/sb3/ppo-LunarLander-v2/resolve/main/replay.mp4\" type=\"video/mp4\"></video>"
      ],
      "metadata": {
        "colab": {
          "base_uri": "https://localhost:8080/",
          "height": 421
        },
        "id": "c71AjaVIPYDx",
        "outputId": "cdf92600-e881-47c6-ccf1-76048713c637"
      },
      "execution_count": 1,
      "outputs": [
        {
          "output_type": "display_data",
          "data": {
            "text/plain": [
              "<IPython.core.display.HTML object>"
            ],
            "text/html": [
              "<video controls autoplay><source src=\"https://huggingface.co/sb3/ppo-LunarLander-v2/resolve/main/replay.mp4\" type=\"video/mp4\"></video>\n"
            ]
          },
          "metadata": {}
        }
      ]
    },
    {
      "cell_type": "markdown",
      "source": [
        "## Цели этого блокнота 🏆\n",
        "\n",
        "В конце записной книжки вы:\n",
        "\n",
        "- Сможете **закодировать своего агента PPO с нуля с помощью PyTorch**.\n",
        "- Сможете **отправить своего обученного агента и код в центр** с хорошим видеоповтором и оценочным баллом 🔥."
      ],
      "metadata": {
        "id": "gvuQR8VVPe0S"
      }
    },
    {
      "cell_type": "markdown",
      "source": [
        "## Этот блокнот взят из курса обучения с глубоким подкреплением\n",
        "<img src=\"https://huggingface.co/datasets/huggingface-deep-rl-course/course-images/resolve/main/en/notebooks/deep-rl-course-illustration.jpg\" alt=\"Deep RL Course illustration\"  width=\"70%\"/>"
      ],
      "metadata": {
        "id": "67m9cUALQ6Ta"
      }
    },
    {
      "cell_type": "markdown",
      "source": [
        "## Предварительные условия 🏗️\n",
        "Прежде чем погрузиться в  блокнот, вам нужно:\n",
        "\n",
        "🔲  📚 Изучить [PPO, прочитав блок 8](https://huggingface.co/deep-rl-course/unit8/introduction) 🤗  "
      ],
      "metadata": {
        "id": "kWGoh9kyRYHS"
      }
    },
    {
      "cell_type": "markdown",
      "source": [
        "## Создайте виртуальный дисплей 🔽\n",
        "\n",
        "Во время записи нам нужно будет сгенерировать видео-повтор. Чтобы сделать это с помощью colab, **нам нужно иметь виртуальный экран, чтобы отображать среду** (и, таким образом, записывать кадры).\n",
        "\n",
        "Следовательно, в следующей ячейке будут установлены библиотеки, а также создан и запущен виртуальный экран 🖥"
      ],
      "metadata": {
        "id": "SJDLDvnmRnuC"
      }
    },
    {
      "cell_type": "code",
      "source": [
        "%%capture\n",
        "!apt install python-opengl\n",
        "!apt install ffmpeg\n",
        "!apt install xvfb\n",
        "!pip install pyglet==1.5\n",
        "!pip3 install pyvirtualdisplay"
      ],
      "metadata": {
        "id": "Y1gbrjx8SIQB"
      },
      "execution_count": null,
      "outputs": []
    },
    {
      "cell_type": "code",
      "source": [
        "# Virtual display\n",
        "from pyvirtualdisplay import Display\n",
        "\n",
        "virtual_display = Display(visible=0, size=(1400, 900))\n",
        "virtual_display.start()"
      ],
      "metadata": {
        "id": "2VBVkrzNSKra"
      },
      "execution_count": null,
      "outputs": []
    }
  ]
}