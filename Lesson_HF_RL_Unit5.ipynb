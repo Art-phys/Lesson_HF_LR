{
  "nbformat": 4,
  "nbformat_minor": 0,
  "metadata": {
    "colab": {
      "provenance": [],
      "include_colab_link": true
    },
    "kernelspec": {
      "name": "python3",
      "display_name": "Python 3"
    },
    "language_info": {
      "name": "python"
    },
    "accelerator": "GPU",
    "gpuClass": "standard"
  },
  "cells": [
    {
      "cell_type": "markdown",
      "metadata": {
        "id": "view-in-github",
        "colab_type": "text"
      },
      "source": [
        "<a href=\"https://colab.research.google.com/github/Art-phys/Lesson_HF_LR/blob/main/Lesson_HF_RL_Unit5.ipynb\" target=\"_parent\"><img src=\"https://colab.research.google.com/assets/colab-badge.svg\" alt=\"Open In Colab\"/></a>"
      ]
    },
    {
      "cell_type": "markdown",
      "source": [
        "# Блок 5: Введение в ML-агенты"
      ],
      "metadata": {
        "id": "yiSKx4uV1OJS"
      }
    },
    {
      "cell_type": "markdown",
      "source": [
        "<img src=\"https://huggingface.co/datasets/huggingface-deep-rl-course/course-images/resolve/main/en/unit7/thumbnail.png\" alt=\"Thumbnail\" width=\"70%\"/>\n",
        "\n",
        "В этом блокноте вы узнаете о ML-агентах и обучите двух агентов.\n",
        "\n",
        "- Первый из них научится **стрелять снежками по появляющимся мишеням**.\n",
        "- Второму нужно нажать кнопку, чтобы создать пирамиду, затем перейти к пирамиде, опрокинуть ее **и перейти к золотому кирпичу наверху**. Чтобы сделать это, ему нужно будет исследовать свое окружение, и мы будем использовать технику, называемую любопытство (curiosity).\n",
        "\n",
        "После этого вы сможете **наблюдать за игрой ваших агентов прямо в вашем браузере**."
      ],
      "metadata": {
        "id": "f-yR2Dsj1XyJ"
      }
    },
    {
      "cell_type": "markdown",
      "source": [
        "⬇️ Вот пример того, чего **вы достигнете в конце этого блока.** ⬇️"
      ],
      "metadata": {
        "id": "z2OD_b822d4B"
      }
    },
    {
      "cell_type": "markdown",
      "source": [
        "<img src=\"https://huggingface.co/datasets/huggingface-deep-rl-course/course-images/resolve/main/en/unit7/pyramids.gif\" alt=\"Pyramids\"/>\n",
        "\n",
        "<img src=\"https://huggingface.co/datasets/huggingface-deep-rl-course/course-images/resolve/main/en/unit7/snowballtarget.gif\" alt=\"SnowballTarget\" width=\"70%\"/>"
      ],
      "metadata": {
        "id": "7qw8APUf2jX5"
      }
    },
    {
      "cell_type": "markdown",
      "source": [
        "### 🎮 Окружающая среда: \n",
        "\n",
        "- Пирамиды [Pyramids](https://github.com/Unity-Technologies/ml-agents/blob/main/docs/Learning-Environment-Examples.md#pyramids)\n",
        "- Мишень для снежков (SnowballTarget)\n",
        "\n",
        "### 📚 RL-Library: \n",
        "\n",
        "- [ML-Агенты (Экспериментальная версия с HuggingFace)](https://github.com/huggingface/ml-agents)\n",
        "\n",
        "⚠ Мы собираемся использовать экспериментальную версию ML-Agents, где вы можете использовать hub и загружать из hub модели Unity ML-Agents **вам необходимо установить ту же версию**"
      ],
      "metadata": {
        "id": "wKzanhak2zbg"
      }
    },
    {
      "cell_type": "markdown",
      "source": [
        "## Цели этго блокнота 🏆\n",
        "\n",
        "В конце блокнота вы:\n",
        "\n",
        "- Поймете, как работает **ML-Agents** и библиотека окружения.\n",
        "- Научитесь **обучать агентов в средах Unity**."
      ],
      "metadata": {
        "id": "mepHVO0q303R"
      }
    },
    {
      "cell_type": "markdown",
      "source": [
        "\n",
        "<img src=\"https://huggingface.co/datasets/huggingface-deep-rl-course/course-images/resolve/main/en/notebooks/deep-rl-course-illustration.jpg\" alt=\"Deep RL Course illustration\" width=\"70%\"/>"
      ],
      "metadata": {
        "id": "godCAzny4liR"
      }
    },
    {
      "cell_type": "markdown",
      "source": [
        "## Предварительные условия 🏗️\n",
        "Прежде чем начать, вам нужно:\n",
        "\n",
        "🔲  📚 **Изучить [что такое ML-агенты и как это работает, прочитав блок 5](https://huggingface.co/deep-rl-course/unit5/introduction )** 🤗"
      ],
      "metadata": {
        "id": "KWnn1ypA497R"
      }
    },
    {
      "cell_type": "markdown",
      "source": [
        "# Давайте обучим наших агентов 🚀\n",
        "\n",
        "Интеграция ML-агентов на хабе **все еще является экспериментальной**, некоторые функции будут добавлены в будущем.\n",
        "\n",
        "Но на данный момент, **чтобы подтвердить это практическое руководство для процесса сертификации, вам просто нужно отправить ваши обученные модели в центр**. Нет никаких результатов, которых можно было бы достичь, чтобы подтвердить это. Но если вы хотите получить хорошие результаты, вы можете попытаться достичь:\n",
        "\n",
        "- Для `Pyramids` : Среднюю награду= 1.75\n",
        "- Для `SnowballTarget` : Среднюю награду = 15 или 30 целей, пораженных в эпизоде."
      ],
      "metadata": {
        "id": "U57QLq535L7Q"
      }
    },
    {
      "cell_type": "markdown",
      "source": [
        "## Клонируйте репозиторий и установите зависимости 🔽\n",
        "- Нам нужно клонировать репозиторий, который **содержит экспериментальную версию библиотеки, которая позволяет вам отправлять вашего обученного агента в концентратор.**"
      ],
      "metadata": {
        "id": "85qF3RAm5_CJ"
      }
    },
    {
      "cell_type": "code",
      "source": [
        "%%capture\n",
        "# Клонируйте репозиторий\n",
        "!git clone --depth 1 https://github.com/huggingface/ml-agents/ "
      ],
      "metadata": {
        "id": "HOP4BalT6Gwy"
      },
      "execution_count": null,
      "outputs": []
    },
    {
      "cell_type": "code",
      "source": [
        "%%capture\n",
        "# Зайдите в репозиторий и установите пакет\n",
        "%cd ml-agents\n",
        "!pip3 install -e ./ml-agents-envs\n",
        "!pip3 install -e ./ml-agents"
      ],
      "metadata": {
        "id": "3aH8_KbS6Nv4"
      },
      "execution_count": null,
      "outputs": []
    },
    {
      "cell_type": "markdown",
      "source": [
        "##Мишень для снежка ⛄\n",
        "\n",
        "Если вам нужно уточнить, как работают эти среды, ознакомьтесь с этим разделом 👉\n",
        "https://huggingface.co/deep-rl-course/unit5/snowball-target"
      ],
      "metadata": {
        "id": "fDVfPYI86VQZ"
      }
    },
    {
      "cell_type": "markdown",
      "source": [
        "### Загрузите и переместите zip-файл среды в `./training-envs-executables/linux/`\n",
        "- Исполняемый файл нашей среды находится в zip-файле.\n",
        "- Нам нужно загрузить его и поместить в `./training-envs-executables/linux/`\n",
        "- Мы используем исполняемый файл linux, потому что мы используем colab, а ОС colab machines - Ubuntu (linux)"
      ],
      "metadata": {
        "id": "KsHNo_ak6igx"
      }
    },
    {
      "cell_type": "code",
      "source": [
        "# Здесь мы создаем папки training-envs-executables и linux\n",
        "!mkdir ./training-envs-executables\n",
        "!mkdir ./training-envs-executables/linux"
      ],
      "metadata": {
        "id": "X_OKTJAf6uPy"
      },
      "execution_count": null,
      "outputs": []
    },
    {
      "cell_type": "markdown",
      "source": [
        "Скачайте файл SnowballTarget.zip с https://drive.google.com/file/d/1YHHLjyj6gaZ3Gemx1hQgqrPgSS2ZhmB5 используя `wget`. \n",
        "\n",
        "Ознакомьтесь с полным решением для загрузки больших файлов из GDrive [здесь](https://bcrf.biochem.wisc.edu/2021/02/05/download-google-drive-files-using-wget/)"
      ],
      "metadata": {
        "id": "BD0jXmEW63yx"
      }
    },
    {
      "cell_type": "code",
      "source": [
        "!wget --load-cookies /tmp/cookies.txt \"https://docs.google.com/uc?export=download&confirm=$(wget --quiet --save-cookies /tmp/cookies.txt --keep-session-cookies --no-check-certificate 'https://docs.google.com/uc?export=download&id=1YHHLjyj6gaZ3Gemx1hQgqrPgSS2ZhmB5' -O- | sed -rn 's/.*confirm=([0-9A-Za-z_]+).*/\\1\\n/p')&id=1YHHLjyj6gaZ3Gemx1hQgqrPgSS2ZhmB5\" -O ./training-envs-executables/linux/SnowballTarget.zip && rm -rf /tmp/cookies.txt"
      ],
      "metadata": {
        "id": "VYSBVVd27Mnj",
        "colab": {
          "base_uri": "https://localhost:8080/"
        },
        "outputId": "f6953fd3-34f9-451f-d72a-04746ceb56ca"
      },
      "execution_count": null,
      "outputs": [
        {
          "output_type": "stream",
          "name": "stdout",
          "text": [
            "--2023-03-04 13:14:33--  https://docs.google.com/uc?export=download&confirm=t&id=1YHHLjyj6gaZ3Gemx1hQgqrPgSS2ZhmB5\n",
            "Resolving docs.google.com (docs.google.com)... 142.251.16.113, 142.251.16.138, 142.251.16.101, ...\n",
            "Connecting to docs.google.com (docs.google.com)|142.251.16.113|:443... connected.\n",
            "HTTP request sent, awaiting response... 303 See Other\n",
            "Location: https://doc-14-28-docs.googleusercontent.com/docs/securesc/ha0ro937gcuc7l7deffksulhg5h7mbp1/2udlg5t16mln4ik50r0dtqmae5m5rgeu/1677935625000/15803371278684422230/*/1YHHLjyj6gaZ3Gemx1hQgqrPgSS2ZhmB5?e=download&uuid=90f2e89e-36ab-43ae-bbbb-37711313285c [following]\n",
            "Warning: wildcards not supported in HTTP.\n",
            "--2023-03-04 13:14:33--  https://doc-14-28-docs.googleusercontent.com/docs/securesc/ha0ro937gcuc7l7deffksulhg5h7mbp1/2udlg5t16mln4ik50r0dtqmae5m5rgeu/1677935625000/15803371278684422230/*/1YHHLjyj6gaZ3Gemx1hQgqrPgSS2ZhmB5?e=download&uuid=90f2e89e-36ab-43ae-bbbb-37711313285c\n",
            "Resolving doc-14-28-docs.googleusercontent.com (doc-14-28-docs.googleusercontent.com)... 142.251.163.132, 2607:f8b0:4004:c1b::84\n",
            "Connecting to doc-14-28-docs.googleusercontent.com (doc-14-28-docs.googleusercontent.com)|142.251.163.132|:443... connected.\n",
            "HTTP request sent, awaiting response... 200 OK\n",
            "Length: 35134213 (34M) [application/x-zip-compressed]\n",
            "Saving to: ‘./training-envs-executables/linux/SnowballTarget.zip’\n",
            "\n",
            "./training-envs-exe 100%[===================>]  33.51M   184MB/s    in 0.2s    \n",
            "\n",
            "2023-03-04 13:14:34 (184 MB/s) - ‘./training-envs-executables/linux/SnowballTarget.zip’ saved [35134213/35134213]\n",
            "\n"
          ]
        }
      ]
    },
    {
      "cell_type": "markdown",
      "source": [
        "Распакуем файл executable.zip"
      ],
      "metadata": {
        "id": "WduF6R7S7QPp"
      }
    },
    {
      "cell_type": "code",
      "source": [
        "#%%capture\n",
        "!unzip -d ./training-envs-executables/linux/ ./training-envs-executables/linux/SnowballTarget.zip"
      ],
      "metadata": {
        "id": "CYZ7ymvH7mvI",
        "colab": {
          "base_uri": "https://localhost:8080/"
        },
        "outputId": "29f4d1f7-a5d6-40ad-ee68-867c5eeae1a4"
      },
      "execution_count": null,
      "outputs": [
        {
          "output_type": "stream",
          "name": "stdout",
          "text": [
            "Archive:  ./training-envs-executables/linux/SnowballTarget.zip\n",
            "replace ./training-envs-executables/linux/SnowballTarget/SnowballTarget.x86_64? [y]es, [n]o, [A]ll, [N]one, [r]ename: y\n",
            "  inflating: ./training-envs-executables/linux/SnowballTarget/SnowballTarget.x86_64  \n",
            "replace ./training-envs-executables/linux/SnowballTarget/SnowballTarget_BurstDebugInformation_DoNotShip/Data/Plugins/lib_burst_generated.txt? [y]es, [n]o, [A]ll, [N]one, [r]ename: y\n",
            "  inflating: ./training-envs-executables/linux/SnowballTarget/SnowballTarget_BurstDebugInformation_DoNotShip/Data/Plugins/lib_burst_generated.txt  \n",
            "replace ./training-envs-executables/linux/SnowballTarget/SnowballTarget_Data/app.info? [y]es, [n]o, [A]ll, [N]one, [r]ename: a\n",
            "error:  invalid response [a]\n",
            "replace ./training-envs-executables/linux/SnowballTarget/SnowballTarget_Data/app.info? [y]es, [n]o, [A]ll, [N]one, [r]ename: A\n",
            "  inflating: ./training-envs-executables/linux/SnowballTarget/SnowballTarget_Data/app.info  \n",
            "  inflating: ./training-envs-executables/linux/SnowballTarget/SnowballTarget_Data/boot.config  \n",
            "  inflating: ./training-envs-executables/linux/SnowballTarget/SnowballTarget_Data/globalgamemanagers  \n",
            "  inflating: ./training-envs-executables/linux/SnowballTarget/SnowballTarget_Data/globalgamemanagers.assets  \n",
            "  inflating: ./training-envs-executables/linux/SnowballTarget/SnowballTarget_Data/level0  \n",
            "  inflating: ./training-envs-executables/linux/SnowballTarget/SnowballTarget_Data/level0.resS  \n",
            "  inflating: ./training-envs-executables/linux/SnowballTarget/SnowballTarget_Data/Managed/Assembly-CSharp.dll  \n",
            "  inflating: ./training-envs-executables/linux/SnowballTarget/SnowballTarget_Data/Managed/Google.Protobuf.dll  \n",
            "  inflating: ./training-envs-executables/linux/SnowballTarget/SnowballTarget_Data/Managed/Grpc.Core.dll  \n",
            "  inflating: ./training-envs-executables/linux/SnowballTarget/SnowballTarget_Data/Managed/Mono.Security.dll  \n",
            "  inflating: ./training-envs-executables/linux/SnowballTarget/SnowballTarget_Data/Managed/mscorlib.dll  \n",
            "  inflating: ./training-envs-executables/linux/SnowballTarget/SnowballTarget_Data/Managed/netstandard.dll  \n",
            "  inflating: ./training-envs-executables/linux/SnowballTarget/SnowballTarget_Data/Managed/Newtonsoft.Json.dll  \n",
            "  inflating: ./training-envs-executables/linux/SnowballTarget/SnowballTarget_Data/Managed/System.ComponentModel.Composition.dll  \n",
            "  inflating: ./training-envs-executables/linux/SnowballTarget/SnowballTarget_Data/Managed/System.Configuration.dll  \n",
            "  inflating: ./training-envs-executables/linux/SnowballTarget/SnowballTarget_Data/Managed/System.Core.dll  \n",
            "  inflating: ./training-envs-executables/linux/SnowballTarget/SnowballTarget_Data/Managed/System.Data.DataSetExtensions.dll  \n",
            "  inflating: ./training-envs-executables/linux/SnowballTarget/SnowballTarget_Data/Managed/System.Data.dll  \n",
            "  inflating: ./training-envs-executables/linux/SnowballTarget/SnowballTarget_Data/Managed/System.dll  \n",
            "  inflating: ./training-envs-executables/linux/SnowballTarget/SnowballTarget_Data/Managed/System.Drawing.dll  \n",
            "  inflating: ./training-envs-executables/linux/SnowballTarget/SnowballTarget_Data/Managed/System.EnterpriseServices.dll  \n",
            "  inflating: ./training-envs-executables/linux/SnowballTarget/SnowballTarget_Data/Managed/System.Interactive.Async.dll  \n",
            "  inflating: ./training-envs-executables/linux/SnowballTarget/SnowballTarget_Data/Managed/System.IO.Abstractions.dll  \n",
            "  inflating: ./training-envs-executables/linux/SnowballTarget/SnowballTarget_Data/Managed/System.IO.Abstractions.TestingHelpers.dll  \n",
            "  inflating: ./training-envs-executables/linux/SnowballTarget/SnowballTarget_Data/Managed/System.IO.Compression.dll  \n",
            "  inflating: ./training-envs-executables/linux/SnowballTarget/SnowballTarget_Data/Managed/System.IO.Compression.FileSystem.dll  \n",
            "  inflating: ./training-envs-executables/linux/SnowballTarget/SnowballTarget_Data/Managed/System.Net.Http.dll  \n",
            "  inflating: ./training-envs-executables/linux/SnowballTarget/SnowballTarget_Data/Managed/System.Numerics.dll  \n",
            "  inflating: ./training-envs-executables/linux/SnowballTarget/SnowballTarget_Data/Managed/System.Runtime.dll  \n",
            "  inflating: ./training-envs-executables/linux/SnowballTarget/SnowballTarget_Data/Managed/System.Runtime.Serialization.dll  \n",
            "  inflating: ./training-envs-executables/linux/SnowballTarget/SnowballTarget_Data/Managed/System.Security.dll  \n",
            "  inflating: ./training-envs-executables/linux/SnowballTarget/SnowballTarget_Data/Managed/System.ServiceModel.Internals.dll  \n",
            "  inflating: ./training-envs-executables/linux/SnowballTarget/SnowballTarget_Data/Managed/System.Transactions.dll  \n",
            "  inflating: ./training-envs-executables/linux/SnowballTarget/SnowballTarget_Data/Managed/System.Xml.dll  \n",
            "  inflating: ./training-envs-executables/linux/SnowballTarget/SnowballTarget_Data/Managed/System.Xml.Linq.dll  \n",
            "  inflating: ./training-envs-executables/linux/SnowballTarget/SnowballTarget_Data/Managed/Unity.Barracuda.BurstBLAS.dll  \n",
            "  inflating: ./training-envs-executables/linux/SnowballTarget/SnowballTarget_Data/Managed/Unity.Barracuda.dll  \n",
            "  inflating: ./training-envs-executables/linux/SnowballTarget/SnowballTarget_Data/Managed/Unity.Barracuda.ONNX.dll  \n",
            "  inflating: ./training-envs-executables/linux/SnowballTarget/SnowballTarget_Data/Managed/Unity.Burst.Cecil.dll  \n",
            "  inflating: ./training-envs-executables/linux/SnowballTarget/SnowballTarget_Data/Managed/Unity.Burst.Cecil.Mdb.dll  \n",
            "  inflating: ./training-envs-executables/linux/SnowballTarget/SnowballTarget_Data/Managed/Unity.Burst.Cecil.Pdb.dll  \n",
            "  inflating: ./training-envs-executables/linux/SnowballTarget/SnowballTarget_Data/Managed/Unity.Burst.Cecil.Rocks.dll  \n",
            "  inflating: ./training-envs-executables/linux/SnowballTarget/SnowballTarget_Data/Managed/Unity.Burst.dll  \n",
            "  inflating: ./training-envs-executables/linux/SnowballTarget/SnowballTarget_Data/Managed/Unity.Burst.Unsafe.dll  \n",
            "  inflating: ./training-envs-executables/linux/SnowballTarget/SnowballTarget_Data/Managed/Unity.Mathematics.dll  \n",
            "  inflating: ./training-envs-executables/linux/SnowballTarget/SnowballTarget_Data/Managed/Unity.ML-Agents.CommunicatorObjects.dll  \n",
            "  inflating: ./training-envs-executables/linux/SnowballTarget/SnowballTarget_Data/Managed/Unity.ML-Agents.dll  \n",
            "  inflating: ./training-envs-executables/linux/SnowballTarget/SnowballTarget_Data/Managed/Unity.ProGrids.dll  \n",
            "  inflating: ./training-envs-executables/linux/SnowballTarget/SnowballTarget_Data/Managed/Unity.Services.Core.Analytics.dll  \n",
            "  inflating: ./training-envs-executables/linux/SnowballTarget/SnowballTarget_Data/Managed/Unity.Services.Core.Configuration.dll  \n",
            "  inflating: ./training-envs-executables/linux/SnowballTarget/SnowballTarget_Data/Managed/Unity.Services.Core.Device.dll  \n",
            "  inflating: ./training-envs-executables/linux/SnowballTarget/SnowballTarget_Data/Managed/Unity.Services.Core.dll  \n",
            "  inflating: ./training-envs-executables/linux/SnowballTarget/SnowballTarget_Data/Managed/Unity.Services.Core.Environments.dll  \n",
            "  inflating: ./training-envs-executables/linux/SnowballTarget/SnowballTarget_Data/Managed/Unity.Services.Core.Environments.Internal.dll  \n",
            "  inflating: ./training-envs-executables/linux/SnowballTarget/SnowballTarget_Data/Managed/Unity.Services.Core.Internal.dll  \n",
            "  inflating: ./training-envs-executables/linux/SnowballTarget/SnowballTarget_Data/Managed/Unity.Services.Core.Networking.dll  \n",
            "  inflating: ./training-envs-executables/linux/SnowballTarget/SnowballTarget_Data/Managed/Unity.Services.Core.Registration.dll  \n",
            "  inflating: ./training-envs-executables/linux/SnowballTarget/SnowballTarget_Data/Managed/Unity.Services.Core.Scheduler.dll  \n",
            "  inflating: ./training-envs-executables/linux/SnowballTarget/SnowballTarget_Data/Managed/Unity.Services.Core.Telemetry.dll  \n",
            "  inflating: ./training-envs-executables/linux/SnowballTarget/SnowballTarget_Data/Managed/Unity.Services.Core.Threading.dll  \n",
            "  inflating: ./training-envs-executables/linux/SnowballTarget/SnowballTarget_Data/Managed/Unity.TextMeshPro.dll  \n",
            "  inflating: ./training-envs-executables/linux/SnowballTarget/SnowballTarget_Data/Managed/Unity.Timeline.dll  \n",
            "  inflating: ./training-envs-executables/linux/SnowballTarget/SnowballTarget_Data/Managed/UnityEngine.AccessibilityModule.dll  \n",
            "  inflating: ./training-envs-executables/linux/SnowballTarget/SnowballTarget_Data/Managed/UnityEngine.AIModule.dll  \n",
            "  inflating: ./training-envs-executables/linux/SnowballTarget/SnowballTarget_Data/Managed/UnityEngine.AndroidJNIModule.dll  \n",
            "  inflating: ./training-envs-executables/linux/SnowballTarget/SnowballTarget_Data/Managed/UnityEngine.AnimationModule.dll  \n",
            "  inflating: ./training-envs-executables/linux/SnowballTarget/SnowballTarget_Data/Managed/UnityEngine.AssetBundleModule.dll  \n",
            "  inflating: ./training-envs-executables/linux/SnowballTarget/SnowballTarget_Data/Managed/UnityEngine.AudioModule.dll  \n",
            "  inflating: ./training-envs-executables/linux/SnowballTarget/SnowballTarget_Data/Managed/UnityEngine.ClothModule.dll  \n",
            "  inflating: ./training-envs-executables/linux/SnowballTarget/SnowballTarget_Data/Managed/UnityEngine.ClusterInputModule.dll  \n",
            "  inflating: ./training-envs-executables/linux/SnowballTarget/SnowballTarget_Data/Managed/UnityEngine.ClusterRendererModule.dll  \n",
            "  inflating: ./training-envs-executables/linux/SnowballTarget/SnowballTarget_Data/Managed/UnityEngine.CoreModule.dll  \n",
            "  inflating: ./training-envs-executables/linux/SnowballTarget/SnowballTarget_Data/Managed/UnityEngine.CrashReportingModule.dll  \n",
            "  inflating: ./training-envs-executables/linux/SnowballTarget/SnowballTarget_Data/Managed/UnityEngine.DirectorModule.dll  \n",
            "  inflating: ./training-envs-executables/linux/SnowballTarget/SnowballTarget_Data/Managed/UnityEngine.dll  \n",
            "  inflating: ./training-envs-executables/linux/SnowballTarget/SnowballTarget_Data/Managed/UnityEngine.DSPGraphModule.dll  \n",
            "  inflating: ./training-envs-executables/linux/SnowballTarget/SnowballTarget_Data/Managed/UnityEngine.GameCenterModule.dll  \n",
            "  inflating: ./training-envs-executables/linux/SnowballTarget/SnowballTarget_Data/Managed/UnityEngine.GIModule.dll  \n",
            "  inflating: ./training-envs-executables/linux/SnowballTarget/SnowballTarget_Data/Managed/UnityEngine.GridModule.dll  \n",
            "  inflating: ./training-envs-executables/linux/SnowballTarget/SnowballTarget_Data/Managed/UnityEngine.HotReloadModule.dll  \n",
            "  inflating: ./training-envs-executables/linux/SnowballTarget/SnowballTarget_Data/Managed/UnityEngine.ImageConversionModule.dll  \n",
            "  inflating: ./training-envs-executables/linux/SnowballTarget/SnowballTarget_Data/Managed/UnityEngine.IMGUIModule.dll  \n",
            "  inflating: ./training-envs-executables/linux/SnowballTarget/SnowballTarget_Data/Managed/UnityEngine.InputLegacyModule.dll  \n",
            "  inflating: ./training-envs-executables/linux/SnowballTarget/SnowballTarget_Data/Managed/UnityEngine.InputModule.dll  \n",
            "  inflating: ./training-envs-executables/linux/SnowballTarget/SnowballTarget_Data/Managed/UnityEngine.JSONSerializeModule.dll  \n",
            "  inflating: ./training-envs-executables/linux/SnowballTarget/SnowballTarget_Data/Managed/UnityEngine.LocalizationModule.dll  \n",
            "  inflating: ./training-envs-executables/linux/SnowballTarget/SnowballTarget_Data/Managed/UnityEngine.ParticleSystemModule.dll  \n",
            "  inflating: ./training-envs-executables/linux/SnowballTarget/SnowballTarget_Data/Managed/UnityEngine.PerformanceReportingModule.dll  \n",
            "  inflating: ./training-envs-executables/linux/SnowballTarget/SnowballTarget_Data/Managed/UnityEngine.Physics2DModule.dll  \n",
            "  inflating: ./training-envs-executables/linux/SnowballTarget/SnowballTarget_Data/Managed/UnityEngine.PhysicsModule.dll  \n",
            "  inflating: ./training-envs-executables/linux/SnowballTarget/SnowballTarget_Data/Managed/UnityEngine.ProfilerModule.dll  \n",
            "  inflating: ./training-envs-executables/linux/SnowballTarget/SnowballTarget_Data/Managed/UnityEngine.RuntimeInitializeOnLoadManagerInitializerModule.dll  \n",
            "  inflating: ./training-envs-executables/linux/SnowballTarget/SnowballTarget_Data/Managed/UnityEngine.ScreenCaptureModule.dll  \n",
            "  inflating: ./training-envs-executables/linux/SnowballTarget/SnowballTarget_Data/Managed/UnityEngine.SharedInternalsModule.dll  \n",
            "  inflating: ./training-envs-executables/linux/SnowballTarget/SnowballTarget_Data/Managed/UnityEngine.SpriteMaskModule.dll  \n",
            "  inflating: ./training-envs-executables/linux/SnowballTarget/SnowballTarget_Data/Managed/UnityEngine.SpriteShapeModule.dll  \n",
            "  inflating: ./training-envs-executables/linux/SnowballTarget/SnowballTarget_Data/Managed/UnityEngine.StreamingModule.dll  \n",
            "  inflating: ./training-envs-executables/linux/SnowballTarget/SnowballTarget_Data/Managed/UnityEngine.SubstanceModule.dll  \n",
            "  inflating: ./training-envs-executables/linux/SnowballTarget/SnowballTarget_Data/Managed/UnityEngine.SubsystemsModule.dll  \n",
            "  inflating: ./training-envs-executables/linux/SnowballTarget/SnowballTarget_Data/Managed/UnityEngine.TerrainModule.dll  \n",
            "  inflating: ./training-envs-executables/linux/SnowballTarget/SnowballTarget_Data/Managed/UnityEngine.TerrainPhysicsModule.dll  \n",
            "  inflating: ./training-envs-executables/linux/SnowballTarget/SnowballTarget_Data/Managed/UnityEngine.TextCoreFontEngineModule.dll  \n",
            "  inflating: ./training-envs-executables/linux/SnowballTarget/SnowballTarget_Data/Managed/UnityEngine.TextCoreTextEngineModule.dll  \n",
            "  inflating: ./training-envs-executables/linux/SnowballTarget/SnowballTarget_Data/Managed/UnityEngine.TextRenderingModule.dll  \n",
            "  inflating: ./training-envs-executables/linux/SnowballTarget/SnowballTarget_Data/Managed/UnityEngine.TilemapModule.dll  \n",
            "  inflating: ./training-envs-executables/linux/SnowballTarget/SnowballTarget_Data/Managed/UnityEngine.TLSModule.dll  \n",
            "  inflating: ./training-envs-executables/linux/SnowballTarget/SnowballTarget_Data/Managed/UnityEngine.UI.dll  \n",
            "  inflating: ./training-envs-executables/linux/SnowballTarget/SnowballTarget_Data/Managed/UnityEngine.UIElementsModule.dll  \n",
            "  inflating: ./training-envs-executables/linux/SnowballTarget/SnowballTarget_Data/Managed/UnityEngine.UIElementsNativeModule.dll  \n",
            "  inflating: ./training-envs-executables/linux/SnowballTarget/SnowballTarget_Data/Managed/UnityEngine.UIModule.dll  \n",
            "  inflating: ./training-envs-executables/linux/SnowballTarget/SnowballTarget_Data/Managed/UnityEngine.UmbraModule.dll  \n",
            "  inflating: ./training-envs-executables/linux/SnowballTarget/SnowballTarget_Data/Managed/UnityEngine.UNETModule.dll  \n",
            "  inflating: ./training-envs-executables/linux/SnowballTarget/SnowballTarget_Data/Managed/UnityEngine.UnityAnalyticsCommonModule.dll  \n",
            "  inflating: ./training-envs-executables/linux/SnowballTarget/SnowballTarget_Data/Managed/UnityEngine.UnityAnalyticsModule.dll  \n",
            "  inflating: ./training-envs-executables/linux/SnowballTarget/SnowballTarget_Data/Managed/UnityEngine.UnityConnectModule.dll  \n",
            "  inflating: ./training-envs-executables/linux/SnowballTarget/SnowballTarget_Data/Managed/UnityEngine.UnityCurlModule.dll  \n",
            "  inflating: ./training-envs-executables/linux/SnowballTarget/SnowballTarget_Data/Managed/UnityEngine.UnityTestProtocolModule.dll  \n",
            "  inflating: ./training-envs-executables/linux/SnowballTarget/SnowballTarget_Data/Managed/UnityEngine.UnityWebRequestAssetBundleModule.dll  \n",
            "  inflating: ./training-envs-executables/linux/SnowballTarget/SnowballTarget_Data/Managed/UnityEngine.UnityWebRequestAudioModule.dll  \n",
            "  inflating: ./training-envs-executables/linux/SnowballTarget/SnowballTarget_Data/Managed/UnityEngine.UnityWebRequestModule.dll  \n",
            "  inflating: ./training-envs-executables/linux/SnowballTarget/SnowballTarget_Data/Managed/UnityEngine.UnityWebRequestTextureModule.dll  \n",
            "  inflating: ./training-envs-executables/linux/SnowballTarget/SnowballTarget_Data/Managed/UnityEngine.UnityWebRequestWWWModule.dll  \n",
            "  inflating: ./training-envs-executables/linux/SnowballTarget/SnowballTarget_Data/Managed/UnityEngine.VehiclesModule.dll  \n",
            "  inflating: ./training-envs-executables/linux/SnowballTarget/SnowballTarget_Data/Managed/UnityEngine.VFXModule.dll  \n",
            "  inflating: ./training-envs-executables/linux/SnowballTarget/SnowballTarget_Data/Managed/UnityEngine.VideoModule.dll  \n",
            "  inflating: ./training-envs-executables/linux/SnowballTarget/SnowballTarget_Data/Managed/UnityEngine.VirtualTexturingModule.dll  \n",
            "  inflating: ./training-envs-executables/linux/SnowballTarget/SnowballTarget_Data/Managed/UnityEngine.VRModule.dll  \n",
            "  inflating: ./training-envs-executables/linux/SnowballTarget/SnowballTarget_Data/Managed/UnityEngine.WindModule.dll  \n",
            "  inflating: ./training-envs-executables/linux/SnowballTarget/SnowballTarget_Data/Managed/UnityEngine.XRModule.dll  \n",
            "  inflating: ./training-envs-executables/linux/SnowballTarget/SnowballTarget_Data/MonoBleedingEdge/etc/config  \n",
            "  inflating: ./training-envs-executables/linux/SnowballTarget/SnowballTarget_Data/MonoBleedingEdge/etc/mono/2.0/Browsers/Compat.browser  \n",
            "  inflating: ./training-envs-executables/linux/SnowballTarget/SnowballTarget_Data/MonoBleedingEdge/etc/mono/2.0/DefaultWsdlHelpGenerator.aspx  \n",
            "  inflating: ./training-envs-executables/linux/SnowballTarget/SnowballTarget_Data/MonoBleedingEdge/etc/mono/2.0/machine.config  \n",
            "  inflating: ./training-envs-executables/linux/SnowballTarget/SnowballTarget_Data/MonoBleedingEdge/etc/mono/2.0/settings.map  \n",
            "  inflating: ./training-envs-executables/linux/SnowballTarget/SnowballTarget_Data/MonoBleedingEdge/etc/mono/2.0/web.config  \n",
            "  inflating: ./training-envs-executables/linux/SnowballTarget/SnowballTarget_Data/MonoBleedingEdge/etc/mono/4.0/Browsers/Compat.browser  \n",
            "  inflating: ./training-envs-executables/linux/SnowballTarget/SnowballTarget_Data/MonoBleedingEdge/etc/mono/4.0/DefaultWsdlHelpGenerator.aspx  \n",
            "  inflating: ./training-envs-executables/linux/SnowballTarget/SnowballTarget_Data/MonoBleedingEdge/etc/mono/4.0/machine.config  \n",
            "  inflating: ./training-envs-executables/linux/SnowballTarget/SnowballTarget_Data/MonoBleedingEdge/etc/mono/4.0/settings.map  \n",
            "  inflating: ./training-envs-executables/linux/SnowballTarget/SnowballTarget_Data/MonoBleedingEdge/etc/mono/4.0/web.config  \n",
            "  inflating: ./training-envs-executables/linux/SnowballTarget/SnowballTarget_Data/MonoBleedingEdge/etc/mono/4.5/Browsers/Compat.browser  \n",
            "  inflating: ./training-envs-executables/linux/SnowballTarget/SnowballTarget_Data/MonoBleedingEdge/etc/mono/4.5/DefaultWsdlHelpGenerator.aspx  \n",
            "  inflating: ./training-envs-executables/linux/SnowballTarget/SnowballTarget_Data/MonoBleedingEdge/etc/mono/4.5/machine.config  \n",
            "  inflating: ./training-envs-executables/linux/SnowballTarget/SnowballTarget_Data/MonoBleedingEdge/etc/mono/4.5/settings.map  \n",
            "  inflating: ./training-envs-executables/linux/SnowballTarget/SnowballTarget_Data/MonoBleedingEdge/etc/mono/4.5/web.config  \n",
            "  inflating: ./training-envs-executables/linux/SnowballTarget/SnowballTarget_Data/MonoBleedingEdge/etc/mono/browscap.ini  \n",
            "  inflating: ./training-envs-executables/linux/SnowballTarget/SnowballTarget_Data/MonoBleedingEdge/etc/mono/config  \n",
            "  inflating: ./training-envs-executables/linux/SnowballTarget/SnowballTarget_Data/MonoBleedingEdge/etc/mono/mconfig/config.xml  \n",
            "  inflating: ./training-envs-executables/linux/SnowballTarget/SnowballTarget_Data/MonoBleedingEdge/x86_64/libmono-native.so  \n",
            "  inflating: ./training-envs-executables/linux/SnowballTarget/SnowballTarget_Data/MonoBleedingEdge/x86_64/libmonobdwgc-2.0.so  \n",
            "  inflating: ./training-envs-executables/linux/SnowballTarget/SnowballTarget_Data/MonoBleedingEdge/x86_64/libMonoPosixHelper.so  \n",
            "  inflating: ./training-envs-executables/linux/SnowballTarget/SnowballTarget_Data/Plugins/libgrpc_csharp_ext.x64.so  \n",
            "  inflating: ./training-envs-executables/linux/SnowballTarget/SnowballTarget_Data/Plugins/lib_burst_generated.so  \n",
            "  inflating: ./training-envs-executables/linux/SnowballTarget/SnowballTarget_Data/Resources/unity default resources  \n",
            "  inflating: ./training-envs-executables/linux/SnowballTarget/SnowballTarget_Data/Resources/UnityPlayer.png  \n",
            "  inflating: ./training-envs-executables/linux/SnowballTarget/SnowballTarget_Data/Resources/unity_builtin_extra  \n",
            "  inflating: ./training-envs-executables/linux/SnowballTarget/SnowballTarget_Data/resources.assets  \n",
            "  inflating: ./training-envs-executables/linux/SnowballTarget/SnowballTarget_Data/resources.assets.resS  \n",
            "  inflating: ./training-envs-executables/linux/SnowballTarget/SnowballTarget_Data/RuntimeInitializeOnLoads.json  \n",
            "  inflating: ./training-envs-executables/linux/SnowballTarget/SnowballTarget_Data/ScriptingAssemblies.json  \n",
            "  inflating: ./training-envs-executables/linux/SnowballTarget/SnowballTarget_Data/sharedassets0.assets  \n",
            "  inflating: ./training-envs-executables/linux/SnowballTarget/SnowballTarget_Data/sharedassets0.assets.resS  \n",
            "  inflating: ./training-envs-executables/linux/SnowballTarget/SnowballTarget_Data/StreamingAssets/UnityServicesProjectConfiguration.json  \n",
            "  inflating: ./training-envs-executables/linux/SnowballTarget/UnityPlayer.so  \n"
          ]
        }
      ]
    },
    {
      "cell_type": "markdown",
      "source": [
        "Убедитесь, что ваш файл доступен"
      ],
      "metadata": {
        "id": "mqtd7DJ-7rep"
      }
    },
    {
      "cell_type": "code",
      "source": [
        "!chmod -R 755 ./training-envs-executables/linux/SnowballTarget"
      ],
      "metadata": {
        "id": "lkbsZFeu7uNJ"
      },
      "execution_count": null,
      "outputs": []
    },
    {
      "cell_type": "markdown",
      "source": [
        "### Настройте конфигурационный файл SnowballTarget\n",
        "- Для ML-Agents вы определяете гиперпараметры обучения **в файлах config.yaml.**\n",
        "\n",
        "Существует несколько гиперпараметров. Чтобы узнать их лучше, вы должны изучить [документацию](https://github.com/Unity-Technologies/ml-agents/blob/release_20_docs/docs/Training-Configuration-File.md)\n",
        "\n",
        "\n",
        "Итак, вам нужно создать`SnowballTarget.yaml` конфигурационный файл в папке ./content/ml-agents/config/ppo/\n",
        "\n",
        "Мы предоставим вам здесь первую версию этой конфигурации (для копирования и вставки в ваш файл `SnowballTarget.yaml`), **но вы должны изменить его**.\n",
        "\n",
        "```\n",
        "behaviors:\n",
        "  SnowballTarget:\n",
        "    trainer_type: ppo\n",
        "    summary_freq: 10000\n",
        "    keep_checkpoints: 10\n",
        "    checkpoint_interval: 50000\n",
        "    max_steps: 200000\n",
        "    time_horizon: 64\n",
        "    threaded: true\n",
        "    hyperparameters:\n",
        "      learning_rate: 0.0003\n",
        "      learning_rate_schedule: linear\n",
        "      batch_size: 128\n",
        "      buffer_size: 2048\n",
        "      beta: 0.005\n",
        "      epsilon: 0.2\n",
        "      lambd: 0.95\n",
        "      num_epoch: 3\n",
        "    network_settings:\n",
        "      normalize: false\n",
        "      hidden_units: 256\n",
        "      num_layers: 2\n",
        "      vis_encode_type: simple\n",
        "    reward_signals:\n",
        "      extrinsic:\n",
        "        gamma: 0.99\n",
        "        strength: 1.0\n",
        "```"
      ],
      "metadata": {
        "id": "GYfDtPRd7x_K"
      }
    },
    {
      "cell_type": "markdown",
      "source": [
        "<img src=\"https://huggingface.co/datasets/huggingface-deep-rl-course/course-images/resolve/main/en/unit7/snowballfight_config1.png\" alt=\"Config SnowballTarget\" width=\"70%\"/>\n",
        "<img src=\"https://huggingface.co/datasets/huggingface-deep-rl-course/course-images/resolve/main/en/unit7/snowballfight_config2.png\" alt=\"Config SnowballTarget\" width=\"70%\"/>"
      ],
      "metadata": {
        "id": "TH6duBx18z1x"
      }
    },
    {
      "cell_type": "markdown",
      "source": [
        "В качестве эксперимента вам также следует попробовать изменить некоторые другие гиперпараметры. Unity предоставляет очень [хорошую документацию, объясняющую каждый из них здесь](https://github.com/Unity-Technologies/ml-agents/blob/main/docs/Training-Configuration-File.md).\n",
        "\n",
        "Теперь, когда вы создали конфигурационный файл и понимаете, что делает большинство гиперпараметров, мы готовы обучить нашего агента 🔥."
      ],
      "metadata": {
        "id": "1UiZs9FoB19G"
      }
    },
    {
      "cell_type": "markdown",
      "source": [
        "### Обучите агента\n",
        "\n",
        "Чтобы обучить нашего агента, нам просто нужно **запустить ml agents-learn и выбрать исполняемый файл, содержащий среду.**\n",
        "\n",
        "Мы определяем четыре параметра:\n",
        "\n",
        "1. `mlagents-learn <config>`: путь, в котором находится конфигурационный файл гиперпараметра.\n",
        "2. `--env`: где находится исполняемый файл среды.\n",
        "3. `--run_id`: имя, которое вы хотите присвоить своему идентификатору тренировочного прогона.\n",
        "4. `--no-graphics`: чтобы не запускать визуализацию во время тренировки.\n",
        "\n",
        "<img src=\"https://huggingface.co/datasets/huggingface-deep-rl-course/course-images/resolve/main/en/unit7/mlagentslearn.png\" alt=\"MlAgents learn\" width=\"70%\"/>\n",
        "\n",
        "Обучите модель и используйте флаг `--resume`, чтобы продолжить обучение в случае прерывания. \n",
        "\n",
        "> В первый раз произойдет сбой, когда вы используете `--resume`, попробуйте запустить блок еще раз, чтобы обойти ошибку."
      ],
      "metadata": {
        "id": "SBem6EI5CLwN"
      }
    },
    {
      "cell_type": "code",
      "source": [
        "!mlagents-learn /content/ml-agents/config/ppo/SnowballTarget.yaml --env=./training-envs-executables/linux/SnowballTarget/SnowballTarget --run-id=\"SnowballTarget1\" --no-graphics"
      ],
      "metadata": {
        "id": "XmeAKwX_FMxG"
      },
      "execution_count": null,
      "outputs": []
    },
    {
      "cell_type": "markdown",
      "source": [
        "Тренировка займет от 10 до 35 минут в зависимости от вашей конфигурации."
      ],
      "metadata": {
        "id": "hzqfc-pGE-CW"
      }
    },
    {
      "cell_type": "markdown",
      "source": [
        "### Переместите агента в концентратор 🤗\n",
        "\n",
        "- Теперь, когда мы обучили нашего агента, мы **готовы перенести его в центр, чтобы иметь возможность визуализировать его воспроизведение в вашем браузере 🔥 .**"
      ],
      "metadata": {
        "id": "YdY51gu4FWRN"
      }
    },
    {
      "cell_type": "code",
      "source": [
        "from huggingface_hub import notebook_login\n",
        "notebook_login()"
      ],
      "metadata": {
        "id": "kVsyuVigFeHN"
      },
      "execution_count": null,
      "outputs": []
    },
    {
      "cell_type": "markdown",
      "source": [
        "Затем нам просто нужно запустить `mlagents-push-to-hf`.\n",
        "\n",
        "И мы определяем 4 параметра:\n",
        "\n",
        "1. `--run-id`: имя идентификатора тренировочного прогона.\n",
        "2. `--local-dir`: где агент был сохранен, это `results/run_id name`, так что в моем случае `results/First Training`.\n",
        "3. `--repo-id`: название репозитория Hugging Face, который вы хотите создать или обновить. Это всегда `your huggingface username/the repo name`\n",
        "Если репозиторий не существует **, он будет создан автоматически**\n",
        "4. `--commit-message`: поскольку репозитории HF являются репозиторием git, вам необходимо определить сообщение о фиксации.\n",
        "\n",
        "<img src=\"https://huggingface.co/datasets/huggingface-deep-rl-course/course-images/resolve/main/en/unit7/mlagentspushtohub.png\" alt=\"Push to Hub\" width=\"70%\"/>\n",
        "\n",
        "Например:\n",
        "\n",
        "`!mlagents-push-to-hf  --run-id=\"SnowballTarget1\" --local-dir=\"./results/SnowballTarget1\" --repo-id=\"ThomasSimonini/ppo-SnowballTarget\"  --commit-message=\"First Push\"`"
      ],
      "metadata": {
        "id": "8Vp8SYtkFeys"
      }
    },
    {
      "cell_type": "code",
      "source": [
        "!mlagents-push-to-hf  --run-id= # Добавить Ваш run id  --local-dir= # Ваша локальная папка  --repo-id= # Ваш repo id  --commit-message= # Ваше сообщение о фиксации"
      ],
      "metadata": {
        "id": "44oEuafeHX29"
      },
      "execution_count": null,
      "outputs": []
    },
    {
      "cell_type": "markdown",
      "source": [
        "Если все сработало, вы должны получить это в конце процесса (но с другим URL 😆 ) :\n",
        "\n",
        "\n",
        "\n",
        "```\n",
        "Your model is pushed to the hub. You can view your model here: https://huggingface.co/ThomasSimonini/ppo-SnowballTarget\n",
        "```\n",
        "\n",
        "Это ссылка на вашу модель, она содержит карточку модели, которая объясняет, как ее использовать, вашу Tensorboard и ваш конфигурационный файл. **Что удивительно, так это то, что это репозиторий git, это означает, что вы можете иметь разные коммиты, обновлять свой репозиторий новым нажатием и т.д.**"
      ],
      "metadata": {
        "id": "tPCSUF-JHyE9"
      }
    },
    {
      "cell_type": "markdown",
      "source": [
        "Но теперь наступает самое лучшее: **возможность визуализировать своего агента онлайн 👀 .**"
      ],
      "metadata": {
        "id": "dC4XrETPIGj9"
      }
    },
    {
      "cell_type": "markdown",
      "source": [
        "### Наблюдай за игрой своего агента 👀\n",
        "\n",
        "Для этого шага необходимо:\n",
        "\n",
        "1. Запомнить свой repo-id\n",
        "\n",
        "2. Перейти: https://singularite.itch.io/snowballtarget\n",
        "\n",
        "3. Запустите игру и переведите ее в полноэкранный режим, нажав на правую нижнюю кнопку\n",
        "\n",
        "<img src=\"https://huggingface.co/datasets/huggingface-deep-rl-course/course-images/resolve/main/en/unit7/snowballtarget_load.png\" alt=\"Snowballtarget load\" width=\"70%\"/>"
      ],
      "metadata": {
        "id": "baQqG6bSIOId"
      }
    },
    {
      "cell_type": "markdown",
      "source": [
        "1. На шаге 1 выберите репозиторий вашей модели, который является идентификатором модели (в моем случае `ThomasSimonini/ppo-SnowballTarget`).\n",
        "\n",
        "2. На шаге 2 **выберите, какую модель вы хотите воспроизвести**:\n",
        "   - У меня их несколько, так как мы сохраняли модель каждые 500000 временных шагов.\n",
        "   - Но если я хочу более свежую версию, я выбираю `SnowballTarget.onnx'\n",
        "\n",
        "👉 Что приятно **, так это попробовать с разными моделями шаг за шагом, чтобы увидеть улучшение агента.**\n",
        "\n",
        "И не стесняйтесь делиться лучшим результатом, полученным вашим агентом на discord в #rl-i-made-this channel 🔥\n",
        "\n",
        "Давайте теперь попробуем более сложную среду под названием Pyramids..."
      ],
      "metadata": {
        "id": "8xHpLAviJcBO"
      }
    },
    {
      "cell_type": "markdown",
      "source": [
        "## Пирамиды (Pyramids) 🏆\n",
        "\n",
        "### Загрузите и переместите zip-файл среды в `./training-envs-executables/linux/`\n",
        "- Исполняемый файл нашей среды находится в zip-файле.\n",
        "- Нам нужно загрузить его и разместить на `./training-envs-executables/linux/`\n",
        "- Мы используем исполняемый файл linux, потому что мы используем colab, а ОС colab машины - это Ubuntu (linux)"
      ],
      "metadata": {
        "id": "8A4etYwDKQkd"
      }
    },
    {
      "cell_type": "markdown",
      "source": [
        "Загрузите файл Pyramids.zip из https://drive.google.com/uc?export=download&id=1UiFNdKlsH0NTu32xV-giYUEVKV4-vc7H используя `wget`. Ознакомьтесь с полным решением для загрузки больших файлов из GDrive [здесь](https://bcrf.biochem.wisc.edu/2021/02/05/download-google-drive-files-using-wget/)"
      ],
      "metadata": {
        "id": "WcikOIpgK2j-"
      }
    },
    {
      "cell_type": "code",
      "source": [
        "!wget --load-cookies /tmp/cookies.txt \"https://docs.google.com/uc?export=download&confirm=$(wget --quiet --save-cookies /tmp/cookies.txt --keep-session-cookies --no-check-certificate 'https://docs.google.com/uc?export=download&id=1UiFNdKlsH0NTu32xV-giYUEVKV4-vc7H' -O- | sed -rn 's/.*confirm=([0-9A-Za-z_]+).*/\\1\\n/p')&id=1UiFNdKlsH0NTu32xV-giYUEVKV4-vc7H\" -O ./training-envs-executables/linux/Pyramids.zip && rm -rf /tmp/cookies.txt"
      ],
      "metadata": {
        "id": "F3tEBzQSLMnW"
      },
      "execution_count": null,
      "outputs": []
    },
    {
      "cell_type": "markdown",
      "source": [
        "**ИЛИ** Загрузите непосредственно на локальный компьютер, а затем перетащите файл с локального компьютера на `./training-envs-executables/linux`"
      ],
      "metadata": {
        "id": "QU0UIGv0LNp1"
      }
    },
    {
      "cell_type": "markdown",
      "source": [
        "Дождитесь завершения загрузки, а затем выполните приведенную ниже команду."
      ],
      "metadata": {
        "id": "yY5AAHiTLhTc"
      }
    },
    {
      "cell_type": "markdown",
      "source": [
        "Распакуйте его"
      ],
      "metadata": {
        "id": "xJUAFtwqLql0"
      }
    },
    {
      "cell_type": "code",
      "source": [
        "%%capture\n",
        "!unzip -d ./training-envs-executables/linux/ ./training-envs-executables/linux/Pyramids.zip"
      ],
      "metadata": {
        "id": "cac7A0uULuDc"
      },
      "execution_count": null,
      "outputs": []
    },
    {
      "cell_type": "markdown",
      "source": [
        "Убедитесь, что ваш файл доступен"
      ],
      "metadata": {
        "id": "FkmA6hgcLyZs"
      }
    },
    {
      "cell_type": "code",
      "source": [
        "!chmod -R 755 ./training-envs-executables/linux/Pyramids/Pyramids"
      ],
      "metadata": {
        "id": "j7Tc0Uo-Ly7s"
      },
      "execution_count": null,
      "outputs": []
    },
    {
      "cell_type": "markdown",
      "source": [
        "### Измените конфигурационный файл PyramidsRND\n",
        "- В отличие от первой среды, которая была пользовательской, ** Pyramids была создана командой Unity**.\n",
        "- - Итак, конфигурационный файл PyramidsRND уже существует и находится в ./content/ml-agents/config/ppo/PyramidsRND.yaml\n",
        "- Вы могли бы спросить, что значит \"RND\". RND расшифровывается как *случайная сетевая дистилляция* это способ получения вознаграждения за любопытство. Если вы хотите узнать об этом больше, мы написали статью, объясняющую эту технику: https://medium.com/data-from-the-trenches/curiosity-driven-learning-through-random-network-distillation-488ffd8e5938\n",
        "\n",
        "Для этого тренинга мы изменим одну вещь:\n",
        "- Гиперпараметр \"Общее количество шагов обучения\" слишком высок, поскольку мы можем достичь контрольного показателя (среднее вознаграждение = 1,75) всего за 1 м шагов обучения.\n",
        "👉 Чтобы сделать это, мы переходим в config/ppo/PyramidsRND.yaml,** и изменяем их на max_steps равным 1000000.**\n",
        "\n",
        "<img src=\"https://huggingface.co/datasets/huggingface-deep-rl-course/course-images/resolve/main/en/unit7/pyramids-config.png\" alt=\"Pyramids config\" width=\"50%\"/>"
      ],
      "metadata": {
        "id": "VXnO41DfL4cl"
      }
    },
    {
      "cell_type": "markdown",
      "source": [
        "В качестве эксперимента вам также следует попробовать изменить некоторые другие гиперпараметры, Unity предоставляет очень [хорошую документацию, объясняющую каждый из них здесь](https://github.com/Unity-Technologies/ml-agents/blob/main/docs/Training-Configuration-File.md).\n",
        "\n",
        "Теперь мы готовы обучить нашего агента🔥."
      ],
      "metadata": {
        "id": "3qoeL6znNgx0"
      }
    },
    {
      "cell_type": "markdown",
      "source": [
        "### Обучите агента\n",
        "\n",
        "Тренировка займет от 30 до 45 минут в зависимости от вашего тренажера."
      ],
      "metadata": {
        "id": "h8UV_rs4OGVF"
      }
    },
    {
      "cell_type": "code",
      "source": [
        "!mlagents-learn ./config/ppo/PyramidsRND.yaml --env=./training-envs-executables/linux/Pyramids/Pyramids --run-id=\"Pyramids Training\" --no-graphics"
      ],
      "metadata": {
        "id": "W8Kgs1EpORDF"
      },
      "execution_count": null,
      "outputs": []
    },
    {
      "cell_type": "markdown",
      "source": [
        "### Переместите агента в концентратор 🤗\n",
        "\n",
        "- Теперь, когда мы обучили нашего агента, мы **готовы перенести его в центр, чтобы иметь возможность визуализировать его воспроизведение в вашем браузере 🔥 .**"
      ],
      "metadata": {
        "id": "YK1cZsViOVD1"
      }
    },
    {
      "cell_type": "code",
      "source": [
        "!mlagents-push-to-hf  --run-id= # Add your run id  --local-dir= # Your local dir  --repo-id= # Your repo id  --commit-message= # Your commit message"
      ],
      "metadata": {
        "id": "t1tLXUeGMP6S"
      },
      "execution_count": null,
      "outputs": []
    },
    {
      "cell_type": "markdown",
      "source": [
        "### Watch your agent playing 👀\n",
        "\n",
        "The temporary link for Pyramids demo is: https://singularite.itch.io/pyramids"
      ],
      "metadata": {
        "id": "mJyosjbUOf7U"
      }
    },
    {
      "cell_type": "markdown",
      "source": [
        "### 🎁 Бонус: Почему бы не потренироваться в другой среде?\n",
        "Теперь, когда вы знаете, как обучить агента с помощью MLAgents, **почему бы не попробовать другую среду?**\n",
        "\n",
        "MLAgents предоставляет 18 различных сервисов, и мы создаем несколько пользовательских. Лучший способ учиться - это пробовать что-то свое, получать удовольствие."
      ],
      "metadata": {
        "id": "6wYlgj6abnQ8"
      }
    },
    {
      "cell_type": "markdown",
      "source": [
        "![cover](https://miro.medium.com/max/1400/0*xERdThTRRM2k_U9f.png)"
      ],
      "metadata": {
        "id": "EREwJCeKb0vy"
      }
    },
    {
      "cell_type": "markdown",
      "source": [
        "Полный список того, что в настоящее время доступно на Hugging Face 👉 https://github.com/huggingface/ml-agents#the-environments\n",
        "\n",
        "Для демонстрации вашего агента временная ссылка: https://singularite.itch.io (временно, потому что мы также разместим демо-версии на Hugging Face Space)\n",
        "\n",
        "На данный момент мы интегрировали: \n",
        "- [Червь (Worm)](https://singularite.itch.io/worm) демонстрация, в которой вы учите ** червяка ползать **.\n",
        "- [Ходок](https://singularite.itch.io/walker) демонстрация, в которой вы учите агента ** идти к цели **.\n",
        "\n",
        "Если вы хотите, чтобы были добавлены новые демо-версии, пожалуйста, откройте проблему: https://github.com/huggingface/deep-rl-class 🤗"
      ],
      "metadata": {
        "id": "o3zsOXYzb7Jz"
      }
    },
    {
      "cell_type": "markdown",
      "source": [
        "Это все на сегодня. Поздравляю с окончанием этого урока!\n",
        "\n",
        "Лучший способ учиться - это практиковаться и пробовать что-то новое. Почему бы не попробовать другую среду? ML-Agents имеет 18 различных сред, но вы также можете создать свою собственную? Ознакомьтесь с документацией и получайте удовольствие!\n",
        "\n",
        "Увидимся в блоке 6 🔥 ,\n",
        "## Keep Learning, Stay  awesome 🤗"
      ],
      "metadata": {
        "id": "Kz2NGuSWcxQ7"
      }
    }
  ]
}