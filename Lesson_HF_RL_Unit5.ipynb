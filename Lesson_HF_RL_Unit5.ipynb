{
  "nbformat": 4,
  "nbformat_minor": 0,
  "metadata": {
    "colab": {
      "provenance": [],
      "authorship_tag": "ABX9TyP1mDTQt9oNb3io9YbRvGi2",
      "include_colab_link": true
    },
    "kernelspec": {
      "name": "python3",
      "display_name": "Python 3"
    },
    "language_info": {
      "name": "python"
    }
  },
  "cells": [
    {
      "cell_type": "markdown",
      "metadata": {
        "id": "view-in-github",
        "colab_type": "text"
      },
      "source": [
        "<a href=\"https://colab.research.google.com/github/Art-phys/Lesson_HF_LR/blob/main/Lesson_HF_RL_Unit5.ipynb\" target=\"_parent\"><img src=\"https://colab.research.google.com/assets/colab-badge.svg\" alt=\"Open In Colab\"/></a>"
      ]
    },
    {
      "cell_type": "markdown",
      "source": [
        "# Блок 5: Введение в ML-агенты"
      ],
      "metadata": {
        "id": "yiSKx4uV1OJS"
      }
    },
    {
      "cell_type": "markdown",
      "source": [
        "<img src=\"https://huggingface.co/datasets/huggingface-deep-rl-course/course-images/resolve/main/en/unit7/thumbnail.png\" alt=\"Thumbnail\" width=\"70%\"/>\n",
        "\n",
        "В этом блокноте вы узнаете о ML-агентах и обучите двух агентов.\n",
        "\n",
        "- Первый из них научится **стрелять снежками по появляющимся мишеням**.\n",
        "- Второму нужно нажать кнопку, чтобы создать пирамиду, затем перейти к пирамиде, опрокинуть ее **и перейти к золотому кирпичу наверху**. Чтобы сделать это, ему нужно будет исследовать свое окружение, и мы будем использовать технику, называемую любопытство (curiosity).\n",
        "\n",
        "После этого вы сможете **наблюдать за игрой ваших агентов прямо в вашем браузере**."
      ],
      "metadata": {
        "id": "f-yR2Dsj1XyJ"
      }
    },
    {
      "cell_type": "markdown",
      "source": [
        "⬇️ Вот пример того, чего **вы достигнете в конце этого блока.** ⬇️"
      ],
      "metadata": {
        "id": "z2OD_b822d4B"
      }
    },
    {
      "cell_type": "markdown",
      "source": [
        "<img src=\"https://huggingface.co/datasets/huggingface-deep-rl-course/course-images/resolve/main/en/unit7/pyramids.gif\" alt=\"Pyramids\"/>\n",
        "\n",
        "<img src=\"https://huggingface.co/datasets/huggingface-deep-rl-course/course-images/resolve/main/en/unit7/snowballtarget.gif\" alt=\"SnowballTarget\" width=\"70%\"/>"
      ],
      "metadata": {
        "id": "7qw8APUf2jX5"
      }
    },
    {
      "cell_type": "markdown",
      "source": [
        "### 🎮 Окружающая среда: \n",
        "\n",
        "- Пирамиды [Pyramids](https://github.com/Unity-Technologies/ml-agents/blob/main/docs/Learning-Environment-Examples.md#pyramids)\n",
        "- Мишень для снежков (SnowballTarget)\n",
        "\n",
        "### 📚 RL-Library: \n",
        "\n",
        "- [ML-Агенты (Экспериментальная версия с HuggingFace)](https://github.com/huggingface/ml-agents)\n",
        "\n",
        "⚠ Мы собираемся использовать экспериментальную версию ML-Agents, где вы можете использовать hub и загружать из hub модели Unity ML-Agents **вам необходимо установить ту же версию**"
      ],
      "metadata": {
        "id": "wKzanhak2zbg"
      }
    },
    {
      "cell_type": "markdown",
      "source": [
        "## Цели этго блокнота 🏆\n",
        "\n",
        "В конце блокнота вы:\n",
        "\n",
        "- Поймете, как работает **ML-Agents** и библиотека окружения.\n",
        "- Научитесь **обучать агентов в средах Unity**."
      ],
      "metadata": {
        "id": "mepHVO0q303R"
      }
    },
    {
      "cell_type": "markdown",
      "source": [
        "\n",
        "<img src=\"https://huggingface.co/datasets/huggingface-deep-rl-course/course-images/resolve/main/en/notebooks/deep-rl-course-illustration.jpg\" alt=\"Deep RL Course illustration\" width=\"70%\"/>"
      ],
      "metadata": {
        "id": "godCAzny4liR"
      }
    },
    {
      "cell_type": "markdown",
      "source": [
        "## Предварительные условия 🏗️\n",
        "Прежде чем начать, вам нужно:\n",
        "\n",
        "🔲  📚 ****Изучить [что такое ML-агенты и как это работает, прочитав блок 5](https://huggingface.co/deep-rl-course/unit5/introduction )** 🤗"
      ],
      "metadata": {
        "id": "KWnn1ypA497R"
      }
    },
    {
      "cell_type": "markdown",
      "source": [
        "# Давайте обучим наших агентов 🚀\n",
        "\n",
        "Интеграция ML-агентов на хабе **все еще является экспериментальной**, некоторые функции будут добавлены в будущем.\n",
        "\n",
        "Но на данный момент, **чтобы подтвердить это практическое руководство для процесса сертификации, вам просто нужно отправить ваши обученные модели в центр**. Нет никаких результатов, которых можно было бы достичь, чтобы подтвердить это. Но если вы хотите получить хорошие результаты, вы можете попытаться достичь:\n",
        "\n",
        "- Для `Pyramids` : Среднюю награду= 1.75\n",
        "- Для `SnowballTarget` : Среднюю награду = 15 или 30 целей, пораженных в эпизоде."
      ],
      "metadata": {
        "id": "U57QLq535L7Q"
      }
    },
    {
      "cell_type": "markdown",
      "source": [
        "## Клонируйте репозиторий и установите зависимости 🔽\n",
        "- Нам нужно клонировать репозиторий, который **содержит экспериментальную версию библиотеки, которая позволяет вам отправлять вашего обученного агента в концентратор.**"
      ],
      "metadata": {
        "id": "85qF3RAm5_CJ"
      }
    },
    {
      "cell_type": "code",
      "source": [
        "%%capture\n",
        "# Клонируйте репозиторий\n",
        "!git clone --depth 1 https://github.com/huggingface/ml-agents/ "
      ],
      "metadata": {
        "id": "HOP4BalT6Gwy"
      },
      "execution_count": null,
      "outputs": []
    },
    {
      "cell_type": "code",
      "source": [
        "%%capture\n",
        "# Зайдите в репозиторий и установите пакет\n",
        "%cd ml-agents\n",
        "!pip3 install -e ./ml-agents-envs\n",
        "!pip3 install -e ./ml-agents"
      ],
      "metadata": {
        "id": "3aH8_KbS6Nv4"
      },
      "execution_count": null,
      "outputs": []
    },
    {
      "cell_type": "markdown",
      "source": [
        "##Мишень для снежка ⛄\n",
        "\n",
        "Если вам нужно уточнить, как работают эти среды, ознакомьтесь с этим разделом 👉\n",
        "https://huggingface.co/deep-rl-course/unit5/snowball-target"
      ],
      "metadata": {
        "id": "fDVfPYI86VQZ"
      }
    },
    {
      "cell_type": "markdown",
      "source": [
        "### Загрузите и переместите zip-файл среды в `./training-envs-executables/linux/`\n",
        "- Исполняемый файл нашей среды находится в zip-файле.\n",
        "- Нам нужно загрузить его и поместить в `./training-envs-executables/linux/`\n",
        "- Мы используем исполняемый файл linux, потому что мы используем colab, а ОС colab machines - Ubuntu (linux)"
      ],
      "metadata": {
        "id": "KsHNo_ak6igx"
      }
    },
    {
      "cell_type": "code",
      "source": [
        "# Здесь мы создаем папки training-envs-executables и linux\n",
        "!mkdir ./training-envs-executables\n",
        "!mkdir ./training-envs-executables/linux"
      ],
      "metadata": {
        "id": "X_OKTJAf6uPy"
      },
      "execution_count": null,
      "outputs": []
    },
    {
      "cell_type": "markdown",
      "source": [
        "Скачайте файл SnowballTarget.zip с https://drive.google.com/file/d/1YHHLjyj6gaZ3Gemx1hQgqrPgSS2ZhmB5 используя `wget`. \n",
        "\n",
        "Ознакомьтесь с полным решением для загрузки больших файлов из GDrive [здесь](https://bcrf.biochem.wisc.edu/2021/02/05/download-google-drive-files-using-wget/)"
      ],
      "metadata": {
        "id": "BD0jXmEW63yx"
      }
    },
    {
      "cell_type": "code",
      "source": [
        "!wget --load-cookies /tmp/cookies.txt \"https://docs.google.com/uc?export=download&confirm=$(wget --quiet --save-cookies /tmp/cookies.txt --keep-session-cookies --no-check-certificate 'https://docs.google.com/uc?export=download&id=1YHHLjyj6gaZ3Gemx1hQgqrPgSS2ZhmB5' -O- | sed -rn 's/.*confirm=([0-9A-Za-z_]+).*/\\1\\n/p')&id=1YHHLjyj6gaZ3Gemx1hQgqrPgSS2ZhmB5\" -O ./training-envs-executables/linux/SnowballTarget.zip && rm -rf /tmp/cookies.txt"
      ],
      "metadata": {
        "id": "VYSBVVd27Mnj"
      },
      "execution_count": null,
      "outputs": []
    },
    {
      "cell_type": "markdown",
      "source": [
        "Распакуем файл executable.zip"
      ],
      "metadata": {
        "id": "WduF6R7S7QPp"
      }
    },
    {
      "cell_type": "code",
      "source": [
        "%%capture\n",
        "!unzip -d ./training-envs-executables/linux/ ./training-envs-executables/linux/SnowballTarget.zip"
      ],
      "metadata": {
        "id": "CYZ7ymvH7mvI"
      },
      "execution_count": null,
      "outputs": []
    },
    {
      "cell_type": "markdown",
      "source": [
        "Убедитесь, что ваш файл доступен"
      ],
      "metadata": {
        "id": "mqtd7DJ-7rep"
      }
    },
    {
      "cell_type": "code",
      "source": [
        "!chmod -R 755 ./training-envs-executables/linux/SnowballTarget"
      ],
      "metadata": {
        "id": "lkbsZFeu7uNJ"
      },
      "execution_count": null,
      "outputs": []
    },
    {
      "cell_type": "markdown",
      "source": [
        "### Настройте конфигурационный файл SnowballTarget\n",
        "- Для ML-Agents вы определяете гиперпараметры обучения **в файлах config.yaml.**\n",
        "\n",
        "Существует несколько гиперпараметров. Чтобы узнать их лучше, вы должны изучить [документацию](https://github.com/Unity-Technologies/ml-agents/blob/release_20_docs/docs/Training-Configuration-File.md)\n",
        "\n",
        "\n",
        "Итак, вам нужно создать`SnowballTarget.yaml` конфигурационный файл в папке ./content/ml-agents/config/ppo/\n",
        "\n",
        "Мы предоставим вам здесь первую версию этой конфигурации (для копирования и вставки в ваш файл `SnowballTarget.yaml`), **но вы должны изменить его**.\n",
        "\n",
        "```\n",
        "behaviors:\n",
        "  SnowballTarget:\n",
        "    trainer_type: ppo\n",
        "    summary_freq: 10000\n",
        "    keep_checkpoints: 10\n",
        "    checkpoint_interval: 50000\n",
        "    max_steps: 200000\n",
        "    time_horizon: 64\n",
        "    threaded: true\n",
        "    hyperparameters:\n",
        "      learning_rate: 0.0003\n",
        "      learning_rate_schedule: linear\n",
        "      batch_size: 128\n",
        "      buffer_size: 2048\n",
        "      beta: 0.005\n",
        "      epsilon: 0.2\n",
        "      lambd: 0.95\n",
        "      num_epoch: 3\n",
        "    network_settings:\n",
        "      normalize: false\n",
        "      hidden_units: 256\n",
        "      num_layers: 2\n",
        "      vis_encode_type: simple\n",
        "    reward_signals:\n",
        "      extrinsic:\n",
        "        gamma: 0.99\n",
        "        strength: 1.0\n",
        "```"
      ],
      "metadata": {
        "id": "GYfDtPRd7x_K"
      }
    },
    {
      "cell_type": "markdown",
      "source": [
        "<img src=\"https://huggingface.co/datasets/huggingface-deep-rl-course/course-images/resolve/main/en/unit7/snowballfight_config1.png\" alt=\"Config SnowballTarget\" width=\"70%\"/>\n",
        "<img src=\"https://huggingface.co/datasets/huggingface-deep-rl-course/course-images/resolve/main/en/unit7/snowballfight_config2.png\" alt=\"Config SnowballTarget\" width=\"70%\"/>"
      ],
      "metadata": {
        "id": "TH6duBx18z1x"
      }
    }
  ]
}