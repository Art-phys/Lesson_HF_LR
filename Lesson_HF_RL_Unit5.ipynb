{
  "nbformat": 4,
  "nbformat_minor": 0,
  "metadata": {
    "colab": {
      "provenance": [],
      "include_colab_link": true
    },
    "kernelspec": {
      "name": "python3",
      "display_name": "Python 3"
    },
    "language_info": {
      "name": "python"
    }
  },
  "cells": [
    {
      "cell_type": "markdown",
      "metadata": {
        "id": "view-in-github",
        "colab_type": "text"
      },
      "source": [
        "<a href=\"https://colab.research.google.com/github/Art-phys/Lesson_HF_LR/blob/main/Lesson_HF_RL_Unit5.ipynb\" target=\"_parent\"><img src=\"https://colab.research.google.com/assets/colab-badge.svg\" alt=\"Open In Colab\"/></a>"
      ]
    },
    {
      "cell_type": "markdown",
      "source": [
        "# Блок 5: Введение в ML-агенты"
      ],
      "metadata": {
        "id": "yiSKx4uV1OJS"
      }
    },
    {
      "cell_type": "markdown",
      "source": [
        "<img src=\"https://huggingface.co/datasets/huggingface-deep-rl-course/course-images/resolve/main/en/unit7/thumbnail.png\" alt=\"Thumbnail\" width=\"70%\"/>\n",
        "\n",
        "В этом блокноте вы узнаете о ML-агентах и обучите двух агентов.\n",
        "\n",
        "- Первый из них научится **стрелять снежками по появляющимся мишеням**.\n",
        "- Второму нужно нажать кнопку, чтобы создать пирамиду, затем перейти к пирамиде, опрокинуть ее **и перейти к золотому кирпичу наверху**. Чтобы сделать это, ему нужно будет исследовать свое окружение, и мы будем использовать технику, называемую любопытство (curiosity).\n",
        "\n",
        "После этого вы сможете **наблюдать за игрой ваших агентов прямо в вашем браузере**."
      ],
      "metadata": {
        "id": "f-yR2Dsj1XyJ"
      }
    },
    {
      "cell_type": "markdown",
      "source": [
        "⬇️ Вот пример того, чего **вы достигнете в конце этого блока.** ⬇️"
      ],
      "metadata": {
        "id": "z2OD_b822d4B"
      }
    },
    {
      "cell_type": "markdown",
      "source": [
        "<img src=\"https://huggingface.co/datasets/huggingface-deep-rl-course/course-images/resolve/main/en/unit7/pyramids.gif\" alt=\"Pyramids\"/>\n",
        "\n",
        "<img src=\"https://huggingface.co/datasets/huggingface-deep-rl-course/course-images/resolve/main/en/unit7/snowballtarget.gif\" alt=\"SnowballTarget\" width=\"70%\"/>"
      ],
      "metadata": {
        "id": "7qw8APUf2jX5"
      }
    },
    {
      "cell_type": "markdown",
      "source": [
        "### 🎮 Окружающая среда: \n",
        "\n",
        "- Пирамиды [Pyramids](https://github.com/Unity-Technologies/ml-agents/blob/main/docs/Learning-Environment-Examples.md#pyramids)\n",
        "- Мишень для снежков (SnowballTarget)\n",
        "\n",
        "### 📚 RL-Library: \n",
        "\n",
        "- [ML-Агенты (Экспериментальная версия с HuggingFace)](https://github.com/huggingface/ml-agents)\n",
        "\n",
        "⚠ Мы собираемся использовать экспериментальную версию ML-Agents, где вы можете использовать hub и загружать из hub модели Unity ML-Agents **вам необходимо установить ту же версию**"
      ],
      "metadata": {
        "id": "wKzanhak2zbg"
      }
    },
    {
      "cell_type": "markdown",
      "source": [
        "## Цели этго блокнота 🏆\n",
        "\n",
        "В конце блокнота вы:\n",
        "\n",
        "- Поймете, как работает **ML-Agents** и библиотека окружения.\n",
        "- Научитесь **обучать агентов в средах Unity**."
      ],
      "metadata": {
        "id": "mepHVO0q303R"
      }
    },
    {
      "cell_type": "markdown",
      "source": [
        "\n",
        "<img src=\"https://huggingface.co/datasets/huggingface-deep-rl-course/course-images/resolve/main/en/notebooks/deep-rl-course-illustration.jpg\" alt=\"Deep RL Course illustration\" width=\"70%\"/>"
      ],
      "metadata": {
        "id": "godCAzny4liR"
      }
    },
    {
      "cell_type": "markdown",
      "source": [
        "## Предварительные условия 🏗️\n",
        "Прежде чем начать, вам нужно:\n",
        "\n",
        "🔲  📚 ****Изучить [что такое ML-агенты и как это работает, прочитав блок 5](https://huggingface.co/deep-rl-course/unit5/introduction )** 🤗"
      ],
      "metadata": {
        "id": "KWnn1ypA497R"
      }
    },
    {
      "cell_type": "markdown",
      "source": [
        "# Давайте обучим наших агентов 🚀\n",
        "\n",
        "Интеграция ML-агентов на хабе **все еще является экспериментальной**, некоторые функции будут добавлены в будущем.\n",
        "\n",
        "Но на данный момент, **чтобы подтвердить это практическое руководство для процесса сертификации, вам просто нужно отправить ваши обученные модели в центр**. Нет никаких результатов, которых можно было бы достичь, чтобы подтвердить это. Но если вы хотите получить хорошие результаты, вы можете попытаться достичь:\n",
        "\n",
        "- Для `Pyramids` : Среднюю награду= 1.75\n",
        "- Для `SnowballTarget` : Среднюю награду = 15 или 30 целей, пораженных в эпизоде."
      ],
      "metadata": {
        "id": "U57QLq535L7Q"
      }
    },
    {
      "cell_type": "markdown",
      "source": [
        "## Клонируйте репозиторий и установите зависимости 🔽\n",
        "- Нам нужно клонировать репозиторий, который **содержит экспериментальную версию библиотеки, которая позволяет вам отправлять вашего обученного агента в концентратор.**"
      ],
      "metadata": {
        "id": "85qF3RAm5_CJ"
      }
    },
    {
      "cell_type": "code",
      "source": [
        "%%capture\n",
        "# Клонируйте репозиторий\n",
        "!git clone --depth 1 https://github.com/huggingface/ml-agents/ "
      ],
      "metadata": {
        "id": "HOP4BalT6Gwy"
      },
      "execution_count": null,
      "outputs": []
    },
    {
      "cell_type": "code",
      "source": [
        "%%capture\n",
        "# Зайдите в репозиторий и установите пакет\n",
        "%cd ml-agents\n",
        "!pip3 install -e ./ml-agents-envs\n",
        "!pip3 install -e ./ml-agents"
      ],
      "metadata": {
        "id": "3aH8_KbS6Nv4"
      },
      "execution_count": null,
      "outputs": []
    },
    {
      "cell_type": "markdown",
      "source": [
        "##Мишень для снежка ⛄\n",
        "\n",
        "Если вам нужно уточнить, как работают эти среды, ознакомьтесь с этим разделом 👉\n",
        "https://huggingface.co/deep-rl-course/unit5/snowball-target"
      ],
      "metadata": {
        "id": "fDVfPYI86VQZ"
      }
    },
    {
      "cell_type": "markdown",
      "source": [
        "### Загрузите и переместите zip-файл среды в `./training-envs-executables/linux/`\n",
        "- Исполняемый файл нашей среды находится в zip-файле.\n",
        "- Нам нужно загрузить его и поместить в `./training-envs-executables/linux/`\n",
        "- Мы используем исполняемый файл linux, потому что мы используем colab, а ОС colab machines - Ubuntu (linux)"
      ],
      "metadata": {
        "id": "KsHNo_ak6igx"
      }
    },
    {
      "cell_type": "code",
      "source": [
        "# Здесь мы создаем папки training-envs-executables и linux\n",
        "!mkdir ./training-envs-executables\n",
        "!mkdir ./training-envs-executables/linux"
      ],
      "metadata": {
        "id": "X_OKTJAf6uPy"
      },
      "execution_count": null,
      "outputs": []
    },
    {
      "cell_type": "markdown",
      "source": [
        "Скачайте файл SnowballTarget.zip с https://drive.google.com/file/d/1YHHLjyj6gaZ3Gemx1hQgqrPgSS2ZhmB5 используя `wget`. \n",
        "\n",
        "Ознакомьтесь с полным решением для загрузки больших файлов из GDrive [здесь](https://bcrf.biochem.wisc.edu/2021/02/05/download-google-drive-files-using-wget/)"
      ],
      "metadata": {
        "id": "BD0jXmEW63yx"
      }
    },
    {
      "cell_type": "code",
      "source": [
        "!wget --load-cookies /tmp/cookies.txt \"https://docs.google.com/uc?export=download&confirm=$(wget --quiet --save-cookies /tmp/cookies.txt --keep-session-cookies --no-check-certificate 'https://docs.google.com/uc?export=download&id=1YHHLjyj6gaZ3Gemx1hQgqrPgSS2ZhmB5' -O- | sed -rn 's/.*confirm=([0-9A-Za-z_]+).*/\\1\\n/p')&id=1YHHLjyj6gaZ3Gemx1hQgqrPgSS2ZhmB5\" -O ./training-envs-executables/linux/SnowballTarget.zip && rm -rf /tmp/cookies.txt"
      ],
      "metadata": {
        "id": "VYSBVVd27Mnj"
      },
      "execution_count": null,
      "outputs": []
    },
    {
      "cell_type": "markdown",
      "source": [
        "Распакуем файл executable.zip"
      ],
      "metadata": {
        "id": "WduF6R7S7QPp"
      }
    },
    {
      "cell_type": "code",
      "source": [
        "%%capture\n",
        "!unzip -d ./training-envs-executables/linux/ ./training-envs-executables/linux/SnowballTarget.zip"
      ],
      "metadata": {
        "id": "CYZ7ymvH7mvI"
      },
      "execution_count": null,
      "outputs": []
    },
    {
      "cell_type": "markdown",
      "source": [
        "Убедитесь, что ваш файл доступен"
      ],
      "metadata": {
        "id": "mqtd7DJ-7rep"
      }
    },
    {
      "cell_type": "code",
      "source": [
        "!chmod -R 755 ./training-envs-executables/linux/SnowballTarget"
      ],
      "metadata": {
        "id": "lkbsZFeu7uNJ"
      },
      "execution_count": null,
      "outputs": []
    },
    {
      "cell_type": "markdown",
      "source": [
        "### Настройте конфигурационный файл SnowballTarget\n",
        "- Для ML-Agents вы определяете гиперпараметры обучения **в файлах config.yaml.**\n",
        "\n",
        "Существует несколько гиперпараметров. Чтобы узнать их лучше, вы должны изучить [документацию](https://github.com/Unity-Technologies/ml-agents/blob/release_20_docs/docs/Training-Configuration-File.md)\n",
        "\n",
        "\n",
        "Итак, вам нужно создать`SnowballTarget.yaml` конфигурационный файл в папке ./content/ml-agents/config/ppo/\n",
        "\n",
        "Мы предоставим вам здесь первую версию этой конфигурации (для копирования и вставки в ваш файл `SnowballTarget.yaml`), **но вы должны изменить его**.\n",
        "\n",
        "```\n",
        "behaviors:\n",
        "  SnowballTarget:\n",
        "    trainer_type: ppo\n",
        "    summary_freq: 10000\n",
        "    keep_checkpoints: 10\n",
        "    checkpoint_interval: 50000\n",
        "    max_steps: 200000\n",
        "    time_horizon: 64\n",
        "    threaded: true\n",
        "    hyperparameters:\n",
        "      learning_rate: 0.0003\n",
        "      learning_rate_schedule: linear\n",
        "      batch_size: 128\n",
        "      buffer_size: 2048\n",
        "      beta: 0.005\n",
        "      epsilon: 0.2\n",
        "      lambd: 0.95\n",
        "      num_epoch: 3\n",
        "    network_settings:\n",
        "      normalize: false\n",
        "      hidden_units: 256\n",
        "      num_layers: 2\n",
        "      vis_encode_type: simple\n",
        "    reward_signals:\n",
        "      extrinsic:\n",
        "        gamma: 0.99\n",
        "        strength: 1.0\n",
        "```"
      ],
      "metadata": {
        "id": "GYfDtPRd7x_K"
      }
    },
    {
      "cell_type": "markdown",
      "source": [
        "<img src=\"https://huggingface.co/datasets/huggingface-deep-rl-course/course-images/resolve/main/en/unit7/snowballfight_config1.png\" alt=\"Config SnowballTarget\" width=\"70%\"/>\n",
        "<img src=\"https://huggingface.co/datasets/huggingface-deep-rl-course/course-images/resolve/main/en/unit7/snowballfight_config2.png\" alt=\"Config SnowballTarget\" width=\"70%\"/>"
      ],
      "metadata": {
        "id": "TH6duBx18z1x"
      }
    },
    {
      "cell_type": "markdown",
      "source": [
        "В качестве эксперимента вам также следует попробовать изменить некоторые другие гиперпараметры. Unity предоставляет очень [хорошую документацию, объясняющую каждый из них здесь](https://github.com/Unity-Technologies/ml-agents/blob/main/docs/Training-Configuration-File.md).\n",
        "\n",
        "Теперь, когда вы создали конфигурационный файл и понимаете, что делает большинство гиперпараметров, мы готовы обучить нашего агента 🔥."
      ],
      "metadata": {
        "id": "1UiZs9FoB19G"
      }
    },
    {
      "cell_type": "markdown",
      "source": [
        "### Обучите агента\n",
        "\n",
        "Чтобы обучить нашего агента, нам просто нужно **запустить ml agents-learn и выбрать исполняемый файл, содержащий среду.**\n",
        "\n",
        "Мы определяем четыре параметра:\n",
        "\n",
        "1. `mlagents-learn <config>`: путь, в котором находится конфигурационный файл гиперпараметра.\n",
        "2. `--env`: где находится исполняемый файл среды.\n",
        "3. `--run_id`: имя, которое вы хотите присвоить своему идентификатору тренировочного прогона.\n",
        "4. `--no-graphics`: чтобы не запускать визуализацию во время тренировки.\n",
        "\n",
        "<img src=\"https://huggingface.co/datasets/huggingface-deep-rl-course/course-images/resolve/main/en/unit7/mlagentslearn.png\" alt=\"MlAgents learn\" width=\"70%\"/>\n",
        "\n",
        "Обучите модель и используйте флаг `--resume`, чтобы продолжить обучение в случае прерывания. \n",
        "\n",
        "> В первый раз произойдет сбой, когда вы используете `--resume`, попробуйте запустить блок еще раз, чтобы обойти ошибку."
      ],
      "metadata": {
        "id": "SBem6EI5CLwN"
      }
    },
    {
      "cell_type": "code",
      "source": [
        "!mlagents-learn ./config/ppo/SnowballTarget.yaml --env=./training-envs-executables/linux/SnowballTarget/SnowballTarget --run-id=\"SnowballTarget1\" --no-graphics"
      ],
      "metadata": {
        "id": "XmeAKwX_FMxG"
      },
      "execution_count": null,
      "outputs": []
    },
    {
      "cell_type": "markdown",
      "source": [
        "Тренировка займет от 10 до 35 минут в зависимости от вашей конфигурации."
      ],
      "metadata": {
        "id": "hzqfc-pGE-CW"
      }
    },
    {
      "cell_type": "markdown",
      "source": [
        "### Переместите агента в концентратор 🤗\n",
        "\n",
        "- Теперь, когда мы обучили нашего агента, мы **готовы перенести его в центр, чтобы иметь возможность визуализировать его воспроизведение в вашем браузере 🔥 .**"
      ],
      "metadata": {
        "id": "YdY51gu4FWRN"
      }
    },
    {
      "cell_type": "code",
      "source": [
        "from huggingface_hub import notebook_login\n",
        "notebook_login()"
      ],
      "metadata": {
        "id": "kVsyuVigFeHN"
      },
      "execution_count": null,
      "outputs": []
    },
    {
      "cell_type": "markdown",
      "source": [
        "Затем нам просто нужно запустить `mlagents-push-to-hf`.\n",
        "\n",
        "И мы определяем 4 параметра:\n",
        "\n",
        "1. `--run-id`: имя идентификатора тренировочного прогона.\n",
        "2. `--local-dir`: где агент был сохранен, это `results/run_id name`, так что в моем случае `results/First Training`.\n",
        "3. `--repo-id`: название репозитория Hugging Face, который вы хотите создать или обновить. Это всегда `your huggingface username/the repo name`\n",
        "Если репозиторий не существует **, он будет создан автоматически**\n",
        "4. `--commit-message`: поскольку репозитории HF являются репозиторием git, вам необходимо определить сообщение о фиксации.\n",
        "\n",
        "<img src=\"https://huggingface.co/datasets/huggingface-deep-rl-course/course-images/resolve/main/en/unit7/mlagentspushtohub.png\" alt=\"Push to Hub\" width=\"70%\"/>\n",
        "\n",
        "Например:\n",
        "\n",
        "`!mlagents-push-to-hf  --run-id=\"SnowballTarget1\" --local-dir=\"./results/SnowballTarget1\" --repo-id=\"ThomasSimonini/ppo-SnowballTarget\"  --commit-message=\"First Push\"`"
      ],
      "metadata": {
        "id": "8Vp8SYtkFeys"
      }
    },
    {
      "cell_type": "code",
      "source": [
        "!mlagents-push-to-hf  --run-id= # Добавить Ваш run id  --local-dir= # Ваша локальная папка  --repo-id= # Ваш repo id  --commit-message= # Ваше сообщение о фиксации"
      ],
      "metadata": {
        "id": "44oEuafeHX29"
      },
      "execution_count": null,
      "outputs": []
    },
    {
      "cell_type": "markdown",
      "source": [
        "Если все сработало, вы должны получить это в конце процесса (но с другим URL 😆 ) :\n",
        "\n",
        "\n",
        "\n",
        "```\n",
        "Your model is pushed to the hub. You can view your model here: https://huggingface.co/ThomasSimonini/ppo-SnowballTarget\n",
        "```\n",
        "\n",
        "Это ссылка на вашу модель, она содержит карточку модели, которая объясняет, как ее использовать, вашу Tensorboard и ваш конфигурационный файл. **Что удивительно, так это то, что это репозиторий git, это означает, что вы можете иметь разные коммиты, обновлять свой репозиторий новым нажатием и т.д.**"
      ],
      "metadata": {
        "id": "tPCSUF-JHyE9"
      }
    },
    {
      "cell_type": "markdown",
      "source": [
        "Но теперь наступает самое лучшее: **возможность визуализировать своего агента онлайн 👀 .**"
      ],
      "metadata": {
        "id": "dC4XrETPIGj9"
      }
    },
    {
      "cell_type": "markdown",
      "source": [
        "### Наблюдай за игрой своего агента 👀\n",
        "\n",
        "Для этого шага необходимо:\n",
        "\n",
        "1. Запомнить свой repo-id\n",
        "\n",
        "2. Перейти: https://singularite.itch.io/snowballtarget\n",
        "\n",
        "3. Запустите игру и переведите ее в полноэкранный режим, нажав на правую нижнюю кнопку\n",
        "\n",
        "<img src=\"https://huggingface.co/datasets/huggingface-deep-rl-course/course-images/resolve/main/en/unit7/snowballtarget_load.png\" alt=\"Snowballtarget load\" width=\"70%\"/>"
      ],
      "metadata": {
        "id": "baQqG6bSIOId"
      }
    },
    {
      "cell_type": "markdown",
      "source": [
        "1. На шаге 1 выберите репозиторий вашей модели, который является идентификатором модели (в моем случае `ThomasSimonini/ppo-SnowballTarget`).\n",
        "\n",
        "2. На шаге 2 **выберите, какую модель вы хотите воспроизвести**:\n",
        "   - У меня их несколько, так как мы сохраняли модель каждые 500000 временных шагов.\n",
        "   - Но если я хочу более свежую версию, я выбираю `SnowballTarget.onnx'\n",
        "\n",
        "👉 Что приятно **, так это попробовать с разными моделями шаг за шагом, чтобы увидеть улучшение агента.**\n",
        "\n",
        "И не стесняйтесь делиться лучшим результатом, полученным вашим агентом на discord в #rl-i-made-this channel 🔥\n",
        "\n",
        "Давайте теперь попробуем более сложную среду под названием Pyramids..."
      ],
      "metadata": {
        "id": "8xHpLAviJcBO"
      }
    },
    {
      "cell_type": "markdown",
      "source": [
        "## Пирамиды (Pyramids) 🏆\n",
        "\n",
        "### Загрузите и переместите zip-файл среды в `./training-envs-executables/linux/`\n",
        "- Исполняемый файл нашей среды находится в zip-файле.\n",
        "- Нам нужно загрузить его и разместить на `./training-envs-executables/linux/`\n",
        "- Мы используем исполняемый файл linux, потому что мы используем colab, а ОС colab машины - это Ubuntu (linux)"
      ],
      "metadata": {
        "id": "8A4etYwDKQkd"
      }
    },
    {
      "cell_type": "markdown",
      "source": [
        "Загрузите файл Pyramids.zip из https://drive.google.com/uc?export=download&id=1UiFNdKlsH0NTu32xV-giYUEVKV4-vc7H используя `wget`. Ознакомьтесь с полным решением для загрузки больших файлов из GDrive [здесь](https://bcrf.biochem.wisc.edu/2021/02/05/download-google-drive-files-using-wget/)"
      ],
      "metadata": {
        "id": "WcikOIpgK2j-"
      }
    },
    {
      "cell_type": "code",
      "source": [
        "!wget --load-cookies /tmp/cookies.txt \"https://docs.google.com/uc?export=download&confirm=$(wget --quiet --save-cookies /tmp/cookies.txt --keep-session-cookies --no-check-certificate 'https://docs.google.com/uc?export=download&id=1UiFNdKlsH0NTu32xV-giYUEVKV4-vc7H' -O- | sed -rn 's/.*confirm=([0-9A-Za-z_]+).*/\\1\\n/p')&id=1UiFNdKlsH0NTu32xV-giYUEVKV4-vc7H\" -O ./training-envs-executables/linux/Pyramids.zip && rm -rf /tmp/cookies.txt"
      ],
      "metadata": {
        "id": "F3tEBzQSLMnW"
      },
      "execution_count": null,
      "outputs": []
    },
    {
      "cell_type": "markdown",
      "source": [
        "**ИЛИ** Загрузите непосредственно на локальный компьютер, а затем перетащите файл с локального компьютера на `./training-envs-executables/linux`"
      ],
      "metadata": {
        "id": "QU0UIGv0LNp1"
      }
    },
    {
      "cell_type": "markdown",
      "source": [
        "Дождитесь завершения загрузки, а затем выполните приведенную ниже команду."
      ],
      "metadata": {
        "id": "yY5AAHiTLhTc"
      }
    },
    {
      "cell_type": "markdown",
      "source": [
        "Распакуйте его"
      ],
      "metadata": {
        "id": "xJUAFtwqLql0"
      }
    },
    {
      "cell_type": "code",
      "source": [
        "%%capture\n",
        "!unzip -d ./training-envs-executables/linux/ ./training-envs-executables/linux/Pyramids.zip"
      ],
      "metadata": {
        "id": "cac7A0uULuDc"
      },
      "execution_count": null,
      "outputs": []
    },
    {
      "cell_type": "markdown",
      "source": [
        "Убедитесь, что ваш файл доступен"
      ],
      "metadata": {
        "id": "FkmA6hgcLyZs"
      }
    },
    {
      "cell_type": "code",
      "source": [
        "!chmod -R 755 ./training-envs-executables/linux/Pyramids/Pyramids"
      ],
      "metadata": {
        "id": "j7Tc0Uo-Ly7s"
      },
      "execution_count": null,
      "outputs": []
    },
    {
      "cell_type": "markdown",
      "source": [
        "### Измените конфигурационный файл PyramidsRND\n",
        "- В отличие от первой среды, которая была пользовательской, ** Pyramids была создана командой Unity**.\n",
        "- - Итак, конфигурационный файл PyramidsRND уже существует и находится в ./content/ml-agents/config/ppo/PyramidsRND.yaml\n",
        "- Вы могли бы спросить, что значит \"RND\". RND расшифровывается как *случайная сетевая дистилляция* это способ получения вознаграждения за любопытство. Если вы хотите узнать об этом больше, мы написали статью, объясняющую эту технику: https://medium.com/data-from-the-trenches/curiosity-driven-learning-through-random-network-distillation-488ffd8e5938\n",
        "\n",
        "Для этого тренинга мы изменим одну вещь:\n",
        "- Гиперпараметр \"Общее количество шагов обучения\" слишком высок, поскольку мы можем достичь контрольного показателя (среднее вознаграждение = 1,75) всего за 1 м шагов обучения.\n",
        "👉 Чтобы сделать это, мы переходим в config/ppo/PyramidsRND.yaml,** и изменяем их на max_steps равным 1000000.**\n",
        "\n",
        "<img src=\"https://huggingface.co/datasets/huggingface-deep-rl-course/course-images/resolve/main/en/unit7/pyramids-config.png\" alt=\"Pyramids config\" width=\"50%\"/>"
      ],
      "metadata": {
        "id": "VXnO41DfL4cl"
      }
    },
    {
      "cell_type": "markdown",
      "source": [
        "В качестве эксперимента вам также следует попробовать изменить некоторые другие гиперпараметры, Unity предоставляет очень [хорошую документацию, объясняющую каждый из них здесь](https://github.com/Unity-Technologies/ml-agents/blob/main/docs/Training-Configuration-File.md).\n",
        "\n",
        "Теперь мы готовы обучить нашего агента🔥."
      ],
      "metadata": {
        "id": "3qoeL6znNgx0"
      }
    },
    {
      "cell_type": "markdown",
      "source": [
        "### Обучите агента\n",
        "\n",
        "Тренировка займет от 30 до 45 минут в зависимости от вашего тренажера."
      ],
      "metadata": {
        "id": "h8UV_rs4OGVF"
      }
    },
    {
      "cell_type": "code",
      "source": [
        "!mlagents-learn ./config/ppo/PyramidsRND.yaml --env=./training-envs-executables/linux/Pyramids/Pyramids --run-id=\"Pyramids Training\" --no-graphics"
      ],
      "metadata": {
        "id": "W8Kgs1EpORDF"
      },
      "execution_count": null,
      "outputs": []
    },
    {
      "cell_type": "markdown",
      "source": [
        "### Переместите агента в концентратор 🤗\n",
        "\n",
        "- Теперь, когда мы обучили нашего агента, мы **готовы перенести его в центр, чтобы иметь возможность визуализировать его воспроизведение в вашем браузере 🔥 .**"
      ],
      "metadata": {
        "id": "YK1cZsViOVD1"
      }
    },
    {
      "cell_type": "markdown",
      "source": [
        "### Watch your agent playing 👀\n",
        "\n",
        "The temporary link for Pyramids demo is: https://singularite.itch.io/pyramids"
      ],
      "metadata": {
        "id": "mJyosjbUOf7U"
      }
    }
  ]
}