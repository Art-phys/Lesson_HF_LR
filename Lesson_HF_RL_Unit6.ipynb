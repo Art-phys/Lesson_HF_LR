{
  "nbformat": 4,
  "nbformat_minor": 0,
  "metadata": {
    "colab": {
      "provenance": [],
      "include_colab_link": true
    },
    "kernelspec": {
      "name": "python3",
      "display_name": "Python 3"
    },
    "language_info": {
      "name": "python"
    }
  },
  "cells": [
    {
      "cell_type": "markdown",
      "metadata": {
        "id": "view-in-github",
        "colab_type": "text"
      },
      "source": [
        "<a href=\"https://colab.research.google.com/github/Art-phys/Lesson_HF_LR/blob/main/Lesson_HF_RL_Unit6.ipynb\" target=\"_parent\"><img src=\"https://colab.research.google.com/assets/colab-badge.svg\" alt=\"Open In Colab\"/></a>"
      ]
    },
    {
      "cell_type": "markdown",
      "source": [
        "# Блок 6: Использование Advantage Actor Critic (A2C) для моделирования робототехники с помощью PyBullet и Panda-Gym 🤖\n",
        "\n",
        "<img src=\"https://huggingface.co/datasets/huggingface-deep-rl-course/course-images/resolve/main/en/unit8/thumbnail.png\"  alt=\"Thumbnail\" width=\"50%\"/>\n",
        "\n",
        "В этом блокноте вы научитесь использовать A2C с двумя наборами робототехнических сред PyBullet и Panda-Gym.\n",
        "\n",
        "С [PyBullet](https://github.com/bulletphysics/bullet3), мы собираемся **обучить робота двигаться**:\n",
        "- `AntBulletEnv-v0` 🕸️ Точнее, паук (они говорят Муравей, но да ладно... это паук 😆 ) 🕸️\n",
        "\n",
        "Затем, с [Panda-Gym](https://github.com/qgallouedec/panda-gym), мы собираемся **обучить роботизированную руку** (Франка Эмика Панда робот) выполнять задание:\n",
        "- `Reach`: робот должен поместить свой конечный манипулятор в целевое положение.\n",
        "\n",
        "После этого вы сможете **тренироваться в других средах робототехники**."
      ],
      "metadata": {
        "id": "G-6euksPQJMu"
      }
    },
    {
      "cell_type": "markdown",
      "source": [
        "<img src=\"https://huggingface.co/datasets/huggingface-deep-rl-course/course-images/resolve/main/en/unit8/environments.gif\" alt=\"Robotics environments\" width=\"50%\"/>"
      ],
      "metadata": {
        "id": "6R_ikwpIq5Tc"
      }
    },
    {
      "cell_type": "markdown",
      "source": [
        "### 🎮 Окружающая среда: \n",
        "\n",
        "- [PyBullet](https://github.com/bulletphysics/bullet3)\n",
        "- [Panda-Gym](https://github.com/qgallouedec/panda-gym)\n",
        "\n",
        "###📚 RL-Библиотека: \n",
        "\n",
        "- [Stable-Baselines3](https://stable-baselines3.readthedocs.io/)"
      ],
      "metadata": {
        "id": "MWhdX9eHrDwM"
      }
    },
    {
      "cell_type": "markdown",
      "source": [
        "## Цели этого блокнота 🏆\n",
        "\n",
        "В конце этого блокнота вы:\n",
        "\n",
        "- Научитесь использовать библиотеки сред **PyBullet** и **Panda-Gym**.\n",
        "-  Научитесь **обучать роботов, используя A2C**.\n",
        "- Поймите, почему **нам нужно нормализовать входные данные**.\n",
        "- Будьте в состоянии **отправить своего обученного агента и код в центр** с хорошим видеоповтором и оценочным баллом 🔥."
      ],
      "metadata": {
        "id": "7y8HxflurUXj"
      }
    },
    {
      "cell_type": "markdown",
      "source": [
        "## Этот блокнот взят из курса обучения с глубоким подкреплением\n",
        "<img src=\"https://huggingface.co/datasets/huggingface-deep-rl-course/course-images/resolve/main/en/notebooks/deep-rl-course-illustration.jpg\" alt=\"Deep RL Course illustration\" width=\"50%\"/>"
      ],
      "metadata": {
        "id": "gFVI2DnPvAFM"
      }
    },
    {
      "cell_type": "markdown",
      "source": [
        "🔲 📚 [Метод \"актер-критик\" Блок 6](https://huggingface.co/deep-rl-course/unit6/introduction) 🤗  "
      ],
      "metadata": {
        "id": "ymNSRZK_vx1M"
      }
    },
    {
      "cell_type": "markdown",
      "source": [
        "# Давайте обучим наших первых роботов 🤖"
      ],
      "metadata": {
        "id": "E5_2CU8PwT4L"
      }
    },
    {
      "cell_type": "markdown",
      "source": [
        "Чтобы подтвердить это практическое руководство для [процесса сертификации](https://huggingface.co/deep-rl-course/en/unit0/introduction#certification-process),  вам нужно отправить две ваши обученные модели в концентратор и получить следующие результаты:\n",
        "\n",
        "- `AntBulletEnv-v0` получив результат >= 650.\n",
        "- `PandaReachDense-v2` получив результат >= -3.5.\n",
        "\n",
        "Чтобы найти свой результат, перейдите к [leaderboard](https://huggingface.co/spaces/huggingface-projects/Deep-Reinforcement-Learning-Leaderboard) и найдите свою модель, **the result = mean_reward - std of reward**\n",
        "\n",
        "Если вы не нашли свою модель, **перейдите в нижнюю часть страницы и нажмите на кнопку обновить**\n",
        "\n",
        "Для получения дополнительной информации о процессе сертификации ознакомьтесь с этим разделом 👉 https://huggingface.co/deep-rl-course/en/unit0/introduction#certification-process"
      ],
      "metadata": {
        "id": "o_yj1zgRwXes"
      }
    },
    {
      "cell_type": "code",
      "execution_count": null,
      "metadata": {
        "id": "xNHgksoWSpAH"
      },
      "outputs": [],
      "source": []
    }
  ]
}