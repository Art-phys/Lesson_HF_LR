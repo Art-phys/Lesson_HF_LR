{
  "nbformat": 4,
  "nbformat_minor": 0,
  "metadata": {
    "colab": {
      "provenance": [],
      "include_colab_link": true
    },
    "kernelspec": {
      "name": "python3",
      "display_name": "Python 3"
    },
    "language_info": {
      "name": "python"
    }
  },
  "cells": [
    {
      "cell_type": "markdown",
      "metadata": {
        "id": "view-in-github",
        "colab_type": "text"
      },
      "source": [
        "<a href=\"https://colab.research.google.com/github/Art-phys/Lesson_HF_LR/blob/main/Lesson_HF_RL_Unit6.ipynb\" target=\"_parent\"><img src=\"https://colab.research.google.com/assets/colab-badge.svg\" alt=\"Open In Colab\"/></a>"
      ]
    },
    {
      "cell_type": "markdown",
      "source": [
        "# Блок 6: Использование Advantage Actor Critic (A2C) для моделирования робототехники с помощью PyBullet и Panda-Gym 🤖\n",
        "\n",
        "<img src=\"https://huggingface.co/datasets/huggingface-deep-rl-course/course-images/resolve/main/en/unit8/thumbnail.png\"  alt=\"Thumbnail\" width=\"50%\"/>\n",
        "\n",
        "В этом блокноте вы научитесь использовать A2C с двумя наборами робототехнических сред PyBullet и Panda-Gym.\n",
        "\n",
        "С [PyBullet](https://github.com/bulletphysics/bullet3), мы собираемся **обучить робота двигаться**:\n",
        "- `AntBulletEnv-v0` 🕸️ Точнее, паук (они говорят Муравей, но да ладно... это паук 😆 ) 🕸️\n",
        "\n",
        "Затем, с [Panda-Gym](https://github.com/qgallouedec/panda-gym), мы собираемся **обучить роботизированную руку** (Франка Эмика Панда робот) выполнять задание:\n",
        "- `Reach`: робот должен поместить свой конечный манипулятор в целевое положение.\n",
        "\n",
        "После этого вы сможете **тренироваться в других средах робототехники**."
      ],
      "metadata": {
        "id": "G-6euksPQJMu"
      }
    },
    {
      "cell_type": "markdown",
      "source": [
        "<img src=\"https://huggingface.co/datasets/huggingface-deep-rl-course/course-images/resolve/main/en/unit8/environments.gif\" alt=\"Robotics environments\" width=\"50%\"/>"
      ],
      "metadata": {
        "id": "6R_ikwpIq5Tc"
      }
    },
    {
      "cell_type": "markdown",
      "source": [
        "### 🎮 Окружающая среда: \n",
        "\n",
        "- [PyBullet](https://github.com/bulletphysics/bullet3)\n",
        "- [Panda-Gym](https://github.com/qgallouedec/panda-gym)\n",
        "\n",
        "###📚 RL-Библиотека: \n",
        "\n",
        "- [Stable-Baselines3](https://stable-baselines3.readthedocs.io/)"
      ],
      "metadata": {
        "id": "MWhdX9eHrDwM"
      }
    },
    {
      "cell_type": "markdown",
      "source": [
        "## Цели этого блокнота 🏆\n",
        "\n",
        "В конце этого блокнота вы:\n",
        "\n",
        "- Научитесь использовать библиотеки сред **PyBullet** и **Panda-Gym**.\n",
        "-  Научитесь **обучать роботов, используя A2C**.\n",
        "- Поймите, почему **нам нужно нормализовать входные данные**.\n",
        "- Будьте в состоянии **отправить своего обученного агента и код в центр** с хорошим видеоповтором и оценочным баллом 🔥."
      ],
      "metadata": {
        "id": "7y8HxflurUXj"
      }
    },
    {
      "cell_type": "markdown",
      "source": [
        "## Этот блокнот взят из курса обучения с глубоким подкреплением\n",
        "<img src=\"https://huggingface.co/datasets/huggingface-deep-rl-course/course-images/resolve/main/en/notebooks/deep-rl-course-illustration.jpg\" alt=\"Deep RL Course illustration\" width=\"50%\"/>"
      ],
      "metadata": {
        "id": "gFVI2DnPvAFM"
      }
    },
    {
      "cell_type": "markdown",
      "source": [
        "🔲 📚 [Метод \"актер-критик\" Блок 6](https://huggingface.co/deep-rl-course/unit6/introduction) 🤗  "
      ],
      "metadata": {
        "id": "ymNSRZK_vx1M"
      }
    },
    {
      "cell_type": "markdown",
      "source": [
        "# Давайте обучим наших первых роботов 🤖"
      ],
      "metadata": {
        "id": "E5_2CU8PwT4L"
      }
    },
    {
      "cell_type": "markdown",
      "source": [
        "Чтобы подтвердить это практическое руководство для [процесса сертификации](https://huggingface.co/deep-rl-course/en/unit0/introduction#certification-process),  вам нужно отправить две ваши обученные модели в концентратор и получить следующие результаты:\n",
        "\n",
        "- `AntBulletEnv-v0` получив результат >= 650.\n",
        "- `PandaReachDense-v2` получив результат >= -3.5.\n",
        "\n",
        "Чтобы найти свой результат, перейдите к [leaderboard](https://huggingface.co/spaces/huggingface-projects/Deep-Reinforcement-Learning-Leaderboard) и найдите свою модель, **the result = mean_reward - std of reward**\n",
        "\n",
        "Если вы не нашли свою модель, **перейдите в нижнюю часть страницы и нажмите на кнопку обновить**\n",
        "\n",
        "Для получения дополнительной информации о процессе сертификации ознакомьтесь с этим разделом 👉 https://huggingface.co/deep-rl-course/en/unit0/introduction#certification-process"
      ],
      "metadata": {
        "id": "o_yj1zgRwXes"
      }
    },
    {
      "cell_type": "markdown",
      "source": [
        "## Создайте виртуальный дисплей 🔽\n",
        "\n",
        "Во время записи нам нужно будет сгенерировать видео-повтор. Для этого с помощью colab ** нам нужен виртуальный экран, чтобы иметь возможность отображать среду ** (и, таким образом, записывать кадры).\n",
        "\n",
        "Следовательно, в следующей ячейке будут установлены библиотеки, а также создан и запущен виртуальный экран 🖥"
      ],
      "metadata": {
        "id": "AQd8FiCL7qii"
      }
    },
    {
      "cell_type": "code",
      "execution_count": null,
      "metadata": {
        "id": "xNHgksoWSpAH"
      },
      "outputs": [],
      "source": [
        "%%capture\n",
        "!apt install python-opengl\n",
        "!apt install ffmpeg\n",
        "!apt install xvfb\n",
        "!pip3 install pyvirtualdisplay"
      ]
    },
    {
      "cell_type": "code",
      "source": [
        "# Virtual display\n",
        "from pyvirtualdisplay import Display\n",
        "\n",
        "virtual_display = Display(visible=0, size=(1400, 900))\n",
        "virtual_display.start()"
      ],
      "metadata": {
        "id": "vx7E3FvB7x0B"
      },
      "execution_count": null,
      "outputs": []
    },
    {
      "cell_type": "markdown",
      "source": [
        "### Установка зависимостей 🔽\n",
        "Первым шагом является установка зависимостей, мы установим несколько из них:\n",
        "\n",
        "- `pybullet`: Содержит среду обитания шагающих роботов.\n",
        "- `panda-gym`: Содержит среду роботизированной руки.\n",
        "- `стабильные базовые линии 3 [дополнительно]`: Библиотека обучения с глубоким подкреплением SB3.\n",
        "- `hugging face_sb3`: Дополнительный код для Stable-baselines 3 для загрузки моделей из Hugging Face 🤗 Hub.\n",
        "- `hugging face_hub`: Библиотека, позволяющая любому пользователю работать с репозиториями хаба."
      ],
      "metadata": {
        "id": "nZlbsquG7-Wy"
      }
    },
    {
      "cell_type": "code",
      "source": [
        "!pip install -r https://raw.githubusercontent.com/huggingface/deep-rl-class/main/notebooks/unit6/requirements-unit6.txt"
      ],
      "metadata": {
        "id": "ZCymEtdv8Q2S"
      },
      "execution_count": null,
      "outputs": []
    },
    {
      "cell_type": "markdown",
      "source": [
        "## Импортируйте пакеты 📦"
      ],
      "metadata": {
        "id": "N-iZ3be08V4b"
      }
    },
    {
      "cell_type": "code",
      "source": [
        "import pybullet_envs\n",
        "import panda_gym\n",
        "import gym\n",
        "\n",
        "import os\n",
        "\n",
        "from huggingface_sb3 import load_from_hub, package_to_hub\n",
        "\n",
        "from stable_baselines3 import A2C\n",
        "from stable_baselines3.common.evaluation import evaluate_policy\n",
        "from stable_baselines3.common.vec_env import DummyVecEnv, VecNormalize\n",
        "from stable_baselines3.common.env_util import make_vec_env\n",
        "\n",
        "from huggingface_hub import notebook_login"
      ],
      "metadata": {
        "id": "ailJsekG8Wvb"
      },
      "execution_count": null,
      "outputs": []
    },
    {
      "cell_type": "markdown",
      "source": [
        "## Окружающая среда №1: AntBulletEnv-v0 🕸\n"
      ],
      "metadata": {
        "id": "SnGlK1B98cyy"
      }
    },
    {
      "cell_type": "markdown",
      "source": [
        "### Создайте AntBulletEnv-v0\n",
        "#### Окружающая среда 🎮\n",
        "В этой среде агент должен правильно использовать свои различные суставы, чтобы правильно ходить.\n",
        "Вы можете найти подробное объяснение этой среды здесь: https://hackmd.io/@jeffreymo/SJJrSJh5_#PyBullet"
      ],
      "metadata": {
        "id": "TZ2BaDh28wJ6"
      }
    },
    {
      "cell_type": "code",
      "source": [
        "env_id = \"AntBulletEnv-v0\"\n",
        "# Создайте окружающую среду\n",
        "env = gym.make(env_id)\n",
        "\n",
        "# Получите пространство состояний и пространство действий\n",
        "s_size = env.observation_space.shape[0]\n",
        "a_size = env.action_space"
      ],
      "metadata": {
        "id": "Ke7G2BT09AFC"
      },
      "execution_count": null,
      "outputs": []
    },
    {
      "cell_type": "code",
      "source": [
        "print(\"_____ПРОСТРАНСТВО НАБЛЮДЕНИЙ_____ \\n\")\n",
        "print(\"Размер пространства состояний: \", s_size)\n",
        "print(\"Выборочное наблюдение\", env.observation_space.sample()) # Получите случайное наблюдение"
      ],
      "metadata": {
        "id": "XWArNLka9KcK"
      },
      "execution_count": null,
      "outputs": []
    },
    {
      "cell_type": "markdown",
      "source": [
        "Пространство наблюдения (от [Jeffrey Y Mo](https://hackmd.io/@jeffreymo/SJJrSJh5_#PyBullet)):\n",
        "\n",
        "Разница в том, что наше пространство наблюдения равно 28, а не 29.\n",
        "\n",
        "<img src=\"https://huggingface.co/datasets/huggingface-deep-rl-course/course-images/resolve/main/en/unit8/obs_space.png\" alt=\"PyBullet Ant Obs space\" width=\"70%\"/>"
      ],
      "metadata": {
        "id": "K8lmPekt9kqK"
      }
    },
    {
      "cell_type": "code",
      "source": [
        "print(\"\\n _____ПРОСТРАНСТВО ДЕЙСТВИЙ_____ \\n\")\n",
        "print(\"Размер пространства действий: \", a_size)\n",
        "print(\"Пример действия из пространства\", env.action_space.sample()) # Получите случайное действие"
      ],
      "metadata": {
        "id": "1BrHfzJP-OBS"
      },
      "execution_count": null,
      "outputs": []
    },
    {
      "cell_type": "markdown",
      "source": [
        "Пространство действий (от [Jeffrey Y Mo](https://hackmd.io/@jeffreymo/SJJrSJh5_#PyBullet)):\n",
        "\n",
        "<img src=\"https://huggingface.co/datasets/huggingface-deep-rl-course/course-images/resolve/main/en/unit8/action_space.png\" alt=\"PyBullet Ant Obs space\" width=\"70%\"/>"
      ],
      "metadata": {
        "id": "cXhAVe0Z-rzr"
      }
    },
    {
      "cell_type": "markdown",
      "source": [
        "### Нормализуйте наблюдение и вознаграждения"
      ],
      "metadata": {
        "id": "gNdsrUA4_BoS"
      }
    },
    {
      "cell_type": "markdown",
      "source": [
        "Хорошей практикой в обучении с подкреплением является [нормализация входных характеристик](https://stable-baselines3.readthedocs.io/en/master/guide/rl_tips.html). \n",
        "\n",
        "Для этой цели существует оболочка, которая вычислит текущее среднее значение и стандартное отклонение входных признаков.\n",
        "\n",
        "Мы также нормализуем вознаграждения с помощью этой же оболочки, добавляя `norm_reward = True`\n",
        "\n",
        "[Вам следует ознакомиться с документацией, чтобы заполнить эту ячейку](https://stable-baselines3.readthedocs.io/en/master/guide/vec_envs.html#vecnormalize)"
      ],
      "metadata": {
        "id": "y2bn9Jkf_IaK"
      }
    },
    {
      "cell_type": "code",
      "source": [
        "env = make_vec_env(env_id, n_envs=4)\n",
        "\n",
        "# Добавление этой оболочки для нормализации наблюдения и вознаграждения\n",
        "env = # ЗАДАЧА: Добавить оболочку"
      ],
      "metadata": {
        "id": "wRdI3tC-_gVy"
      },
      "execution_count": null,
      "outputs": []
    },
    {
      "cell_type": "markdown",
      "source": [
        "#### Решение"
      ],
      "metadata": {
        "id": "0GgdtGh2_s8K"
      }
    },
    {
      "cell_type": "code",
      "source": [
        "env = make_vec_env(env_id, n_envs=4)\n",
        "\n",
        "env = VecNormalize(env, norm_obs=True, norm_reward=True, clip_obs=10.)"
      ],
      "metadata": {
        "id": "1rblcPBw_v3q"
      },
      "execution_count": null,
      "outputs": []
    },
    {
      "cell_type": "markdown",
      "source": [
        "### Создание модели A2C 🤖\n",
        "\n",
        "В этом случае, поскольку у нас есть вектор из 28 значений в качестве входных данных, мы будем использовать MLP (многослойный персептрон) в качестве политики.\n",
        "\n",
        "Для получения дополнительной информации о реализации A2C со  StableBaselines3 проверьте: https://stable-baselines3.readthedocs.io/en/master/modules/a2c.html#notes\n",
        "\n",
        "Чтобы найти наилучшие параметры, я проверил [официальные обученные агенты командой Stable-Baselines 3](https://huggingface.co/sb3)."
      ],
      "metadata": {
        "id": "465ONGB1_z5K"
      }
    },
    {
      "cell_type": "code",
      "source": [
        "model = # Создайте модель A2C и постарайтесь найти наилучшие параметры"
      ],
      "metadata": {
        "id": "lfEEKTR0Z-My"
      },
      "execution_count": null,
      "outputs": []
    },
    {
      "cell_type": "markdown",
      "source": [
        "#### Решение"
      ],
      "metadata": {
        "id": "lRxFVaiTaFF4"
      }
    },
    {
      "cell_type": "code",
      "source": [
        "model = A2C(policy = \"MlpPolicy\",\n",
        "            env = env,\n",
        "            gae_lambda = 0.9,\n",
        "            gamma = 0.99,\n",
        "            learning_rate = 0.00096,\n",
        "            max_grad_norm = 0.5,\n",
        "            n_steps = 8,\n",
        "            vf_coef = 0.4,\n",
        "            ent_coef = 0.0,\n",
        "            policy_kwargs=dict(\n",
        "            log_std_init=-2, ortho_init=False),\n",
        "            normalize_advantage=False,\n",
        "            use_rms_prop= True,\n",
        "            use_sde= True,\n",
        "            verbose=1)"
      ],
      "metadata": {
        "id": "ebNWFnnvaF9h"
      },
      "execution_count": null,
      "outputs": []
    },
    {
      "cell_type": "markdown",
      "source": [
        "### Обучите агента A2C 🏃\n",
        "- Давайте обучим нашего агента на 2 000 000 временных шагов, не забудьте использовать GPU на Colab. Это займет примерно ~25-40 минут"
      ],
      "metadata": {
        "id": "-pmlahhiaLDB"
      }
    },
    {
      "cell_type": "code",
      "source": [
        "model.learn(2_000_000)"
      ],
      "metadata": {
        "id": "bgiZ4FP8aTCR"
      },
      "execution_count": null,
      "outputs": []
    },
    {
      "cell_type": "code",
      "source": [
        "# Сохраните модель, и Vec Normalize  статистику при сохранении агента\n",
        "model.save(\"a2c-AntBulletEnv-v0\")\n",
        "env.save(\"vec_normalize.pkl\")"
      ],
      "metadata": {
        "id": "WjKX6g1UaV5i"
      },
      "execution_count": null,
      "outputs": []
    },
    {
      "cell_type": "markdown",
      "source": [
        "### Оцените агента 📈\n",
        "- Теперь, когда наш агент обучен, нам нужно **проверить его работоспособность**.\n",
        "- Stable-Baselines 3 предоставляет метод для этого: `evaluate_policy`\n",
        "- В моем случае я получил скромную награду в размере `2371.90 +/- 16.50 `"
      ],
      "metadata": {
        "id": "Xp59Qmh5aoVx"
      }
    },
    {
      "cell_type": "code",
      "source": [
        "from stable_baselines3.common.vec_env import DummyVecEnv, VecNormalize\n",
        "\n",
        "# Load the saved statistics\n",
        "eval_env = DummyVecEnv([lambda: gym.make(\"AntBulletEnv-v0\")])\n",
        "eval_env = VecNormalize.load(\"vec_normalize.pkl\", eval_env)\n",
        "\n",
        "#  do not update them at test time\n",
        "eval_env.training = False\n",
        "# reward normalization is not needed at test time\n",
        "eval_env.norm_reward = False\n",
        "\n",
        "# Load the agent\n",
        "model = A2C.load(\"a2c-AntBulletEnv-v0\")\n",
        "\n",
        "mean_reward, std_reward = evaluate_policy(model, eval_env)\n",
        "\n",
        "print(f\"Mean reward = {mean_reward:.2f} +/- {std_reward:.2f}\")"
      ],
      "metadata": {
        "id": "GhtDCnTxav-x"
      },
      "execution_count": null,
      "outputs": []
    },
    {
      "cell_type": "markdown",
      "source": [
        "### Опубликуйте свою обученную модель на хабе 🔥\n",
        "Теперь, когда мы увидели, что получили хорошие результаты после обучения, мы можем опубликовать нашу обученную модель на хабе с помощью одной строки кода.\n",
        "\n",
        "📚 Документация библиотек 👉 https://github.com/huggingface/huggingface_sb3/tree/main#hugging-face--x-stable-baselines3-v20\n",
        "\n",
        "Вот пример карты модели (со встроенной средой):\n",
        "\n",
        "<img src=\"https://huggingface.co/datasets/huggingface-deep-rl-course/course-images/resolve/main/en/unit8/modelcardpybullet.png\" alt=\"Model Card Pybullet\" width=\"90%\"/>"
      ],
      "metadata": {
        "id": "JM9w9p0MayyB"
      }
    },
    {
      "cell_type": "markdown",
      "source": [
        "Используя `package_to_hub`, как мы уже упоминали в предыдущих разделах, **вы оцениваете, записываете повтор, генерируете карточку модели вашего агента и отправляете ее в хаб**.\n",
        "\n",
        "Таким образом:\n",
        "- Вы можете **продемонстрировать свою работу** 🔥\n",
        "- Вы можете **визуализировать, как ваш агент играет** 👀\n",
        "- Вы можете **поделиться с сообществом агентом, которым могут пользоваться другие** 💾\n",
        "- Вы можете **получить доступ к таблице лидеров 🏆 , чтобы увидеть, насколько хорошо работает ваш агент по сравнению с вашими одноклассниками** 👉 [Leaderboard](https://huggingface.co/spaces/huggingface-projects/Deep-Reinforcement-Learning-Leaderboard)."
      ],
      "metadata": {
        "id": "Sd3xhHbJbVoJ"
      }
    },
    {
      "cell_type": "code",
      "source": [
        "notebook_login()\n",
        "!git config --global credential.helper store"
      ],
      "metadata": {
        "id": "6QHM0VorcA9B"
      },
      "execution_count": null,
      "outputs": []
    },
    {
      "cell_type": "code",
      "source": [
        "package_to_hub(\n",
        "    model=model,\n",
        "    model_name=f\"a2c-{env_id}\",\n",
        "    model_architecture=\"A2C\",\n",
        "    env_id=env_id,\n",
        "    eval_env=eval_env,\n",
        "    repo_id=f\"ThomasSimonini/a2c-{env_id}\", # Измените имя пользователя\n",
        "    commit_message=\"Initial commit\",\n",
        ")"
      ],
      "metadata": {
        "id": "H7aWhgSecKzR"
      },
      "execution_count": null,
      "outputs": []
    },
    {
      "cell_type": "markdown",
      "source": [
        "## Окружающая среда 2: Panda Reach Dense-v2 🦾\n",
        "\n",
        "Агент, которого мы собираемся обучить, - это роботизированная рука, которая должна выполнять управление (двигать рукой и использовать конечный эффектор).\n",
        "\n",
        "В робототехнике конечный эффектор - это устройство на конце роботизированной руки, предназначенное для взаимодействия с окружающей средой.\n",
        "\n",
        "В режиме \"Panda Reach\" робот должен поместить свой конечный эффектор в целевое положение (зеленый шар).\n",
        "\n",
        "Мы собираемся использовать плотную версию этой среды. Это означает, что мы получим *плотную функцию вознаграждения*, которая **будет предоставлять вознаграждение на каждом временном шаге** (чем ближе агент к выполнению задачи, тем выше вознаграждение). В отличие от *разреженной функции вознаграждения *, где среда ** возвращает вознаграждение тогда и только тогда, когда задача выполнена **.\n",
        "\n",
        "Кроме того, мы собираемся использовать *Управление смещением конечного эффектора*, это означает, что действие **соответствует смещению конечного эффектора**. Мы не контролируем индивидуальное движение каждого сустава (joint control).\n",
        "\n",
        "<img src=\"https://huggingface.co/datasets/huggingface-deep-rl-course/course-images/resolve/main/en/unit8/robotics.jpg\"  alt=\"Robotics\" width=\"70%\"/>\n",
        "\n",
        "\n",
        "Таким образом **тренировка будет проще**.\n"
      ],
      "metadata": {
        "id": "ekSSwhWfcYpm"
      }
    },
    {
      "cell_type": "markdown",
      "source": [
        "В `PandaReachDense-v2` роботизированная рука должна поместить свой конечный эффектор в целевое положение (зеленый шар)."
      ],
      "metadata": {
        "id": "4BKSc7uGdQXy"
      }
    },
    {
      "cell_type": "code",
      "source": [
        "import gym\n",
        "\n",
        "env_id = \"PandaReachDense-v2\"\n",
        "\n",
        "# Создайте среду\n",
        "env = gym.make(env_id)\n",
        "\n",
        "# Получите пространство состояний и пространство действий\n",
        "s_size = env.observation_space.shape\n",
        "a_size = env.action_space"
      ],
      "metadata": {
        "id": "4OGtS_OGdTdV"
      },
      "execution_count": null,
      "outputs": []
    },
    {
      "cell_type": "code",
      "source": [
        "print(\"_____OBSERVATION SPACE_____ \\n\")\n",
        "print(\"The State Space is: \", s_size)\n",
        "print(\"Sample observation\", env.observation_space.sample()) # Получите случайное наблюдение"
      ],
      "metadata": {
        "id": "sjIf2jM9dgRZ"
      },
      "execution_count": null,
      "outputs": []
    },
    {
      "cell_type": "markdown",
      "source": [
        "Пространство наблюдения ** представляет собой словарь с 3 различными элементами**:\n",
        "- `achieved_goal`: (x,y,z) положение цели.\n",
        "- `desired_goal`: (x,y,z) расстояние между положением цели и текущим положением объекта.\n",
        "- `наблюдение`: положение (x, y,z) и скорость конечного эффектора (vx, vy, vz).\n",
        "\n",
        "Учитывая, что это словарь в качестве наблюдения, **нам нужно будет использовать политику множественного ввода MultiInputPolicy вместо MlpPolicy**."
      ],
      "metadata": {
        "id": "9tRL68q2dwxR"
      }
    },
    {
      "cell_type": "code",
      "source": [
        "print(\"\\n _____ACTION SPACE_____ \\n\")\n",
        "print(\"The Action Space is: \", a_size)\n",
        "print(\"Action Space Sample\", env.action_space.sample()) # Получите случайное действие"
      ],
      "metadata": {
        "id": "5n6XZc5Od7qR"
      },
      "execution_count": null,
      "outputs": []
    },
    {
      "cell_type": "markdown",
      "source": [
        "Пространство действий представляет собой вектор с 3 значениями:\n",
        "- Управляйте движением x, y, z"
      ],
      "metadata": {
        "id": "WZ0uXp0TeFnh"
      }
    },
    {
      "cell_type": "markdown",
      "source": [
        "Теперь твоя очередь:\n",
        "\n",
        "1. Определите среду под названием \"PandaReachDense-v2\".\n",
        "2. Создайте векторизованную среду\n",
        "3. Добавьте оболочку для нормализации наблюдений и вознаграждений. [Проверьте документацию](https://stable-baselines3.readthedocs.io/en/master/guide/vec_envs.html#vecnormalize )\n",
        "4. Создайте модель A2C (не забудьте verbose=1, чтобы распечатать журналы обучения).\n",
        "5. Тренируйте его в течение 1 м временных шагов\n",
        "6. Сохраните модель и VecNormalize статистику при сохранении агента\n",
        "7. Оцените своего агента\n",
        "8. Опубликуйте свою обученную модель на хабе 🔥 с помощью `package_to_hub`"
      ],
      "metadata": {
        "id": "mLUNt3DmeVF5"
      }
    },
    {
      "cell_type": "markdown",
      "source": [
        "### Решение (заполните задачу)"
      ],
      "metadata": {
        "id": "pk8PdSKUejcp"
      }
    },
    {
      "cell_type": "code",
      "source": [
        "# 1 - 2\n",
        "env_id = \"PandaReachDense-v2\"\n",
        "env = make_vec_env(env_id, n_envs=4)\n",
        "\n",
        "# 3\n",
        "env = VecNormalize(env, norm_obs=True, norm_reward=False, clip_obs=10.)\n",
        "\n",
        "# 4\n",
        "model = A2C(policy = \"MultiInputPolicy\",\n",
        "            env = env,\n",
        "            verbose=1)\n",
        "# 5\n",
        "model.learn(1_000_000)"
      ],
      "metadata": {
        "id": "cZR_NkYOemEB"
      },
      "execution_count": null,
      "outputs": []
    },
    {
      "cell_type": "code",
      "source": [
        "# 6\n",
        "model_name = \"a2c-PandaReachDense-v2\"; \n",
        "model.save(model_name)\n",
        "env.save(\"vec_normalize.pkl\")\n",
        "\n",
        "# 7\n",
        "from stable_baselines3.common.vec_env import DummyVecEnv, VecNormalize\n",
        "\n",
        "# Загрузите сохраненную статистику\n",
        "eval_env = DummyVecEnv([lambda: gym.make(\"PandaReachDense-v2\")])\n",
        "eval_env = VecNormalize.load(\"vec_normalize.pkl\", eval_env)\n",
        "\n",
        "#  не обновляйте их во время тестирования\n",
        "eval_env.training = False\n",
        "# нормализация вознаграждения во время тестирования не требуется\n",
        "eval_env.norm_reward = False\n",
        "\n",
        "# Загрузите агент\n",
        "model = A2C.load(model_name)\n",
        "\n",
        "mean_reward, std_reward = evaluate_policy(model, eval_env)\n",
        "\n",
        "print(f\"Mean reward = {mean_reward:.2f} +/- {std_reward:.2f}\")\n",
        "\n",
        "# 8\n",
        "package_to_hub(\n",
        "    model=model,\n",
        "    model_name=f\"a2c-{env_id}\",\n",
        "    model_architecture=\"A2C\",\n",
        "    env_id=env_id,\n",
        "    eval_env=eval_env,\n",
        "    repo_id=f\"ThomasSimonini/a2c-{env_id}\", # ЗАДАЧА: Измените имя пользователя\n",
        "    commit_message=\"Initial commit\",\n",
        ")"
      ],
      "metadata": {
        "id": "4CNNRqpjeqHo"
      },
      "execution_count": null,
      "outputs": []
    },
    {
      "cell_type": "markdown",
      "source": [
        "## Некоторые дополнения 🏆\n",
        "Лучший способ научиться **- это пробовать что-то самостоятельно**! Почему бы не попробовать `HalfCheetahBulletEnv-v0` для PyBullet и `PandaPickAndPlace-v1` для Panda-Gym?\n",
        "\n",
        "Если вы хотите попробовать более сложные задачи для panda-gym, вам нужно проверить, что было сделано с помощью **QC или SAC** (более эффективный алгоритм, подходящий для задач робототехники). В реальной робототехнике вы будете использовать более эффективный алгоритм выборки по простой причине: в отличие от симуляции **если вы слишком сильно двигаете роботизированной рукой, у вас есть риск сломать ее**.\n",
        "\n",
        "PandaPickAndPlace-v1: https://huggingface.co/sb3/tqc-PandaPickAndPlace-v1\n",
        "\n",
        "И не стесняйтесь ознакомиться с документацией panda-gym здесь: https://panda-gym.readthedocs.io/en/latest/usage/train_with_sb3.html\n",
        "\n",
        "Вот несколько идей для достижения этого:\n",
        "* Тренируйте больше шагов\n",
        "* Попробуйте разные гиперпараметры, посмотрев на то, что сделали ваши одноклассники 👉 https://huggingface.co/models?other=https://huggingface.co/models?other=AntBulletEnv-v0\n",
        "* **Разместите свою новую обученную модель** на хабе 🔥"
      ],
      "metadata": {
        "id": "KOx0Xt1lfA9K"
      }
    },
    {
      "cell_type": "markdown",
      "source": [
        "Увидимся в блоке 7! 🔥\n",
        "## Keep learning, stay awesome 🤗"
      ],
      "metadata": {
        "id": "n47jgayMf3ch"
      }
    }
  ]
}