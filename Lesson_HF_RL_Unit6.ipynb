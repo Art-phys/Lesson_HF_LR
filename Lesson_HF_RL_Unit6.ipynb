{
  "nbformat": 4,
  "nbformat_minor": 0,
  "metadata": {
    "colab": {
      "provenance": [],
      "include_colab_link": true
    },
    "kernelspec": {
      "name": "python3",
      "display_name": "Python 3"
    },
    "language_info": {
      "name": "python"
    }
  },
  "cells": [
    {
      "cell_type": "markdown",
      "metadata": {
        "id": "view-in-github",
        "colab_type": "text"
      },
      "source": [
        "<a href=\"https://colab.research.google.com/github/Art-phys/Lesson_HF_LR/blob/main/Lesson_HF_RL_Unit6.ipynb\" target=\"_parent\"><img src=\"https://colab.research.google.com/assets/colab-badge.svg\" alt=\"Open In Colab\"/></a>"
      ]
    },
    {
      "cell_type": "markdown",
      "source": [
        "# Блок 6: Использование Advantage Actor Critic (A2C) для моделирования робототехники с помощью PyBullet и Panda-Gym 🤖\n",
        "\n",
        "<img src=\"https://huggingface.co/datasets/huggingface-deep-rl-course/course-images/resolve/main/en/unit8/thumbnail.png\"  alt=\"Thumbnail\" width=\"50%\"/>\n",
        "\n",
        "В этом блокноте вы научитесь использовать A2C с двумя наборами робототехнических сред PyBullet и Panda-Gym.\n",
        "\n",
        "С [PyBullet](https://github.com/bulletphysics/bullet3), мы собираемся **обучить робота двигаться**:\n",
        "- `AntBulletEnv-v0` 🕸️ Точнее, паук (они говорят Муравей, но да ладно... это паук 😆 ) 🕸️\n",
        "\n",
        "Затем, с [Panda-Gym](https://github.com/qgallouedec/panda-gym), мы собираемся **обучить роботизированную руку** (Франка Эмика Панда робот) выполнять задание:\n",
        "- `Reach`: робот должен поместить свой конечный манипулятор в целевое положение.\n",
        "\n",
        "После этого вы сможете **тренироваться в других средах робототехники**."
      ],
      "metadata": {
        "id": "G-6euksPQJMu"
      }
    },
    {
      "cell_type": "markdown",
      "source": [
        "<img src=\"https://huggingface.co/datasets/huggingface-deep-rl-course/course-images/resolve/main/en/unit8/environments.gif\" alt=\"Robotics environments\" width=\"50%\"/>"
      ],
      "metadata": {
        "id": "6R_ikwpIq5Tc"
      }
    },
    {
      "cell_type": "markdown",
      "source": [
        "### 🎮 Окружающая среда: \n",
        "\n",
        "- [PyBullet](https://github.com/bulletphysics/bullet3)\n",
        "- [Panda-Gym](https://github.com/qgallouedec/panda-gym)\n",
        "\n",
        "###📚 RL-Библиотека: \n",
        "\n",
        "- [Stable-Baselines3](https://stable-baselines3.readthedocs.io/)"
      ],
      "metadata": {
        "id": "MWhdX9eHrDwM"
      }
    },
    {
      "cell_type": "markdown",
      "source": [
        "## Цели этого блокнота 🏆\n",
        "\n",
        "В конце этого блокнота вы:\n",
        "\n",
        "- Научитесь использовать библиотеки сред **PyBullet** и **Panda-Gym**.\n",
        "-  Научитесь **обучать роботов, используя A2C**.\n",
        "- Поймите, почему **нам нужно нормализовать входные данные**.\n",
        "- Будьте в состоянии **отправить своего обученного агента и код в центр** с хорошим видеоповтором и оценочным баллом 🔥."
      ],
      "metadata": {
        "id": "7y8HxflurUXj"
      }
    },
    {
      "cell_type": "markdown",
      "source": [
        "## Этот блокнот взят из курса обучения с глубоким подкреплением\n",
        "<img src=\"https://huggingface.co/datasets/huggingface-deep-rl-course/course-images/resolve/main/en/notebooks/deep-rl-course-illustration.jpg\" alt=\"Deep RL Course illustration\" width=\"50%\"/>"
      ],
      "metadata": {
        "id": "gFVI2DnPvAFM"
      }
    },
    {
      "cell_type": "markdown",
      "source": [
        "🔲 📚 [Метод \"актер-критик\" Блок 6](https://huggingface.co/deep-rl-course/unit6/introduction) 🤗  "
      ],
      "metadata": {
        "id": "ymNSRZK_vx1M"
      }
    },
    {
      "cell_type": "markdown",
      "source": [
        "# Давайте обучим наших первых роботов 🤖"
      ],
      "metadata": {
        "id": "E5_2CU8PwT4L"
      }
    },
    {
      "cell_type": "markdown",
      "source": [
        "Чтобы подтвердить это практическое руководство для [процесса сертификации](https://huggingface.co/deep-rl-course/en/unit0/introduction#certification-process),  вам нужно отправить две ваши обученные модели в концентратор и получить следующие результаты:\n",
        "\n",
        "- `AntBulletEnv-v0` получив результат >= 650.\n",
        "- `PandaReachDense-v2` получив результат >= -3.5.\n",
        "\n",
        "Чтобы найти свой результат, перейдите к [leaderboard](https://huggingface.co/spaces/huggingface-projects/Deep-Reinforcement-Learning-Leaderboard) и найдите свою модель, **the result = mean_reward - std of reward**\n",
        "\n",
        "Если вы не нашли свою модель, **перейдите в нижнюю часть страницы и нажмите на кнопку обновить**\n",
        "\n",
        "Для получения дополнительной информации о процессе сертификации ознакомьтесь с этим разделом 👉 https://huggingface.co/deep-rl-course/en/unit0/introduction#certification-process"
      ],
      "metadata": {
        "id": "o_yj1zgRwXes"
      }
    },
    {
      "cell_type": "markdown",
      "source": [
        "## Создайте виртуальный дисплей 🔽\n",
        "\n",
        "Во время записи нам нужно будет сгенерировать видео-повтор. Для этого с помощью colab ** нам нужен виртуальный экран, чтобы иметь возможность отображать среду ** (и, таким образом, записывать кадры).\n",
        "\n",
        "Следовательно, в следующей ячейке будут установлены библиотеки, а также создан и запущен виртуальный экран 🖥"
      ],
      "metadata": {
        "id": "AQd8FiCL7qii"
      }
    },
    {
      "cell_type": "code",
      "execution_count": null,
      "metadata": {
        "id": "xNHgksoWSpAH"
      },
      "outputs": [],
      "source": [
        "%%capture\n",
        "!apt install python-opengl\n",
        "!apt install ffmpeg\n",
        "!apt install xvfb\n",
        "!pip3 install pyvirtualdisplay"
      ]
    },
    {
      "cell_type": "code",
      "source": [
        "# Virtual display\n",
        "from pyvirtualdisplay import Display\n",
        "\n",
        "virtual_display = Display(visible=0, size=(1400, 900))\n",
        "virtual_display.start()"
      ],
      "metadata": {
        "id": "vx7E3FvB7x0B"
      },
      "execution_count": null,
      "outputs": []
    },
    {
      "cell_type": "markdown",
      "source": [
        "### Установка зависимостей 🔽\n",
        "Первым шагом является установка зависимостей, мы установим несколько из них:\n",
        "\n",
        "- `pybullet`: Содержит среду обитания шагающих роботов.\n",
        "- `panda-gym`: Содержит среду роботизированной руки.\n",
        "- `стабильные базовые линии 3 [дополнительно]`: Библиотека обучения с глубоким подкреплением SB3.\n",
        "- `hugging face_sb3`: Дополнительный код для Stable-baselines 3 для загрузки моделей из Hugging Face 🤗 Hub.\n",
        "- `hugging face_hub`: Библиотека, позволяющая любому пользователю работать с репозиториями хаба."
      ],
      "metadata": {
        "id": "nZlbsquG7-Wy"
      }
    },
    {
      "cell_type": "code",
      "source": [
        "!pip install -r https://raw.githubusercontent.com/huggingface/deep-rl-class/main/notebooks/unit6/requirements-unit6.txt"
      ],
      "metadata": {
        "id": "ZCymEtdv8Q2S"
      },
      "execution_count": null,
      "outputs": []
    },
    {
      "cell_type": "markdown",
      "source": [
        "## Импортируйте пакеты 📦"
      ],
      "metadata": {
        "id": "N-iZ3be08V4b"
      }
    },
    {
      "cell_type": "code",
      "source": [
        "import pybullet_envs\n",
        "import panda_gym\n",
        "import gym\n",
        "\n",
        "import os\n",
        "\n",
        "from huggingface_sb3 import load_from_hub, package_to_hub\n",
        "\n",
        "from stable_baselines3 import A2C\n",
        "from stable_baselines3.common.evaluation import evaluate_policy\n",
        "from stable_baselines3.common.vec_env import DummyVecEnv, VecNormalize\n",
        "from stable_baselines3.common.env_util import make_vec_env\n",
        "\n",
        "from huggingface_hub import notebook_login"
      ],
      "metadata": {
        "id": "ailJsekG8Wvb"
      },
      "execution_count": null,
      "outputs": []
    },
    {
      "cell_type": "markdown",
      "source": [
        "## Окружающая среда №1: AntBulletEnv-v0 🕸\n"
      ],
      "metadata": {
        "id": "SnGlK1B98cyy"
      }
    },
    {
      "cell_type": "markdown",
      "source": [
        "### Создайте AntBulletEnv-v0\n",
        "#### Окружающая среда 🎮\n",
        "В этой среде агент должен правильно использовать свои различные суставы, чтобы правильно ходить.\n",
        "Вы можете найти подробное объяснение этой среды здесь: https://hackmd.io/@jeffreymo/SJJrSJh5_#PyBullet"
      ],
      "metadata": {
        "id": "TZ2BaDh28wJ6"
      }
    },
    {
      "cell_type": "code",
      "source": [
        "env_id = \"AntBulletEnv-v0\"\n",
        "# Создайте окружающую среду\n",
        "env = gym.make(env_id)\n",
        "\n",
        "# Получите пространство состояний и пространство действий\n",
        "s_size = env.observation_space.shape[0]\n",
        "a_size = env.action_space"
      ],
      "metadata": {
        "id": "Ke7G2BT09AFC"
      },
      "execution_count": null,
      "outputs": []
    },
    {
      "cell_type": "code",
      "source": [
        "print(\"_____ПРОСТРАНСТВО НАБЛЮДЕНИЙ_____ \\n\")\n",
        "print(\"Размер пространства состояний: \", s_size)\n",
        "print(\"Выборочное наблюдение\", env.observation_space.sample()) # Получите случайное наблюдение"
      ],
      "metadata": {
        "id": "XWArNLka9KcK"
      },
      "execution_count": null,
      "outputs": []
    },
    {
      "cell_type": "markdown",
      "source": [
        "Пространство наблюдения (от [Jeffrey Y Mo](https://hackmd.io/@jeffreymo/SJJrSJh5_#PyBullet)):\n",
        "\n",
        "Разница в том, что наше пространство наблюдения равно 28, а не 29.\n",
        "\n",
        "<img src=\"https://huggingface.co/datasets/huggingface-deep-rl-course/course-images/resolve/main/en/unit8/obs_space.png\" alt=\"PyBullet Ant Obs space\" width=\"70%\"/>"
      ],
      "metadata": {
        "id": "K8lmPekt9kqK"
      }
    },
    {
      "cell_type": "code",
      "source": [
        "print(\"\\n _____ПРОСТРАНСТВО ДЕЙСТВИЙ_____ \\n\")\n",
        "print(\"Размер пространства действий: \", a_size)\n",
        "print(\"Пример действия из пространства\", env.action_space.sample()) # Получите случайное действие"
      ],
      "metadata": {
        "id": "1BrHfzJP-OBS"
      },
      "execution_count": null,
      "outputs": []
    },
    {
      "cell_type": "markdown",
      "source": [
        "Пространство действий (от [Jeffrey Y Mo](https://hackmd.io/@jeffreymo/SJJrSJh5_#PyBullet)):\n",
        "\n",
        "<img src=\"https://huggingface.co/datasets/huggingface-deep-rl-course/course-images/resolve/main/en/unit8/action_space.png\" alt=\"PyBullet Ant Obs space\" width=\"70%\"/>"
      ],
      "metadata": {
        "id": "cXhAVe0Z-rzr"
      }
    },
    {
      "cell_type": "markdown",
      "source": [
        "### Нормализуйте наблюдение и вознаграждения"
      ],
      "metadata": {
        "id": "gNdsrUA4_BoS"
      }
    }
  ]
}