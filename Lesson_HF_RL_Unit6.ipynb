{
  "nbformat": 4,
  "nbformat_minor": 0,
  "metadata": {
    "colab": {
      "provenance": [],
      "include_colab_link": true
    },
    "kernelspec": {
      "name": "python3",
      "display_name": "Python 3"
    },
    "language_info": {
      "name": "python"
    },
    "accelerator": "GPU",
    "gpuClass": "standard"
  },
  "cells": [
    {
      "cell_type": "markdown",
      "metadata": {
        "id": "view-in-github",
        "colab_type": "text"
      },
      "source": [
        "<a href=\"https://colab.research.google.com/github/Art-phys/Lesson_HF_LR/blob/main/Lesson_HF_RL_Unit6.ipynb\" target=\"_parent\"><img src=\"https://colab.research.google.com/assets/colab-badge.svg\" alt=\"Open In Colab\"/></a>"
      ]
    },
    {
      "cell_type": "markdown",
      "source": [
        "# Блок 6: Использование Advantage Actor Critic (A2C) для моделирования робототехники с помощью PyBullet и Panda-Gym 🤖\n",
        "\n",
        "<img src=\"https://huggingface.co/datasets/huggingface-deep-rl-course/course-images/resolve/main/en/unit8/thumbnail.png\"  alt=\"Thumbnail\" width=\"50%\"/>\n",
        "\n",
        "В этом блокноте вы научитесь использовать A2C с двумя наборами робототехнических сред PyBullet и Panda-Gym.\n",
        "\n",
        "С [PyBullet](https://github.com/bulletphysics/bullet3), мы собираемся **обучить робота двигаться**:\n",
        "- `AntBulletEnv-v0` 🕸️ Точнее, паук (они говорят Муравей, но да ладно... это паук 😆 ) 🕸️\n",
        "\n",
        "Затем, с [Panda-Gym](https://github.com/qgallouedec/panda-gym), мы собираемся **обучить роботизированную руку** (Франка Эмика Панда робот) выполнять задание:\n",
        "- `Reach`: робот должен поместить свой конечный манипулятор в целевое положение.\n",
        "\n",
        "После этого вы сможете **тренироваться в других средах робототехники**."
      ],
      "metadata": {
        "id": "G-6euksPQJMu"
      }
    },
    {
      "cell_type": "markdown",
      "source": [
        "<img src=\"https://huggingface.co/datasets/huggingface-deep-rl-course/course-images/resolve/main/en/unit8/environments.gif\" alt=\"Robotics environments\" width=\"50%\"/>"
      ],
      "metadata": {
        "id": "6R_ikwpIq5Tc"
      }
    },
    {
      "cell_type": "markdown",
      "source": [
        "### 🎮 Окружающая среда: \n",
        "\n",
        "- [PyBullet](https://github.com/bulletphysics/bullet3)\n",
        "- [Panda-Gym](https://github.com/qgallouedec/panda-gym)\n",
        "\n",
        "###📚 RL-Библиотека: \n",
        "\n",
        "- [Stable-Baselines3](https://stable-baselines3.readthedocs.io/)"
      ],
      "metadata": {
        "id": "MWhdX9eHrDwM"
      }
    },
    {
      "cell_type": "markdown",
      "source": [
        "## Цели этого блокнота 🏆\n",
        "\n",
        "В конце этого блокнота вы:\n",
        "\n",
        "- Научитесь использовать библиотеки сред **PyBullet** и **Panda-Gym**.\n",
        "-  Научитесь **обучать роботов, используя A2C**.\n",
        "- Поймете, почему **нам нужно нормализовать входные данные**.\n",
        "- Будите в состоянии **отправить своего обученного агента и код в центр** с хорошим видеоповтором и оценочным баллом 🔥."
      ],
      "metadata": {
        "id": "7y8HxflurUXj"
      }
    },
    {
      "cell_type": "markdown",
      "source": [
        "## Этот блокнот взят из курса обучения с глубоким подкреплением\n",
        "<img src=\"https://huggingface.co/datasets/huggingface-deep-rl-course/course-images/resolve/main/en/notebooks/deep-rl-course-illustration.jpg\" alt=\"Deep RL Course illustration\" width=\"50%\"/>"
      ],
      "metadata": {
        "id": "gFVI2DnPvAFM"
      }
    },
    {
      "cell_type": "markdown",
      "source": [
        "🔲 📚 [Метод \"актер-критик\" Блок 6](https://huggingface.co/deep-rl-course/unit6/introduction) 🤗  "
      ],
      "metadata": {
        "id": "ymNSRZK_vx1M"
      }
    },
    {
      "cell_type": "markdown",
      "source": [
        "# Давайте обучим наших первых роботов 🤖"
      ],
      "metadata": {
        "id": "E5_2CU8PwT4L"
      }
    },
    {
      "cell_type": "markdown",
      "source": [
        "Чтобы подтвердить это практическое руководство для [процесса сертификации](https://huggingface.co/deep-rl-course/en/unit0/introduction#certification-process),  вам нужно отправить две ваши обученные модели в концентратор и получить следующие результаты:\n",
        "\n",
        "- `AntBulletEnv-v0` получив результат >= 650.\n",
        "- `PandaReachDense-v2` получив результат >= -3.5.\n",
        "\n",
        "Чтобы найти свой результат, перейдите к [leaderboard](https://huggingface.co/spaces/huggingface-projects/Deep-Reinforcement-Learning-Leaderboard) и найдите свою модель, **the result = mean_reward - std of reward**\n",
        "\n",
        "Если вы не нашли свою модель, **перейдите в нижнюю часть страницы и нажмите на кнопку обновить**\n",
        "\n",
        "Для получения дополнительной информации о процессе сертификации ознакомьтесь с этим разделом 👉 https://huggingface.co/deep-rl-course/en/unit0/introduction#certification-process"
      ],
      "metadata": {
        "id": "o_yj1zgRwXes"
      }
    },
    {
      "cell_type": "markdown",
      "source": [
        "## Создайте виртуальный дисплей 🔽\n",
        "\n",
        "Во время записи нам нужно будет сгенерировать видео-повтор. Для этого с помощью colab **нам нужен виртуальный экран, чтобы иметь возможность отображать среду** (и, таким образом, записывать кадры).\n",
        "\n",
        "Следовательно, в следующей ячейке будут установлены библиотеки, а также создан и запущен виртуальный экран 🖥"
      ],
      "metadata": {
        "id": "AQd8FiCL7qii"
      }
    },
    {
      "cell_type": "code",
      "execution_count": 1,
      "metadata": {
        "id": "xNHgksoWSpAH"
      },
      "outputs": [],
      "source": [
        "%%capture\n",
        "!apt install python-opengl\n",
        "!apt install ffmpeg\n",
        "!apt install xvfb\n",
        "!pip3 install pyvirtualdisplay"
      ]
    },
    {
      "cell_type": "code",
      "source": [
        "# Virtual display\n",
        "from pyvirtualdisplay import Display\n",
        "\n",
        "virtual_display = Display(visible=0, size=(1400, 900))\n",
        "virtual_display.start()"
      ],
      "metadata": {
        "id": "vx7E3FvB7x0B",
        "outputId": "ac8dde91-7264-4426-cd5a-a994fa328d5e",
        "colab": {
          "base_uri": "https://localhost:8080/"
        }
      },
      "execution_count": 2,
      "outputs": [
        {
          "output_type": "execute_result",
          "data": {
            "text/plain": [
              "<pyvirtualdisplay.display.Display at 0x7f99a0702a30>"
            ]
          },
          "metadata": {},
          "execution_count": 2
        }
      ]
    },
    {
      "cell_type": "markdown",
      "source": [
        "### Установка зависимостей 🔽\n",
        "Первым шагом является установка библиотек, мы установим несколько из них:\n",
        "\n",
        "- `pybullet`: Содержит среду обитания шагающих роботов.\n",
        "- `panda-gym`: Содержит среду роботизированной руки.\n",
        "- `stable-baselines3[extra]`: Библиотека обучения с глубоким подкреплением SB3.\n",
        "- `hugging face_sb3`: Дополнительный код для Stable-baselines 3 для загрузки моделей из Hugging Face 🤗 Hub.\n",
        "- `hugging face_hub`: Библиотека, позволяющая любому пользователю работать с репозиториями хаба."
      ],
      "metadata": {
        "id": "nZlbsquG7-Wy"
      }
    },
    {
      "cell_type": "code",
      "source": [
        "!pip install -r https://raw.githubusercontent.com/huggingface/deep-rl-class/main/notebooks/unit6/requirements-unit6.txt"
      ],
      "metadata": {
        "id": "ZCymEtdv8Q2S",
        "outputId": "eec8e4e4-1975-46c2-cfbe-cfc07411d1c3",
        "colab": {
          "base_uri": "https://localhost:8080/"
        }
      },
      "execution_count": 3,
      "outputs": [
        {
          "output_type": "stream",
          "name": "stdout",
          "text": [
            "Looking in indexes: https://pypi.org/simple, https://us-python.pkg.dev/colab-wheels/public/simple/\n",
            "Collecting stable-baselines3[extra]\n",
            "  Downloading stable_baselines3-1.7.0-py3-none-any.whl (171 kB)\n",
            "\u001b[?25l     \u001b[90m━━━━━━━━━━━━━━━━━━━━━━━━━━━━━━━━━━━━━━━━\u001b[0m \u001b[32m0.0/171.8 KB\u001b[0m \u001b[31m?\u001b[0m eta \u001b[36m-:--:--\u001b[0m\r\u001b[2K     \u001b[90m━━━━━━━━━━━━━━━━━━━━━━━━━━━━━━━━━━━━━━━\u001b[0m \u001b[32m171.8/171.8 KB\u001b[0m \u001b[31m5.9 MB/s\u001b[0m eta \u001b[36m0:00:00\u001b[0m\n",
            "\u001b[?25hCollecting huggingface_sb3\n",
            "  Downloading huggingface_sb3-2.2.4-py3-none-any.whl (9.4 kB)\n",
            "Collecting panda_gym==2.0.0\n",
            "  Downloading panda_gym-2.0.0-py3-none-any.whl (26 kB)\n",
            "Collecting pyglet==1.5.1\n",
            "  Downloading pyglet-1.5.1-py2.py3-none-any.whl (1.0 MB)\n",
            "\u001b[2K     \u001b[90m━━━━━━━━━━━━━━━━━━━━━━━━━━━━━━━━━━━━━━━━\u001b[0m \u001b[32m1.0/1.0 MB\u001b[0m \u001b[31m31.9 MB/s\u001b[0m eta \u001b[36m0:00:00\u001b[0m\n",
            "\u001b[?25hRequirement already satisfied: scipy in /usr/local/lib/python3.9/dist-packages (from panda_gym==2.0.0->-r https://raw.githubusercontent.com/huggingface/deep-rl-class/main/notebooks/unit6/requirements-unit6.txt (line 3)) (1.10.1)\n",
            "Requirement already satisfied: numpy in /usr/local/lib/python3.9/dist-packages (from panda_gym==2.0.0->-r https://raw.githubusercontent.com/huggingface/deep-rl-class/main/notebooks/unit6/requirements-unit6.txt (line 3)) (1.22.4)\n",
            "Collecting pybullet\n",
            "  Downloading pybullet-3.2.5-cp39-cp39-manylinux_2_5_x86_64.manylinux1_x86_64.whl (91.7 MB)\n",
            "\u001b[2K     \u001b[90m━━━━━━━━━━━━━━━━━━━━━━━━━━━━━━━━━━━━━━━━\u001b[0m \u001b[32m91.7/91.7 MB\u001b[0m \u001b[31m10.3 MB/s\u001b[0m eta \u001b[36m0:00:00\u001b[0m\n",
            "\u001b[?25hRequirement already satisfied: gym in /usr/local/lib/python3.9/dist-packages (from panda_gym==2.0.0->-r https://raw.githubusercontent.com/huggingface/deep-rl-class/main/notebooks/unit6/requirements-unit6.txt (line 3)) (0.25.2)\n",
            "Collecting gym\n",
            "  Downloading gym-0.21.0.tar.gz (1.5 MB)\n",
            "\u001b[2K     \u001b[90m━━━━━━━━━━━━━━━━━━━━━━━━━━━━━━━━━━━━━━━━\u001b[0m \u001b[32m1.5/1.5 MB\u001b[0m \u001b[31m75.2 MB/s\u001b[0m eta \u001b[36m0:00:00\u001b[0m\n",
            "\u001b[?25h  Preparing metadata (setup.py) ... \u001b[?25l\u001b[?25hdone\n",
            "Requirement already satisfied: cloudpickle in /usr/local/lib/python3.9/dist-packages (from stable-baselines3[extra]->-r https://raw.githubusercontent.com/huggingface/deep-rl-class/main/notebooks/unit6/requirements-unit6.txt (line 1)) (2.2.1)\n",
            "Collecting importlib-metadata~=4.13\n",
            "  Downloading importlib_metadata-4.13.0-py3-none-any.whl (23 kB)\n",
            "Requirement already satisfied: matplotlib in /usr/local/lib/python3.9/dist-packages (from stable-baselines3[extra]->-r https://raw.githubusercontent.com/huggingface/deep-rl-class/main/notebooks/unit6/requirements-unit6.txt (line 1)) (3.5.3)\n",
            "Requirement already satisfied: pandas in /usr/local/lib/python3.9/dist-packages (from stable-baselines3[extra]->-r https://raw.githubusercontent.com/huggingface/deep-rl-class/main/notebooks/unit6/requirements-unit6.txt (line 1)) (1.4.4)\n",
            "Requirement already satisfied: torch>=1.11 in /usr/local/lib/python3.9/dist-packages (from stable-baselines3[extra]->-r https://raw.githubusercontent.com/huggingface/deep-rl-class/main/notebooks/unit6/requirements-unit6.txt (line 1)) (1.13.1+cu116)\n",
            "Requirement already satisfied: pillow in /usr/local/lib/python3.9/dist-packages (from stable-baselines3[extra]->-r https://raw.githubusercontent.com/huggingface/deep-rl-class/main/notebooks/unit6/requirements-unit6.txt (line 1)) (8.4.0)\n",
            "Collecting autorom[accept-rom-license]~=0.4.2\n",
            "  Downloading AutoROM-0.4.2-py3-none-any.whl (16 kB)\n",
            "Requirement already satisfied: opencv-python in /usr/local/lib/python3.9/dist-packages (from stable-baselines3[extra]->-r https://raw.githubusercontent.com/huggingface/deep-rl-class/main/notebooks/unit6/requirements-unit6.txt (line 1)) (4.6.0.66)\n",
            "Requirement already satisfied: tqdm in /usr/local/lib/python3.9/dist-packages (from stable-baselines3[extra]->-r https://raw.githubusercontent.com/huggingface/deep-rl-class/main/notebooks/unit6/requirements-unit6.txt (line 1)) (4.65.0)\n",
            "Collecting rich\n",
            "  Downloading rich-13.3.2-py3-none-any.whl (238 kB)\n",
            "\u001b[2K     \u001b[90m━━━━━━━━━━━━━━━━━━━━━━━━━━━━━━━━━━━━━━\u001b[0m \u001b[32m238.7/238.7 KB\u001b[0m \u001b[31m28.3 MB/s\u001b[0m eta \u001b[36m0:00:00\u001b[0m\n",
            "\u001b[?25hRequirement already satisfied: tensorboard>=2.9.1 in /usr/local/lib/python3.9/dist-packages (from stable-baselines3[extra]->-r https://raw.githubusercontent.com/huggingface/deep-rl-class/main/notebooks/unit6/requirements-unit6.txt (line 1)) (2.11.2)\n",
            "Collecting ale-py==0.7.4\n",
            "  Downloading ale_py-0.7.4-cp39-cp39-manylinux_2_17_x86_64.manylinux2014_x86_64.whl (1.6 MB)\n",
            "\u001b[2K     \u001b[90m━━━━━━━━━━━━━━━━━━━━━━━━━━━━━━━━━━━━━━━━\u001b[0m \u001b[32m1.6/1.6 MB\u001b[0m \u001b[31m65.2 MB/s\u001b[0m eta \u001b[36m0:00:00\u001b[0m\n",
            "\u001b[?25hRequirement already satisfied: psutil in /usr/local/lib/python3.9/dist-packages (from stable-baselines3[extra]->-r https://raw.githubusercontent.com/huggingface/deep-rl-class/main/notebooks/unit6/requirements-unit6.txt (line 1)) (5.4.8)\n",
            "Requirement already satisfied: importlib-resources in /usr/local/lib/python3.9/dist-packages (from ale-py==0.7.4->stable-baselines3[extra]->-r https://raw.githubusercontent.com/huggingface/deep-rl-class/main/notebooks/unit6/requirements-unit6.txt (line 1)) (5.12.0)\n",
            "Requirement already satisfied: pyyaml~=6.0 in /usr/local/lib/python3.9/dist-packages (from huggingface_sb3->-r https://raw.githubusercontent.com/huggingface/deep-rl-class/main/notebooks/unit6/requirements-unit6.txt (line 2)) (6.0)\n",
            "Collecting huggingface-hub~=0.8\n",
            "  Downloading huggingface_hub-0.13.2-py3-none-any.whl (199 kB)\n",
            "\u001b[2K     \u001b[90m━━━━━━━━━━━━━━━━━━━━━━━━━━━━━━━━━━━━━━\u001b[0m \u001b[32m199.2/199.2 KB\u001b[0m \u001b[31m24.9 MB/s\u001b[0m eta \u001b[36m0:00:00\u001b[0m\n",
            "\u001b[?25hRequirement already satisfied: wasabi in /usr/local/lib/python3.9/dist-packages (from huggingface_sb3->-r https://raw.githubusercontent.com/huggingface/deep-rl-class/main/notebooks/unit6/requirements-unit6.txt (line 2)) (0.10.1)\n",
            "Requirement already satisfied: requests in /usr/local/lib/python3.9/dist-packages (from autorom[accept-rom-license]~=0.4.2->stable-baselines3[extra]->-r https://raw.githubusercontent.com/huggingface/deep-rl-class/main/notebooks/unit6/requirements-unit6.txt (line 1)) (2.25.1)\n",
            "Requirement already satisfied: click in /usr/local/lib/python3.9/dist-packages (from autorom[accept-rom-license]~=0.4.2->stable-baselines3[extra]->-r https://raw.githubusercontent.com/huggingface/deep-rl-class/main/notebooks/unit6/requirements-unit6.txt (line 1)) (8.1.3)\n",
            "Collecting AutoROM.accept-rom-license\n",
            "  Downloading AutoROM.accept-rom-license-0.5.5.tar.gz (22 kB)\n",
            "  Installing build dependencies ... \u001b[?25l\u001b[?25hdone\n",
            "  Getting requirements to build wheel ... \u001b[?25l\u001b[?25hdone\n",
            "  Preparing metadata (pyproject.toml) ... \u001b[?25l\u001b[?25hdone\n",
            "Requirement already satisfied: typing-extensions>=3.7.4.3 in /usr/local/lib/python3.9/dist-packages (from huggingface-hub~=0.8->huggingface_sb3->-r https://raw.githubusercontent.com/huggingface/deep-rl-class/main/notebooks/unit6/requirements-unit6.txt (line 2)) (4.5.0)\n",
            "Requirement already satisfied: packaging>=20.9 in /usr/local/lib/python3.9/dist-packages (from huggingface-hub~=0.8->huggingface_sb3->-r https://raw.githubusercontent.com/huggingface/deep-rl-class/main/notebooks/unit6/requirements-unit6.txt (line 2)) (23.0)\n",
            "Requirement already satisfied: filelock in /usr/local/lib/python3.9/dist-packages (from huggingface-hub~=0.8->huggingface_sb3->-r https://raw.githubusercontent.com/huggingface/deep-rl-class/main/notebooks/unit6/requirements-unit6.txt (line 2)) (3.9.0)\n",
            "Requirement already satisfied: zipp>=0.5 in /usr/local/lib/python3.9/dist-packages (from importlib-metadata~=4.13->stable-baselines3[extra]->-r https://raw.githubusercontent.com/huggingface/deep-rl-class/main/notebooks/unit6/requirements-unit6.txt (line 1)) (3.15.0)\n",
            "Requirement already satisfied: grpcio>=1.24.3 in /usr/local/lib/python3.9/dist-packages (from tensorboard>=2.9.1->stable-baselines3[extra]->-r https://raw.githubusercontent.com/huggingface/deep-rl-class/main/notebooks/unit6/requirements-unit6.txt (line 1)) (1.51.3)\n",
            "Requirement already satisfied: wheel>=0.26 in /usr/local/lib/python3.9/dist-packages (from tensorboard>=2.9.1->stable-baselines3[extra]->-r https://raw.githubusercontent.com/huggingface/deep-rl-class/main/notebooks/unit6/requirements-unit6.txt (line 1)) (0.38.4)\n",
            "Requirement already satisfied: absl-py>=0.4 in /usr/local/lib/python3.9/dist-packages (from tensorboard>=2.9.1->stable-baselines3[extra]->-r https://raw.githubusercontent.com/huggingface/deep-rl-class/main/notebooks/unit6/requirements-unit6.txt (line 1)) (1.4.0)\n",
            "Requirement already satisfied: setuptools>=41.0.0 in /usr/local/lib/python3.9/dist-packages (from tensorboard>=2.9.1->stable-baselines3[extra]->-r https://raw.githubusercontent.com/huggingface/deep-rl-class/main/notebooks/unit6/requirements-unit6.txt (line 1)) (57.4.0)\n",
            "Requirement already satisfied: tensorboard-plugin-wit>=1.6.0 in /usr/local/lib/python3.9/dist-packages (from tensorboard>=2.9.1->stable-baselines3[extra]->-r https://raw.githubusercontent.com/huggingface/deep-rl-class/main/notebooks/unit6/requirements-unit6.txt (line 1)) (1.8.1)\n",
            "Requirement already satisfied: tensorboard-data-server<0.7.0,>=0.6.0 in /usr/local/lib/python3.9/dist-packages (from tensorboard>=2.9.1->stable-baselines3[extra]->-r https://raw.githubusercontent.com/huggingface/deep-rl-class/main/notebooks/unit6/requirements-unit6.txt (line 1)) (0.6.1)\n",
            "Requirement already satisfied: protobuf<4,>=3.9.2 in /usr/local/lib/python3.9/dist-packages (from tensorboard>=2.9.1->stable-baselines3[extra]->-r https://raw.githubusercontent.com/huggingface/deep-rl-class/main/notebooks/unit6/requirements-unit6.txt (line 1)) (3.19.6)\n",
            "Requirement already satisfied: google-auth<3,>=1.6.3 in /usr/local/lib/python3.9/dist-packages (from tensorboard>=2.9.1->stable-baselines3[extra]->-r https://raw.githubusercontent.com/huggingface/deep-rl-class/main/notebooks/unit6/requirements-unit6.txt (line 1)) (2.16.2)\n",
            "Requirement already satisfied: markdown>=2.6.8 in /usr/local/lib/python3.9/dist-packages (from tensorboard>=2.9.1->stable-baselines3[extra]->-r https://raw.githubusercontent.com/huggingface/deep-rl-class/main/notebooks/unit6/requirements-unit6.txt (line 1)) (3.4.1)\n",
            "Requirement already satisfied: google-auth-oauthlib<0.5,>=0.4.1 in /usr/local/lib/python3.9/dist-packages (from tensorboard>=2.9.1->stable-baselines3[extra]->-r https://raw.githubusercontent.com/huggingface/deep-rl-class/main/notebooks/unit6/requirements-unit6.txt (line 1)) (0.4.6)\n",
            "Requirement already satisfied: werkzeug>=1.0.1 in /usr/local/lib/python3.9/dist-packages (from tensorboard>=2.9.1->stable-baselines3[extra]->-r https://raw.githubusercontent.com/huggingface/deep-rl-class/main/notebooks/unit6/requirements-unit6.txt (line 1)) (2.2.3)\n",
            "Requirement already satisfied: cycler>=0.10 in /usr/local/lib/python3.9/dist-packages (from matplotlib->stable-baselines3[extra]->-r https://raw.githubusercontent.com/huggingface/deep-rl-class/main/notebooks/unit6/requirements-unit6.txt (line 1)) (0.11.0)\n",
            "Requirement already satisfied: kiwisolver>=1.0.1 in /usr/local/lib/python3.9/dist-packages (from matplotlib->stable-baselines3[extra]->-r https://raw.githubusercontent.com/huggingface/deep-rl-class/main/notebooks/unit6/requirements-unit6.txt (line 1)) (1.4.4)\n",
            "Requirement already satisfied: fonttools>=4.22.0 in /usr/local/lib/python3.9/dist-packages (from matplotlib->stable-baselines3[extra]->-r https://raw.githubusercontent.com/huggingface/deep-rl-class/main/notebooks/unit6/requirements-unit6.txt (line 1)) (4.39.0)\n",
            "Requirement already satisfied: python-dateutil>=2.7 in /usr/local/lib/python3.9/dist-packages (from matplotlib->stable-baselines3[extra]->-r https://raw.githubusercontent.com/huggingface/deep-rl-class/main/notebooks/unit6/requirements-unit6.txt (line 1)) (2.8.2)\n",
            "Requirement already satisfied: pyparsing>=2.2.1 in /usr/local/lib/python3.9/dist-packages (from matplotlib->stable-baselines3[extra]->-r https://raw.githubusercontent.com/huggingface/deep-rl-class/main/notebooks/unit6/requirements-unit6.txt (line 1)) (3.0.9)\n",
            "Requirement already satisfied: pytz>=2020.1 in /usr/local/lib/python3.9/dist-packages (from pandas->stable-baselines3[extra]->-r https://raw.githubusercontent.com/huggingface/deep-rl-class/main/notebooks/unit6/requirements-unit6.txt (line 1)) (2022.7.1)\n",
            "Collecting markdown-it-py<3.0.0,>=2.2.0\n",
            "  Downloading markdown_it_py-2.2.0-py3-none-any.whl (84 kB)\n",
            "\u001b[2K     \u001b[90m━━━━━━━━━━━━━━━━━━━━━━━━━━━━━━━━━━━━━━━━\u001b[0m \u001b[32m84.5/84.5 KB\u001b[0m \u001b[31m11.7 MB/s\u001b[0m eta \u001b[36m0:00:00\u001b[0m\n",
            "\u001b[?25hCollecting pygments<3.0.0,>=2.13.0\n",
            "  Downloading Pygments-2.14.0-py3-none-any.whl (1.1 MB)\n",
            "\u001b[2K     \u001b[90m━━━━━━━━━━━━━━━━━━━━━━━━━━━━━━━━━━━━━━━━\u001b[0m \u001b[32m1.1/1.1 MB\u001b[0m \u001b[31m74.3 MB/s\u001b[0m eta \u001b[36m0:00:00\u001b[0m\n",
            "\u001b[?25hRequirement already satisfied: rsa<5,>=3.1.4 in /usr/local/lib/python3.9/dist-packages (from google-auth<3,>=1.6.3->tensorboard>=2.9.1->stable-baselines3[extra]->-r https://raw.githubusercontent.com/huggingface/deep-rl-class/main/notebooks/unit6/requirements-unit6.txt (line 1)) (4.9)\n",
            "Requirement already satisfied: pyasn1-modules>=0.2.1 in /usr/local/lib/python3.9/dist-packages (from google-auth<3,>=1.6.3->tensorboard>=2.9.1->stable-baselines3[extra]->-r https://raw.githubusercontent.com/huggingface/deep-rl-class/main/notebooks/unit6/requirements-unit6.txt (line 1)) (0.2.8)\n",
            "Requirement already satisfied: six>=1.9.0 in /usr/local/lib/python3.9/dist-packages (from google-auth<3,>=1.6.3->tensorboard>=2.9.1->stable-baselines3[extra]->-r https://raw.githubusercontent.com/huggingface/deep-rl-class/main/notebooks/unit6/requirements-unit6.txt (line 1)) (1.15.0)\n",
            "Requirement already satisfied: cachetools<6.0,>=2.0.0 in /usr/local/lib/python3.9/dist-packages (from google-auth<3,>=1.6.3->tensorboard>=2.9.1->stable-baselines3[extra]->-r https://raw.githubusercontent.com/huggingface/deep-rl-class/main/notebooks/unit6/requirements-unit6.txt (line 1)) (5.3.0)\n",
            "Requirement already satisfied: requests-oauthlib>=0.7.0 in /usr/local/lib/python3.9/dist-packages (from google-auth-oauthlib<0.5,>=0.4.1->tensorboard>=2.9.1->stable-baselines3[extra]->-r https://raw.githubusercontent.com/huggingface/deep-rl-class/main/notebooks/unit6/requirements-unit6.txt (line 1)) (1.3.1)\n",
            "Collecting mdurl~=0.1\n",
            "  Downloading mdurl-0.1.2-py3-none-any.whl (10.0 kB)\n",
            "Requirement already satisfied: urllib3<1.27,>=1.21.1 in /usr/local/lib/python3.9/dist-packages (from requests->autorom[accept-rom-license]~=0.4.2->stable-baselines3[extra]->-r https://raw.githubusercontent.com/huggingface/deep-rl-class/main/notebooks/unit6/requirements-unit6.txt (line 1)) (1.26.14)\n",
            "Requirement already satisfied: chardet<5,>=3.0.2 in /usr/local/lib/python3.9/dist-packages (from requests->autorom[accept-rom-license]~=0.4.2->stable-baselines3[extra]->-r https://raw.githubusercontent.com/huggingface/deep-rl-class/main/notebooks/unit6/requirements-unit6.txt (line 1)) (4.0.0)\n",
            "Requirement already satisfied: idna<3,>=2.5 in /usr/local/lib/python3.9/dist-packages (from requests->autorom[accept-rom-license]~=0.4.2->stable-baselines3[extra]->-r https://raw.githubusercontent.com/huggingface/deep-rl-class/main/notebooks/unit6/requirements-unit6.txt (line 1)) (2.10)\n",
            "Requirement already satisfied: certifi>=2017.4.17 in /usr/local/lib/python3.9/dist-packages (from requests->autorom[accept-rom-license]~=0.4.2->stable-baselines3[extra]->-r https://raw.githubusercontent.com/huggingface/deep-rl-class/main/notebooks/unit6/requirements-unit6.txt (line 1)) (2022.12.7)\n",
            "Requirement already satisfied: MarkupSafe>=2.1.1 in /usr/local/lib/python3.9/dist-packages (from werkzeug>=1.0.1->tensorboard>=2.9.1->stable-baselines3[extra]->-r https://raw.githubusercontent.com/huggingface/deep-rl-class/main/notebooks/unit6/requirements-unit6.txt (line 1)) (2.1.2)\n",
            "Collecting libtorrent\n",
            "  Using cached libtorrent-2.0.7-cp39-cp39-manylinux_2_12_x86_64.manylinux2010_x86_64.whl (8.6 MB)\n",
            "Requirement already satisfied: pyasn1<0.5.0,>=0.4.6 in /usr/local/lib/python3.9/dist-packages (from pyasn1-modules>=0.2.1->google-auth<3,>=1.6.3->tensorboard>=2.9.1->stable-baselines3[extra]->-r https://raw.githubusercontent.com/huggingface/deep-rl-class/main/notebooks/unit6/requirements-unit6.txt (line 1)) (0.4.8)\n",
            "Requirement already satisfied: oauthlib>=3.0.0 in /usr/local/lib/python3.9/dist-packages (from requests-oauthlib>=0.7.0->google-auth-oauthlib<0.5,>=0.4.1->tensorboard>=2.9.1->stable-baselines3[extra]->-r https://raw.githubusercontent.com/huggingface/deep-rl-class/main/notebooks/unit6/requirements-unit6.txt (line 1)) (3.2.2)\n",
            "Building wheels for collected packages: gym, AutoROM.accept-rom-license\n",
            "  Building wheel for gym (setup.py) ... \u001b[?25l\u001b[?25hdone\n",
            "  Created wheel for gym: filename=gym-0.21.0-py3-none-any.whl size=1616822 sha256=319c48d5afdad067336bb105c7916fb139c1193342ad4051d7af5719e100f3d0\n",
            "  Stored in directory: /root/.cache/pip/wheels/b3/50/6c/0a82c1358b4da2dbd9c1bb17e0f89467db32812ab236dbf6d5\n",
            "  Building wheel for AutoROM.accept-rom-license (pyproject.toml) ... \u001b[?25l\u001b[?25hdone\n",
            "  Created wheel for AutoROM.accept-rom-license: filename=AutoROM.accept_rom_license-0.5.5-py3-none-any.whl size=441098 sha256=398aa8c3007a6e2f0ddec79ed137a5eea1d91ac9d79e1330b02d073bb0935686\n",
            "  Stored in directory: /root/.cache/pip/wheels/55/da/0f/2171aa233043791a9e688909cbafe26266cb4fe1d2e8ff3ff9\n",
            "Successfully built gym AutoROM.accept-rom-license\n",
            "Installing collected packages: pyglet, pybullet, libtorrent, pygments, mdurl, importlib-metadata, gym, panda_gym, markdown-it-py, huggingface-hub, AutoROM.accept-rom-license, autorom, ale-py, stable-baselines3, rich, huggingface_sb3\n",
            "  Attempting uninstall: pygments\n",
            "    Found existing installation: Pygments 2.6.1\n",
            "    Uninstalling Pygments-2.6.1:\n",
            "      Successfully uninstalled Pygments-2.6.1\n",
            "  Attempting uninstall: importlib-metadata\n",
            "    Found existing installation: importlib-metadata 6.0.0\n",
            "    Uninstalling importlib-metadata-6.0.0:\n",
            "      Successfully uninstalled importlib-metadata-6.0.0\n",
            "  Attempting uninstall: gym\n",
            "    Found existing installation: gym 0.25.2\n",
            "    Uninstalling gym-0.25.2:\n",
            "      Successfully uninstalled gym-0.25.2\n",
            "\u001b[31mERROR: pip's dependency resolver does not currently take into account all the packages that are installed. This behaviour is the source of the following dependency conflicts.\n",
            "ipython 7.9.0 requires jedi>=0.10, which is not installed.\u001b[0m\u001b[31m\n",
            "\u001b[0mSuccessfully installed AutoROM.accept-rom-license-0.5.5 ale-py-0.7.4 autorom-0.4.2 gym-0.21.0 huggingface-hub-0.13.2 huggingface_sb3-2.2.4 importlib-metadata-4.13.0 libtorrent-2.0.7 markdown-it-py-2.2.0 mdurl-0.1.2 panda_gym-2.0.0 pybullet-3.2.5 pyglet-1.5.1 pygments-2.14.0 rich-13.3.2 stable-baselines3-1.7.0\n"
          ]
        }
      ]
    },
    {
      "cell_type": "markdown",
      "source": [
        "## Импортируйте пакеты 📦"
      ],
      "metadata": {
        "id": "N-iZ3be08V4b"
      }
    },
    {
      "cell_type": "code",
      "source": [
        "import pybullet_envs\n",
        "import panda_gym\n",
        "import gym\n",
        "\n",
        "import os\n",
        "\n",
        "from huggingface_sb3 import load_from_hub, package_to_hub\n",
        "\n",
        "from stable_baselines3 import A2C\n",
        "from stable_baselines3.common.evaluation import evaluate_policy\n",
        "from stable_baselines3.common.vec_env import DummyVecEnv, VecNormalize\n",
        "from stable_baselines3.common.env_util import make_vec_env\n",
        "\n",
        "from huggingface_hub import notebook_login"
      ],
      "metadata": {
        "id": "ailJsekG8Wvb"
      },
      "execution_count": 4,
      "outputs": []
    },
    {
      "cell_type": "markdown",
      "source": [
        "## Окружающая среда №1: AntBulletEnv-v0 🕸\n"
      ],
      "metadata": {
        "id": "SnGlK1B98cyy"
      }
    },
    {
      "cell_type": "markdown",
      "source": [
        "### Создайте AntBulletEnv-v0\n",
        "#### Окружающая среда 🎮\n",
        "В этой среде агент должен правильно использовать свои различные суставы, чтобы правильно ходить.\n",
        "Вы можете найти подробное объяснение этой среды здесь: https://hackmd.io/@jeffreymo/SJJrSJh5_#PyBullet"
      ],
      "metadata": {
        "id": "TZ2BaDh28wJ6"
      }
    },
    {
      "cell_type": "code",
      "source": [
        "env_id = \"AntBulletEnv-v0\"\n",
        "# Создайте окружающую среду\n",
        "env = gym.make(env_id)\n",
        "\n",
        "# Получите пространство состояний и пространство действий\n",
        "s_size = env.observation_space.shape[0]\n",
        "a_size = env.action_space"
      ],
      "metadata": {
        "id": "Ke7G2BT09AFC"
      },
      "execution_count": 5,
      "outputs": []
    },
    {
      "cell_type": "code",
      "source": [
        "print(\"_____ПРОСТРАНСТВО НАБЛЮДЕНИЙ_____ \\n\")\n",
        "print(\"Размер пространства состояний: \", s_size)\n",
        "print(\"Выборочное наблюдение\", env.observation_space.sample()) # Получите случайное наблюдение"
      ],
      "metadata": {
        "id": "XWArNLka9KcK",
        "outputId": "f25bd898-7374-4f25-c5d2-bda788ce6f92",
        "colab": {
          "base_uri": "https://localhost:8080/"
        }
      },
      "execution_count": 6,
      "outputs": [
        {
          "output_type": "stream",
          "name": "stdout",
          "text": [
            "_____ПРОСТРАНСТВО НАБЛЮДЕНИЙ_____ \n",
            "\n",
            "Размер пространства состояний:  28\n",
            "Выборочное наблюдение [-0.05873336  2.395351   -0.40879452  0.939623    0.9174361  -0.291952\n",
            " -0.9814798   0.27011833  0.82616293 -0.30532253 -0.4916162  -0.7449047\n",
            " -0.30217567 -0.49502516  1.0123965   0.970613    0.2857124  -0.97599745\n",
            " -0.41402417  1.2762734  -1.7961597   0.11626722  0.60692835  0.06346635\n",
            " -1.0124248  -0.18815549  0.23635985 -0.7974657 ]\n"
          ]
        }
      ]
    },
    {
      "cell_type": "markdown",
      "source": [
        "Пространство наблюдения (от [Jeffrey Y Mo](https://hackmd.io/@jeffreymo/SJJrSJh5_#PyBullet)):\n",
        "\n",
        "Разница в том, что наше пространство наблюдения равно 28, а не 29.\n",
        "\n",
        "<img src=\"https://huggingface.co/datasets/huggingface-deep-rl-course/course-images/resolve/main/en/unit8/obs_space.png\" alt=\"PyBullet Ant Obs space\" width=\"70%\"/>"
      ],
      "metadata": {
        "id": "K8lmPekt9kqK"
      }
    },
    {
      "cell_type": "code",
      "source": [
        "print(\"\\n _____ПРОСТРАНСТВО ДЕЙСТВИЙ_____ \\n\")\n",
        "print(\"Размер пространства действий: \", a_size)\n",
        "print(\"Пример действия из пространства\", env.action_space.sample()) # Получите случайное действие"
      ],
      "metadata": {
        "id": "1BrHfzJP-OBS",
        "outputId": "60cc8579-83ba-4291-a1a6-54a516b4828c",
        "colab": {
          "base_uri": "https://localhost:8080/"
        }
      },
      "execution_count": 7,
      "outputs": [
        {
          "output_type": "stream",
          "name": "stdout",
          "text": [
            "\n",
            " _____ПРОСТРАНСТВО ДЕЙСТВИЙ_____ \n",
            "\n",
            "Размер пространства действий:  Box([-1. -1. -1. -1. -1. -1. -1. -1.], [1. 1. 1. 1. 1. 1. 1. 1.], (8,), float32)\n",
            "Пример действия из пространства [-0.6806766  -0.71949154 -0.7696165   0.78447986 -0.85347444  0.9047551\n",
            " -0.3724377   0.32215872]\n"
          ]
        }
      ]
    },
    {
      "cell_type": "markdown",
      "source": [
        "Пространство действий (от [Jeffrey Y Mo](https://hackmd.io/@jeffreymo/SJJrSJh5_#PyBullet)):\n",
        "\n",
        "<img src=\"https://huggingface.co/datasets/huggingface-deep-rl-course/course-images/resolve/main/en/unit8/action_space.png\" alt=\"PyBullet Ant Obs space\" width=\"70%\"/>"
      ],
      "metadata": {
        "id": "cXhAVe0Z-rzr"
      }
    },
    {
      "cell_type": "markdown",
      "source": [
        "### Нормализуйте наблюдение и вознаграждения"
      ],
      "metadata": {
        "id": "gNdsrUA4_BoS"
      }
    },
    {
      "cell_type": "markdown",
      "source": [
        "Хорошей практикой в обучении с подкреплением является [нормализация входных характеристик](https://stable-baselines3.readthedocs.io/en/master/guide/rl_tips.html). \n",
        "\n",
        "Для этой цели существует оболочка, которая вычислит текущее среднее значение и стандартное отклонение входных признаков.\n",
        "\n",
        "Мы также нормализуем вознаграждения с помощью этой же оболочки, добавляя `norm_reward = True`\n",
        "\n",
        "[Вам следует ознакомиться с документацией, чтобы заполнить эту ячейку](https://stable-baselines3.readthedocs.io/en/master/guide/vec_envs.html#vecnormalize)"
      ],
      "metadata": {
        "id": "y2bn9Jkf_IaK"
      }
    },
    {
      "cell_type": "code",
      "source": [
        "env = make_vec_env(env_id, n_envs=4)\n",
        "\n",
        "# Добавление этой оболочки для нормализации наблюдения и вознаграждения\n",
        "env = # ЗАДАЧА: Добавить оболочку"
      ],
      "metadata": {
        "id": "wRdI3tC-_gVy"
      },
      "execution_count": null,
      "outputs": []
    },
    {
      "cell_type": "markdown",
      "source": [
        "#### Решение"
      ],
      "metadata": {
        "id": "0GgdtGh2_s8K"
      }
    },
    {
      "cell_type": "code",
      "source": [
        "env = make_vec_env(env_id, n_envs=4)\n",
        "\n",
        "env = VecNormalize(env, norm_obs=True, norm_reward=True, clip_obs=10.)"
      ],
      "metadata": {
        "id": "1rblcPBw_v3q"
      },
      "execution_count": 8,
      "outputs": []
    },
    {
      "cell_type": "markdown",
      "source": [
        "### Создание модели A2C 🤖\n",
        "\n",
        "В этом случае, поскольку у нас есть вектор из 28 значений в качестве входных данных, мы будем использовать MLP (многослойный персептрон) в качестве политики.\n",
        "\n",
        "Для получения дополнительной информации о реализации A2C со  StableBaselines3 проверьте: https://stable-baselines3.readthedocs.io/en/master/modules/a2c.html#notes\n",
        "\n",
        "Чтобы найти наилучшие параметры, я проверил [официальные обученные агенты командой Stable-Baselines 3](https://huggingface.co/sb3)."
      ],
      "metadata": {
        "id": "465ONGB1_z5K"
      }
    },
    {
      "cell_type": "code",
      "source": [
        "model = # Создайте модель A2C и постарайтесь найти наилучшие параметры"
      ],
      "metadata": {
        "id": "lfEEKTR0Z-My"
      },
      "execution_count": null,
      "outputs": []
    },
    {
      "cell_type": "markdown",
      "source": [
        "#### Решение"
      ],
      "metadata": {
        "id": "lRxFVaiTaFF4"
      }
    },
    {
      "cell_type": "code",
      "source": [
        "model = A2C(policy = \"MlpPolicy\",\n",
        "            env = env,\n",
        "            gae_lambda = 0.9,\n",
        "            gamma = 0.99,\n",
        "            learning_rate = 0.00096,\n",
        "            max_grad_norm = 0.5,\n",
        "            n_steps = 8,\n",
        "            vf_coef = 0.4,\n",
        "            ent_coef = 0.0,\n",
        "            policy_kwargs=dict(\n",
        "            log_std_init=-2, ortho_init=False),\n",
        "            normalize_advantage=False,\n",
        "            use_rms_prop= True,\n",
        "            use_sde= True,\n",
        "            verbose=1)"
      ],
      "metadata": {
        "id": "ebNWFnnvaF9h",
        "outputId": "76fa5708-efa4-4c6e-8447-09a5d3268695",
        "colab": {
          "base_uri": "https://localhost:8080/"
        }
      },
      "execution_count": 9,
      "outputs": [
        {
          "output_type": "stream",
          "name": "stdout",
          "text": [
            "Using cuda device\n"
          ]
        }
      ]
    },
    {
      "cell_type": "markdown",
      "source": [
        "### Обучите агента A2C 🏃\n",
        "- Давайте обучим нашего агента на 2 000 000 временных шагов, не забудьте использовать GPU на Colab. Это займет примерно ~25-40 минут"
      ],
      "metadata": {
        "id": "-pmlahhiaLDB"
      }
    },
    {
      "cell_type": "code",
      "source": [
        "model.learn(2_000_000)"
      ],
      "metadata": {
        "id": "bgiZ4FP8aTCR",
        "outputId": "386fc2f0-3d8e-4f5c-9909-2633147bce3f",
        "colab": {
          "base_uri": "https://localhost:8080/"
        }
      },
      "execution_count": null,
      "outputs": [
        {
          "output_type": "stream",
          "name": "stdout",
          "text": [
            "------------------------------------\n",
            "| rollout/              |          |\n",
            "|    ep_len_mean        | 401      |\n",
            "|    ep_rew_mean        | 176      |\n",
            "| time/                 |          |\n",
            "|    fps                | 398      |\n",
            "|    iterations         | 100      |\n",
            "|    time_elapsed       | 8        |\n",
            "|    total_timesteps    | 3200     |\n",
            "| train/                |          |\n",
            "|    entropy_loss       | -2.21    |\n",
            "|    explained_variance | 0.998    |\n",
            "|    learning_rate      | 0.00096  |\n",
            "|    n_updates          | 99       |\n",
            "|    policy_loss        | -0.0544  |\n",
            "|    std                | 0.134    |\n",
            "|    value_loss         | 0.00189  |\n",
            "------------------------------------\n",
            "------------------------------------\n",
            "| rollout/              |          |\n",
            "|    ep_len_mean        | 595      |\n",
            "|    ep_rew_mean        | 330      |\n",
            "| time/                 |          |\n",
            "|    fps                | 452      |\n",
            "|    iterations         | 200      |\n",
            "|    time_elapsed       | 14       |\n",
            "|    total_timesteps    | 6400     |\n",
            "| train/                |          |\n",
            "|    entropy_loss       | -0.0909  |\n",
            "|    explained_variance | 0.733    |\n",
            "|    learning_rate      | 0.00096  |\n",
            "|    n_updates          | 199      |\n",
            "|    policy_loss        | 0.0429   |\n",
            "|    std                | 0.133    |\n",
            "|    value_loss         | 0.0124   |\n",
            "------------------------------------\n",
            "------------------------------------\n",
            "| rollout/              |          |\n",
            "|    ep_len_mean        | 697      |\n",
            "|    ep_rew_mean        | 393      |\n",
            "| time/                 |          |\n",
            "|    fps                | 479      |\n",
            "|    iterations         | 300      |\n",
            "|    time_elapsed       | 20       |\n",
            "|    total_timesteps    | 9600     |\n",
            "| train/                |          |\n",
            "|    entropy_loss       | -2.82    |\n",
            "|    explained_variance | 0.858    |\n",
            "|    learning_rate      | 0.00096  |\n",
            "|    n_updates          | 299      |\n",
            "|    policy_loss        | 0.128    |\n",
            "|    std                | 0.132    |\n",
            "|    value_loss         | 0.00776  |\n",
            "------------------------------------\n"
          ]
        }
      ]
    },
    {
      "cell_type": "code",
      "source": [
        "# Сохраните модель, и Vec Normalize  статистику при сохранении агента\n",
        "model.save(\"a2c-AntBulletEnv-v0\")\n",
        "env.save(\"vec_normalize.pkl\")"
      ],
      "metadata": {
        "id": "WjKX6g1UaV5i"
      },
      "execution_count": null,
      "outputs": []
    },
    {
      "cell_type": "markdown",
      "source": [
        "### Оцените агента 📈\n",
        "- Теперь, когда наш агент обучен, нам нужно **проверить его работоспособность**.\n",
        "- Stable-Baselines 3 предоставляет метод для этого: `evaluate_policy`\n",
        "- В моем случае я получил скромную награду в размере `2371.90 +/- 16.50 `"
      ],
      "metadata": {
        "id": "Xp59Qmh5aoVx"
      }
    },
    {
      "cell_type": "code",
      "source": [
        "from stable_baselines3.common.vec_env import DummyVecEnv, VecNormalize\n",
        "\n",
        "# Load the saved statistics\n",
        "eval_env = DummyVecEnv([lambda: gym.make(\"AntBulletEnv-v0\")])\n",
        "eval_env = VecNormalize.load(\"vec_normalize.pkl\", eval_env)\n",
        "\n",
        "#  do not update them at test time\n",
        "eval_env.training = False\n",
        "# reward normalization is not needed at test time\n",
        "eval_env.norm_reward = False\n",
        "\n",
        "# Load the agent\n",
        "model = A2C.load(\"a2c-AntBulletEnv-v0\")\n",
        "\n",
        "mean_reward, std_reward = evaluate_policy(model, eval_env)\n",
        "\n",
        "print(f\"Mean reward = {mean_reward:.2f} +/- {std_reward:.2f}\")"
      ],
      "metadata": {
        "id": "GhtDCnTxav-x"
      },
      "execution_count": null,
      "outputs": []
    },
    {
      "cell_type": "markdown",
      "source": [
        "### Опубликуйте свою обученную модель на хабе 🔥\n",
        "Теперь, когда мы увидели, что получили хорошие результаты после обучения, мы можем опубликовать нашу обученную модель на хабе с помощью одной строки кода.\n",
        "\n",
        "📚 Документация библиотек 👉 https://github.com/huggingface/huggingface_sb3/tree/main#hugging-face--x-stable-baselines3-v20\n",
        "\n",
        "Вот пример карты модели (со встроенной средой):\n",
        "\n",
        "<img src=\"https://huggingface.co/datasets/huggingface-deep-rl-course/course-images/resolve/main/en/unit8/modelcardpybullet.png\" alt=\"Model Card Pybullet\" width=\"90%\"/>"
      ],
      "metadata": {
        "id": "JM9w9p0MayyB"
      }
    },
    {
      "cell_type": "markdown",
      "source": [
        "Используя `package_to_hub`, как мы уже упоминали в предыдущих разделах, **вы оцениваете, записываете повтор, генерируете карточку модели вашего агента и отправляете ее в хаб**.\n",
        "\n",
        "Таким образом:\n",
        "- Вы можете **продемонстрировать свою работу** 🔥\n",
        "- Вы можете **визуализировать, как ваш агент играет** 👀\n",
        "- Вы можете **поделиться с сообществом агентом, которым могут пользоваться другие** 💾\n",
        "- Вы можете **получить доступ к таблице лидеров 🏆 , чтобы увидеть, насколько хорошо работает ваш агент по сравнению с вашими одноклассниками** 👉 [Leaderboard](https://huggingface.co/spaces/huggingface-projects/Deep-Reinforcement-Learning-Leaderboard)."
      ],
      "metadata": {
        "id": "Sd3xhHbJbVoJ"
      }
    },
    {
      "cell_type": "code",
      "source": [
        "notebook_login()\n",
        "!git config --global credential.helper store"
      ],
      "metadata": {
        "id": "6QHM0VorcA9B"
      },
      "execution_count": null,
      "outputs": []
    },
    {
      "cell_type": "code",
      "source": [
        "package_to_hub(\n",
        "    model=model,\n",
        "    model_name=f\"a2c-{env_id}\",\n",
        "    model_architecture=\"A2C\",\n",
        "    env_id=env_id,\n",
        "    eval_env=eval_env,\n",
        "    repo_id=f\"ThomasSimonini/a2c-{env_id}\", # Измените имя пользователя\n",
        "    commit_message=\"Initial commit\",\n",
        ")"
      ],
      "metadata": {
        "id": "H7aWhgSecKzR"
      },
      "execution_count": null,
      "outputs": []
    },
    {
      "cell_type": "markdown",
      "source": [
        "## Окружающая среда 2: Panda Reach Dense-v2 🦾\n",
        "\n",
        "Агент, которого мы собираемся обучить, - это роботизированная рука, которая должна выполнять управление (двигать рукой и использовать конечный эффектор).\n",
        "\n",
        "В робототехнике конечный эффектор - это устройство на конце роботизированной руки, предназначенное для взаимодействия с окружающей средой.\n",
        "\n",
        "В режиме \"Panda Reach\" робот должен поместить свой конечный эффектор в целевое положение (зеленый шар).\n",
        "\n",
        "Мы собираемся использовать плотную версию этой среды. Это означает, что мы получим *плотную функцию вознаграждения*, которая **будет предоставлять вознаграждение на каждом временном шаге** (чем ближе агент к выполнению задачи, тем выше вознаграждение). В отличие от *разреженной функции вознаграждения *, где среда ** возвращает вознаграждение тогда и только тогда, когда задача выполнена **.\n",
        "\n",
        "Кроме того, мы собираемся использовать *Управление смещением конечного эффектора*, это означает, что действие **соответствует смещению конечного эффектора**. Мы не контролируем индивидуальное движение каждого сустава (joint control).\n",
        "\n",
        "<img src=\"https://huggingface.co/datasets/huggingface-deep-rl-course/course-images/resolve/main/en/unit8/robotics.jpg\"  alt=\"Robotics\" width=\"70%\"/>\n",
        "\n",
        "\n",
        "Таким образом **тренировка будет проще**.\n"
      ],
      "metadata": {
        "id": "ekSSwhWfcYpm"
      }
    },
    {
      "cell_type": "markdown",
      "source": [
        "В `PandaReachDense-v2` роботизированная рука должна поместить свой конечный эффектор в целевое положение (зеленый шар)."
      ],
      "metadata": {
        "id": "4BKSc7uGdQXy"
      }
    },
    {
      "cell_type": "code",
      "source": [
        "import gym\n",
        "\n",
        "env_id = \"PandaReachDense-v2\"\n",
        "\n",
        "# Создайте среду\n",
        "env = gym.make(env_id)\n",
        "\n",
        "# Получите пространство состояний и пространство действий\n",
        "s_size = env.observation_space.shape\n",
        "a_size = env.action_space"
      ],
      "metadata": {
        "id": "4OGtS_OGdTdV"
      },
      "execution_count": null,
      "outputs": []
    },
    {
      "cell_type": "code",
      "source": [
        "print(\"_____OBSERVATION SPACE_____ \\n\")\n",
        "print(\"The State Space is: \", s_size)\n",
        "print(\"Sample observation\", env.observation_space.sample()) # Получите случайное наблюдение"
      ],
      "metadata": {
        "id": "sjIf2jM9dgRZ"
      },
      "execution_count": null,
      "outputs": []
    },
    {
      "cell_type": "markdown",
      "source": [
        "Пространство наблюдения ** представляет собой словарь с 3 различными элементами**:\n",
        "- `achieved_goal`: (x,y,z) положение цели.\n",
        "- `desired_goal`: (x,y,z) расстояние между положением цели и текущим положением объекта.\n",
        "- `наблюдение`: положение (x, y,z) и скорость конечного эффектора (vx, vy, vz).\n",
        "\n",
        "Учитывая, что это словарь в качестве наблюдения, **нам нужно будет использовать политику множественного ввода MultiInputPolicy вместо MlpPolicy**."
      ],
      "metadata": {
        "id": "9tRL68q2dwxR"
      }
    },
    {
      "cell_type": "code",
      "source": [
        "print(\"\\n _____ACTION SPACE_____ \\n\")\n",
        "print(\"The Action Space is: \", a_size)\n",
        "print(\"Action Space Sample\", env.action_space.sample()) # Получите случайное действие"
      ],
      "metadata": {
        "id": "5n6XZc5Od7qR"
      },
      "execution_count": null,
      "outputs": []
    },
    {
      "cell_type": "markdown",
      "source": [
        "Пространство действий представляет собой вектор с 3 значениями:\n",
        "- Управляйте движением x, y, z"
      ],
      "metadata": {
        "id": "WZ0uXp0TeFnh"
      }
    },
    {
      "cell_type": "markdown",
      "source": [
        "Теперь твоя очередь:\n",
        "\n",
        "1. Определите среду под названием \"PandaReachDense-v2\".\n",
        "2. Создайте векторизованную среду\n",
        "3. Добавьте оболочку для нормализации наблюдений и вознаграждений. [Проверьте документацию](https://stable-baselines3.readthedocs.io/en/master/guide/vec_envs.html#vecnormalize )\n",
        "4. Создайте модель A2C (не забудьте verbose=1, чтобы распечатать журналы обучения).\n",
        "5. Тренируйте его в течение 1 м временных шагов\n",
        "6. Сохраните модель и VecNormalize статистику при сохранении агента\n",
        "7. Оцените своего агента\n",
        "8. Опубликуйте свою обученную модель на хабе 🔥 с помощью `package_to_hub`"
      ],
      "metadata": {
        "id": "mLUNt3DmeVF5"
      }
    },
    {
      "cell_type": "markdown",
      "source": [
        "### Решение (заполните задачу)"
      ],
      "metadata": {
        "id": "pk8PdSKUejcp"
      }
    },
    {
      "cell_type": "code",
      "source": [
        "# 1 - 2\n",
        "env_id = \"PandaReachDense-v2\"\n",
        "env = make_vec_env(env_id, n_envs=4)\n",
        "\n",
        "# 3\n",
        "env = VecNormalize(env, norm_obs=True, norm_reward=False, clip_obs=10.)\n",
        "\n",
        "# 4\n",
        "model = A2C(policy = \"MultiInputPolicy\",\n",
        "            env = env,\n",
        "            verbose=1)\n",
        "# 5\n",
        "model.learn(1_000_000)"
      ],
      "metadata": {
        "id": "cZR_NkYOemEB"
      },
      "execution_count": null,
      "outputs": []
    },
    {
      "cell_type": "code",
      "source": [
        "# 6\n",
        "model_name = \"a2c-PandaReachDense-v2\"; \n",
        "model.save(model_name)\n",
        "env.save(\"vec_normalize.pkl\")\n",
        "\n",
        "# 7\n",
        "from stable_baselines3.common.vec_env import DummyVecEnv, VecNormalize\n",
        "\n",
        "# Загрузите сохраненную статистику\n",
        "eval_env = DummyVecEnv([lambda: gym.make(\"PandaReachDense-v2\")])\n",
        "eval_env = VecNormalize.load(\"vec_normalize.pkl\", eval_env)\n",
        "\n",
        "#  не обновляйте их во время тестирования\n",
        "eval_env.training = False\n",
        "# нормализация вознаграждения во время тестирования не требуется\n",
        "eval_env.norm_reward = False\n",
        "\n",
        "# Загрузите агент\n",
        "model = A2C.load(model_name)\n",
        "\n",
        "mean_reward, std_reward = evaluate_policy(model, eval_env)\n",
        "\n",
        "print(f\"Mean reward = {mean_reward:.2f} +/- {std_reward:.2f}\")\n",
        "\n",
        "# 8\n",
        "package_to_hub(\n",
        "    model=model,\n",
        "    model_name=f\"a2c-{env_id}\",\n",
        "    model_architecture=\"A2C\",\n",
        "    env_id=env_id,\n",
        "    eval_env=eval_env,\n",
        "    repo_id=f\"ThomasSimonini/a2c-{env_id}\", # ЗАДАЧА: Измените имя пользователя\n",
        "    commit_message=\"Initial commit\",\n",
        ")"
      ],
      "metadata": {
        "id": "4CNNRqpjeqHo"
      },
      "execution_count": null,
      "outputs": []
    },
    {
      "cell_type": "markdown",
      "source": [
        "## Некоторые дополнения 🏆\n",
        "Лучший способ научиться **- это пробовать что-то самостоятельно**! Почему бы не попробовать `HalfCheetahBulletEnv-v0` для PyBullet и `PandaPickAndPlace-v1` для Panda-Gym?\n",
        "\n",
        "Если вы хотите попробовать более сложные задачи для panda-gym, вам нужно проверить, что было сделано с помощью **QC или SAC** (более эффективный алгоритм, подходящий для задач робототехники). В реальной робототехнике вы будете использовать более эффективный алгоритм выборки по простой причине: в отличие от симуляции **если вы слишком сильно двигаете роботизированной рукой, у вас есть риск сломать ее**.\n",
        "\n",
        "PandaPickAndPlace-v1: https://huggingface.co/sb3/tqc-PandaPickAndPlace-v1\n",
        "\n",
        "И не стесняйтесь ознакомиться с документацией panda-gym здесь: https://panda-gym.readthedocs.io/en/latest/usage/train_with_sb3.html\n",
        "\n",
        "Вот несколько идей для достижения этого:\n",
        "* Тренируйте больше шагов\n",
        "* Попробуйте разные гиперпараметры, посмотрев на то, что сделали ваши одноклассники 👉 https://huggingface.co/models?other=https://huggingface.co/models?other=AntBulletEnv-v0\n",
        "* **Разместите свою новую обученную модель** на хабе 🔥"
      ],
      "metadata": {
        "id": "KOx0Xt1lfA9K"
      }
    },
    {
      "cell_type": "markdown",
      "source": [
        "Увидимся в блоке 7! 🔥\n",
        "## Keep learning, stay awesome 🤗"
      ],
      "metadata": {
        "id": "n47jgayMf3ch"
      }
    }
  ]
}