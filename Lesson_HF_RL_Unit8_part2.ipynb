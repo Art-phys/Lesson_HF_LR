{
  "nbformat": 4,
  "nbformat_minor": 0,
  "metadata": {
    "colab": {
      "provenance": [],
      "authorship_tag": "ABX9TyNnYKcsblWa+kPZENu0X2eK",
      "include_colab_link": true
    },
    "kernelspec": {
      "name": "python3",
      "display_name": "Python 3"
    },
    "language_info": {
      "name": "python"
    }
  },
  "cells": [
    {
      "cell_type": "markdown",
      "metadata": {
        "id": "view-in-github",
        "colab_type": "text"
      },
      "source": [
        "<a href=\"https://colab.research.google.com/github/Art-phys/Lesson_HF_LR/blob/main/Lesson_HF_RL_Unit8_part2.ipynb\" target=\"_parent\"><img src=\"https://colab.research.google.com/assets/colab-badge.svg\" alt=\"Open In Colab\"/></a>"
      ]
    },
    {
      "cell_type": "markdown",
      "source": [
        "# Блок 8, Часть 2: Углубленное обучение с подкреплением. Использование Sample Factory для воспроизведения Doom из пикселей\n",
        "\n",
        "<img src=\"https://huggingface.co/datasets/huggingface-deep-rl-course/course-images/resolve/main/en/unit9/thumbnail2.png\" alt=\"Thumbnail\" width=\"70%\"/>\n",
        "\n",
        "В этом блокноте мы узнаем, как обучить глубокую нейронную сеть собирать объекты в 3D-среде на основе игры Doom, видео результирующей политики показано ниже. Мы разрабатываем эту политику, используя [Sample Factory](https://www.samplefactory.dev/), асинхронная реализация алгоритма PPO.\n",
        "\n",
        "Пожалуйста, обратите внимание на следующие моменты:\n",
        "\n",
        "*   [Sample Factory](https://www.samplefactory.dev/) это продвинутый фреймворк RL и **работает только в Linux и Mac** (не в Windows).\n",
        "\n",
        "*  Фреймворк лучше всего работает на ** машине с графическим процессором и большим количеством процессорных ядер **, где он может достигать скорости 100 тыс. взаимодействий в секунду. Ресурсы, доступные в стандартном ноутбуке Colab **, ограничивают производительность этой библиотеки**. Таким образом, скорость в этом параметре ** не отражает реальную производительность **.\n",
        "* Контрольные показатели для Sample Factory доступны в ряде настроек, ознакомьтесь с [примерами](https://github.com/alex-petrenko/sample-factory/tree/master/sf_examples) если вы хотите узнать больше.\n"
      ],
      "metadata": {
        "id": "0zDoofiArRKX"
      }
    },
    {
      "cell_type": "code",
      "source": [
        "from IPython.display import HTML\n",
        "\n",
        "HTML('''<video width=\"640\" height=\"480\" controls>\n",
        "  <source src=\"https://huggingface.co/edbeeching/doom_health_gathering_supreme_3333/resolve/main/replay.mp4\" \n",
        "  type=\"video/mp4\">Your browser does not support the video tag.</video>'''\n",
        ")"
      ],
      "metadata": {
        "id": "Oc8sQsf8t9yt"
      },
      "execution_count": null,
      "outputs": []
    },
    {
      "cell_type": "markdown",
      "source": [
        "Чтобы подтвердить это практическое руководство для [процесса сертификации](https://huggingface.co/deep-rl-course/en/unit0/introduction#certification-process), вам нужно обучить модель:\n",
        "\n",
        "- `doom_health_gathering_supreme` получив результат >= 5.\n",
        "\n",
        "Чтобы найти свой результат, перейдите к [leaderboard](https://huggingface.co/spaces/huggingface-projects/Deep-Reinforcement-Learning-Leaderboard) и найдите свою модель, **the result = mean_reward - std of reward**"
      ],
      "metadata": {
        "id": "Asw-p_wSt6L9"
      }
    },
    {
      "cell_type": "markdown",
      "source": [
        "Прежде чем приступить к обучению нашего агента, давайте ** изучим библиотеку и среды, которые мы собираемся использовать**.\n",
        "\n",
        "## Фабрика образцов\n",
        "\n",
        "[Sample Factory](https://www.samplefactory.dev/) является одной из **самых быстрых библиотек RL, ориентированных на очень эффективные синхронные и асинхронные реализации градиентов политики (PPO)**.\n",
        "\n",
        "Sample Factory (Фабрика образцов) тщательно **протестирована, используется многими исследователями и практиками** и активно поддерживается. Известно, что наша реализация **обеспечивает производительность SOTA в различных областях при минимизации времени обучения RL-эксперименту и требований к оборудованию**.\n",
        "\n",
        "<img src=\"https://huggingface.co/datasets/huggingface-deep-rl-course/course-images/resolve/main/en/unit9/samplefactoryenvs.png\" alt=\"Sample factory\" width=\"70%\"/>\n",
        "\n",
        "\n",
        "### Ключевые функции\n",
        "\n",
        "- Высокооптимизированный алгоритм [архитектура](https://www.samplefactory.dev/06-architecture/overview/) для максимальной производительности обучения\n",
        "- [Синхронный и асинхронный](https://www.samplefactory.dev/07-advanced-topics/sync-async/) режимы обучения\n",
        "- [Последовательный (однопроцессорный) режим](https://www.samplefactory.dev/07-advanced-topics/serial-mode/) для удобства отладки\n",
        "- Оптимальная производительность как в средах на базе CPU, так и [в средах с ускорением GPU](https://www.samplefactory.dev/09-environment-integrations/isaacgym/)\n",
        "- Обучение с одним и несколькими агентами, самостоятельная игра, поддержка [обучения нескольким политикам](https://www.samplefactory.dev/07-advanced-topics/multi-policy-training/) одновременно на одном или нескольких графических процессорах\n",
        "- Обучение на уровне населения ([PBT](https://www.samplefactory.dev/07-advanced-topics/pbt/))\n",
        "- Дискретные, непрерывные, гибридные пространства действий\n",
        "- Векторные, основанные на изображениях, словари пространства наблюдений\n",
        "- Автоматически создает архитектуру модели путем анализа спецификации пространства действий/наблюдения. Поддерживает [архитектуры пользовательских моделей](https://www.samplefactory.dev/03-customization/custom-models/)\n",
        "- Предназначен для импорта в другие проекты, [пользовательские среды](https://www.samplefactory.dev/03-customization/custom-environments/)\n",
        "- Детализация [WandB and Tensorboard summaries](https://www.samplefactory.dev/05-monitoring/metrics-reference/), [пользовательские показатели](https://www.samplefactory.dev/05-monitoring/custom-metrics/)\n",
        "- [HuggingFace 🤗 интеграция](https://www.samplefactory.dev/10-huggingface/huggingface/) (загрузка обученных моделей и метрик на Hub)\n",
        "- [Множество](https://www.samplefactory.dev/09-environment-integrations/mujoco/) [примеров](https://www.samplefactory.dev/09-environment-integrations/atari/) [окружающих сред](https://www.samplefactory.dev/09-environment-integrations/vizdoom/) [для интеграции](https://www.samplefactory.dev/09-environment-integrations/dmlab/) с настроенными параметрами и обученными моделями\n",
        "\n",
        "Все вышеуказанные политики доступны на 🤗 hub. Выполните поиск по тегу[sample-factory](https://huggingface.co/models?library=sample-factory&sort=downloads)\n",
        "\n",
        "### Как работает sample-factory\n",
        "\n",
        "Sample-factory - это одна из **наиболее высокооптимизированных реализаций RL, доступных сообществу**.\n",
        "\n",
        "Это работает путем **порождения нескольких процессов, которые запускают работников развертывания, работников вывода и работника-учащегося**.\n",
        "\n",
        "*Рабочие* **взаимодействуют через общую память, что снижает стоимость связи между процессами**.\n",
        "\n",
        "*Работники развертывания* взаимодействуют с окружающей средой и отправляют наблюдения *работникам вывода*.\n",
        "\n",
        "Работники *вывода* запрашивают фиксированную версию политики и **отправляют действия обратно работнику развертывания**.\n",
        "\n",
        "После *k* шагов работы по развертыванию отправляют траекторию опыта работнику-учащемуся**, которую он использует для обновления сети политик агента**.\n",
        "\n",
        "<img src=\"https://huggingface.co/datasets/huggingface-deep-rl-course/course-images/resolve/main/en/unit9/samplefactory.png\" alt=\"Sample factory\" width=\"70%\"/>"
      ],
      "metadata": {
        "id": "UF4xE_QDvBPF"
      }
    },
    {
      "cell_type": "markdown",
      "source": [
        "### Модели актер-критик из Sample-factory\n",
        "\n",
        "Модели актера и критика в Sample Factory состоят из трех компонентов:\n",
        "\n",
        "- ** Кодировщик ** - Обрабатывает входные наблюдения (изображения, векторы) и преобразует их в вектор. Это та часть модели, которую вы, скорее всего, захотите настроить.\n",
        "- ** Ядро ** - Интегрирует векторы из одного или нескольких кодеров, может дополнительно включать одно- или много- слойный LSTM/GRU в агента на основе памяти.\n",
        "- **Декодер** - Использует дополнительные слои к выходным данным ядра модели перед вычислением выходных данных политики и значения.\n",
        "\n",
        "Библиотека была разработана для автоматической поддержки любых пространств наблюдения и действий. Пользователи могут легко добавлять свои пользовательские модели. Вы можете узнать больше в [документации](https://www.samplefactory.dev/03-customization/custom-models/#actor-critic-models-in-sample-factory)."
      ],
      "metadata": {
        "id": "tjY2byyB0mdd"
      }
    },
    {
      "cell_type": "markdown",
      "source": [
        "## ViZDoom\n",
        "\n",
        "[ViZDoom](https://vizdoom.cs.put.edu.pl/) это **интерфейс python с открытым исходным кодом для движка Doom Engine**.\n",
        "\n",
        "Библиотека была создана в 2016 году Мареком Видмухом и Михалом Кемпкой в Институте вычислительной техники Познанского технологического университета, Польша. \n",
        "\n",
        "Библиотека позволяет **обучать агентов непосредственно с пикселей экрана в ряде сценариев**, включая командный смертельный поединок, показанный на видео ниже. Поскольку среда ViZDoom основана на игре, созданной в 90-х годах, ее можно запускать на современном оборудовании с ускоренными скоростями**, что позволяет нам довольно быстро осваивать сложное поведение искусственного интеллекта**.\n",
        "\n",
        "Библиотека включает в себя такие функции, как:\n",
        "\n",
        "- Мультиплатформенность (Linux, macOS, Windows),\n",
        "- API для Python и C++,\n",
        "- [OpenAI Gym](https://www.gymlibrary.dev/) оболочки среды\n",
        "- Простые в создании пользовательские сценарии (доступны визуальные редакторы, язык сценариев и примеры),\n",
        "- Асинхронный и синхронизированный однопользовательский и многопользовательский режимы,\n",
        "- Легкий (несколько Мбайт) и быстрый (до 7000 кадров в секунду в режиме синхронизации, однопоточный),\n",
        "- Настраиваемое разрешение и параметры рендеринга,\n",
        "- Доступ к буферу глубины (3D vision),\n",
        "- Автоматическая маркировка игровых объектов, видимых в кадре,\n",
        "- Доступ к аудиобуферу\n",
        "- Доступ к списку действующих лиц/объектов и геометрии карты,\n",
        "- Закадровый рендеринг и запись эпизода,\n",
        "- Масштабирование времени в асинхронном режиме."
      ],
      "metadata": {
        "id": "r-u1cRlQ1tEd"
      }
    },
    {
      "cell_type": "markdown",
      "source": [
        "## Сначала нам нужно установить некоторые зависимости, которые требуются для среды ViZDoom\n",
        "\n",
        "Теперь, когда наша среда выполнения Colab настроена, мы можем начать с установки зависимостей, необходимых для запуска ViZDoom в Linux.\n",
        "\n",
        "Для Mac, вам нужно будет следовать инструкциям по установке на [странице github](https://github.com/Farama-Foundation/ViZDoom/blob/master/doc/Quickstart.md#-quickstart-for-macos-and-anaconda3-python-36)."
      ],
      "metadata": {
        "id": "o28MHLE53Rwt"
      }
    },
    {
      "cell_type": "code",
      "execution_count": null,
      "metadata": {
        "id": "0nYdveXrrJ8n"
      },
      "outputs": [],
      "source": [
        "%%capture\n",
        "%%bash\n",
        "# Установите ViZDoom\n",
        "# https://github.com/mwydmuch/ViZDoom/blob/master/doc/Building.md#-linux\n",
        "\n",
        "apt-get install build-essential zlib1g-dev libsdl2-dev libjpeg-dev \\\n",
        "nasm tar libbz2-dev libgtk2.0-dev cmake git libfluidsynth-dev libgme-dev \\\n",
        "libopenal-dev timidity libwildmidi-dev unzip ffmpeg\n",
        "\n",
        "# Boost libraries\n",
        "apt-get install libboost-all-dev\n",
        "\n",
        "# Lua binding dependencies\n",
        "apt-get install liblua5.1-dev"
      ]
    },
    {
      "cell_type": "markdown",
      "source": [
        "## Затем мы можем установить  Sample Factory и ViZDoom\n",
        "- - Это может занять 7 минут"
      ],
      "metadata": {
        "id": "neLuK8Zr4KS0"
      }
    },
    {
      "cell_type": "code",
      "source": [
        "# install python libraries\n",
        "# thanks toinsson\n",
        "!pip install sample-factory==2.0.2\n",
        "!pip install faster-fifo==1.4.2\n",
        "!pip install vizdoom"
      ],
      "metadata": {
        "id": "cyTV7GCS4WtV"
      },
      "execution_count": null,
      "outputs": []
    },
    {
      "cell_type": "markdown",
      "source": [
        "## Настройка среды Doom в sample-factory"
      ],
      "metadata": {
        "id": "KKUcQOS64bys"
      }
    },
    {
      "cell_type": "code",
      "source": [
        "import functools\n",
        "\n",
        "from sample_factory.algo.utils.context import global_model_factory\n",
        "from sample_factory.cfg.arguments import parse_full_cfg, parse_sf_args\n",
        "from sample_factory.envs.env_utils import register_env\n",
        "from sample_factory.train import run_rl\n",
        "\n",
        "from sf_examples.vizdoom.doom.doom_model import make_vizdoom_encoder\n",
        "from sf_examples.vizdoom.doom.doom_params import add_doom_env_args, doom_override_defaults\n",
        "from sf_examples.vizdoom.doom.doom_utils import DOOM_ENVS, make_doom_env_from_spec\n",
        "\n",
        "\n",
        "# Registers all the ViZDoom environments\n",
        "def register_vizdoom_envs():\n",
        "    for env_spec in DOOM_ENVS:\n",
        "        make_env_func = functools.partial(make_doom_env_from_spec, env_spec)\n",
        "        register_env(env_spec.name, make_env_func)\n",
        "\n",
        "# Sample Factory allows the registration of a custom Neural Network architecture\n",
        "# See https://github.com/alex-petrenko/sample-factory/blob/master/sf_examples/vizdoom/doom/doom_model.py for more details\n",
        "def register_vizdoom_models():\n",
        "    global_model_factory().register_encoder_factory(make_vizdoom_encoder)\n",
        "\n",
        "\n",
        "def register_vizdoom_components():\n",
        "    register_vizdoom_envs()\n",
        "    register_vizdoom_models()\n",
        "\n",
        "# parse the command line args and create a config\n",
        "def parse_vizdoom_cfg(argv=None, evaluation=False):\n",
        "    parser, _ = parse_sf_args(argv=argv, evaluation=evaluation)\n",
        "    # parameters specific to Doom envs\n",
        "    add_doom_env_args(parser)\n",
        "    # override Doom default values for algo parameters\n",
        "    doom_override_defaults(parser)\n",
        "    # second parsing pass yields the final configuration\n",
        "    final_cfg = parse_full_cfg(parser, argv)\n",
        "    return final_cfg"
      ],
      "metadata": {
        "id": "Cy9W-WRP4fGk"
      },
      "execution_count": null,
      "outputs": []
    },
    {
      "cell_type": "markdown",
      "source": [
        "Теперь, когда настройка завершена, мы можем обучить агента. Мы выбрали здесь, чтобы изучить задание ViZDoom под названием \"Высший сбор здоровья\".\n",
        "\n",
        "### Сценарий: Высший сбор здоровья\n",
        "\n",
        "<img src=\"https://huggingface.co/datasets/huggingface-deep-rl-course/course-images/resolve/main/en/unit9/Health-Gathering-Supreme.png\" alt=\"Health-Gathering-Supreme\" width=\"70%\"/>\n",
        "\n",
        "\n",
        "\n",
        "Цель этого сценария состоит в том, чтобы ** научить агента выживать, не зная, что заставляет его выживать **. Агент знает только, что ** жизнь драгоценна**, а смерть плоха, поэтому ** он должен узнать, что продлевает его существование и что с этим связано его здоровье **.\n",
        "\n",
        "Карта представляет собой прямоугольник со стенами и зеленым кислотным полом, который ** периодически причиняет игроку боль**. Изначально есть несколько аптечек, равномерно распределенных по карте. Время от времени с небес падает новая аптечка. ** Аптечки восстанавливают некоторые части здоровья игрока ** - чтобы выжить, агенту необходимо забрать их. Эпизод заканчивается после смерти игрока или по истечении тайм-аута.\n",
        "\n",
        "Дальнейшая конфигурация:\n",
        "- Living_reward = 1\n",
        "- 3 доступные кнопки: повернуть налево, повернуть направо, двигаться вперед\n",
        "- 1 доступная игровая переменная: ЗДОРОВЬЕ\n",
        "- смертная казнь = 100\n",
        "\n",
        "Вы можете узнать больше о сценариях, доступных в ViZDoom [здесь](https://github.com/Farama-Foundation/ViZDoom/tree/master/scenarios). \n",
        "\n",
        "Существует также ряд более сложных сценариев, которые были созданы для ViZDoom, таких как те, которые подробно описаны на [этой странице github](https://github.com/edbeeching/3d_control_deep_rl)."
      ],
      "metadata": {
        "id": "2LaNUY7a4kG8"
      }
    },
    {
      "cell_type": "markdown",
      "source": [
        "## Обучение агента\n",
        "- - Мы собираемся обучить агента 4000000 шагам, это займет примерно 20 минут"
      ],
      "metadata": {
        "id": "4QRxSlLl5Y0s"
      }
    },
    {
      "cell_type": "code",
      "source": [
        "## Начните тренировку, это должно занять около 15 минут\n",
        "register_vizdoom_components()\n",
        "\n",
        "# Сценарий, по которому мы тренируемся сегодня, - это сбор здоровья\n",
        "# другие сценарии включают \"doom_basic\", \"doom_two_colors_easy\", \"doom_dm\", \"doom_dwango5\", \"doom_my_way_home\", \"doom_deadly_corridor\", \"doom_defend_the_center\", \"doom_defend_the_line\"\n",
        "env = \"doom_health_gathering_supreme\"\n",
        "cfg = parse_vizdoom_cfg(argv=[f\"--env={env}\", \"--num_workers=8\", \"--num_envs_per_worker=4\", \"--train_for_env_steps=4000000\"])\n",
        "\n",
        "status = run_rl(cfg)"
      ],
      "metadata": {
        "id": "A5V7cBlM5bZk"
      },
      "execution_count": null,
      "outputs": []
    },
    {
      "cell_type": "markdown",
      "source": [
        "## Давайте посмотрим на эффективность обученной политики и выведем видео агента."
      ],
      "metadata": {
        "id": "w5uhXYsL5xME"
      }
    },
    {
      "cell_type": "code",
      "source": [
        "from sample_factory.enjoy import enjoy\n",
        "cfg = parse_vizdoom_cfg(argv=[f\"--env={env}\", \"--num_workers=1\", \"--save_video\", \"--no_render\", \"--max_num_episodes=10\"], evaluation=True)\n",
        "status = enjoy(cfg)"
      ],
      "metadata": {
        "id": "5msw-u7l50Y8"
      },
      "execution_count": null,
      "outputs": []
    },
    {
      "cell_type": "markdown",
      "source": [
        "## Теперь давайте визуализируем производительность агента"
      ],
      "metadata": {
        "id": "6bXGpRq255D0"
      }
    },
    {
      "cell_type": "code",
      "source": [
        "from base64 import b64encode\n",
        "from IPython.display import HTML\n",
        "\n",
        "mp4 = open('/content/train_dir/default_experiment/replay.mp4','rb').read()\n",
        "data_url = \"data:video/mp4;base64,\" + b64encode(mp4).decode()\n",
        "HTML(\"\"\"\n",
        "<video width=640 controls>\n",
        "      <source src=\"%s\" type=\"video/mp4\">\n",
        "</video>\n",
        "\"\"\" % data_url)"
      ],
      "metadata": {
        "id": "u3RZTuYy59g7"
      },
      "execution_count": null,
      "outputs": []
    },
    {
      "cell_type": "markdown",
      "source": [
        "Агент кое-чему научился, но его производительность могла бы быть лучше. Нам явно нужно было бы тренироваться дольше. Но давайте загрузим эту модель в Хаб."
      ],
      "metadata": {
        "id": "_aIMaF0u6Eec"
      }
    },
    {
      "cell_type": "markdown",
      "source": [
        "## Теперь давайте загрузим вашу контрольную точку и видео в Hugging Face Hub"
      ],
      "metadata": {
        "id": "Jh_6o_3M6NX8"
      }
    },
    {
      "cell_type": "code",
      "source": [
        "from huggingface_hub import notebook_login\n",
        "notebook_login()\n",
        "!git config --global credential.helper store"
      ],
      "metadata": {
        "id": "dDmoiKHG6Tcb"
      },
      "execution_count": null,
      "outputs": []
    },
    {
      "cell_type": "code",
      "source": [
        "from sample_factory.enjoy import enjoy\n",
        "\n",
        "hf_username = \"ThomasSimonini\" # insert your HuggingFace username here\n",
        "\n",
        "cfg = parse_vizdoom_cfg(argv=[f\"--env={env}\", \"--num_workers=1\", \"--save_video\", \"--no_render\", \"--max_num_episodes=10\", \"--max_num_frames=100000\", \"--push_to_hub\", f\"--hf_repository={hf_username}/rl_course_vizdoom_health_gathering_supreme\"], evaluation=True)\n",
        "status = enjoy(cfg)"
      ],
      "metadata": {
        "id": "W0Vz-tmv6Wlb"
      },
      "execution_count": null,
      "outputs": []
    },
    {
      "cell_type": "markdown",
      "source": [
        "## Давайте загрузим другую модель"
      ],
      "metadata": {
        "id": "5681ofIq6S0T"
      }
    },
    {
      "cell_type": "markdown",
      "source": [
        "Работа этого агента была хорошей, но он может добиться большего! Давайте загрузим и визуализируем агента, обученного 10B временным шагам, из центра."
      ],
      "metadata": {
        "id": "zuE-ZKVt6ka0"
      }
    },
    {
      "cell_type": "code",
      "source": [
        "#загрузка агента с Hub\n",
        "!python -m sample_factory.huggingface.load_from_hub -r edbeeching/doom_health_gathering_supreme_2222 -d ./train_dir"
      ],
      "metadata": {
        "id": "M47N54un6j4U"
      },
      "execution_count": null,
      "outputs": []
    },
    {
      "cell_type": "code",
      "source": [
        "!ls train_dir/doom_health_gathering_supreme_2222"
      ],
      "metadata": {
        "id": "t5L_otcP6xjs"
      },
      "execution_count": null,
      "outputs": []
    },
    {
      "cell_type": "code",
      "source": [
        "env = \"doom_health_gathering_supreme\"\n",
        "cfg = parse_vizdoom_cfg(argv=[f\"--env={env}\", \"--num_workers=1\", \"--save_video\", \"--no_render\", \"--max_num_episodes=10\", \"--experiment=doom_health_gathering_supreme_2222\", \"--train_dir=train_dir\"], evaluation=True)\n",
        "status = enjoy(cfg)"
      ],
      "metadata": {
        "id": "yVCOyZ4G6yM7"
      },
      "execution_count": null,
      "outputs": []
    },
    {
      "cell_type": "code",
      "source": [
        "mp4 = open('/content/train_dir/doom_health_gathering_supreme_2222/replay.mp4','rb').read()\n",
        "data_url = \"data:video/mp4;base64,\" + b64encode(mp4).decode()\n",
        "HTML(\"\"\"\n",
        "<video width=640 controls>\n",
        "      <source src=\"%s\" type=\"video/mp4\">\n",
        "</video>\n",
        "\"\"\" % data_url)"
      ],
      "metadata": {
        "id": "oGmsuSVQ61Tk"
      },
      "execution_count": null,
      "outputs": []
    },
    {
      "cell_type": "markdown",
      "source": [
        "## Некоторые дополнительные испытания 🏆 : Doom Deathmatch\n",
        "\n",
        "Обучение агента игре Doom deathmatch ** занимает много часов на более мощной машине, чем та что доступна в Colab **.\n",
        "\n",
        "К счастью, мы ** уже обучили агента этому сценарию, и он доступен в 🤗 Hub!** Давайте загрузим модель и визуализируем производительность агента."
      ],
      "metadata": {
        "id": "LGd0SGYM7DKr"
      }
    },
    {
      "cell_type": "code",
      "source": [
        "# Download the agent from the hub\n",
        "!python -m sample_factory.huggingface.load_from_hub -r edbeeching/doom_deathmatch_bots_2222 -d ./train_dir"
      ],
      "metadata": {
        "id": "eQ-58Wp-7GB8"
      },
      "execution_count": null,
      "outputs": []
    },
    {
      "cell_type": "markdown",
      "source": [
        "Учитывая, что агент воспроизводится в течение длительного времени, генерация видео может занять ** 10 минут **."
      ],
      "metadata": {
        "id": "bPBg9x-g7Kx0"
      }
    },
    {
      "cell_type": "code",
      "source": [
        "\n",
        "from sample_factory.enjoy import enjoy\n",
        "register_vizdoom_components()\n",
        "env = \"doom_deathmatch_bots\"\n",
        "cfg = parse_vizdoom_cfg(argv=[f\"--env={env}\", \"--num_workers=1\", \"--save_video\", \"--no_render\", \"--max_num_episodes=1\", \"--experiment=doom_deathmatch_bots_2222\", \"--train_dir=train_dir\"], evaluation=True)\n",
        "status = enjoy(cfg)\n",
        "mp4 = open('/content/train_dir/doom_deathmatch_bots_2222/replay.mp4','rb').read()\n",
        "data_url = \"data:video/mp4;base64,\" + b64encode(mp4).decode()\n",
        "HTML(\"\"\"\n",
        "<video width=640 controls>\n",
        "      <source src=\"%s\" type=\"video/mp4\">\n",
        "</video>\n",
        "\"\"\" % data_url)"
      ],
      "metadata": {
        "id": "3lKxWRZ17Ne0"
      },
      "execution_count": null,
      "outputs": []
    },
    {
      "cell_type": "markdown",
      "source": [
        "Вы ** можете попробовать обучить своего агента в этой среде **, используя приведенный выше код, но не на colab.\n",
        "**Удачи 🤞 **"
      ],
      "metadata": {
        "id": "mk_UR4xh7Tec"
      }
    },
    {
      "cell_type": "markdown",
      "source": [
        "Если вы предпочитаете более простой сценарий, **почему бы не попробовать тренироваться в другом сценарии ViZDoom, таком как `doom_deadly_corridor` или `doom_defend_the_center`.**\n",
        "\n",
        "\n",
        "\n",
        "---\n",
        "\n",
        "\n",
        "На этом завершается последний блок. Но мы еще не закончили! 🤗 Следующий **бонусный раздел включает в себя некоторые из наиболее интересных, продвинутых и ультрасовременных работ в области глубокого обучения с подкреплением**.\n",
        "\n",
        "## Keep learning, stay awesome 🤗"
      ],
      "metadata": {
        "id": "aBot6ODu7gxD"
      }
    }
  ]
}