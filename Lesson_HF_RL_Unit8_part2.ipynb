{
  "nbformat": 4,
  "nbformat_minor": 0,
  "metadata": {
    "colab": {
      "provenance": [],
      "authorship_tag": "ABX9TyObCJFB/tsSvNslYpSkeh87",
      "include_colab_link": true
    },
    "kernelspec": {
      "name": "python3",
      "display_name": "Python 3"
    },
    "language_info": {
      "name": "python"
    },
    "accelerator": "GPU",
    "gpuClass": "standard"
  },
  "cells": [
    {
      "cell_type": "markdown",
      "metadata": {
        "id": "view-in-github",
        "colab_type": "text"
      },
      "source": [
        "<a href=\"https://colab.research.google.com/github/Art-phys/Lesson_HF_LR/blob/main/Lesson_HF_RL_Unit8_part2.ipynb\" target=\"_parent\"><img src=\"https://colab.research.google.com/assets/colab-badge.svg\" alt=\"Open In Colab\"/></a>"
      ]
    },
    {
      "cell_type": "markdown",
      "source": [
        "# Блок 8, Часть 2: Углубленное обучение с подкреплением. Использование Sample Factory для воспроизведения Doom из пикселей\n",
        "\n",
        "<img src=\"https://huggingface.co/datasets/huggingface-deep-rl-course/course-images/resolve/main/en/unit9/thumbnail2.png\" alt=\"Thumbnail\" width=\"70%\"/>\n",
        "\n",
        "В этом блокноте мы узнаем, как обучить глубокую нейронную сеть собирать объекты в 3D-среде на основе игры Doom, видео результирующей политики показано ниже. Мы разрабатываем эту политику, используя [Sample Factory](https://www.samplefactory.dev/), асинхронная реализация алгоритма PPO.\n",
        "\n",
        "Пожалуйста, обратите внимание на следующие моменты:\n",
        "\n",
        "*   [Sample Factory](https://www.samplefactory.dev/) это продвинутый фреймворк RL и **работает только в Linux и Mac** (не в Windows).\n",
        "\n",
        "*  Фреймворк лучше всего работает на ** машине с графическим процессором и большим количеством процессорных ядер **, где он может достигать скорости 100 тыс. взаимодействий в секунду. Ресурсы, доступные в стандартном ноутбуке Colab **, ограничивают производительность этой библиотеки**. Таким образом, скорость в этом параметре ** не отражает реальную производительность **.\n",
        "* Контрольные показатели для Sample Factory доступны в ряде настроек, ознакомьтесь с [примерами](https://github.com/alex-petrenko/sample-factory/tree/master/sf_examples) если вы хотите узнать больше.\n"
      ],
      "metadata": {
        "id": "0zDoofiArRKX"
      }
    },
    {
      "cell_type": "code",
      "source": [
        "from IPython.display import HTML\n",
        "\n",
        "HTML('''<video width=\"640\" height=\"480\" controls>\n",
        "  <source src=\"https://huggingface.co/edbeeching/doom_health_gathering_supreme_3333/resolve/main/replay.mp4\" \n",
        "  type=\"video/mp4\">Your browser does not support the video tag.</video>'''\n",
        ")"
      ],
      "metadata": {
        "colab": {
          "base_uri": "https://localhost:8080/",
          "height": 501
        },
        "id": "Oc8sQsf8t9yt",
        "outputId": "41b52d3c-065e-4977-89b3-8cef9b8c2cee"
      },
      "execution_count": 1,
      "outputs": [
        {
          "output_type": "execute_result",
          "data": {
            "text/plain": [
              "<IPython.core.display.HTML object>"
            ],
            "text/html": [
              "<video width=\"640\" height=\"480\" controls>\n",
              "  <source src=\"https://huggingface.co/edbeeching/doom_health_gathering_supreme_3333/resolve/main/replay.mp4\" \n",
              "  type=\"video/mp4\">Your browser does not support the video tag.</video>"
            ]
          },
          "metadata": {},
          "execution_count": 1
        }
      ]
    },
    {
      "cell_type": "markdown",
      "source": [
        "Чтобы подтвердить это практическое руководство для [процесса сертификации](https://huggingface.co/deep-rl-course/en/unit0/introduction#certification-process), вам нужно обучить модель:\n",
        "\n",
        "- `doom_health_gathering_supreme` получив результат >= 5.\n",
        "\n",
        "Чтобы найти свой результат, перейдите к [leaderboard](https://huggingface.co/spaces/huggingface-projects/Deep-Reinforcement-Learning-Leaderboard) и найдите свою модель, **the result = mean_reward - std of reward**"
      ],
      "metadata": {
        "id": "Asw-p_wSt6L9"
      }
    },
    {
      "cell_type": "markdown",
      "source": [
        "Прежде чем приступить к обучению нашего агента, давайте ** изучим библиотеку и среды, которые мы собираемся использовать**.\n",
        "\n",
        "## Sample Factory (Фабрика образцов)\n",
        "\n",
        "[Sample Factory](https://www.samplefactory.dev/) является одной из **самых быстрых библиотек RL, ориентированных на очень эффективные синхронные и асинхронные реализации градиентов политики (PPO)**.\n",
        "\n",
        "Sample Factory (Фабрика образцов) тщательно **протестирована, используется многими исследователями и практиками** и активно поддерживается. Известно, что наша реализация **обеспечивает производительность SOTA в различных областях при минимизации времени обучения RL-эксперименту и требований к оборудованию**.\n",
        "\n",
        "<img src=\"https://huggingface.co/datasets/huggingface-deep-rl-course/course-images/resolve/main/en/unit9/samplefactoryenvs.png\" alt=\"Sample factory\" width=\"70%\"/>\n",
        "\n",
        "\n",
        "### Ключевые функции\n",
        "\n",
        "- Высокооптимизированный алгоритм [архитектура](https://www.samplefactory.dev/06-architecture/overview/) для максимальной производительности обучения\n",
        "- [Синхронный и асинхронный](https://www.samplefactory.dev/07-advanced-topics/sync-async/) режимы обучения\n",
        "- [Последовательный (однопроцессорный) режим](https://www.samplefactory.dev/07-advanced-topics/serial-mode/) для удобства отладки\n",
        "- Оптимальная производительность как в средах на базе CPU, так и [в средах с ускорением GPU](https://www.samplefactory.dev/09-environment-integrations/isaacgym/)\n",
        "- Обучение с одним и несколькими агентами, самостоятельная игра, поддержка [обучения нескольким политикам](https://www.samplefactory.dev/07-advanced-topics/multi-policy-training/) одновременно на одном или нескольких графических процессорах\n",
        "- Обучение на уровне населения ([PBT](https://www.samplefactory.dev/07-advanced-topics/pbt/))\n",
        "- Дискретные, непрерывные, гибридные пространства действий\n",
        "- Векторные, основанные на изображениях, словари пространства наблюдений\n",
        "- Автоматически создает архитектуру модели путем анализа спецификации пространства действий/наблюдения. Поддерживает [архитектуры пользовательских моделей](https://www.samplefactory.dev/03-customization/custom-models/)\n",
        "- Предназначен для импорта в другие проекты, [пользовательские среды](https://www.samplefactory.dev/03-customization/custom-environments/)\n",
        "- Детализация [WandB and Tensorboard summaries](https://www.samplefactory.dev/05-monitoring/metrics-reference/), [пользовательские показатели](https://www.samplefactory.dev/05-monitoring/custom-metrics/)\n",
        "- [HuggingFace 🤗 интеграция](https://www.samplefactory.dev/10-huggingface/huggingface/) (загрузка обученных моделей и метрик на Hub)\n",
        "- [Множество](https://www.samplefactory.dev/09-environment-integrations/mujoco/) [примеров](https://www.samplefactory.dev/09-environment-integrations/atari/) [окружающих сред](https://www.samplefactory.dev/09-environment-integrations/vizdoom/) [для интеграции](https://www.samplefactory.dev/09-environment-integrations/dmlab/) с настроенными параметрами и обученными моделями\n",
        "\n",
        "Все вышеуказанные политики доступны на 🤗 hub. Выполните поиск по тегу[sample-factory](https://huggingface.co/models?library=sample-factory&sort=downloads)\n",
        "\n",
        "### Как работает sample-factory\n",
        "\n",
        "Sample-factory - это одна из **наиболее высокооптимизированных реализаций RL, доступных сообществу**.\n",
        "\n",
        "Это работает путем **порождения нескольких процессов, которые запускают работников развертывания, работников вывода и работника-учащегося**.\n",
        "\n",
        "*Рабочие* **взаимодействуют через общую память, что снижает стоимость связи между процессами**.\n",
        "\n",
        "*Работники развертывания* взаимодействуют с окружающей средой и отправляют наблюдения *работникам вывода*.\n",
        "\n",
        "Работники *вывода* запрашивают фиксированную версию политики и **отправляют действия обратно работнику развертывания**.\n",
        "\n",
        "После *k* шагов работы по развертыванию отправляют траекторию опыта работнику-учащемуся**, которую он использует для обновления сети политик агента**.\n",
        "\n",
        "<img src=\"https://huggingface.co/datasets/huggingface-deep-rl-course/course-images/resolve/main/en/unit9/samplefactory.png\" alt=\"Sample factory\" width=\"70%\"/>"
      ],
      "metadata": {
        "id": "UF4xE_QDvBPF"
      }
    },
    {
      "cell_type": "markdown",
      "source": [
        "### Модели актер-критик из Sample-factory\n",
        "\n",
        "Модели актера и критика в Sample Factory состоят из трех компонентов:\n",
        "\n",
        "- ** Кодировщик ** - Обрабатывает входные наблюдения (изображения, векторы) и преобразует их в вектор. Это та часть модели, которую вы, скорее всего, захотите настроить.\n",
        "- ** Ядро ** - Интегрирует векторы из одного или нескольких кодеров, может дополнительно включать одно- или много- слойный LSTM/GRU в агента на основе памяти.\n",
        "- **Декодер** - Использует дополнительные слои к выходным данным ядра модели перед вычислением выходных данных политики и значения.\n",
        "\n",
        "Библиотека была разработана для автоматической поддержки любых пространств наблюдения и действий. Пользователи могут легко добавлять свои пользовательские модели. Вы можете узнать больше в [документации](https://www.samplefactory.dev/03-customization/custom-models/#actor-critic-models-in-sample-factory)."
      ],
      "metadata": {
        "id": "tjY2byyB0mdd"
      }
    },
    {
      "cell_type": "markdown",
      "source": [
        "## ViZDoom\n",
        "\n",
        "[ViZDoom](https://vizdoom.cs.put.edu.pl/) это **интерфейс python с открытым исходным кодом для движка Doom Engine**.\n",
        "\n",
        "Библиотека была создана в 2016 году Мареком Видмухом и Михалом Кемпкой в Институте вычислительной техники Познанского технологического университета, Польша. \n",
        "\n",
        "Библиотека позволяет **обучать агентов непосредственно с пикселей экрана в ряде сценариев**, включая командный смертельный поединок, показанный на видео ниже. Поскольку среда ViZDoom основана на игре, созданной в 90-х годах, ее можно запускать на современном оборудовании с ускоренными скоростями**, что позволяет нам довольно быстро осваивать сложное поведение искусственного интеллекта**.\n",
        "\n",
        "Библиотека включает в себя такие функции, как:\n",
        "\n",
        "- Мультиплатформенность (Linux, macOS, Windows),\n",
        "- API для Python и C++,\n",
        "- [OpenAI Gym](https://www.gymlibrary.dev/) оболочки среды\n",
        "- Простые в создании пользовательские сценарии (доступны визуальные редакторы, язык сценариев и примеры),\n",
        "- Асинхронный и синхронизированный однопользовательский и многопользовательский режимы,\n",
        "- Легкий (несколько Мбайт) и быстрый (до 7000 кадров в секунду в режиме синхронизации, однопоточный),\n",
        "- Настраиваемое разрешение и параметры рендеринга,\n",
        "- Доступ к буферу глубины (3D vision),\n",
        "- Автоматическая маркировка игровых объектов, видимых в кадре,\n",
        "- Доступ к аудиобуферу\n",
        "- Доступ к списку действующих лиц/объектов и геометрии карты,\n",
        "- Закадровый рендеринг и запись эпизода,\n",
        "- Масштабирование времени в асинхронном режиме."
      ],
      "metadata": {
        "id": "r-u1cRlQ1tEd"
      }
    },
    {
      "cell_type": "markdown",
      "source": [
        "## Сначала нам нужно установить некоторые зависимости, которые требуются для среды ViZDoom\n",
        "\n",
        "Теперь, когда наша среда выполнения Colab настроена, мы можем начать с установки зависимостей, необходимых для запуска ViZDoom в Linux.\n",
        "\n",
        "Для Mac, вам нужно будет следовать инструкциям по установке на [странице github](https://github.com/Farama-Foundation/ViZDoom/blob/master/doc/Quickstart.md#-quickstart-for-macos-and-anaconda3-python-36)."
      ],
      "metadata": {
        "id": "o28MHLE53Rwt"
      }
    },
    {
      "cell_type": "code",
      "execution_count": null,
      "metadata": {
        "id": "0nYdveXrrJ8n"
      },
      "outputs": [],
      "source": [
        "%%capture\n",
        "%%bash\n",
        "# Установите ViZDoom\n",
        "# https://github.com/mwydmuch/ViZDoom/blob/master/doc/Building.md#-linux\n",
        "\n",
        "apt-get install build-essential zlib1g-dev libsdl2-dev libjpeg-dev \\\n",
        "nasm tar libbz2-dev libgtk2.0-dev cmake git libfluidsynth-dev libgme-dev \\\n",
        "libopenal-dev timidity libwildmidi-dev unzip ffmpeg\n",
        "\n",
        "# Boost libraries\n",
        "apt-get install libboost-all-dev\n",
        "\n",
        "# Lua binding dependencies\n",
        "apt-get install liblua5.1-dev"
      ]
    },
    {
      "cell_type": "markdown",
      "source": [
        "## Затем мы можем установить  Sample Factory и ViZDoom\n",
        "- - Это может занять 7 минут"
      ],
      "metadata": {
        "id": "neLuK8Zr4KS0"
      }
    },
    {
      "cell_type": "code",
      "source": [
        "# install python libraries\n",
        "# thanks toinsson\n",
        "!pip install sample-factory==2.0.2\n",
        "!pip install faster-fifo==1.4.2\n",
        "!pip install vizdoom"
      ],
      "metadata": {
        "colab": {
          "base_uri": "https://localhost:8080/"
        },
        "id": "cyTV7GCS4WtV",
        "outputId": "9ddcdc46-fcc6-45ab-a042-428efa248ff0"
      },
      "execution_count": null,
      "outputs": [
        {
          "output_type": "stream",
          "name": "stdout",
          "text": [
            "Looking in indexes: https://pypi.org/simple, https://us-python.pkg.dev/colab-wheels/public/simple/\n",
            "Collecting sample-factory==2.0.2\n",
            "  Downloading sample_factory-2.0.2-py3-none-any.whl (9.0 MB)\n",
            "\u001b[2K     \u001b[90m━━━━━━━━━━━━━━━━━━━━━━━━━━━━━━━━━━━━━━━━\u001b[0m \u001b[32m9.0/9.0 MB\u001b[0m \u001b[31m54.2 MB/s\u001b[0m eta \u001b[36m0:00:00\u001b[0m\n",
            "\u001b[?25hRequirement already satisfied: tensorboard>=1.15.0 in /usr/local/lib/python3.9/dist-packages (from sample-factory==2.0.2) (2.11.2)\n",
            "Requirement already satisfied: psutil>=5.7.0 in /usr/local/lib/python3.9/dist-packages (from sample-factory==2.0.2) (5.9.4)\n",
            "Requirement already satisfied: threadpoolctl>=2.0.0 in /usr/local/lib/python3.9/dist-packages (from sample-factory==2.0.2) (3.1.0)\n",
            "Collecting signal-slot-mp<2.0,>=1.0.3\n",
            "  Downloading signal_slot_mp-1.0.3-py3-none-any.whl (11 kB)\n",
            "Requirement already satisfied: torch<2.0,>=1.9 in /usr/local/lib/python3.9/dist-packages (from sample-factory==2.0.2) (1.13.1+cu116)\n",
            "Requirement already satisfied: filelock in /usr/local/lib/python3.9/dist-packages (from sample-factory==2.0.2) (3.10.0)\n",
            "Collecting wandb>=0.12.9\n",
            "  Downloading wandb-0.14.0-py3-none-any.whl (2.0 MB)\n",
            "\u001b[2K     \u001b[90m━━━━━━━━━━━━━━━━━━━━━━━━━━━━━━━━━━━━━━━━\u001b[0m \u001b[32m2.0/2.0 MB\u001b[0m \u001b[31m51.3 MB/s\u001b[0m eta \u001b[36m0:00:00\u001b[0m\n",
            "\u001b[?25hCollecting tensorboardx>=2.0\n",
            "  Downloading tensorboardX-2.6-py2.py3-none-any.whl (114 kB)\n",
            "\u001b[2K     \u001b[90m━━━━━━━━━━━━━━━━━━━━━━━━━━━━━━━━━━━━━━\u001b[0m \u001b[32m114.5/114.5 KB\u001b[0m \u001b[31m12.9 MB/s\u001b[0m eta \u001b[36m0:00:00\u001b[0m\n",
            "\u001b[?25hCollecting faster-fifo<2.0,>=1.4.2\n",
            "  Downloading faster-fifo-1.4.4.tar.gz (86 kB)\n",
            "\u001b[2K     \u001b[90m━━━━━━━━━━━━━━━━━━━━━━━━━━━━━━━━━━━━━━━━\u001b[0m \u001b[32m86.5/86.5 KB\u001b[0m \u001b[31m9.4 MB/s\u001b[0m eta \u001b[36m0:00:00\u001b[0m\n",
            "\u001b[?25h  Installing build dependencies ... \u001b[?25l\u001b[?25hdone\n",
            "  Getting requirements to build wheel ... \u001b[?25l\u001b[?25hdone\n",
            "  Preparing metadata (pyproject.toml) ... \u001b[?25l\u001b[?25hdone\n",
            "Requirement already satisfied: opencv-python in /usr/local/lib/python3.9/dist-packages (from sample-factory==2.0.2) (4.6.0.66)\n",
            "Collecting huggingface-hub<1.0,>=0.10.0\n",
            "  Downloading huggingface_hub-0.13.2-py3-none-any.whl (199 kB)\n",
            "\u001b[2K     \u001b[90m━━━━━━━━━━━━━━━━━━━━━━━━━━━━━━━━━━━━━━\u001b[0m \u001b[32m199.2/199.2 KB\u001b[0m \u001b[31m14.0 MB/s\u001b[0m eta \u001b[36m0:00:00\u001b[0m\n",
            "\u001b[?25hRequirement already satisfied: numpy>=1.18.1<2.0 in /usr/local/lib/python3.9/dist-packages (from sample-factory==2.0.2) (1.22.4)\n",
            "Collecting pyglet\n",
            "  Downloading pyglet-2.0.5-py3-none-any.whl (831 kB)\n",
            "\u001b[2K     \u001b[90m━━━━━━━━━━━━━━━━━━━━━━━━━━━━━━━━━━━━━━\u001b[0m \u001b[32m831.3/831.3 KB\u001b[0m \u001b[31m52.1 MB/s\u001b[0m eta \u001b[36m0:00:00\u001b[0m\n",
            "\u001b[?25hCollecting gym<1.0,>=0.26.1\n",
            "  Downloading gym-0.26.2.tar.gz (721 kB)\n",
            "\u001b[2K     \u001b[90m━━━━━━━━━━━━━━━━━━━━━━━━━━━━━━━━━━━━━━\u001b[0m \u001b[32m721.7/721.7 KB\u001b[0m \u001b[31m50.5 MB/s\u001b[0m eta \u001b[36m0:00:00\u001b[0m\n",
            "\u001b[?25h  Installing build dependencies ... \u001b[?25l\u001b[?25hdone\n",
            "  Getting requirements to build wheel ... \u001b[?25l\u001b[?25hdone\n",
            "  Preparing metadata (pyproject.toml) ... \u001b[?25l\u001b[?25hdone\n",
            "Collecting colorlog\n",
            "  Downloading colorlog-6.7.0-py2.py3-none-any.whl (11 kB)\n",
            "Requirement already satisfied: setuptools>=45.2.0 in /usr/local/lib/python3.9/dist-packages (from faster-fifo<2.0,>=1.4.2->sample-factory==2.0.2) (63.4.3)\n",
            "Requirement already satisfied: cython>=0.29 in /usr/local/lib/python3.9/dist-packages (from faster-fifo<2.0,>=1.4.2->sample-factory==2.0.2) (0.29.33)\n",
            "Requirement already satisfied: importlib-metadata>=4.8.0 in /usr/local/lib/python3.9/dist-packages (from gym<1.0,>=0.26.1->sample-factory==2.0.2) (6.0.0)\n",
            "Requirement already satisfied: gym-notices>=0.0.4 in /usr/local/lib/python3.9/dist-packages (from gym<1.0,>=0.26.1->sample-factory==2.0.2) (0.0.8)\n",
            "Requirement already satisfied: cloudpickle>=1.2.0 in /usr/local/lib/python3.9/dist-packages (from gym<1.0,>=0.26.1->sample-factory==2.0.2) (2.2.1)\n",
            "Requirement already satisfied: tqdm>=4.42.1 in /usr/local/lib/python3.9/dist-packages (from huggingface-hub<1.0,>=0.10.0->sample-factory==2.0.2) (4.65.0)\n",
            "Requirement already satisfied: packaging>=20.9 in /usr/local/lib/python3.9/dist-packages (from huggingface-hub<1.0,>=0.10.0->sample-factory==2.0.2) (23.0)\n",
            "Requirement already satisfied: requests in /usr/local/lib/python3.9/dist-packages (from huggingface-hub<1.0,>=0.10.0->sample-factory==2.0.2) (2.27.1)\n",
            "Requirement already satisfied: pyyaml>=5.1 in /usr/local/lib/python3.9/dist-packages (from huggingface-hub<1.0,>=0.10.0->sample-factory==2.0.2) (6.0)\n",
            "Requirement already satisfied: typing-extensions>=3.7.4.3 in /usr/local/lib/python3.9/dist-packages (from huggingface-hub<1.0,>=0.10.0->sample-factory==2.0.2) (4.5.0)\n",
            "Requirement already satisfied: markdown>=2.6.8 in /usr/local/lib/python3.9/dist-packages (from tensorboard>=1.15.0->sample-factory==2.0.2) (3.4.1)\n",
            "Requirement already satisfied: google-auth-oauthlib<0.5,>=0.4.1 in /usr/local/lib/python3.9/dist-packages (from tensorboard>=1.15.0->sample-factory==2.0.2) (0.4.6)\n",
            "Requirement already satisfied: protobuf<4,>=3.9.2 in /usr/local/lib/python3.9/dist-packages (from tensorboard>=1.15.0->sample-factory==2.0.2) (3.19.6)\n",
            "Requirement already satisfied: werkzeug>=1.0.1 in /usr/local/lib/python3.9/dist-packages (from tensorboard>=1.15.0->sample-factory==2.0.2) (2.2.3)\n",
            "Requirement already satisfied: tensorboard-plugin-wit>=1.6.0 in /usr/local/lib/python3.9/dist-packages (from tensorboard>=1.15.0->sample-factory==2.0.2) (1.8.1)\n",
            "Requirement already satisfied: wheel>=0.26 in /usr/local/lib/python3.9/dist-packages (from tensorboard>=1.15.0->sample-factory==2.0.2) (0.40.0)\n",
            "Requirement already satisfied: google-auth<3,>=1.6.3 in /usr/local/lib/python3.9/dist-packages (from tensorboard>=1.15.0->sample-factory==2.0.2) (2.16.2)\n",
            "Requirement already satisfied: absl-py>=0.4 in /usr/local/lib/python3.9/dist-packages (from tensorboard>=1.15.0->sample-factory==2.0.2) (1.4.0)\n",
            "Requirement already satisfied: grpcio>=1.24.3 in /usr/local/lib/python3.9/dist-packages (from tensorboard>=1.15.0->sample-factory==2.0.2) (1.51.3)\n",
            "Requirement already satisfied: tensorboard-data-server<0.7.0,>=0.6.0 in /usr/local/lib/python3.9/dist-packages (from tensorboard>=1.15.0->sample-factory==2.0.2) (0.6.1)\n",
            "Requirement already satisfied: Click!=8.0.0,>=7.0 in /usr/local/lib/python3.9/dist-packages (from wandb>=0.12.9->sample-factory==2.0.2) (8.1.3)\n",
            "Collecting GitPython!=3.1.29,>=1.0.0\n",
            "  Downloading GitPython-3.1.31-py3-none-any.whl (184 kB)\n",
            "\u001b[2K     \u001b[90m━━━━━━━━━━━━━━━━━━━━━━━━━━━━━━━━━━━━━━\u001b[0m \u001b[32m184.3/184.3 KB\u001b[0m \u001b[31m20.1 MB/s\u001b[0m eta \u001b[36m0:00:00\u001b[0m\n",
            "\u001b[?25hCollecting pathtools\n",
            "  Downloading pathtools-0.1.2.tar.gz (11 kB)\n",
            "  Preparing metadata (setup.py) ... \u001b[?25l\u001b[?25hdone\n",
            "Collecting appdirs>=1.4.3\n",
            "  Downloading appdirs-1.4.4-py2.py3-none-any.whl (9.6 kB)\n",
            "Collecting setproctitle\n",
            "  Downloading setproctitle-1.3.2-cp39-cp39-manylinux_2_5_x86_64.manylinux1_x86_64.manylinux_2_17_x86_64.manylinux2014_x86_64.whl (30 kB)\n",
            "Collecting docker-pycreds>=0.4.0\n",
            "  Downloading docker_pycreds-0.4.0-py2.py3-none-any.whl (9.0 kB)\n",
            "Collecting sentry-sdk>=1.0.0\n",
            "  Downloading sentry_sdk-1.17.0-py2.py3-none-any.whl (189 kB)\n",
            "\u001b[2K     \u001b[90m━━━━━━━━━━━━━━━━━━━━━━━━━━━━━━━━━━━━━━\u001b[0m \u001b[32m189.1/189.1 KB\u001b[0m \u001b[31m20.1 MB/s\u001b[0m eta \u001b[36m0:00:00\u001b[0m\n",
            "\u001b[?25hRequirement already satisfied: six>=1.4.0 in /usr/local/lib/python3.9/dist-packages (from docker-pycreds>=0.4.0->wandb>=0.12.9->sample-factory==2.0.2) (1.15.0)\n",
            "Collecting gitdb<5,>=4.0.1\n",
            "  Downloading gitdb-4.0.10-py3-none-any.whl (62 kB)\n",
            "\u001b[2K     \u001b[90m━━━━━━━━━━━━━━━━━━━━━━━━━━━━━━━━━━━━━━━━\u001b[0m \u001b[32m62.7/62.7 KB\u001b[0m \u001b[31m7.7 MB/s\u001b[0m eta \u001b[36m0:00:00\u001b[0m\n",
            "\u001b[?25hRequirement already satisfied: cachetools<6.0,>=2.0.0 in /usr/local/lib/python3.9/dist-packages (from google-auth<3,>=1.6.3->tensorboard>=1.15.0->sample-factory==2.0.2) (5.3.0)\n",
            "Requirement already satisfied: pyasn1-modules>=0.2.1 in /usr/local/lib/python3.9/dist-packages (from google-auth<3,>=1.6.3->tensorboard>=1.15.0->sample-factory==2.0.2) (0.2.8)\n",
            "Requirement already satisfied: rsa<5,>=3.1.4 in /usr/local/lib/python3.9/dist-packages (from google-auth<3,>=1.6.3->tensorboard>=1.15.0->sample-factory==2.0.2) (4.9)\n",
            "Requirement already satisfied: requests-oauthlib>=0.7.0 in /usr/local/lib/python3.9/dist-packages (from google-auth-oauthlib<0.5,>=0.4.1->tensorboard>=1.15.0->sample-factory==2.0.2) (1.3.1)\n",
            "Requirement already satisfied: zipp>=0.5 in /usr/local/lib/python3.9/dist-packages (from importlib-metadata>=4.8.0->gym<1.0,>=0.26.1->sample-factory==2.0.2) (3.15.0)\n",
            "Requirement already satisfied: charset-normalizer~=2.0.0 in /usr/local/lib/python3.9/dist-packages (from requests->huggingface-hub<1.0,>=0.10.0->sample-factory==2.0.2) (2.0.12)\n",
            "Requirement already satisfied: idna<4,>=2.5 in /usr/local/lib/python3.9/dist-packages (from requests->huggingface-hub<1.0,>=0.10.0->sample-factory==2.0.2) (3.4)\n",
            "Requirement already satisfied: certifi>=2017.4.17 in /usr/local/lib/python3.9/dist-packages (from requests->huggingface-hub<1.0,>=0.10.0->sample-factory==2.0.2) (2022.12.7)\n",
            "Requirement already satisfied: urllib3<1.27,>=1.21.1 in /usr/local/lib/python3.9/dist-packages (from requests->huggingface-hub<1.0,>=0.10.0->sample-factory==2.0.2) (1.26.15)\n",
            "Requirement already satisfied: MarkupSafe>=2.1.1 in /usr/local/lib/python3.9/dist-packages (from werkzeug>=1.0.1->tensorboard>=1.15.0->sample-factory==2.0.2) (2.1.2)\n",
            "Collecting smmap<6,>=3.0.1\n",
            "  Downloading smmap-5.0.0-py3-none-any.whl (24 kB)\n",
            "Requirement already satisfied: pyasn1<0.5.0,>=0.4.6 in /usr/local/lib/python3.9/dist-packages (from pyasn1-modules>=0.2.1->google-auth<3,>=1.6.3->tensorboard>=1.15.0->sample-factory==2.0.2) (0.4.8)\n",
            "Requirement already satisfied: oauthlib>=3.0.0 in /usr/local/lib/python3.9/dist-packages (from requests-oauthlib>=0.7.0->google-auth-oauthlib<0.5,>=0.4.1->tensorboard>=1.15.0->sample-factory==2.0.2) (3.2.2)\n",
            "Building wheels for collected packages: faster-fifo, gym, pathtools\n",
            "  Building wheel for faster-fifo (pyproject.toml) ... \u001b[?25l\u001b[?25hdone\n",
            "  Created wheel for faster-fifo: filename=faster_fifo-1.4.4-cp39-cp39-linux_x86_64.whl size=355182 sha256=61efed38e29cb8563a653d4b291adead4ee633646498f9d9da099219b4dc4f22\n",
            "  Stored in directory: /root/.cache/pip/wheels/df/a7/69/0bb9383131cfbf7095397ec43ede1c123a43f1b40b9ab76e0a\n",
            "  Building wheel for gym (pyproject.toml) ... \u001b[?25l\u001b[?25hdone\n",
            "  Created wheel for gym: filename=gym-0.26.2-py3-none-any.whl size=827653 sha256=a96ecdbfdcdce72d4e877b7e705aaa2e52dd8536795c9fcf2aca63bc31f7bf2d\n",
            "  Stored in directory: /root/.cache/pip/wheels/af/2b/30/5e78b8b9599f2a2286a582b8da80594f654bf0e18d825a4405\n",
            "  Building wheel for pathtools (setup.py) ... \u001b[?25l\u001b[?25hdone\n",
            "  Created wheel for pathtools: filename=pathtools-0.1.2-py3-none-any.whl size=8807 sha256=c36f29ed845b02a5f1e166d501cba03e70a3ad46bfc6439b5d62f6ed99828df0\n",
            "  Stored in directory: /root/.cache/pip/wheels/b7/0a/67/ada2a22079218c75a88361c0782855cc72aebc4d18d0289d05\n",
            "Successfully built faster-fifo gym pathtools\n",
            "Installing collected packages: pyglet, pathtools, appdirs, tensorboardx, smmap, setproctitle, sentry-sdk, faster-fifo, docker-pycreds, colorlog, signal-slot-mp, huggingface-hub, gym, gitdb, GitPython, wandb, sample-factory\n",
            "  Attempting uninstall: gym\n",
            "    Found existing installation: gym 0.25.2\n",
            "    Uninstalling gym-0.25.2:\n",
            "      Successfully uninstalled gym-0.25.2\n",
            "Successfully installed GitPython-3.1.31 appdirs-1.4.4 colorlog-6.7.0 docker-pycreds-0.4.0 faster-fifo-1.4.4 gitdb-4.0.10 gym-0.26.2 huggingface-hub-0.13.2 pathtools-0.1.2 pyglet-2.0.5 sample-factory-2.0.2 sentry-sdk-1.17.0 setproctitle-1.3.2 signal-slot-mp-1.0.3 smmap-5.0.0 tensorboardx-2.6 wandb-0.14.0\n",
            "Looking in indexes: https://pypi.org/simple, https://us-python.pkg.dev/colab-wheels/public/simple/\n",
            "Collecting faster-fifo==1.4.2\n",
            "  Downloading faster-fifo-1.4.2.tar.gz (84 kB)\n",
            "\u001b[2K     \u001b[90m━━━━━━━━━━━━━━━━━━━━━━━━━━━━━━━━━━━━━━━━\u001b[0m \u001b[32m84.6/84.6 KB\u001b[0m \u001b[31m9.7 MB/s\u001b[0m eta \u001b[36m0:00:00\u001b[0m\n",
            "\u001b[?25h  Installing build dependencies ... \u001b[?25l\u001b[?25hdone\n",
            "  Getting requirements to build wheel ... \u001b[?25l\u001b[?25hdone\n",
            "  Preparing metadata (pyproject.toml) ... \u001b[?25l\u001b[?25hdone\n",
            "Requirement already satisfied: setuptools>=45.2.0 in /usr/local/lib/python3.9/dist-packages (from faster-fifo==1.4.2) (63.4.3)\n",
            "Requirement already satisfied: cython>=0.29 in /usr/local/lib/python3.9/dist-packages (from faster-fifo==1.4.2) (0.29.33)\n",
            "Building wheels for collected packages: faster-fifo\n",
            "  Building wheel for faster-fifo (pyproject.toml) ... \u001b[?25l\u001b[?25hdone\n",
            "  Created wheel for faster-fifo: filename=faster_fifo-1.4.2-cp39-cp39-linux_x86_64.whl size=346497 sha256=124aaa8d605c52124f22311b85ba4ca8032d80846082773daed6093bc791a087\n",
            "  Stored in directory: /root/.cache/pip/wheels/0c/6e/e5/093da430960f5d651cd6e13cb1fe7424ad422887c9ca0d376f\n",
            "Successfully built faster-fifo\n",
            "Installing collected packages: faster-fifo\n",
            "  Attempting uninstall: faster-fifo\n",
            "    Found existing installation: faster-fifo 1.4.4\n",
            "    Uninstalling faster-fifo-1.4.4:\n",
            "      Successfully uninstalled faster-fifo-1.4.4\n",
            "Successfully installed faster-fifo-1.4.2\n",
            "Looking in indexes: https://pypi.org/simple, https://us-python.pkg.dev/colab-wheels/public/simple/\n",
            "Collecting vizdoom\n",
            "  Downloading vizdoom-1.1.14.tar.gz (15.7 MB)\n",
            "\u001b[2K     \u001b[90m━━━━━━━━━━━━━━━━━━━━━━━━━━━━━━━━━━━━━━━━\u001b[0m \u001b[32m15.7/15.7 MB\u001b[0m \u001b[31m73.2 MB/s\u001b[0m eta \u001b[36m0:00:00\u001b[0m\n",
            "\u001b[?25h"
          ]
        }
      ]
    },
    {
      "cell_type": "markdown",
      "source": [
        "## Настройка среды Doom в sample-factory"
      ],
      "metadata": {
        "id": "KKUcQOS64bys"
      }
    },
    {
      "cell_type": "code",
      "source": [
        "import functools\n",
        "\n",
        "from sample_factory.algo.utils.context import global_model_factory\n",
        "from sample_factory.cfg.arguments import parse_full_cfg, parse_sf_args\n",
        "from sample_factory.envs.env_utils import register_env\n",
        "from sample_factory.train import run_rl\n",
        "\n",
        "from sf_examples.vizdoom.doom.doom_model import make_vizdoom_encoder\n",
        "from sf_examples.vizdoom.doom.doom_params import add_doom_env_args, doom_override_defaults\n",
        "from sf_examples.vizdoom.doom.doom_utils import DOOM_ENVS, make_doom_env_from_spec\n",
        "\n",
        "\n",
        "# Registers all the ViZDoom environments\n",
        "def register_vizdoom_envs():\n",
        "    for env_spec in DOOM_ENVS:\n",
        "        make_env_func = functools.partial(make_doom_env_from_spec, env_spec)\n",
        "        register_env(env_spec.name, make_env_func)\n",
        "\n",
        "# Sample Factory allows the registration of a custom Neural Network architecture\n",
        "# See https://github.com/alex-petrenko/sample-factory/blob/master/sf_examples/vizdoom/doom/doom_model.py for more details\n",
        "def register_vizdoom_models():\n",
        "    global_model_factory().register_encoder_factory(make_vizdoom_encoder)\n",
        "\n",
        "\n",
        "def register_vizdoom_components():\n",
        "    register_vizdoom_envs()\n",
        "    register_vizdoom_models()\n",
        "\n",
        "# parse the command line args and create a config\n",
        "def parse_vizdoom_cfg(argv=None, evaluation=False):\n",
        "    parser, _ = parse_sf_args(argv=argv, evaluation=evaluation)\n",
        "    # parameters specific to Doom envs\n",
        "    add_doom_env_args(parser)\n",
        "    # override Doom default values for algo parameters\n",
        "    doom_override_defaults(parser)\n",
        "    # second parsing pass yields the final configuration\n",
        "    final_cfg = parse_full_cfg(parser, argv)\n",
        "    return final_cfg"
      ],
      "metadata": {
        "id": "Cy9W-WRP4fGk"
      },
      "execution_count": null,
      "outputs": []
    },
    {
      "cell_type": "markdown",
      "source": [
        "Теперь, когда настройка завершена, мы можем обучить агента. Мы выбрали здесь, чтобы изучить задание ViZDoom под названием \"Высший сбор здоровья\".\n",
        "\n",
        "### Сценарий: Высший сбор здоровья\n",
        "\n",
        "<img src=\"https://huggingface.co/datasets/huggingface-deep-rl-course/course-images/resolve/main/en/unit9/Health-Gathering-Supreme.png\" alt=\"Health-Gathering-Supreme\" width=\"70%\"/>\n",
        "\n",
        "\n",
        "\n",
        "Цель этого сценария состоит в том, чтобы ** научить агента выживать, не зная, что заставляет его выживать **. Агент знает только, что ** жизнь драгоценна**, а смерть плоха, поэтому ** он должен узнать, что продлевает его существование и что с этим связано его здоровье **.\n",
        "\n",
        "Карта представляет собой прямоугольник со стенами и зеленым кислотным полом, который ** периодически причиняет игроку боль**. Изначально есть несколько аптечек, равномерно распределенных по карте. Время от времени с небес падает новая аптечка. ** Аптечки восстанавливают некоторые части здоровья игрока ** - чтобы выжить, агенту необходимо забрать их. Эпизод заканчивается после смерти игрока или по истечении тайм-аута.\n",
        "\n",
        "Дальнейшая конфигурация:\n",
        "- Living_reward = 1\n",
        "- 3 доступные кнопки: повернуть налево, повернуть направо, двигаться вперед\n",
        "- 1 доступная игровая переменная: ЗДОРОВЬЕ\n",
        "- смертная казнь = 100\n",
        "\n",
        "Вы можете узнать больше о сценариях, доступных в ViZDoom [здесь](https://github.com/Farama-Foundation/ViZDoom/tree/master/scenarios). \n",
        "\n",
        "Существует также ряд более сложных сценариев, которые были созданы для ViZDoom, таких как те, которые подробно описаны на [этой странице github](https://github.com/edbeeching/3d_control_deep_rl)."
      ],
      "metadata": {
        "id": "2LaNUY7a4kG8"
      }
    },
    {
      "cell_type": "markdown",
      "source": [
        "## Обучение агента\n",
        "- - Мы собираемся обучить агента 4000000 шагам, это займет примерно 20 минут"
      ],
      "metadata": {
        "id": "4QRxSlLl5Y0s"
      }
    },
    {
      "cell_type": "code",
      "source": [
        "## Начните тренировку, это должно занять около 15 минут\n",
        "register_vizdoom_components()\n",
        "\n",
        "# Сценарий, по которому мы тренируемся сегодня, - это сбор здоровья\n",
        "# другие сценарии включают \"doom_basic\", \"doom_two_colors_easy\", \"doom_dm\", \"doom_dwango5\", \"doom_my_way_home\", \"doom_deadly_corridor\", \"doom_defend_the_center\", \"doom_defend_the_line\"\n",
        "env = \"doom_health_gathering_supreme\"\n",
        "cfg = parse_vizdoom_cfg(argv=[f\"--env={env}\", \"--num_workers=8\", \"--num_envs_per_worker=4\", \"--train_for_env_steps=4000000\"])\n",
        "\n",
        "status = run_rl(cfg)"
      ],
      "metadata": {
        "id": "A5V7cBlM5bZk"
      },
      "execution_count": null,
      "outputs": []
    },
    {
      "cell_type": "markdown",
      "source": [
        "## Давайте посмотрим на эффективность обученной политики и выведем видео агента."
      ],
      "metadata": {
        "id": "w5uhXYsL5xME"
      }
    },
    {
      "cell_type": "code",
      "source": [
        "from sample_factory.enjoy import enjoy\n",
        "cfg = parse_vizdoom_cfg(argv=[f\"--env={env}\", \"--num_workers=1\", \"--save_video\", \"--no_render\", \"--max_num_episodes=10\"], evaluation=True)\n",
        "status = enjoy(cfg)"
      ],
      "metadata": {
        "id": "5msw-u7l50Y8"
      },
      "execution_count": null,
      "outputs": []
    },
    {
      "cell_type": "markdown",
      "source": [
        "## Теперь давайте визуализируем производительность агента"
      ],
      "metadata": {
        "id": "6bXGpRq255D0"
      }
    },
    {
      "cell_type": "code",
      "source": [
        "from base64 import b64encode\n",
        "from IPython.display import HTML\n",
        "\n",
        "mp4 = open('/content/train_dir/default_experiment/replay.mp4','rb').read()\n",
        "data_url = \"data:video/mp4;base64,\" + b64encode(mp4).decode()\n",
        "HTML(\"\"\"\n",
        "<video width=640 controls>\n",
        "      <source src=\"%s\" type=\"video/mp4\">\n",
        "</video>\n",
        "\"\"\" % data_url)"
      ],
      "metadata": {
        "id": "u3RZTuYy59g7"
      },
      "execution_count": null,
      "outputs": []
    },
    {
      "cell_type": "markdown",
      "source": [
        "Агент кое-чему научился, но его производительность могла бы быть лучше. Нам явно нужно было бы тренироваться дольше. Но давайте загрузим эту модель в Хаб."
      ],
      "metadata": {
        "id": "_aIMaF0u6Eec"
      }
    },
    {
      "cell_type": "markdown",
      "source": [
        "## Теперь давайте загрузим вашу контрольную точку и видео в Hugging Face Hub"
      ],
      "metadata": {
        "id": "Jh_6o_3M6NX8"
      }
    },
    {
      "cell_type": "code",
      "source": [
        "from huggingface_hub import notebook_login\n",
        "notebook_login()\n",
        "!git config --global credential.helper store"
      ],
      "metadata": {
        "id": "dDmoiKHG6Tcb"
      },
      "execution_count": null,
      "outputs": []
    },
    {
      "cell_type": "code",
      "source": [
        "from sample_factory.enjoy import enjoy\n",
        "\n",
        "hf_username = \"ThomasSimonini\" # insert your HuggingFace username here\n",
        "\n",
        "cfg = parse_vizdoom_cfg(argv=[f\"--env={env}\", \"--num_workers=1\", \"--save_video\", \"--no_render\", \"--max_num_episodes=10\", \"--max_num_frames=100000\", \"--push_to_hub\", f\"--hf_repository={hf_username}/rl_course_vizdoom_health_gathering_supreme\"], evaluation=True)\n",
        "status = enjoy(cfg)"
      ],
      "metadata": {
        "id": "W0Vz-tmv6Wlb"
      },
      "execution_count": null,
      "outputs": []
    },
    {
      "cell_type": "markdown",
      "source": [
        "## Давайте загрузим другую модель"
      ],
      "metadata": {
        "id": "5681ofIq6S0T"
      }
    },
    {
      "cell_type": "markdown",
      "source": [
        "Работа этого агента была хорошей, но он может добиться большего! Давайте загрузим и визуализируем агента, обученного 10B временным шагам, из центра."
      ],
      "metadata": {
        "id": "zuE-ZKVt6ka0"
      }
    },
    {
      "cell_type": "code",
      "source": [
        "#загрузка агента с Hub\n",
        "!python -m sample_factory.huggingface.load_from_hub -r edbeeching/doom_health_gathering_supreme_2222 -d ./train_dir"
      ],
      "metadata": {
        "id": "M47N54un6j4U"
      },
      "execution_count": null,
      "outputs": []
    },
    {
      "cell_type": "code",
      "source": [
        "!ls train_dir/doom_health_gathering_supreme_2222"
      ],
      "metadata": {
        "id": "t5L_otcP6xjs"
      },
      "execution_count": null,
      "outputs": []
    },
    {
      "cell_type": "code",
      "source": [
        "env = \"doom_health_gathering_supreme\"\n",
        "cfg = parse_vizdoom_cfg(argv=[f\"--env={env}\", \"--num_workers=1\", \"--save_video\", \"--no_render\", \"--max_num_episodes=10\", \"--experiment=doom_health_gathering_supreme_2222\", \"--train_dir=train_dir\"], evaluation=True)\n",
        "status = enjoy(cfg)"
      ],
      "metadata": {
        "id": "yVCOyZ4G6yM7"
      },
      "execution_count": null,
      "outputs": []
    },
    {
      "cell_type": "code",
      "source": [
        "mp4 = open('/content/train_dir/doom_health_gathering_supreme_2222/replay.mp4','rb').read()\n",
        "data_url = \"data:video/mp4;base64,\" + b64encode(mp4).decode()\n",
        "HTML(\"\"\"\n",
        "<video width=640 controls>\n",
        "      <source src=\"%s\" type=\"video/mp4\">\n",
        "</video>\n",
        "\"\"\" % data_url)"
      ],
      "metadata": {
        "id": "oGmsuSVQ61Tk"
      },
      "execution_count": null,
      "outputs": []
    },
    {
      "cell_type": "markdown",
      "source": [
        "## Некоторые дополнительные испытания 🏆 : Doom Deathmatch\n",
        "\n",
        "Обучение агента игре Doom deathmatch ** занимает много часов на более мощной машине, чем та что доступна в Colab **.\n",
        "\n",
        "К счастью, мы ** уже обучили агента этому сценарию, и он доступен в 🤗 Hub!** Давайте загрузим модель и визуализируем производительность агента."
      ],
      "metadata": {
        "id": "LGd0SGYM7DKr"
      }
    },
    {
      "cell_type": "code",
      "source": [
        "# Download the agent from the hub\n",
        "!python -m sample_factory.huggingface.load_from_hub -r edbeeching/doom_deathmatch_bots_2222 -d ./train_dir"
      ],
      "metadata": {
        "id": "eQ-58Wp-7GB8"
      },
      "execution_count": null,
      "outputs": []
    },
    {
      "cell_type": "markdown",
      "source": [
        "Учитывая, что агент воспроизводится в течение длительного времени, генерация видео может занять ** 10 минут **."
      ],
      "metadata": {
        "id": "bPBg9x-g7Kx0"
      }
    },
    {
      "cell_type": "code",
      "source": [
        "\n",
        "from sample_factory.enjoy import enjoy\n",
        "register_vizdoom_components()\n",
        "env = \"doom_deathmatch_bots\"\n",
        "cfg = parse_vizdoom_cfg(argv=[f\"--env={env}\", \"--num_workers=1\", \"--save_video\", \"--no_render\", \"--max_num_episodes=1\", \"--experiment=doom_deathmatch_bots_2222\", \"--train_dir=train_dir\"], evaluation=True)\n",
        "status = enjoy(cfg)\n",
        "mp4 = open('/content/train_dir/doom_deathmatch_bots_2222/replay.mp4','rb').read()\n",
        "data_url = \"data:video/mp4;base64,\" + b64encode(mp4).decode()\n",
        "HTML(\"\"\"\n",
        "<video width=640 controls>\n",
        "      <source src=\"%s\" type=\"video/mp4\">\n",
        "</video>\n",
        "\"\"\" % data_url)"
      ],
      "metadata": {
        "id": "3lKxWRZ17Ne0"
      },
      "execution_count": null,
      "outputs": []
    },
    {
      "cell_type": "markdown",
      "source": [
        "Вы ** можете попробовать обучить своего агента в этой среде **, используя приведенный выше код, но не на colab.\n",
        "**Удачи 🤞 **"
      ],
      "metadata": {
        "id": "mk_UR4xh7Tec"
      }
    },
    {
      "cell_type": "markdown",
      "source": [
        "Если вы предпочитаете более простой сценарий, **почему бы не попробовать тренироваться в другом сценарии ViZDoom, таком как `doom_deadly_corridor` или `doom_defend_the_center`.**\n",
        "\n",
        "\n",
        "\n",
        "---\n",
        "\n",
        "\n",
        "На этом завершается последний блок. Но мы еще не закончили! 🤗 Следующий **бонусный раздел включает в себя некоторые из наиболее интересных, продвинутых и ультрасовременных работ в области глубокого обучения с подкреплением**.\n",
        "\n",
        "## Keep learning, stay awesome 🤗"
      ],
      "metadata": {
        "id": "aBot6ODu7gxD"
      }
    }
  ]
}